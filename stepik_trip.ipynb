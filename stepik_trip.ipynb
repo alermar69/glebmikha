{
 "cells": [
  {
   "cell_type": "code",
   "execution_count": 1,
   "metadata": {
    "collapsed": true
   },
   "outputs": [],
   "source": [
    "import sqlite3\n",
    "import pandas as pd\n",
    "import numpy as np"
   ]
  },
  {
   "cell_type": "code",
   "execution_count": 2,
   "outputs": [],
   "source": [
    "con = sqlite3.connect('data/db1')\n",
    "cur = con.cursor()\n",
    "def select(sql):\n",
    "    return pd.read_sql(sql, con)"
   ],
   "metadata": {
    "collapsed": false,
    "pycharm": {
     "name": "#%%\n"
    }
   }
  },
  {
   "cell_type": "markdown",
   "source": [
    "## Создание таблицы"
   ],
   "metadata": {
    "collapsed": false,
    "pycharm": {
     "name": "#%% md\n"
    }
   }
  },
  {
   "cell_type": "code",
   "execution_count": 3,
   "outputs": [],
   "source": [
    "sql ='''\n",
    "CREATE TABLE trip(\n",
    "    trip_id INTEGER PRIMARY KEY AUTOINCREMENT,\n",
    "    name VARCHAR(30),\n",
    "    city VARCHAR(25),\n",
    "    per_diem DECIMAL(8, 2),\n",
    "    date_first DATE,\n",
    "date_last DATE\n",
    "                 );\n",
    "INSERT INTO trip(name,\n",
    "                 city,\n",
    "                 per_diem,\n",
    "                 date_first,\n",
    "                 date_last)\n",
    "VALUES (\"Баранов П.Е.\", \"Москва\", 700, 2020 - 01 - 12, 2020 - 01 - 17),\n",
    "       (\"Абрамова К.А\", \"Владивосток\", 450, 2020 - 01 - 14, 2020 - 01 - 27),\n",
    "       (\"Семенов И.В\", \"Москва\", 700, 2020 - 01 - 23, 2020 - 01 - 31),\n",
    "       (\"Ильиных Г.Р\", \"Владивосток\", 450, 2020 - 01 - 12, 2020 - 02 - 02),\n",
    "       (\"Колесов С.П\", \"Москва\", 700, 2020 - 02 - 01, 2020 - 02 - 06),\n",
    "       (\"Баранов П.Е\", \"Москва\", 700, 2020 - 02 - 14, 2020 - 02 - 22),\n",
    "       (\"Абрамова К.А\", \"Москва\", 700, 2020 - 02 - 23, 2020 - 03 - 01),\n",
    "       (\"Лебедев Т.К\", \"Москва\", 700, 2020 - 03 - 03, 2020 - 03 - 06),\n",
    "       (\"Колесов С.П\", \"Новосибирск\", 450, 2020 - 02 - 27, 2020 - 03 - 12),\n",
    "       (\"Семенов И.В\", \"Санкт-Петербург\", 700, 2020 - 03 - 29, 2020 - 04 - 05),\n",
    "       (\"Абрамова К.А\", \"Москва\", 700, 2020 - 04 - 06, 2020 - 04 - 14),\n",
    "       (\"Баранов П.Е\", \"Новосибирск\", 450, 2020 - 04 - 18, 2020 - 05 - 04),\n",
    "       (\"Лебедев Т.К\", \"Томск\", 450, 2020 - 05 - 20, 2020 - 05 - 31),\n",
    "       (\"Семенов И.В\", \"Санкт-Петербург\", 700, 2020 - 06 - 01, 2020 - 06 - 03),\n",
    "       (\"Абрамова К.А\", \"Санкт-Петербург\", 700, 2020 - 05 - 28, 2020 - 06 - 04),\n",
    "       (\"Федорова А.Ю\", \"Новосибирск\", 450, 2020 - 05 - 25, 2020 - 06 - 04),\n",
    "       (\"Колесов С.П\", \"Новосибирск\", 450, 2020 - 06 - 03, 2020 - 06 - 12),\n",
    "       (\"Федорова А.Ю\", \"Томск\", 450, 2020 - 06 - 20, 2020 - 06 - 26),\n",
    "       (\"Абрамова К.А\", \"Владивосток\", 450, 2020 - 07 - 02, 2020 - 07 - 13),\n",
    "       (\"Баранов П.Е\", \"Воронеж\", 450, 2020 - 07 - 19, 2020 - 07 - 25)\n",
    ";\n",
    "'''\n",
    "cur.executescript(sql)\n",
    "con.commit()"
   ],
   "metadata": {
    "collapsed": false,
    "pycharm": {
     "name": "#%%\n"
    }
   }
  },
  {
   "cell_type": "code",
   "execution_count": 4,
   "outputs": [
    {
     "data": {
      "text/plain": "    trip_id          name             city  per_diem  date_first  date_last\n0         1  Баранов П.Е.           Москва       700        2007       2002\n1         2  Абрамова К.А      Владивосток       450        2005       1992\n2         3   Семенов И.В           Москва       700        1996       1988\n3         4   Ильиных Г.Р      Владивосток       450        2007       2016\n4         5   Колесов С.П           Москва       700        2017       2012\n5         6   Баранов П.Е           Москва       700        2004       1996\n6         7  Абрамова К.А           Москва       700        1995       2016\n7         8   Лебедев Т.К           Москва       700        2014       2011\n8         9   Колесов С.П      Новосибирск       450        1991       2005\n9        10   Семенов И.В  Санкт-Петербург       700        1988       2011\n10       11  Абрамова К.А           Москва       700        2010       2002\n11       12   Баранов П.Е      Новосибирск       450        1998       2011\n12       13   Лебедев Т.К            Томск       450        1995       1984\n13       14   Семенов И.В  Санкт-Петербург       700        2013       2011\n14       15  Абрамова К.А  Санкт-Петербург       700        1987       2010\n15       16  Федорова А.Ю      Новосибирск       450        1990       2010\n16       17   Колесов С.П      Новосибирск       450        2011       2002\n17       18  Федорова А.Ю            Томск       450        1994       1988\n18       19  Абрамова К.А      Владивосток       450        2011       2000\n19       20   Баранов П.Е          Воронеж       450        1994       1988",
      "text/html": "<div>\n<style scoped>\n    .dataframe tbody tr th:only-of-type {\n        vertical-align: middle;\n    }\n\n    .dataframe tbody tr th {\n        vertical-align: top;\n    }\n\n    .dataframe thead th {\n        text-align: right;\n    }\n</style>\n<table border=\"1\" class=\"dataframe\">\n  <thead>\n    <tr style=\"text-align: right;\">\n      <th></th>\n      <th>trip_id</th>\n      <th>name</th>\n      <th>city</th>\n      <th>per_diem</th>\n      <th>date_first</th>\n      <th>date_last</th>\n    </tr>\n  </thead>\n  <tbody>\n    <tr>\n      <th>0</th>\n      <td>1</td>\n      <td>Баранов П.Е.</td>\n      <td>Москва</td>\n      <td>700</td>\n      <td>2007</td>\n      <td>2002</td>\n    </tr>\n    <tr>\n      <th>1</th>\n      <td>2</td>\n      <td>Абрамова К.А</td>\n      <td>Владивосток</td>\n      <td>450</td>\n      <td>2005</td>\n      <td>1992</td>\n    </tr>\n    <tr>\n      <th>2</th>\n      <td>3</td>\n      <td>Семенов И.В</td>\n      <td>Москва</td>\n      <td>700</td>\n      <td>1996</td>\n      <td>1988</td>\n    </tr>\n    <tr>\n      <th>3</th>\n      <td>4</td>\n      <td>Ильиных Г.Р</td>\n      <td>Владивосток</td>\n      <td>450</td>\n      <td>2007</td>\n      <td>2016</td>\n    </tr>\n    <tr>\n      <th>4</th>\n      <td>5</td>\n      <td>Колесов С.П</td>\n      <td>Москва</td>\n      <td>700</td>\n      <td>2017</td>\n      <td>2012</td>\n    </tr>\n    <tr>\n      <th>5</th>\n      <td>6</td>\n      <td>Баранов П.Е</td>\n      <td>Москва</td>\n      <td>700</td>\n      <td>2004</td>\n      <td>1996</td>\n    </tr>\n    <tr>\n      <th>6</th>\n      <td>7</td>\n      <td>Абрамова К.А</td>\n      <td>Москва</td>\n      <td>700</td>\n      <td>1995</td>\n      <td>2016</td>\n    </tr>\n    <tr>\n      <th>7</th>\n      <td>8</td>\n      <td>Лебедев Т.К</td>\n      <td>Москва</td>\n      <td>700</td>\n      <td>2014</td>\n      <td>2011</td>\n    </tr>\n    <tr>\n      <th>8</th>\n      <td>9</td>\n      <td>Колесов С.П</td>\n      <td>Новосибирск</td>\n      <td>450</td>\n      <td>1991</td>\n      <td>2005</td>\n    </tr>\n    <tr>\n      <th>9</th>\n      <td>10</td>\n      <td>Семенов И.В</td>\n      <td>Санкт-Петербург</td>\n      <td>700</td>\n      <td>1988</td>\n      <td>2011</td>\n    </tr>\n    <tr>\n      <th>10</th>\n      <td>11</td>\n      <td>Абрамова К.А</td>\n      <td>Москва</td>\n      <td>700</td>\n      <td>2010</td>\n      <td>2002</td>\n    </tr>\n    <tr>\n      <th>11</th>\n      <td>12</td>\n      <td>Баранов П.Е</td>\n      <td>Новосибирск</td>\n      <td>450</td>\n      <td>1998</td>\n      <td>2011</td>\n    </tr>\n    <tr>\n      <th>12</th>\n      <td>13</td>\n      <td>Лебедев Т.К</td>\n      <td>Томск</td>\n      <td>450</td>\n      <td>1995</td>\n      <td>1984</td>\n    </tr>\n    <tr>\n      <th>13</th>\n      <td>14</td>\n      <td>Семенов И.В</td>\n      <td>Санкт-Петербург</td>\n      <td>700</td>\n      <td>2013</td>\n      <td>2011</td>\n    </tr>\n    <tr>\n      <th>14</th>\n      <td>15</td>\n      <td>Абрамова К.А</td>\n      <td>Санкт-Петербург</td>\n      <td>700</td>\n      <td>1987</td>\n      <td>2010</td>\n    </tr>\n    <tr>\n      <th>15</th>\n      <td>16</td>\n      <td>Федорова А.Ю</td>\n      <td>Новосибирск</td>\n      <td>450</td>\n      <td>1990</td>\n      <td>2010</td>\n    </tr>\n    <tr>\n      <th>16</th>\n      <td>17</td>\n      <td>Колесов С.П</td>\n      <td>Новосибирск</td>\n      <td>450</td>\n      <td>2011</td>\n      <td>2002</td>\n    </tr>\n    <tr>\n      <th>17</th>\n      <td>18</td>\n      <td>Федорова А.Ю</td>\n      <td>Томск</td>\n      <td>450</td>\n      <td>1994</td>\n      <td>1988</td>\n    </tr>\n    <tr>\n      <th>18</th>\n      <td>19</td>\n      <td>Абрамова К.А</td>\n      <td>Владивосток</td>\n      <td>450</td>\n      <td>2011</td>\n      <td>2000</td>\n    </tr>\n    <tr>\n      <th>19</th>\n      <td>20</td>\n      <td>Баранов П.Е</td>\n      <td>Воронеж</td>\n      <td>450</td>\n      <td>1994</td>\n      <td>1988</td>\n    </tr>\n  </tbody>\n</table>\n</div>"
     },
     "execution_count": 4,
     "metadata": {},
     "output_type": "execute_result"
    }
   ],
   "source": [
    "sql ='''\n",
    "select * from trip\n",
    "'''\n",
    "select(sql)"
   ],
   "metadata": {
    "collapsed": false,
    "pycharm": {
     "name": "#%%\n"
    }
   }
  },
  {
   "cell_type": "markdown",
   "source": [
    "## Задания"
   ],
   "metadata": {
    "collapsed": false,
    "pycharm": {
     "name": "#%% md\n"
    }
   }
  },
  {
   "cell_type": "markdown",
   "source": [
    "### Вывести информацию о командировках тех сотрудников, фамилия которых заканчивается на букву «а».\n",
    "Вывести из таблицы trip информацию о командировках тех сотрудников, фамилия которых заканчивается на букву «а», в отсортированном по убыванию даты последнего дня командировки виде. В результат включить столбцы name, city, per_diem, date_first, date_last."
   ],
   "metadata": {
    "collapsed": false
   }
  },
  {
   "cell_type": "code",
   "execution_count": null,
   "outputs": [],
   "source": [],
   "metadata": {
    "collapsed": false,
    "pycharm": {
     "name": "#%%\n"
    }
   }
  },
  {
   "cell_type": "code",
   "execution_count": null,
   "outputs": [],
   "source": [],
   "metadata": {
    "collapsed": false,
    "pycharm": {
     "name": "#%%\n"
    }
   }
  },
  {
   "cell_type": "code",
   "execution_count": null,
   "outputs": [],
   "source": [],
   "metadata": {
    "collapsed": false,
    "pycharm": {
     "name": "#%%\n"
    }
   }
  },
  {
   "cell_type": "markdown",
   "source": [
    "### Вывести в алфавитном порядке фамилии, имена и отчества тех сотрудников, которые были в командировке в Москве."
   ],
   "metadata": {
    "collapsed": false
   }
  },
  {
   "cell_type": "markdown",
   "source": [
    "### Для каждого города посчитать, сколько раз сотрудники в нем были."
   ],
   "metadata": {
    "collapsed": false
   }
  },
  {
   "cell_type": "markdown",
   "source": [
    "### Вывести два города, в которых чаще всего были в командировках сотрудники."
   ],
   "metadata": {
    "collapsed": false
   }
  },
  {
   "cell_type": "markdown",
   "source": [
    "### Вывести информацию о длительности командировок сотрудников."
   ],
   "metadata": {
    "collapsed": false
   }
  },
  {
   "cell_type": "markdown",
   "source": [
    "### Вывести информацию о командировках сотрудника(ов), которые были самыми короткими по времени."
   ],
   "metadata": {
    "collapsed": false
   }
  },
  {
   "cell_type": "markdown",
   "source": [
    "### Вывести информацию о командировках, начало и конец которых относятся к одному месяцу."
   ],
   "metadata": {
    "collapsed": false
   }
  },
  {
   "cell_type": "markdown",
   "source": [
    "### Вывести номер месяца и количество командировок, первый день которых приходился на этот месяц."
   ],
   "metadata": {
    "collapsed": false
   }
  },
  {
   "cell_type": "markdown",
   "source": [
    "### Вывести сумму суточных  для командировок сотрудников."
   ],
   "metadata": {
    "collapsed": false
   }
  },
  {
   "cell_type": "markdown",
   "source": [
    "### Вывести фамилию с инициалами и общую сумму суточных, полученных за все командировки для тех сотрудников, которые были в командировках больше чем 3 раза."
   ],
   "metadata": {
    "collapsed": false
   }
  },
  {
   "cell_type": "code",
   "execution_count": null,
   "outputs": [],
   "source": [],
   "metadata": {
    "collapsed": false,
    "pycharm": {
     "name": "#%%\n"
    }
   }
  },
  {
   "cell_type": "code",
   "execution_count": null,
   "outputs": [],
   "source": [],
   "metadata": {
    "collapsed": false,
    "pycharm": {
     "name": "#%%\n"
    }
   }
  }
 ],
 "metadata": {
  "kernelspec": {
   "display_name": "Python 3",
   "language": "python",
   "name": "python3"
  },
  "language_info": {
   "codemirror_mode": {
    "name": "ipython",
    "version": 2
   },
   "file_extension": ".py",
   "mimetype": "text/x-python",
   "name": "python",
   "nbconvert_exporter": "python",
   "pygments_lexer": "ipython2",
   "version": "2.7.6"
  }
 },
 "nbformat": 4,
 "nbformat_minor": 0
}