{
 "cells": [
  {
   "cell_type": "code",
   "execution_count": 1,
   "metadata": {
    "collapsed": true,
    "pycharm": {
     "name": "#%%\n"
    }
   },
   "outputs": [],
   "source": [
    "import sqlite3\n",
    "import pandas as pd\n",
    "import numpy as np"
   ]
  },
  {
   "cell_type": "code",
   "execution_count": 2,
   "outputs": [],
   "source": [
    "con = sqlite3.connect('data/db1')\n",
    "cur = con.cursor()\n",
    "def select(sql):\n",
    "    return pd.read_sql(sql, con)\n"
   ],
   "metadata": {
    "collapsed": false,
    "pycharm": {
     "name": "#%%\n"
    }
   }
  },
  {
   "cell_type": "code",
   "execution_count": 8,
   "outputs": [
    {
     "data": {
      "text/plain": "<sqlite3.Cursor at 0x1dec7648880>"
     },
     "execution_count": 8,
     "metadata": {},
     "output_type": "execute_result"
    }
   ],
   "source": [
    "# sql ='''insert into book(title, author, price, amount)\n",
    "# VALUES ('Стихотворения и поэмы', 'Есенин С.А.', 650.00, 15)'''\n",
    "# cur.execute(sql)"
   ],
   "metadata": {
    "collapsed": false,
    "pycharm": {
     "name": "#%%\n"
    }
   }
  },
  {
   "cell_type": "code",
   "execution_count": 11,
   "outputs": [
    {
     "data": {
      "text/plain": "     card_number  coffee_price  count(1)  \\\n0           12.0           100         1   \n1           32.0           120         1   \n2            8.0           120         2   \n3           20.0           120         2   \n4           17.0           150         2   \n..           ...           ...       ...   \n158         19.0           130        25   \n159          NaN           100        57   \n160          NaN           120        58   \n161          NaN           150        74   \n162          NaN           130       214   \n\n     rank() over (PARTITION BY t.coffee_price order by t.discount )  \n0                                                    1               \n1                                                    1               \n2                                                    1               \n3                                                   19               \n4                                                    1               \n..                                                 ...               \n158                                                 17               \n159                                                 19               \n160                                                  1               \n161                                                 25               \n162                                                 36               \n\n[163 rows x 4 columns]",
      "text/html": "<div>\n<style scoped>\n    .dataframe tbody tr th:only-of-type {\n        vertical-align: middle;\n    }\n\n    .dataframe tbody tr th {\n        vertical-align: top;\n    }\n\n    .dataframe thead th {\n        text-align: right;\n    }\n</style>\n<table border=\"1\" class=\"dataframe\">\n  <thead>\n    <tr style=\"text-align: right;\">\n      <th></th>\n      <th>card_number</th>\n      <th>coffee_price</th>\n      <th>count(1)</th>\n      <th>rank() over (PARTITION BY t.coffee_price order by t.discount )</th>\n    </tr>\n  </thead>\n  <tbody>\n    <tr>\n      <th>0</th>\n      <td>12.0</td>\n      <td>100</td>\n      <td>1</td>\n      <td>1</td>\n    </tr>\n    <tr>\n      <th>1</th>\n      <td>32.0</td>\n      <td>120</td>\n      <td>1</td>\n      <td>1</td>\n    </tr>\n    <tr>\n      <th>2</th>\n      <td>8.0</td>\n      <td>120</td>\n      <td>2</td>\n      <td>1</td>\n    </tr>\n    <tr>\n      <th>3</th>\n      <td>20.0</td>\n      <td>120</td>\n      <td>2</td>\n      <td>19</td>\n    </tr>\n    <tr>\n      <th>4</th>\n      <td>17.0</td>\n      <td>150</td>\n      <td>2</td>\n      <td>1</td>\n    </tr>\n    <tr>\n      <th>...</th>\n      <td>...</td>\n      <td>...</td>\n      <td>...</td>\n      <td>...</td>\n    </tr>\n    <tr>\n      <th>158</th>\n      <td>19.0</td>\n      <td>130</td>\n      <td>25</td>\n      <td>17</td>\n    </tr>\n    <tr>\n      <th>159</th>\n      <td>NaN</td>\n      <td>100</td>\n      <td>57</td>\n      <td>19</td>\n    </tr>\n    <tr>\n      <th>160</th>\n      <td>NaN</td>\n      <td>120</td>\n      <td>58</td>\n      <td>1</td>\n    </tr>\n    <tr>\n      <th>161</th>\n      <td>NaN</td>\n      <td>150</td>\n      <td>74</td>\n      <td>25</td>\n    </tr>\n    <tr>\n      <th>162</th>\n      <td>NaN</td>\n      <td>130</td>\n      <td>214</td>\n      <td>36</td>\n    </tr>\n  </tbody>\n</table>\n<p>163 rows × 4 columns</p>\n</div>"
     },
     "execution_count": 11,
     "metadata": {},
     "output_type": "execute_result"
    }
   ],
   "source": [
    "sql ='''\n",
    "select t.title from book t'''\n",
    "select(sql)"
   ],
   "metadata": {
    "collapsed": false,
    "pycharm": {
     "name": "#%%\n"
    }
   }
  },
  {
   "cell_type": "code",
   "execution_count": 17,
   "outputs": [
    {
     "data": {
      "text/plain": "                title            author  amount    pack\n0  Мастер и Маргарита     Булгаков М.А.       3  469.69\n1       Белая гвардия     Булгаков М.А.       5  378.35\n2               Идиот  Достоевский Ф.М.      10  322.00\n3   Братья Карамазовы  Достоевский Ф.М.       2  559.31",
      "text/html": "<div>\n<style scoped>\n    .dataframe tbody tr th:only-of-type {\n        vertical-align: middle;\n    }\n\n    .dataframe tbody tr th {\n        vertical-align: top;\n    }\n\n    .dataframe thead th {\n        text-align: right;\n    }\n</style>\n<table border=\"1\" class=\"dataframe\">\n  <thead>\n    <tr style=\"text-align: right;\">\n      <th></th>\n      <th>title</th>\n      <th>author</th>\n      <th>amount</th>\n      <th>pack</th>\n    </tr>\n  </thead>\n  <tbody>\n    <tr>\n      <th>0</th>\n      <td>Мастер и Маргарита</td>\n      <td>Булгаков М.А.</td>\n      <td>3</td>\n      <td>469.69</td>\n    </tr>\n    <tr>\n      <th>1</th>\n      <td>Белая гвардия</td>\n      <td>Булгаков М.А.</td>\n      <td>5</td>\n      <td>378.35</td>\n    </tr>\n    <tr>\n      <th>2</th>\n      <td>Идиот</td>\n      <td>Достоевский Ф.М.</td>\n      <td>10</td>\n      <td>322.00</td>\n    </tr>\n    <tr>\n      <th>3</th>\n      <td>Братья Карамазовы</td>\n      <td>Достоевский Ф.М.</td>\n      <td>2</td>\n      <td>559.31</td>\n    </tr>\n  </tbody>\n</table>\n</div>"
     },
     "execution_count": 17,
     "metadata": {},
     "output_type": "execute_result"
    }
   ],
   "source": [
    "sql ='''select t.title, t.author, t.amount, round(t.price * 0.7, 2) as pack from book t'''\n",
    "select(sql)"
   ],
   "metadata": {
    "collapsed": false,
    "pycharm": {
     "name": "#%%\n"
    }
   }
  },
  {
   "cell_type": "code",
   "execution_count": 21,
   "outputs": [
    {
     "data": {
      "text/plain": "   book_id               title            author   price  amount  new_price\n0        1  Мастер и Маргарита     Булгаков М.А.  670.99       3     738.09\n1        2       Белая гвардия     Булгаков М.А.  540.50       5     594.55\n2        3               Идиот  Достоевский Ф.М.  460.00      10     460.00\n3        4   Братья Карамазовы  Достоевский Ф.М.  799.01       2     799.01",
      "text/html": "<div>\n<style scoped>\n    .dataframe tbody tr th:only-of-type {\n        vertical-align: middle;\n    }\n\n    .dataframe tbody tr th {\n        vertical-align: top;\n    }\n\n    .dataframe thead th {\n        text-align: right;\n    }\n</style>\n<table border=\"1\" class=\"dataframe\">\n  <thead>\n    <tr style=\"text-align: right;\">\n      <th></th>\n      <th>book_id</th>\n      <th>title</th>\n      <th>author</th>\n      <th>price</th>\n      <th>amount</th>\n      <th>new_price</th>\n    </tr>\n  </thead>\n  <tbody>\n    <tr>\n      <th>0</th>\n      <td>1</td>\n      <td>Мастер и Маргарита</td>\n      <td>Булгаков М.А.</td>\n      <td>670.99</td>\n      <td>3</td>\n      <td>738.09</td>\n    </tr>\n    <tr>\n      <th>1</th>\n      <td>2</td>\n      <td>Белая гвардия</td>\n      <td>Булгаков М.А.</td>\n      <td>540.50</td>\n      <td>5</td>\n      <td>594.55</td>\n    </tr>\n    <tr>\n      <th>2</th>\n      <td>3</td>\n      <td>Идиот</td>\n      <td>Достоевский Ф.М.</td>\n      <td>460.00</td>\n      <td>10</td>\n      <td>460.00</td>\n    </tr>\n    <tr>\n      <th>3</th>\n      <td>4</td>\n      <td>Братья Карамазовы</td>\n      <td>Достоевский Ф.М.</td>\n      <td>799.01</td>\n      <td>2</td>\n      <td>799.01</td>\n    </tr>\n  </tbody>\n</table>\n</div>"
     },
     "execution_count": 21,
     "metadata": {},
     "output_type": "execute_result"
    }
   ],
   "source": [
    "sql ='''select t.*, \n",
    " case\n",
    "    when t.author='Булгаков М.А.' then round(t.price*1.1, 2)\n",
    "    when t.author='Есенин С.А.' then round(t.price*1.05, 2)\n",
    "    else round(t.price,2) end as new_price\n",
    " from book t'''\n",
    "select(sql)"
   ],
   "metadata": {
    "collapsed": false,
    "pycharm": {
     "name": "#%%\n"
    }
   }
  },
  {
   "cell_type": "code",
   "execution_count": 23,
   "outputs": [
    {
     "data": {
      "text/plain": "   book_id               title            author   price  amount  alians\n0        1  Мастер и Маргарита     Булгаков М.А.  670.99       3       3\n1        2       Белая гвардия     Булгаков М.А.  540.50       5      15\n2        3               Идиот  Достоевский Ф.М.  460.00      10      20\n3        4   Братья Карамазовы  Достоевский Ф.М.  799.01       2       2",
      "text/html": "<div>\n<style scoped>\n    .dataframe tbody tr th:only-of-type {\n        vertical-align: middle;\n    }\n\n    .dataframe tbody tr th {\n        vertical-align: top;\n    }\n\n    .dataframe thead th {\n        text-align: right;\n    }\n</style>\n<table border=\"1\" class=\"dataframe\">\n  <thead>\n    <tr style=\"text-align: right;\">\n      <th></th>\n      <th>book_id</th>\n      <th>title</th>\n      <th>author</th>\n      <th>price</th>\n      <th>amount</th>\n      <th>alians</th>\n    </tr>\n  </thead>\n  <tbody>\n    <tr>\n      <th>0</th>\n      <td>1</td>\n      <td>Мастер и Маргарита</td>\n      <td>Булгаков М.А.</td>\n      <td>670.99</td>\n      <td>3</td>\n      <td>3</td>\n    </tr>\n    <tr>\n      <th>1</th>\n      <td>2</td>\n      <td>Белая гвардия</td>\n      <td>Булгаков М.А.</td>\n      <td>540.50</td>\n      <td>5</td>\n      <td>15</td>\n    </tr>\n    <tr>\n      <th>2</th>\n      <td>3</td>\n      <td>Идиот</td>\n      <td>Достоевский Ф.М.</td>\n      <td>460.00</td>\n      <td>10</td>\n      <td>20</td>\n    </tr>\n    <tr>\n      <th>3</th>\n      <td>4</td>\n      <td>Братья Карамазовы</td>\n      <td>Достоевский Ф.М.</td>\n      <td>799.01</td>\n      <td>2</td>\n      <td>2</td>\n    </tr>\n  </tbody>\n</table>\n</div>"
     },
     "execution_count": 23,
     "metadata": {},
     "output_type": "execute_result"
    }
   ],
   "source": [
    "sql ='''select t.*,\n",
    " case\n",
    "     when t.amount=10 then 20\n",
    "     when t.amount>4 then 15\n",
    "     else t.amount end as alians\n",
    " from book t'''\n",
    "select(sql)"
   ],
   "metadata": {
    "collapsed": false,
    "pycharm": {
     "name": "#%%\n"
    }
   }
  },
  {
   "cell_type": "code",
   "execution_count": 28,
   "outputs": [
    {
     "data": {
      "text/plain": "                   title       author  price  amount\n0  Стихотворения и поэмы  Есенин С.А.    650      15",
      "text/html": "<div>\n<style scoped>\n    .dataframe tbody tr th:only-of-type {\n        vertical-align: middle;\n    }\n\n    .dataframe tbody tr th {\n        vertical-align: top;\n    }\n\n    .dataframe thead th {\n        text-align: right;\n    }\n</style>\n<table border=\"1\" class=\"dataframe\">\n  <thead>\n    <tr style=\"text-align: right;\">\n      <th></th>\n      <th>title</th>\n      <th>author</th>\n      <th>price</th>\n      <th>amount</th>\n    </tr>\n  </thead>\n  <tbody>\n    <tr>\n      <th>0</th>\n      <td>Стихотворения и поэмы</td>\n      <td>Есенин С.А.</td>\n      <td>650</td>\n      <td>15</td>\n    </tr>\n  </tbody>\n</table>\n</div>"
     },
     "execution_count": 28,
     "metadata": {},
     "output_type": "execute_result"
    }
   ],
   "source": [
    "sql ='''select title, author, price, amount from book\n",
    "where (price<500 or price>600) and price*amount>5000'''\n",
    "select(sql)"
   ],
   "metadata": {
    "collapsed": false,
    "pycharm": {
     "name": "#%%\n"
    }
   }
  },
  {
   "cell_type": "code",
   "execution_count": 3,
   "outputs": [
    {
     "data": {
      "text/plain": "                title            author\n0  Мастер и Маргарита     Булгаков М.А.\n1       Белая гвардия     Булгаков М.А.\n2   Братья Карамазовы  Достоевский Ф.М.",
      "text/html": "<div>\n<style scoped>\n    .dataframe tbody tr th:only-of-type {\n        vertical-align: middle;\n    }\n\n    .dataframe tbody tr th {\n        vertical-align: top;\n    }\n\n    .dataframe thead th {\n        text-align: right;\n    }\n</style>\n<table border=\"1\" class=\"dataframe\">\n  <thead>\n    <tr style=\"text-align: right;\">\n      <th></th>\n      <th>title</th>\n      <th>author</th>\n    </tr>\n  </thead>\n  <tbody>\n    <tr>\n      <th>0</th>\n      <td>Мастер и Маргарита</td>\n      <td>Булгаков М.А.</td>\n    </tr>\n    <tr>\n      <th>1</th>\n      <td>Белая гвардия</td>\n      <td>Булгаков М.А.</td>\n    </tr>\n    <tr>\n      <th>2</th>\n      <td>Братья Карамазовы</td>\n      <td>Достоевский Ф.М.</td>\n    </tr>\n  </tbody>\n</table>\n</div>"
     },
     "execution_count": 3,
     "metadata": {},
     "output_type": "execute_result"
    }
   ],
   "source": [
    "sql ='''select title, author from book\n",
    "where price between 540.50 and 800 and (amount=2 or amount=3 or amount=5 or amount=7)'''\n",
    "select(sql)"
   ],
   "metadata": {
    "collapsed": false,
    "pycharm": {
     "name": "#%%\n"
    }
   }
  },
  {
   "cell_type": "code",
   "execution_count": 11,
   "outputs": [
    {
     "data": {
      "text/plain": "                   title       author\n0  Стихотворения и поэмы  Есенин С.А.",
      "text/html": "<div>\n<style scoped>\n    .dataframe tbody tr th:only-of-type {\n        vertical-align: middle;\n    }\n\n    .dataframe tbody tr th {\n        vertical-align: top;\n    }\n\n    .dataframe thead th {\n        text-align: right;\n    }\n</style>\n<table border=\"1\" class=\"dataframe\">\n  <thead>\n    <tr style=\"text-align: right;\">\n      <th></th>\n      <th>title</th>\n      <th>author</th>\n    </tr>\n  </thead>\n  <tbody>\n    <tr>\n      <th>0</th>\n      <td>Стихотворения и поэмы</td>\n      <td>Есенин С.А.</td>\n    </tr>\n  </tbody>\n</table>\n</div>"
     },
     "execution_count": 11,
     "metadata": {},
     "output_type": "execute_result"
    }
   ],
   "source": [
    "sql ='''select title, author from book\n",
    "where title like '%_ %_' and author like '%С.%' '''\n",
    "select(sql)"
   ],
   "metadata": {
    "collapsed": false,
    "pycharm": {
     "name": "#%%\n"
    }
   }
  },
  {
   "cell_type": "code",
   "execution_count": 14,
   "outputs": [
    {
     "data": {
      "text/plain": "             author               title\n0  Достоевский Ф.М.   Братья Карамазовы\n1  Достоевский Ф.М.               Идиот\n2     Булгаков М.А.       Белая гвардия\n3     Булгаков М.А.  Мастер и Маргарита",
      "text/html": "<div>\n<style scoped>\n    .dataframe tbody tr th:only-of-type {\n        vertical-align: middle;\n    }\n\n    .dataframe tbody tr th {\n        vertical-align: top;\n    }\n\n    .dataframe thead th {\n        text-align: right;\n    }\n</style>\n<table border=\"1\" class=\"dataframe\">\n  <thead>\n    <tr style=\"text-align: right;\">\n      <th></th>\n      <th>author</th>\n      <th>title</th>\n    </tr>\n  </thead>\n  <tbody>\n    <tr>\n      <th>0</th>\n      <td>Достоевский Ф.М.</td>\n      <td>Братья Карамазовы</td>\n    </tr>\n    <tr>\n      <th>1</th>\n      <td>Достоевский Ф.М.</td>\n      <td>Идиот</td>\n    </tr>\n    <tr>\n      <th>2</th>\n      <td>Булгаков М.А.</td>\n      <td>Белая гвардия</td>\n    </tr>\n    <tr>\n      <th>3</th>\n      <td>Булгаков М.А.</td>\n      <td>Мастер и Маргарита</td>\n    </tr>\n  </tbody>\n</table>\n</div>"
     },
     "execution_count": 14,
     "metadata": {},
     "output_type": "execute_result"
    }
   ],
   "source": [
    "sql ='''select author, title from book\n",
    "where amount between 2 and 14\n",
    "order by author desc, title'''\n",
    "select(sql)"
   ],
   "metadata": {
    "collapsed": false,
    "pycharm": {
     "name": "#%%\n"
    }
   }
  },
  {
   "cell_type": "markdown",
   "source": [
    "## GROUP BY"
   ],
   "metadata": {
    "collapsed": false,
    "pycharm": {
     "name": "#%% md\n"
    }
   }
  },
  {
   "cell_type": "code",
   "execution_count": 15,
   "outputs": [
    {
     "data": {
      "text/plain": "   amount\n0       3\n1       5\n2      10\n3       2\n4      15",
      "text/html": "<div>\n<style scoped>\n    .dataframe tbody tr th:only-of-type {\n        vertical-align: middle;\n    }\n\n    .dataframe tbody tr th {\n        vertical-align: top;\n    }\n\n    .dataframe thead th {\n        text-align: right;\n    }\n</style>\n<table border=\"1\" class=\"dataframe\">\n  <thead>\n    <tr style=\"text-align: right;\">\n      <th></th>\n      <th>amount</th>\n    </tr>\n  </thead>\n  <tbody>\n    <tr>\n      <th>0</th>\n      <td>3</td>\n    </tr>\n    <tr>\n      <th>1</th>\n      <td>5</td>\n    </tr>\n    <tr>\n      <th>2</th>\n      <td>10</td>\n    </tr>\n    <tr>\n      <th>3</th>\n      <td>2</td>\n    </tr>\n    <tr>\n      <th>4</th>\n      <td>15</td>\n    </tr>\n  </tbody>\n</table>\n</div>"
     },
     "execution_count": 15,
     "metadata": {},
     "output_type": "execute_result"
    }
   ],
   "source": [
    "sql ='''select distinct amount from book'''\n",
    "select(sql)"
   ],
   "metadata": {
    "collapsed": false,
    "pycharm": {
     "name": "#%%\n"
    }
   }
  },
  {
   "cell_type": "code",
   "execution_count": 17,
   "outputs": [
    {
     "data": {
      "text/plain": "              Автор  Различных_книг  Количество_экземпляров\n0     Булгаков М.А.               2                       8\n1  Достоевский Ф.М.               2                      12\n2       Есенин С.А.               1                      15",
      "text/html": "<div>\n<style scoped>\n    .dataframe tbody tr th:only-of-type {\n        vertical-align: middle;\n    }\n\n    .dataframe tbody tr th {\n        vertical-align: top;\n    }\n\n    .dataframe thead th {\n        text-align: right;\n    }\n</style>\n<table border=\"1\" class=\"dataframe\">\n  <thead>\n    <tr style=\"text-align: right;\">\n      <th></th>\n      <th>Автор</th>\n      <th>Различных_книг</th>\n      <th>Количество_экземпляров</th>\n    </tr>\n  </thead>\n  <tbody>\n    <tr>\n      <th>0</th>\n      <td>Булгаков М.А.</td>\n      <td>2</td>\n      <td>8</td>\n    </tr>\n    <tr>\n      <th>1</th>\n      <td>Достоевский Ф.М.</td>\n      <td>2</td>\n      <td>12</td>\n    </tr>\n    <tr>\n      <th>2</th>\n      <td>Есенин С.А.</td>\n      <td>1</td>\n      <td>15</td>\n    </tr>\n  </tbody>\n</table>\n</div>"
     },
     "execution_count": 17,
     "metadata": {},
     "output_type": "execute_result"
    }
   ],
   "source": [
    "sql ='''select author as Автор,\n",
    " count(title) as Различных_книг,\n",
    " sum(amount) as Количество_экземпляров\n",
    " from book\n",
    " group by Автор'''\n",
    "select(sql)"
   ],
   "metadata": {
    "collapsed": false,
    "pycharm": {
     "name": "#%%\n"
    }
   }
  },
  {
   "cell_type": "code",
   "execution_count": 18,
   "outputs": [
    {
     "data": {
      "text/plain": "             author  Минимальная_цена  Максимальная_цена  Средняя_цена\n0     Булгаков М.А.             540.5             670.99       605.745\n1  Достоевский Ф.М.             460.0             799.01       629.505\n2       Есенин С.А.             650.0             650.00       650.000",
      "text/html": "<div>\n<style scoped>\n    .dataframe tbody tr th:only-of-type {\n        vertical-align: middle;\n    }\n\n    .dataframe tbody tr th {\n        vertical-align: top;\n    }\n\n    .dataframe thead th {\n        text-align: right;\n    }\n</style>\n<table border=\"1\" class=\"dataframe\">\n  <thead>\n    <tr style=\"text-align: right;\">\n      <th></th>\n      <th>author</th>\n      <th>Минимальная_цена</th>\n      <th>Максимальная_цена</th>\n      <th>Средняя_цена</th>\n    </tr>\n  </thead>\n  <tbody>\n    <tr>\n      <th>0</th>\n      <td>Булгаков М.А.</td>\n      <td>540.5</td>\n      <td>670.99</td>\n      <td>605.745</td>\n    </tr>\n    <tr>\n      <th>1</th>\n      <td>Достоевский Ф.М.</td>\n      <td>460.0</td>\n      <td>799.01</td>\n      <td>629.505</td>\n    </tr>\n    <tr>\n      <th>2</th>\n      <td>Есенин С.А.</td>\n      <td>650.0</td>\n      <td>650.00</td>\n      <td>650.000</td>\n    </tr>\n  </tbody>\n</table>\n</div>"
     },
     "execution_count": 18,
     "metadata": {},
     "output_type": "execute_result"
    }
   ],
   "source": [
    "sql ='''select author,\n",
    " min(price) as Минимальная_цена,\n",
    " max(price) as Максимальная_цена,\n",
    " avg(price) as Средняя_цена\n",
    " from book\n",
    " group by author'''\n",
    "select(sql)"
   ],
   "metadata": {
    "collapsed": false,
    "pycharm": {
     "name": "#%%\n"
    }
   }
  },
  {
   "cell_type": "code",
   "execution_count": 22,
   "outputs": [
    {
     "data": {
      "text/plain": "             author  Стоимость      НДС  Стоимость_без_НДС\n0     Булгаков М.А.    4715.47   848.78            4715.47\n1  Достоевский Ф.М.    6198.02  1115.64            6198.02\n2       Есенин С.А.    9750.00  1755.00            9750.00",
      "text/html": "<div>\n<style scoped>\n    .dataframe tbody tr th:only-of-type {\n        vertical-align: middle;\n    }\n\n    .dataframe tbody tr th {\n        vertical-align: top;\n    }\n\n    .dataframe thead th {\n        text-align: right;\n    }\n</style>\n<table border=\"1\" class=\"dataframe\">\n  <thead>\n    <tr style=\"text-align: right;\">\n      <th></th>\n      <th>author</th>\n      <th>Стоимость</th>\n      <th>НДС</th>\n      <th>Стоимость_без_НДС</th>\n    </tr>\n  </thead>\n  <tbody>\n    <tr>\n      <th>0</th>\n      <td>Булгаков М.А.</td>\n      <td>4715.47</td>\n      <td>848.78</td>\n      <td>4715.47</td>\n    </tr>\n    <tr>\n      <th>1</th>\n      <td>Достоевский Ф.М.</td>\n      <td>6198.02</td>\n      <td>1115.64</td>\n      <td>6198.02</td>\n    </tr>\n    <tr>\n      <th>2</th>\n      <td>Есенин С.А.</td>\n      <td>9750.00</td>\n      <td>1755.00</td>\n      <td>9750.00</td>\n    </tr>\n  </tbody>\n</table>\n</div>"
     },
     "execution_count": 22,
     "metadata": {},
     "output_type": "execute_result"
    }
   ],
   "source": [
    "sql ='''select author,\n",
    " sum(price*amount) as Стоимость,\n",
    " round((sum(price*amount)*18/100) / (1+18/100), 2) as НДС,\n",
    " round(sum(price*amount) / (1+18/100), 2) as Стоимость_без_НДС\n",
    " from book\n",
    " group by author'''\n",
    "select(sql)"
   ],
   "metadata": {
    "collapsed": false,
    "pycharm": {
     "name": "#%%\n"
    }
   }
  },
  {
   "cell_type": "code",
   "execution_count": 24,
   "outputs": [
    {
     "data": {
      "text/plain": "   Минимальная_цена  Максимальная_цена  Средняя_цена\n0             460.0             799.01         624.1",
      "text/html": "<div>\n<style scoped>\n    .dataframe tbody tr th:only-of-type {\n        vertical-align: middle;\n    }\n\n    .dataframe tbody tr th {\n        vertical-align: top;\n    }\n\n    .dataframe thead th {\n        text-align: right;\n    }\n</style>\n<table border=\"1\" class=\"dataframe\">\n  <thead>\n    <tr style=\"text-align: right;\">\n      <th></th>\n      <th>Минимальная_цена</th>\n      <th>Максимальная_цена</th>\n      <th>Средняя_цена</th>\n    </tr>\n  </thead>\n  <tbody>\n    <tr>\n      <th>0</th>\n      <td>460.0</td>\n      <td>799.01</td>\n      <td>624.1</td>\n    </tr>\n  </tbody>\n</table>\n</div>"
     },
     "execution_count": 24,
     "metadata": {},
     "output_type": "execute_result"
    }
   ],
   "source": [
    "sql ='''select round(min(price),2) as Минимальная_цена,\n",
    " round(max(price),2) as Максимальная_цена,\n",
    " round(avg(price),2) as Средняя_цена\n",
    " from book'''\n",
    "select(sql)"
   ],
   "metadata": {
    "collapsed": false,
    "pycharm": {
     "name": "#%%\n"
    }
   }
  },
  {
   "cell_type": "code",
   "execution_count": 26,
   "outputs": [
    {
     "data": {
      "text/plain": "   Средняя_цена  Стоимость\n0        500.25     7302.5",
      "text/html": "<div>\n<style scoped>\n    .dataframe tbody tr th:only-of-type {\n        vertical-align: middle;\n    }\n\n    .dataframe tbody tr th {\n        vertical-align: top;\n    }\n\n    .dataframe thead th {\n        text-align: right;\n    }\n</style>\n<table border=\"1\" class=\"dataframe\">\n  <thead>\n    <tr style=\"text-align: right;\">\n      <th></th>\n      <th>Средняя_цена</th>\n      <th>Стоимость</th>\n    </tr>\n  </thead>\n  <tbody>\n    <tr>\n      <th>0</th>\n      <td>500.25</td>\n      <td>7302.5</td>\n    </tr>\n  </tbody>\n</table>\n</div>"
     },
     "execution_count": 26,
     "metadata": {},
     "output_type": "execute_result"
    }
   ],
   "source": [
    "sql ='''select\n",
    " round(avg(price),2) as Средняя_цена,\n",
    " round(sum(price*amount),2) as Стоимость\n",
    " from book\n",
    " where amount between 5 and 14'''\n",
    "select(sql)"
   ],
   "metadata": {
    "collapsed": false,
    "pycharm": {
     "name": "#%%\n"
    }
   }
  },
  {
   "cell_type": "code",
   "execution_count": null,
   "outputs": [],
   "source": [],
   "metadata": {
    "collapsed": false,
    "pycharm": {
     "name": "#%%\n"
    }
   }
  },
  {
   "cell_type": "code",
   "execution_count": null,
   "outputs": [],
   "source": [],
   "metadata": {
    "collapsed": false,
    "pycharm": {
     "name": "#%%\n"
    }
   }
  },
  {
   "cell_type": "code",
   "execution_count": null,
   "outputs": [],
   "source": [],
   "metadata": {
    "collapsed": false,
    "pycharm": {
     "name": "#%%\n"
    }
   }
  },
  {
   "cell_type": "code",
   "execution_count": null,
   "outputs": [],
   "source": [],
   "metadata": {
    "collapsed": false,
    "pycharm": {
     "name": "#%%\n"
    }
   }
  },
  {
   "cell_type": "code",
   "execution_count": 9,
   "outputs": [
    {
     "data": {
      "text/plain": "   book_id                  title            author   price  amount\n0        1     Мастер и Маргарита     Булгаков М.А.  670.99       3\n1        2          Белая гвардия     Булгаков М.А.  540.50       5\n2        3                  Идиот  Достоевский Ф.М.  460.00      10\n3        4      Братья Карамазовы  Достоевский Ф.М.  799.01       2\n4        5  Стихотворения и поэмы       Есенин С.А.  650.00      15",
      "text/html": "<div>\n<style scoped>\n    .dataframe tbody tr th:only-of-type {\n        vertical-align: middle;\n    }\n\n    .dataframe tbody tr th {\n        vertical-align: top;\n    }\n\n    .dataframe thead th {\n        text-align: right;\n    }\n</style>\n<table border=\"1\" class=\"dataframe\">\n  <thead>\n    <tr style=\"text-align: right;\">\n      <th></th>\n      <th>book_id</th>\n      <th>title</th>\n      <th>author</th>\n      <th>price</th>\n      <th>amount</th>\n    </tr>\n  </thead>\n  <tbody>\n    <tr>\n      <th>0</th>\n      <td>1</td>\n      <td>Мастер и Маргарита</td>\n      <td>Булгаков М.А.</td>\n      <td>670.99</td>\n      <td>3</td>\n    </tr>\n    <tr>\n      <th>1</th>\n      <td>2</td>\n      <td>Белая гвардия</td>\n      <td>Булгаков М.А.</td>\n      <td>540.50</td>\n      <td>5</td>\n    </tr>\n    <tr>\n      <th>2</th>\n      <td>3</td>\n      <td>Идиот</td>\n      <td>Достоевский Ф.М.</td>\n      <td>460.00</td>\n      <td>10</td>\n    </tr>\n    <tr>\n      <th>3</th>\n      <td>4</td>\n      <td>Братья Карамазовы</td>\n      <td>Достоевский Ф.М.</td>\n      <td>799.01</td>\n      <td>2</td>\n    </tr>\n    <tr>\n      <th>4</th>\n      <td>5</td>\n      <td>Стихотворения и поэмы</td>\n      <td>Есенин С.А.</td>\n      <td>650.00</td>\n      <td>15</td>\n    </tr>\n  </tbody>\n</table>\n</div>"
     },
     "execution_count": 9,
     "metadata": {},
     "output_type": "execute_result"
    }
   ],
   "source": [
    "sql ='''select t.* from book t'''\n",
    "select(sql)"
   ],
   "metadata": {
    "collapsed": false,
    "pycharm": {
     "name": "#%%\n"
    }
   }
  },
  {
   "cell_type": "code",
   "execution_count": null,
   "outputs": [],
   "source": [],
   "metadata": {
    "collapsed": false,
    "pycharm": {
     "name": "#%%\n"
    }
   }
  },
  {
   "cell_type": "code",
   "execution_count": null,
   "outputs": [],
   "source": [],
   "metadata": {
    "collapsed": false,
    "pycharm": {
     "name": "#%%\n"
    }
   }
  },
  {
   "cell_type": "code",
   "execution_count": null,
   "outputs": [],
   "source": [],
   "metadata": {
    "collapsed": false,
    "pycharm": {
     "name": "#%%\n"
    }
   }
  },
  {
   "cell_type": "code",
   "execution_count": null,
   "outputs": [],
   "source": [],
   "metadata": {
    "collapsed": false,
    "pycharm": {
     "name": "#%%\n"
    }
   }
  },
  {
   "cell_type": "code",
   "execution_count": null,
   "outputs": [],
   "source": [],
   "metadata": {
    "collapsed": false,
    "pycharm": {
     "name": "#%%\n"
    }
   }
  },
  {
   "cell_type": "code",
   "execution_count": null,
   "outputs": [],
   "source": [],
   "metadata": {
    "collapsed": false,
    "pycharm": {
     "name": "#%%\n"
    }
   }
  },
  {
   "cell_type": "code",
   "execution_count": null,
   "outputs": [],
   "source": [],
   "metadata": {
    "collapsed": false,
    "pycharm": {
     "name": "#%%\n"
    }
   }
  },
  {
   "cell_type": "code",
   "execution_count": null,
   "outputs": [],
   "source": [],
   "metadata": {
    "collapsed": false,
    "pycharm": {
     "name": "#%%\n"
    }
   }
  },
  {
   "cell_type": "code",
   "execution_count": null,
   "outputs": [],
   "source": [],
   "metadata": {
    "collapsed": false,
    "pycharm": {
     "name": "#%%\n"
    }
   }
  },
  {
   "cell_type": "code",
   "execution_count": null,
   "outputs": [],
   "source": [],
   "metadata": {
    "collapsed": false,
    "pycharm": {
     "name": "#%%\n"
    }
   }
  },
  {
   "cell_type": "code",
   "execution_count": null,
   "outputs": [],
   "source": [],
   "metadata": {
    "collapsed": false,
    "pycharm": {
     "name": "#%%\n"
    }
   }
  }
 ],
 "metadata": {
  "kernelspec": {
   "display_name": "Python 3",
   "language": "python",
   "name": "python3"
  },
  "language_info": {
   "codemirror_mode": {
    "name": "ipython",
    "version": 2
   },
   "file_extension": ".py",
   "mimetype": "text/x-python",
   "name": "python",
   "nbconvert_exporter": "python",
   "pygments_lexer": "ipython2",
   "version": "2.7.6"
  }
 },
 "nbformat": 4,
 "nbformat_minor": 0
}