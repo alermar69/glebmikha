{
 "nbformat": 4,
 "nbformat_minor": 0,
 "metadata": {
  "colab": {
   "name": "yaschool-analytics.ipynb",
   "provenance": [],
   "collapsed_sections": [],
   "include_colab_link": true
  },
  "kernelspec": {
   "name": "python3",
   "language": "python",
   "display_name": "Python 3"
  },
  "language_info": {
   "name": "python"
  }
 },
 "cells": [
  {
   "cell_type": "markdown",
   "metadata": {
    "id": "view-in-github",
    "colab_type": "text"
   },
   "source": [
    "<a href=\"https://colab.research.google.com/github/alermar69/glebmikha/blob/master/yaschool_analytics.ipynb\" target=\"_parent\"><img src=\"https://colab.research.google.com/assets/colab-badge.svg\" alt=\"Open In Colab\"/></a>"
   ]
  },
  {
   "cell_type": "code",
   "metadata": {
    "id": "I0LzWUyDHAg7"
   },
   "source": [
    "!gdown --id 1BSHIKQ7rFw5BpTq5nw1UZfjPK_7Mpnbi\n",
    "!mv _sqlite3.cpython-37m-x86_64-linux-gnu.so /usr/lib/python3.7/lib-dynload/\n",
    "import os\n",
    "os.kill(os.getpid(), 9)"
   ],
   "execution_count": null,
   "outputs": []
  },
  {
   "cell_type": "code",
   "metadata": {
    "id": "wEmH19iaHC49"
   },
   "source": [
    "import pandas as pd\n",
    "import numpy as np"
   ],
   "execution_count": 1,
   "outputs": []
  },
  {
   "cell_type": "code",
   "metadata": {
    "id": "wrgyhiA6HEbi"
   },
   "source": [
    "import sqlite3"
   ],
   "execution_count": 2,
   "outputs": []
  },
  {
   "cell_type": "code",
   "metadata": {
    "id": "GVmRfZ81HGGo"
   },
   "source": [
    "con = sqlite3.connect('db')"
   ],
   "execution_count": 3,
   "outputs": []
  },
  {
   "cell_type": "code",
   "metadata": {
    "id": "5GEtGB_eHHYQ"
   },
   "source": [
    "cur = con.cursor()"
   ],
   "execution_count": 4,
   "outputs": []
  },
  {
   "cell_type": "code",
   "metadata": {
    "colab": {
     "base_uri": "https://localhost:8080/"
    },
    "id": "5ufsZmqVCDK7",
    "outputId": "68d560c1-1fae-465d-935f-ca5736ecd2af"
   },
   "source": [
    "!gdown --id 1Yxnj_vOlVucEoSkrTp0oJxmla_12D6GW"
   ],
   "execution_count": 5,
   "outputs": [
    {
     "name": "stderr",
     "output_type": "stream",
     "text": [
      "Downloading...\n",
      "From: https://drive.google.com/uc?id=1Yxnj_vOlVucEoSkrTp0oJxmla_12D6GW\n",
      "To: E:\\Projects\\glebmikha\\music_data.csv\n",
      "\n",
      "0.00B [00:00, ?B/s]\n",
      "524kB [00:00, 2.35MB/s]\n",
      "1.57MB [00:00, 2.68MB/s]\n",
      "3.15MB [00:00, 4.67MB/s]\n",
      "4.19MB [00:00, 5.64MB/s]\n",
      "5.24MB [00:01, 6.18MB/s]\n",
      "6.29MB [00:01, 6.70MB/s]\n",
      "7.34MB [00:01, 7.24MB/s]\n",
      "8.39MB [00:01, 7.80MB/s]\n",
      "9.44MB [00:01, 8.39MB/s]\n",
      "11.0MB [00:01, 9.18MB/s]\n",
      "12.6MB [00:01, 9.64MB/s]\n",
      "14.2MB [00:01, 10.2MB/s]\n",
      "15.2MB [00:02, 9.81MB/s]\n",
      "16.8MB [00:02, 10.9MB/s]\n",
      "18.4MB [00:02, 10.0MB/s]\n",
      "20.4MB [00:02, 11.4MB/s]\n",
      "22.0MB [00:02, 10.7MB/s]\n",
      "23.6MB [00:02, 11.5MB/s]\n",
      "25.2MB [00:02, 10.8MB/s]\n",
      "26.7MB [00:03, 11.6MB/s]\n",
      "28.3MB [00:03, 10.5MB/s]\n",
      "29.9MB [00:03, 11.6MB/s]\n",
      "31.5MB [00:03, 11.6MB/s]\n",
      "33.0MB [00:03, 11.2MB/s]\n",
      "34.6MB [00:03, 10.3MB/s]\n",
      "36.7MB [00:03, 11.5MB/s]\n",
      "38.3MB [00:04, 10.3MB/s]\n",
      "39.8MB [00:04, 11.3MB/s]\n",
      "41.4MB [00:04, 10.4MB/s]\n",
      "43.0MB [00:04, 11.3MB/s]\n",
      "44.6MB [00:04, 10.7MB/s]\n",
      "46.1MB [00:04, 11.3MB/s]\n",
      "47.7MB [00:04, 11.4MB/s]\n",
      "49.3MB [00:05, 11.2MB/s]\n",
      "50.9MB [00:05, 11.4MB/s]\n",
      "52.4MB [00:05, 10.7MB/s]\n",
      "54.0MB [00:05, 11.4MB/s]\n",
      "55.6MB [00:05, 10.6MB/s]\n",
      "57.1MB [00:05, 11.3MB/s]\n",
      "58.7MB [00:05, 10.7MB/s]\n",
      "60.3MB [00:06, 11.1MB/s]\n",
      "61.9MB [00:06, 9.58MB/s]\n",
      "62.9MB [00:06, 8.54MB/s]\n",
      "64.5MB [00:06, 9.68MB/s]\n",
      "66.1MB [00:06, 9.33MB/s]\n",
      "67.6MB [00:06, 10.6MB/s]\n",
      "69.2MB [00:07, 11.0MB/s]\n",
      "70.8MB [00:07, 10.9MB/s]\n",
      "72.4MB [00:07, 10.2MB/s]\n",
      "73.9MB [00:07, 11.2MB/s]\n",
      "75.5MB [00:07, 10.3MB/s]\n",
      "77.1MB [00:07, 11.4MB/s]\n",
      "78.6MB [00:07, 11.4MB/s]\n",
      "80.2MB [00:08, 10.8MB/s]\n",
      "81.7MB [00:08, 11.3MB/s]\n",
      "83.3MB [00:08, 10.1MB/s]\n",
      "84.8MB [00:08, 11.1MB/s]\n",
      "86.2MB [00:08, 11.4MB/s]\n",
      "87.7MB [00:08, 11.2MB/s]\n",
      "89.3MB [00:08, 10.4MB/s]\n",
      "91.3MB [00:09, 11.4MB/s]\n",
      "92.9MB [00:09, 10.6MB/s]\n",
      "94.4MB [00:09, 11.5MB/s]\n",
      "96.0MB [00:09, 11.0MB/s]\n",
      "97.6MB [00:09, 10.6MB/s]\n",
      "99.3MB [00:09, 10.9MB/s]\n",
      "101MB [00:09, 10.8MB/s] \n",
      "102MB [00:10, 11.1MB/s]\n",
      "104MB [00:10, 10.4MB/s]\n",
      "106MB [00:10, 11.1MB/s]\n",
      "107MB [00:10, 10.4MB/s]\n",
      "109MB [00:10, 11.1MB/s]\n",
      "110MB [00:10, 10.6MB/s]\n",
      "112MB [00:10, 11.4MB/s]\n",
      "113MB [00:11, 10.4MB/s]\n",
      "115MB [00:11, 11.4MB/s]\n",
      "117MB [00:11, 11.5MB/s]\n",
      "118MB [00:11, 11.1MB/s]\n",
      "120MB [00:11, 10.7MB/s]\n",
      "121MB [00:11, 11.3MB/s]\n",
      "123MB [00:11, 11.2MB/s]\n",
      "124MB [00:12, 10.5MB/s]\n",
      "126MB [00:12, 11.4MB/s]\n",
      "128MB [00:12, 10.0MB/s]\n",
      "129MB [00:12, 11.5MB/s]\n",
      "131MB [00:12, 10.8MB/s]\n",
      "133MB [00:12, 11.6MB/s]\n",
      "134MB [00:12, 11.3MB/s]\n",
      "136MB [00:13, 11.6MB/s]\n",
      "137MB [00:13, 11.6MB/s]\n",
      "139MB [00:13, 11.3MB/s]\n",
      "140MB [00:13, 8.91MB/s]\n",
      "142MB [00:13, 9.56MB/s]\n",
      "143MB [00:13, 9.48MB/s]\n",
      "145MB [00:14, 10.2MB/s]\n",
      "146MB [00:14, 9.86MB/s]\n",
      "148MB [00:14, 10.8MB/s]\n",
      "149MB [00:14, 11.0MB/s]\n",
      "150MB [00:14, 10.3MB/s]\n"
     ]
    }
   ]
  },
  {
   "cell_type": "code",
   "metadata": {
    "id": "RN9J8HyfCF5n"
   },
   "source": [
    "df = pd.read_csv('music_data.csv')"
   ],
   "execution_count": 6,
   "outputs": []
  },
  {
   "cell_type": "code",
   "metadata": {
    "colab": {
     "base_uri": "https://localhost:8080/",
     "height": 484
    },
    "id": "hfyUqccOJ9Gg",
    "outputId": "21573a1a-db14-447d-eff7-82de92bebf27"
   },
   "source": [
    "df.head()"
   ],
   "execution_count": null,
   "outputs": [
    {
     "output_type": "execute_result",
     "data": {
      "text/html": [
       "<div>\n",
       "<style scoped>\n",
       "    .dataframe tbody tr th:only-of-type {\n",
       "        vertical-align: middle;\n",
       "    }\n",
       "\n",
       "    .dataframe tbody tr th {\n",
       "        vertical-align: top;\n",
       "    }\n",
       "\n",
       "    .dataframe thead th {\n",
       "        text-align: right;\n",
       "    }\n",
       "</style>\n",
       "<table border=\"1\" class=\"dataframe\">\n",
       "  <thead>\n",
       "    <tr style=\"text-align: right;\">\n",
       "      <th></th>\n",
       "      <th>Unnamed: 0</th>\n",
       "      <th>audition_id</th>\n",
       "      <th>track_duration</th>\n",
       "      <th>track_genre</th>\n",
       "      <th>track_id</th>\n",
       "      <th>user_id</th>\n",
       "      <th>utc_audition_end_dttm</th>\n",
       "      <th>utc_audition_start_dttm</th>\n",
       "    </tr>\n",
       "  </thead>\n",
       "  <tbody>\n",
       "    <tr>\n",
       "      <th>0</th>\n",
       "      <td>0</td>\n",
       "      <td>3fecd60bf5564de7bb0064335f482b4d</td>\n",
       "      <td>336.629082</td>\n",
       "      <td>RAP</td>\n",
       "      <td>efd614e5-239a-418e-b39c-181b43719b62</td>\n",
       "      <td>a72d73ea124840698aa8</td>\n",
       "      <td>2021-02-28T12:32:10.776000Z</td>\n",
       "      <td>2021-02-28T12:31:01.865000Z</td>\n",
       "    </tr>\n",
       "    <tr>\n",
       "      <th>1</th>\n",
       "      <td>1</td>\n",
       "      <td>8ae1703df8354ee6b8d39ce2ceae4508</td>\n",
       "      <td>428.797846</td>\n",
       "      <td>VOCAL</td>\n",
       "      <td>d4697e6e-698a-41e8-8e15-ec890c94751e</td>\n",
       "      <td>066cc9287de340f281ba</td>\n",
       "      <td>2021-01-19T12:13:43.369000Z</td>\n",
       "      <td>2021-01-19T12:12:48.185000Z</td>\n",
       "    </tr>\n",
       "    <tr>\n",
       "      <th>2</th>\n",
       "      <td>2</td>\n",
       "      <td>44383125d98a4d939e7f294602674fc6</td>\n",
       "      <td>463.467143</td>\n",
       "      <td>METAL</td>\n",
       "      <td>e006afab-c832-4d07-8cd0-7d4a9c2aabe8</td>\n",
       "      <td>95ed23b52b104f66b4b1</td>\n",
       "      <td>2021-02-27T19:53:57.143000Z</td>\n",
       "      <td>2021-02-27T19:52:42.470000Z</td>\n",
       "    </tr>\n",
       "    <tr>\n",
       "      <th>3</th>\n",
       "      <td>3</td>\n",
       "      <td>a90b74992c9f4046a68935cb83ced7ee</td>\n",
       "      <td>323.746259</td>\n",
       "      <td>HARDROCK</td>\n",
       "      <td>c2ea845c-fcba-480a-b41a-d58bf9493375</td>\n",
       "      <td>b0a6dcec6f604b50b37e</td>\n",
       "      <td>2021-02-24T01:51:44.526000Z</td>\n",
       "      <td>2021-02-24T01:46:25.549000Z</td>\n",
       "    </tr>\n",
       "    <tr>\n",
       "      <th>4</th>\n",
       "      <td>4</td>\n",
       "      <td>0d98a88fba0a4dc3bb0444089a0ce16b</td>\n",
       "      <td>316.888403</td>\n",
       "      <td>POP</td>\n",
       "      <td>ad68738c-2a38-4e0f-910a-71bb0aa0a0c0</td>\n",
       "      <td>6788b1c78a724de488c9</td>\n",
       "      <td>2020-12-24T05:04:32.855000Z</td>\n",
       "      <td>2020-12-24T05:00:09.645000Z</td>\n",
       "    </tr>\n",
       "  </tbody>\n",
       "</table>\n",
       "</div>"
      ],
      "text/plain": [
       "   Unnamed: 0  ...      utc_audition_start_dttm\n",
       "0           0  ...  2021-02-28T12:31:01.865000Z\n",
       "1           1  ...  2021-01-19T12:12:48.185000Z\n",
       "2           2  ...  2021-02-27T19:52:42.470000Z\n",
       "3           3  ...  2021-02-24T01:46:25.549000Z\n",
       "4           4  ...  2020-12-24T05:00:09.645000Z\n",
       "\n",
       "[5 rows x 8 columns]"
      ]
     },
     "metadata": {
      "tags": []
     },
     "execution_count": 4
    }
   ]
  },
  {
   "cell_type": "code",
   "execution_count": 7,
   "outputs": [
    {
     "data": {
      "text/plain": "   Unnamed: 0                       audition_id  track_duration track_genre  \\\n0           0  3fecd60bf5564de7bb0064335f482b4d      336.629082         RAP   \n1           1  8ae1703df8354ee6b8d39ce2ceae4508      428.797846       VOCAL   \n\n                               track_id               user_id  \\\n0  efd614e5-239a-418e-b39c-181b43719b62  a72d73ea124840698aa8   \n1  d4697e6e-698a-41e8-8e15-ec890c94751e  066cc9287de340f281ba   \n\n         utc_audition_end_dttm      utc_audition_start_dttm  \n0  2021-02-28T12:32:10.776000Z  2021-02-28T12:31:01.865000Z  \n1  2021-01-19T12:13:43.369000Z  2021-01-19T12:12:48.185000Z  ",
      "text/html": "<div>\n<style scoped>\n    .dataframe tbody tr th:only-of-type {\n        vertical-align: middle;\n    }\n\n    .dataframe tbody tr th {\n        vertical-align: top;\n    }\n\n    .dataframe thead th {\n        text-align: right;\n    }\n</style>\n<table border=\"1\" class=\"dataframe\">\n  <thead>\n    <tr style=\"text-align: right;\">\n      <th></th>\n      <th>Unnamed: 0</th>\n      <th>audition_id</th>\n      <th>track_duration</th>\n      <th>track_genre</th>\n      <th>track_id</th>\n      <th>user_id</th>\n      <th>utc_audition_end_dttm</th>\n      <th>utc_audition_start_dttm</th>\n    </tr>\n  </thead>\n  <tbody>\n    <tr>\n      <th>0</th>\n      <td>0</td>\n      <td>3fecd60bf5564de7bb0064335f482b4d</td>\n      <td>336.629082</td>\n      <td>RAP</td>\n      <td>efd614e5-239a-418e-b39c-181b43719b62</td>\n      <td>a72d73ea124840698aa8</td>\n      <td>2021-02-28T12:32:10.776000Z</td>\n      <td>2021-02-28T12:31:01.865000Z</td>\n    </tr>\n    <tr>\n      <th>1</th>\n      <td>1</td>\n      <td>8ae1703df8354ee6b8d39ce2ceae4508</td>\n      <td>428.797846</td>\n      <td>VOCAL</td>\n      <td>d4697e6e-698a-41e8-8e15-ec890c94751e</td>\n      <td>066cc9287de340f281ba</td>\n      <td>2021-01-19T12:13:43.369000Z</td>\n      <td>2021-01-19T12:12:48.185000Z</td>\n    </tr>\n  </tbody>\n</table>\n</div>"
     },
     "execution_count": 7,
     "metadata": {},
     "output_type": "execute_result"
    }
   ],
   "source": [
    "df['Unnamed: 0']"
   ],
   "metadata": {
    "collapsed": false,
    "pycharm": {
     "name": "#%%\n"
    }
   }
  },
  {
   "cell_type": "code",
   "metadata": {
    "id": "qK6hW0DxKCbo",
    "colab": {
     "base_uri": "https://localhost:8080/"
    },
    "outputId": "62a0fcac-8baf-4804-bc61-004dbc68a4b6"
   },
   "source": [
    "len(df)"
   ],
   "execution_count": null,
   "outputs": [
    {
     "output_type": "execute_result",
     "data": {
      "text/plain": [
       "842397"
      ]
     },
     "metadata": {
      "tags": []
     },
     "execution_count": 5
    }
   ]
  },
  {
   "cell_type": "code",
   "metadata": {
    "id": "G9vQdVMc-lcf"
   },
   "source": [
    "df.drop('Unnamed: 0',axis=1,inplace=True)"
   ],
   "execution_count": null,
   "outputs": []
  },
  {
   "cell_type": "code",
   "metadata": {
    "colab": {
     "base_uri": "https://localhost:8080/"
    },
    "id": "bo4b94Dk-3G-",
    "outputId": "66a73bda-d1f9-493a-b93a-2a654cf6c6e0"
   },
   "source": [
    "df['user_id'].nunique()"
   ],
   "execution_count": null,
   "outputs": [
    {
     "output_type": "execute_result",
     "data": {
      "text/plain": [
       "1727"
      ]
     },
     "metadata": {
      "tags": []
     },
     "execution_count": 8
    }
   ]
  },
  {
   "cell_type": "code",
   "metadata": {
    "colab": {
     "base_uri": "https://localhost:8080/"
    },
    "id": "zQuXCxAl_EHO",
    "outputId": "c7c0c7ad-dbf0-4461-e49e-b80c918d00a3"
   },
   "source": [
    "1727 * 10"
   ],
   "execution_count": null,
   "outputs": [
    {
     "output_type": "execute_result",
     "data": {
      "text/plain": [
       "17270"
      ]
     },
     "metadata": {
      "tags": []
     },
     "execution_count": 9
    }
   ]
  },
  {
   "cell_type": "code",
   "metadata": {
    "colab": {
     "base_uri": "https://localhost:8080/"
    },
    "id": "HEljIfeG_NRK",
    "outputId": "a9ad78f8-db04-4159-aa3e-9b974b5da3e0"
   },
   "source": [
    "17270 / 700"
   ],
   "execution_count": null,
   "outputs": [
    {
     "output_type": "execute_result",
     "data": {
      "text/plain": [
       "24.67142857142857"
      ]
     },
     "metadata": {
      "tags": []
     },
     "execution_count": 10
    }
   ]
  },
  {
   "cell_type": "code",
   "metadata": {
    "colab": {
     "base_uri": "https://localhost:8080/"
    },
    "id": "h3Ae3ohr_R57",
    "outputId": "994a8eb5-b7fb-4300-8c21-8988c8b1d79b"
   },
   "source": [
    "25 / 1727"
   ],
   "execution_count": null,
   "outputs": [
    {
     "output_type": "execute_result",
     "data": {
      "text/plain": [
       "0.01447596988998263"
      ]
     },
     "metadata": {
      "tags": []
     },
     "execution_count": 11
    }
   ]
  },
  {
   "cell_type": "code",
   "metadata": {
    "colab": {
     "base_uri": "https://localhost:8080/"
    },
    "id": "jRq_XJGi_Wpo",
    "outputId": "adeb8f78-57b4-4d87-fbc8-89e28f5765e4"
   },
   "source": [
    "100000 + 50000"
   ],
   "execution_count": null,
   "outputs": [
    {
     "output_type": "execute_result",
     "data": {
      "text/plain": [
       "150000"
      ]
     },
     "metadata": {
      "tags": []
     },
     "execution_count": 13
    }
   ]
  },
  {
   "cell_type": "code",
   "metadata": {
    "colab": {
     "base_uri": "https://localhost:8080/"
    },
    "id": "7IG4o7Wb_o5J",
    "outputId": "34b6f85f-8d6f-440c-8f93-b1bdb4d04782"
   },
   "source": [
    "150000 / 700"
   ],
   "execution_count": null,
   "outputs": [
    {
     "output_type": "execute_result",
     "data": {
      "text/plain": [
       "214.28571428571428"
      ]
     },
     "metadata": {
      "tags": []
     },
     "execution_count": 14
    }
   ]
  },
  {
   "cell_type": "code",
   "metadata": {
    "colab": {
     "base_uri": "https://localhost:8080/"
    },
    "id": "8KtQlozh_s7K",
    "outputId": "6d65182e-2e48-4a34-cfb3-9017b8cd0fcd"
   },
   "source": [
    "214 / 1727"
   ],
   "execution_count": null,
   "outputs": [
    {
     "output_type": "execute_result",
     "data": {
      "text/plain": [
       "0.1239143022582513"
      ]
     },
     "metadata": {
      "tags": []
     },
     "execution_count": 15
    }
   ]
  },
  {
   "cell_type": "code",
   "metadata": {
    "colab": {
     "base_uri": "https://localhost:8080/"
    },
    "id": "ffVViTM3_8A8",
    "outputId": "61a6c13a-432c-4975-9ebc-7d18f291f7a3"
   },
   "source": [
    "50000"
   ],
   "execution_count": null,
   "outputs": [
    {
     "output_type": "execute_result",
     "data": {
      "text/plain": [
       "50000"
      ]
     },
     "metadata": {
      "tags": []
     },
     "execution_count": 16
    }
   ]
  },
  {
   "cell_type": "code",
   "metadata": {
    "colab": {
     "base_uri": "https://localhost:8080/"
    },
    "id": "2WdlWNfuAbEm",
    "outputId": "0c29ab1d-05b4-4a73-96f1-5c222aa5b441"
   },
   "source": [
    "50000 / 10"
   ],
   "execution_count": null,
   "outputs": [
    {
     "output_type": "execute_result",
     "data": {
      "text/plain": [
       "5000.0"
      ]
     },
     "metadata": {
      "tags": []
     },
     "execution_count": 17
    }
   ]
  },
  {
   "cell_type": "code",
   "metadata": {
    "colab": {
     "base_uri": "https://localhost:8080/",
     "height": 926
    },
    "id": "Dh0EBCtiAeTC",
    "outputId": "f49d20aa-ffdd-4a2f-ae6b-2ab24f0924cf"
   },
   "source": [
    "df"
   ],
   "execution_count": null,
   "outputs": [
    {
     "output_type": "execute_result",
     "data": {
      "text/html": [
       "<div>\n",
       "<style scoped>\n",
       "    .dataframe tbody tr th:only-of-type {\n",
       "        vertical-align: middle;\n",
       "    }\n",
       "\n",
       "    .dataframe tbody tr th {\n",
       "        vertical-align: top;\n",
       "    }\n",
       "\n",
       "    .dataframe thead th {\n",
       "        text-align: right;\n",
       "    }\n",
       "</style>\n",
       "<table border=\"1\" class=\"dataframe\">\n",
       "  <thead>\n",
       "    <tr style=\"text-align: right;\">\n",
       "      <th></th>\n",
       "      <th>audition_id</th>\n",
       "      <th>track_duration</th>\n",
       "      <th>track_genre</th>\n",
       "      <th>track_id</th>\n",
       "      <th>user_id</th>\n",
       "      <th>utc_audition_end_dttm</th>\n",
       "      <th>utc_audition_start_dttm</th>\n",
       "    </tr>\n",
       "  </thead>\n",
       "  <tbody>\n",
       "    <tr>\n",
       "      <th>0</th>\n",
       "      <td>3fecd60bf5564de7bb0064335f482b4d</td>\n",
       "      <td>336.629082</td>\n",
       "      <td>RAP</td>\n",
       "      <td>efd614e5-239a-418e-b39c-181b43719b62</td>\n",
       "      <td>a72d73ea124840698aa8</td>\n",
       "      <td>2021-02-28T12:32:10.776000Z</td>\n",
       "      <td>2021-02-28T12:31:01.865000Z</td>\n",
       "    </tr>\n",
       "    <tr>\n",
       "      <th>1</th>\n",
       "      <td>8ae1703df8354ee6b8d39ce2ceae4508</td>\n",
       "      <td>428.797846</td>\n",
       "      <td>VOCAL</td>\n",
       "      <td>d4697e6e-698a-41e8-8e15-ec890c94751e</td>\n",
       "      <td>066cc9287de340f281ba</td>\n",
       "      <td>2021-01-19T12:13:43.369000Z</td>\n",
       "      <td>2021-01-19T12:12:48.185000Z</td>\n",
       "    </tr>\n",
       "    <tr>\n",
       "      <th>2</th>\n",
       "      <td>44383125d98a4d939e7f294602674fc6</td>\n",
       "      <td>463.467143</td>\n",
       "      <td>METAL</td>\n",
       "      <td>e006afab-c832-4d07-8cd0-7d4a9c2aabe8</td>\n",
       "      <td>95ed23b52b104f66b4b1</td>\n",
       "      <td>2021-02-27T19:53:57.143000Z</td>\n",
       "      <td>2021-02-27T19:52:42.470000Z</td>\n",
       "    </tr>\n",
       "    <tr>\n",
       "      <th>3</th>\n",
       "      <td>a90b74992c9f4046a68935cb83ced7ee</td>\n",
       "      <td>323.746259</td>\n",
       "      <td>HARDROCK</td>\n",
       "      <td>c2ea845c-fcba-480a-b41a-d58bf9493375</td>\n",
       "      <td>b0a6dcec6f604b50b37e</td>\n",
       "      <td>2021-02-24T01:51:44.526000Z</td>\n",
       "      <td>2021-02-24T01:46:25.549000Z</td>\n",
       "    </tr>\n",
       "    <tr>\n",
       "      <th>4</th>\n",
       "      <td>0d98a88fba0a4dc3bb0444089a0ce16b</td>\n",
       "      <td>316.888403</td>\n",
       "      <td>POP</td>\n",
       "      <td>ad68738c-2a38-4e0f-910a-71bb0aa0a0c0</td>\n",
       "      <td>6788b1c78a724de488c9</td>\n",
       "      <td>2020-12-24T05:04:32.855000Z</td>\n",
       "      <td>2020-12-24T05:00:09.645000Z</td>\n",
       "    </tr>\n",
       "    <tr>\n",
       "      <th>...</th>\n",
       "      <td>...</td>\n",
       "      <td>...</td>\n",
       "      <td>...</td>\n",
       "      <td>...</td>\n",
       "      <td>...</td>\n",
       "      <td>...</td>\n",
       "      <td>...</td>\n",
       "    </tr>\n",
       "    <tr>\n",
       "      <th>842392</th>\n",
       "      <td>45d2ac0d4fe049d387caf17a5243074e</td>\n",
       "      <td>360.581998</td>\n",
       "      <td>POP</td>\n",
       "      <td>7bedf37f-a671-4aa2-bcf9-e2defccbcb8e</td>\n",
       "      <td>e5e46188fe6d41f89faf</td>\n",
       "      <td>2021-02-05T09:17:07.865000Z</td>\n",
       "      <td>2021-02-05T09:11:33.925000Z</td>\n",
       "    </tr>\n",
       "    <tr>\n",
       "      <th>842393</th>\n",
       "      <td>a0f30ab974e94b19b9be607f4ac55f76</td>\n",
       "      <td>373.243783</td>\n",
       "      <td>RAP</td>\n",
       "      <td>e06f3160-d57e-47f3-be08-33d3c5de26e8</td>\n",
       "      <td>f437ddab36c74c67a42d</td>\n",
       "      <td>2021-02-20T13:31:47.351000Z</td>\n",
       "      <td>2021-02-20T13:31:02.089000Z</td>\n",
       "    </tr>\n",
       "    <tr>\n",
       "      <th>842394</th>\n",
       "      <td>ae2f051bbfa44cbdaf140ef2124e5e82</td>\n",
       "      <td>574.092229</td>\n",
       "      <td>BLUES</td>\n",
       "      <td>08de5d63-286b-40a2-b609-e7d85218f182</td>\n",
       "      <td>6d1fe5c707a7482a82e6</td>\n",
       "      <td>2021-02-26T17:00:06.380000Z</td>\n",
       "      <td>2021-02-26T16:54:46.656000Z</td>\n",
       "    </tr>\n",
       "    <tr>\n",
       "      <th>842395</th>\n",
       "      <td>9fda54d3ad6841f0ad78e84c6abdf506</td>\n",
       "      <td>370.237483</td>\n",
       "      <td>POP</td>\n",
       "      <td>0397b6fb-a5fe-4e9c-b50d-ff9cff864bc7</td>\n",
       "      <td>7cb9103d77eb4a899c19</td>\n",
       "      <td>2021-02-25T06:57:20.404000Z</td>\n",
       "      <td>2021-02-25T06:52:09.760000Z</td>\n",
       "    </tr>\n",
       "    <tr>\n",
       "      <th>842396</th>\n",
       "      <td>0cbfbb2e44e84116bc112f5c041a887c</td>\n",
       "      <td>519.360214</td>\n",
       "      <td>DUBSTEP</td>\n",
       "      <td>29314a82-c82e-4146-865b-f4368b96ca56</td>\n",
       "      <td>9830d91152d547c6b8fc</td>\n",
       "      <td>2021-02-26T04:49:59.839000Z</td>\n",
       "      <td>2021-02-26T04:41:40.213000Z</td>\n",
       "    </tr>\n",
       "  </tbody>\n",
       "</table>\n",
       "<p>842397 rows × 7 columns</p>\n",
       "</div>"
      ],
      "text/plain": [
       "                             audition_id  ...      utc_audition_start_dttm\n",
       "0       3fecd60bf5564de7bb0064335f482b4d  ...  2021-02-28T12:31:01.865000Z\n",
       "1       8ae1703df8354ee6b8d39ce2ceae4508  ...  2021-01-19T12:12:48.185000Z\n",
       "2       44383125d98a4d939e7f294602674fc6  ...  2021-02-27T19:52:42.470000Z\n",
       "3       a90b74992c9f4046a68935cb83ced7ee  ...  2021-02-24T01:46:25.549000Z\n",
       "4       0d98a88fba0a4dc3bb0444089a0ce16b  ...  2020-12-24T05:00:09.645000Z\n",
       "...                                  ...  ...                          ...\n",
       "842392  45d2ac0d4fe049d387caf17a5243074e  ...  2021-02-05T09:11:33.925000Z\n",
       "842393  a0f30ab974e94b19b9be607f4ac55f76  ...  2021-02-20T13:31:02.089000Z\n",
       "842394  ae2f051bbfa44cbdaf140ef2124e5e82  ...  2021-02-26T16:54:46.656000Z\n",
       "842395  9fda54d3ad6841f0ad78e84c6abdf506  ...  2021-02-25T06:52:09.760000Z\n",
       "842396  0cbfbb2e44e84116bc112f5c041a887c  ...  2021-02-26T04:41:40.213000Z\n",
       "\n",
       "[842397 rows x 7 columns]"
      ]
     },
     "metadata": {
      "tags": []
     },
     "execution_count": 18
    }
   ]
  },
  {
   "cell_type": "code",
   "metadata": {
    "id": "Znpsw2JDBZSm"
   },
   "source": [
    "df['utc_audition_start_dttm'] = pd.to_datetime(df['utc_audition_start_dttm'],\n",
    "                                               format='%Y-%m-%dT%H:%M:%S.%f')\n",
    "df['utc_audition_end_dttm'] = pd.to_datetime(df['utc_audition_end_dttm'],\n",
    "                                               format='%Y-%m-%dT%H:%M:%S.%f')\n"
   ],
   "execution_count": null,
   "outputs": []
  },
  {
   "cell_type": "code",
   "metadata": {
    "colab": {
     "base_uri": "https://localhost:8080/"
    },
    "id": "HzBOwbsNB6E_",
    "outputId": "401ac2a3-3ee5-443d-8b51-bceb19b4c2cc"
   },
   "source": [
    "df.dtypes"
   ],
   "execution_count": null,
   "outputs": [
    {
     "output_type": "execute_result",
     "data": {
      "text/plain": [
       "audition_id                             object\n",
       "track_duration                         float64\n",
       "track_genre                             object\n",
       "track_id                                object\n",
       "user_id                                 object\n",
       "utc_audition_end_dttm      datetime64[ns, UTC]\n",
       "utc_audition_start_dttm    datetime64[ns, UTC]\n",
       "dtype: object"
      ]
     },
     "metadata": {
      "tags": []
     },
     "execution_count": 24
    }
   ]
  },
  {
   "cell_type": "code",
   "metadata": {
    "colab": {
     "base_uri": "https://localhost:8080/"
    },
    "id": "yKBhhmRJAryL",
    "outputId": "a98878a8-83c1-469c-b2c7-31dccfb39775"
   },
   "source": [
    "df['user_id'].value_counts()"
   ],
   "execution_count": null,
   "outputs": [
    {
     "output_type": "execute_result",
     "data": {
      "text/plain": [
       "0041383820e248e487a6    1069\n",
       "34a0b3746c624e5ba3ca    1022\n",
       "26fc025750364a34881f    1011\n",
       "805f5e31be634900a9ed     923\n",
       "73949f6f48b746e0bbd4     890\n",
       "                        ... \n",
       "76e38ef9ef7344c78863     115\n",
       "e787dd56be6b4defa646     111\n",
       "e4e38371f16149f6a10c     107\n",
       "1828b1036eaf4e64841a      72\n",
       "52954001ebf6474586ba      68\n",
       "Name: user_id, Length: 1727, dtype: int64"
      ]
     },
     "metadata": {
      "tags": []
     },
     "execution_count": 25
    }
   ]
  },
  {
   "cell_type": "code",
   "metadata": {
    "id": "RHOutudYCDUU"
   },
   "source": [
    "pd.options.display.max_rows = 100"
   ],
   "execution_count": null,
   "outputs": []
  },
  {
   "cell_type": "code",
   "metadata": {
    "colab": {
     "base_uri": "https://localhost:8080/"
    },
    "id": "SdCT0Y-uCLdU",
    "outputId": "35cc7654-f1a9-4cf1-9daa-1d8a0bcb557d"
   },
   "source": [
    "len(df)"
   ],
   "execution_count": null,
   "outputs": [
    {
     "output_type": "execute_result",
     "data": {
      "text/plain": [
       "842397"
      ]
     },
     "metadata": {
      "tags": []
     },
     "execution_count": 30
    }
   ]
  },
  {
   "cell_type": "code",
   "metadata": {
    "colab": {
     "base_uri": "https://localhost:8080/"
    },
    "id": "fN4V_UdxCMqg",
    "outputId": "3d2ad02f-62f2-4dc5-d7c6-a89368b2bff8"
   },
   "source": [
    "df['audition_id'].nunique()"
   ],
   "execution_count": null,
   "outputs": [
    {
     "output_type": "execute_result",
     "data": {
      "text/plain": [
       "842397"
      ]
     },
     "metadata": {
      "tags": []
     },
     "execution_count": 31
    }
   ]
  },
  {
   "cell_type": "code",
   "metadata": {
    "colab": {
     "base_uri": "https://localhost:8080/",
     "height": 1000
    },
    "id": "oQoW_M5DBLgC",
    "outputId": "eb25ec86-ffe0-483b-ba75-f6c605484f72"
   },
   "source": [
    "df[df['user_id'] == '52954001ebf6474586ba'].sort_values('utc_audition_start_dttm')"
   ],
   "execution_count": null,
   "outputs": [
    {
     "output_type": "execute_result",
     "data": {
      "text/html": [
       "<div>\n",
       "<style scoped>\n",
       "    .dataframe tbody tr th:only-of-type {\n",
       "        vertical-align: middle;\n",
       "    }\n",
       "\n",
       "    .dataframe tbody tr th {\n",
       "        vertical-align: top;\n",
       "    }\n",
       "\n",
       "    .dataframe thead th {\n",
       "        text-align: right;\n",
       "    }\n",
       "</style>\n",
       "<table border=\"1\" class=\"dataframe\">\n",
       "  <thead>\n",
       "    <tr style=\"text-align: right;\">\n",
       "      <th></th>\n",
       "      <th>audition_id</th>\n",
       "      <th>track_duration</th>\n",
       "      <th>track_genre</th>\n",
       "      <th>track_id</th>\n",
       "      <th>user_id</th>\n",
       "      <th>utc_audition_end_dttm</th>\n",
       "      <th>utc_audition_start_dttm</th>\n",
       "    </tr>\n",
       "  </thead>\n",
       "  <tbody>\n",
       "    <tr>\n",
       "      <th>342158</th>\n",
       "      <td>2c1df2053b934ddca4b7dcf842fe721b</td>\n",
       "      <td>757.469685</td>\n",
       "      <td>ELECTRONICS</td>\n",
       "      <td>8d7864f3-e5d1-4e9e-af8e-e689a76bdd3c</td>\n",
       "      <td>52954001ebf6474586ba</td>\n",
       "      <td>2020-10-27 09:36:33.198000+00:00</td>\n",
       "      <td>2020-10-27 09:35:07.240000+00:00</td>\n",
       "    </tr>\n",
       "    <tr>\n",
       "      <th>559672</th>\n",
       "      <td>ea87018e5c3545c2ab60d2a8ee93d59f</td>\n",
       "      <td>317.165208</td>\n",
       "      <td>HOUSE</td>\n",
       "      <td>4cff4e72-b5d7-4adb-b90f-fe031c5127f9</td>\n",
       "      <td>52954001ebf6474586ba</td>\n",
       "      <td>2020-11-28 19:50:03.429000+00:00</td>\n",
       "      <td>2020-11-28 19:49:23.073000+00:00</td>\n",
       "    </tr>\n",
       "    <tr>\n",
       "      <th>471593</th>\n",
       "      <td>3644c17a1a494b60aa1b3d9b0fd9753e</td>\n",
       "      <td>391.884058</td>\n",
       "      <td>RNB</td>\n",
       "      <td>a28ae902-fa7c-4c39-a9bd-3edff6f66ad4</td>\n",
       "      <td>52954001ebf6474586ba</td>\n",
       "      <td>2020-12-03 20:14:19.494000+00:00</td>\n",
       "      <td>2020-12-03 20:12:35.294000+00:00</td>\n",
       "    </tr>\n",
       "    <tr>\n",
       "      <th>21899</th>\n",
       "      <td>af53564bd24b490c9b4a3e8b24b2a537</td>\n",
       "      <td>283.886145</td>\n",
       "      <td>INDUSTRIAL</td>\n",
       "      <td>06bd72c3-7503-4827-920f-107833812c98</td>\n",
       "      <td>52954001ebf6474586ba</td>\n",
       "      <td>2020-12-09 16:10:05.372000+00:00</td>\n",
       "      <td>2020-12-09 16:07:04.929000+00:00</td>\n",
       "    </tr>\n",
       "    <tr>\n",
       "      <th>455316</th>\n",
       "      <td>6b458f57ecfe4c5ea9cbb82161200dfa</td>\n",
       "      <td>367.980266</td>\n",
       "      <td>POP</td>\n",
       "      <td>76e51279-07ce-4ace-936b-b24dbedc4c7e</td>\n",
       "      <td>52954001ebf6474586ba</td>\n",
       "      <td>2020-12-31 19:47:51.971000+00:00</td>\n",
       "      <td>2020-12-31 19:41:37.786000+00:00</td>\n",
       "    </tr>\n",
       "    <tr>\n",
       "      <th>191072</th>\n",
       "      <td>69cf6b359d7f40ef89af87b8868b8e9e</td>\n",
       "      <td>4046.419810</td>\n",
       "      <td>PODCASTS</td>\n",
       "      <td>d7daad93-e635-4660-85c9-72ee427fe8bd</td>\n",
       "      <td>52954001ebf6474586ba</td>\n",
       "      <td>2021-01-02 01:58:11.631000+00:00</td>\n",
       "      <td>2021-01-02 01:01:44.330000+00:00</td>\n",
       "    </tr>\n",
       "    <tr>\n",
       "      <th>293359</th>\n",
       "      <td>d5330e67649f4335a2cf55c29e12aa7b</td>\n",
       "      <td>475.139084</td>\n",
       "      <td>TECHNO</td>\n",
       "      <td>8988b120-4b93-4d79-984c-dc39ce89e31b</td>\n",
       "      <td>52954001ebf6474586ba</td>\n",
       "      <td>2021-01-09 06:37:24.980000+00:00</td>\n",
       "      <td>2021-01-09 06:35:51.452000+00:00</td>\n",
       "    </tr>\n",
       "    <tr>\n",
       "      <th>675587</th>\n",
       "      <td>f3c59ca9ab9f4c198e18cf7c6bcb4fad</td>\n",
       "      <td>330.152438</td>\n",
       "      <td>HARDROCK</td>\n",
       "      <td>c3a2ab89-9e37-4463-9876-2ac92b842c44</td>\n",
       "      <td>52954001ebf6474586ba</td>\n",
       "      <td>2021-01-12 15:03:16.355000+00:00</td>\n",
       "      <td>2021-01-12 14:57:58.453000+00:00</td>\n",
       "    </tr>\n",
       "    <tr>\n",
       "      <th>117973</th>\n",
       "      <td>39e65b1fe5bb41afbfa6f2e989e99a7f</td>\n",
       "      <td>541.510764</td>\n",
       "      <td>BLUES</td>\n",
       "      <td>7aba4195-696f-44d2-973a-9c4d4a58bf90</td>\n",
       "      <td>52954001ebf6474586ba</td>\n",
       "      <td>2021-01-15 22:14:04.765000+00:00</td>\n",
       "      <td>2021-01-15 22:06:57.521000+00:00</td>\n",
       "    </tr>\n",
       "    <tr>\n",
       "      <th>2929</th>\n",
       "      <td>08adb4ba5e36485e9e230b58ecdd9beb</td>\n",
       "      <td>335.458672</td>\n",
       "      <td>RNB</td>\n",
       "      <td>c7347cce-03ac-4a85-9635-4a250c1bcbb2</td>\n",
       "      <td>52954001ebf6474586ba</td>\n",
       "      <td>2021-01-18 23:43:04.860000+00:00</td>\n",
       "      <td>2021-01-18 23:37:59.327000+00:00</td>\n",
       "    </tr>\n",
       "    <tr>\n",
       "      <th>101009</th>\n",
       "      <td>77bf9413b4394111abf55d363c43c0c5</td>\n",
       "      <td>753.544216</td>\n",
       "      <td>ELECTRONICS</td>\n",
       "      <td>fcabe3cb-17ed-4ffe-b553-98fecc8bd9c7</td>\n",
       "      <td>52954001ebf6474586ba</td>\n",
       "      <td>2021-01-19 12:55:41.485000+00:00</td>\n",
       "      <td>2021-01-19 12:52:14.812000+00:00</td>\n",
       "    </tr>\n",
       "    <tr>\n",
       "      <th>352674</th>\n",
       "      <td>58c8b817561e45cca3e77a339cfe0542</td>\n",
       "      <td>400.974635</td>\n",
       "      <td>ROCK</td>\n",
       "      <td>87a192cf-33e0-4c37-b6f2-b2e8e248ffec</td>\n",
       "      <td>52954001ebf6474586ba</td>\n",
       "      <td>2021-01-22 14:17:05.518000+00:00</td>\n",
       "      <td>2021-01-22 14:15:41.910000+00:00</td>\n",
       "    </tr>\n",
       "    <tr>\n",
       "      <th>776602</th>\n",
       "      <td>52e4b9f4e7854de194963ba5b7c28994</td>\n",
       "      <td>285.357570</td>\n",
       "      <td>INDUSTRIAL</td>\n",
       "      <td>b954aa62-6db1-46cd-a8a4-4e8d91dfaef6</td>\n",
       "      <td>52954001ebf6474586ba</td>\n",
       "      <td>2021-01-25 06:01:53.502000+00:00</td>\n",
       "      <td>2021-01-25 05:57:19.792000+00:00</td>\n",
       "    </tr>\n",
       "    <tr>\n",
       "      <th>785791</th>\n",
       "      <td>f67c0df8a1934694afb5e66c4549d290</td>\n",
       "      <td>403.096353</td>\n",
       "      <td>VOCAL</td>\n",
       "      <td>11fcc0f7-369f-4b56-87d9-a0dbcaaaa7bc</td>\n",
       "      <td>52954001ebf6474586ba</td>\n",
       "      <td>2021-01-27 15:56:39.821000+00:00</td>\n",
       "      <td>2021-01-27 15:55:45.731000+00:00</td>\n",
       "    </tr>\n",
       "    <tr>\n",
       "      <th>123222</th>\n",
       "      <td>15445d5982ad43b08d0a6ff2c3062cd0</td>\n",
       "      <td>1039.633663</td>\n",
       "      <td>RELAX</td>\n",
       "      <td>2ed37b0a-16f0-4f01-9cb3-65cdfe4a602e</td>\n",
       "      <td>52954001ebf6474586ba</td>\n",
       "      <td>2021-01-29 07:16:06.790000+00:00</td>\n",
       "      <td>2021-01-29 07:05:26.943000+00:00</td>\n",
       "    </tr>\n",
       "    <tr>\n",
       "      <th>547265</th>\n",
       "      <td>57015855fb584da0a548efe6042be0ef</td>\n",
       "      <td>740.568198</td>\n",
       "      <td>ELECTRONICS</td>\n",
       "      <td>0aec38d5-1a5e-4589-a012-a7f9e19f83e6</td>\n",
       "      <td>52954001ebf6474586ba</td>\n",
       "      <td>2021-01-30 07:13:38.206000+00:00</td>\n",
       "      <td>2021-01-30 07:01:48.392000+00:00</td>\n",
       "    </tr>\n",
       "    <tr>\n",
       "      <th>503070</th>\n",
       "      <td>ce5caa16946c41b5ae310531d1d6d0db</td>\n",
       "      <td>363.237126</td>\n",
       "      <td>RAP</td>\n",
       "      <td>a79bad7b-8d3d-4897-83ff-30e7deb239ba</td>\n",
       "      <td>52954001ebf6474586ba</td>\n",
       "      <td>2021-02-01 07:27:28.385000+00:00</td>\n",
       "      <td>2021-02-01 07:26:49.837000+00:00</td>\n",
       "    </tr>\n",
       "    <tr>\n",
       "      <th>730875</th>\n",
       "      <td>6e91f17898a140258b1088af3e00faba</td>\n",
       "      <td>737.504845</td>\n",
       "      <td>ELECTRONICS</td>\n",
       "      <td>aef90202-5fad-4c4c-aad0-4e317f07346c</td>\n",
       "      <td>52954001ebf6474586ba</td>\n",
       "      <td>2021-02-06 03:40:48.558000+00:00</td>\n",
       "      <td>2021-02-06 03:29:26.028000+00:00</td>\n",
       "    </tr>\n",
       "    <tr>\n",
       "      <th>419949</th>\n",
       "      <td>4525576370694358b7dc3faa743b5c3f</td>\n",
       "      <td>697.745445</td>\n",
       "      <td>ELECTRONICS</td>\n",
       "      <td>c44196ff-7518-4588-a3c7-37b0b288c240</td>\n",
       "      <td>52954001ebf6474586ba</td>\n",
       "      <td>2021-02-07 10:49:35.417000+00:00</td>\n",
       "      <td>2021-02-07 10:47:48.215000+00:00</td>\n",
       "    </tr>\n",
       "    <tr>\n",
       "      <th>291720</th>\n",
       "      <td>aadbb5f4eb774a2fbf50a6b2023075dd</td>\n",
       "      <td>398.166109</td>\n",
       "      <td>POP</td>\n",
       "      <td>c2a9bd55-ccd4-4213-a060-822deb58e69b</td>\n",
       "      <td>52954001ebf6474586ba</td>\n",
       "      <td>2021-02-07 18:29:28.898000+00:00</td>\n",
       "      <td>2021-02-07 18:23:55.766000+00:00</td>\n",
       "    </tr>\n",
       "    <tr>\n",
       "      <th>246742</th>\n",
       "      <td>b9c41852dc444be5b467f139573174c2</td>\n",
       "      <td>506.358741</td>\n",
       "      <td>DUBSTEP</td>\n",
       "      <td>2fd07d26-1a5c-4ad8-b6f5-22f3e9b977d3</td>\n",
       "      <td>52954001ebf6474586ba</td>\n",
       "      <td>2021-02-07 19:29:37.597000+00:00</td>\n",
       "      <td>2021-02-07 19:23:01.514000+00:00</td>\n",
       "    </tr>\n",
       "    <tr>\n",
       "      <th>532281</th>\n",
       "      <td>4ddadfd80d364b6e9d7675d24b42d2f9</td>\n",
       "      <td>366.137101</td>\n",
       "      <td>DISCO</td>\n",
       "      <td>210ef768-a438-4e4d-9358-ea0779d7030b</td>\n",
       "      <td>52954001ebf6474586ba</td>\n",
       "      <td>2021-02-09 16:35:13.499000+00:00</td>\n",
       "      <td>2021-02-09 16:34:30.261000+00:00</td>\n",
       "    </tr>\n",
       "    <tr>\n",
       "      <th>723697</th>\n",
       "      <td>b9002902bc7841fab11dcb07e04d5bf1</td>\n",
       "      <td>785.700547</td>\n",
       "      <td>ELECTRONICS</td>\n",
       "      <td>f1f55314-0201-4a44-b22e-f6d85a06b6f3</td>\n",
       "      <td>52954001ebf6474586ba</td>\n",
       "      <td>2021-02-10 13:03:54.326000+00:00</td>\n",
       "      <td>2021-02-10 13:03:53.862000+00:00</td>\n",
       "    </tr>\n",
       "    <tr>\n",
       "      <th>501645</th>\n",
       "      <td>52177639d4ea44f789ca6b913c49cbd1</td>\n",
       "      <td>327.269308</td>\n",
       "      <td>HARDROCK</td>\n",
       "      <td>a1402f67-9300-4e0a-9fec-cbe1d2468854</td>\n",
       "      <td>52954001ebf6474586ba</td>\n",
       "      <td>2021-02-11 23:04:17.873000+00:00</td>\n",
       "      <td>2021-02-11 22:58:44.223000+00:00</td>\n",
       "    </tr>\n",
       "    <tr>\n",
       "      <th>110935</th>\n",
       "      <td>4a389d9e297e4f3cbbb6fec2e00f8944</td>\n",
       "      <td>398.004625</td>\n",
       "      <td>VOCAL</td>\n",
       "      <td>8a059a8e-91aa-455c-95af-9475bcc6e903</td>\n",
       "      <td>52954001ebf6474586ba</td>\n",
       "      <td>2021-02-12 00:08:37.656000+00:00</td>\n",
       "      <td>2021-02-12 00:03:26.941000+00:00</td>\n",
       "    </tr>\n",
       "    <tr>\n",
       "      <th>639272</th>\n",
       "      <td>e2d58a54bf764539acff602cc49b5ce2</td>\n",
       "      <td>556.925257</td>\n",
       "      <td>BLUES</td>\n",
       "      <td>f4779003-f7d0-4deb-ae7e-89d41b6092de</td>\n",
       "      <td>52954001ebf6474586ba</td>\n",
       "      <td>2021-02-14 09:27:32.130000+00:00</td>\n",
       "      <td>2021-02-14 09:21:07.472000+00:00</td>\n",
       "    </tr>\n",
       "    <tr>\n",
       "      <th>32688</th>\n",
       "      <td>e31bef014c32460caa622ac5d6ef8e69</td>\n",
       "      <td>412.620027</td>\n",
       "      <td>ROCK</td>\n",
       "      <td>e6bb73b2-3b54-463f-a281-eba7ed371084</td>\n",
       "      <td>52954001ebf6474586ba</td>\n",
       "      <td>2021-02-14 14:33:20.302000+00:00</td>\n",
       "      <td>2021-02-14 14:27:38.445000+00:00</td>\n",
       "    </tr>\n",
       "    <tr>\n",
       "      <th>478933</th>\n",
       "      <td>28a20e33a5a24a8c8f2b4d198bb24318</td>\n",
       "      <td>389.735044</td>\n",
       "      <td>ROCK</td>\n",
       "      <td>74b4ffba-ad73-4fc4-b6dd-f3977ebda333</td>\n",
       "      <td>52954001ebf6474586ba</td>\n",
       "      <td>2021-02-14 18:41:13.476000+00:00</td>\n",
       "      <td>2021-02-14 18:34:52.857000+00:00</td>\n",
       "    </tr>\n",
       "    <tr>\n",
       "      <th>339754</th>\n",
       "      <td>98482b671620420b8689079460275cd4</td>\n",
       "      <td>408.782019</td>\n",
       "      <td>KPOP</td>\n",
       "      <td>7f630530-e6cb-4966-9645-8b6c77610400</td>\n",
       "      <td>52954001ebf6474586ba</td>\n",
       "      <td>2021-02-15 03:52:54.014000+00:00</td>\n",
       "      <td>2021-02-15 03:46:15.591000+00:00</td>\n",
       "    </tr>\n",
       "    <tr>\n",
       "      <th>830790</th>\n",
       "      <td>0f58175196654ae98dfeac37d1bbe31b</td>\n",
       "      <td>379.582600</td>\n",
       "      <td>POP</td>\n",
       "      <td>be59a3ba-6d2a-4c39-aaeb-e14679dd4461</td>\n",
       "      <td>52954001ebf6474586ba</td>\n",
       "      <td>2021-02-15 16:09:18.068000+00:00</td>\n",
       "      <td>2021-02-15 16:04:38.874000+00:00</td>\n",
       "    </tr>\n",
       "    <tr>\n",
       "      <th>777292</th>\n",
       "      <td>d3dbf371f1c54ee4afeff9cd22babbae</td>\n",
       "      <td>437.962770</td>\n",
       "      <td>KPOP</td>\n",
       "      <td>eb0b513c-ead4-41fb-9f01-2ffe22a2beae</td>\n",
       "      <td>52954001ebf6474586ba</td>\n",
       "      <td>2021-02-15 18:55:29.180000+00:00</td>\n",
       "      <td>2021-02-15 18:48:24.145000+00:00</td>\n",
       "    </tr>\n",
       "    <tr>\n",
       "      <th>740382</th>\n",
       "      <td>88332419501c4b2a98ca0cd20bd5fe92</td>\n",
       "      <td>473.087684</td>\n",
       "      <td>METAL</td>\n",
       "      <td>79b377f5-112a-4d15-857b-cb08f818f74b</td>\n",
       "      <td>52954001ebf6474586ba</td>\n",
       "      <td>2021-02-17 11:06:35.480000+00:00</td>\n",
       "      <td>2021-02-17 11:02:59.180000+00:00</td>\n",
       "    </tr>\n",
       "    <tr>\n",
       "      <th>331675</th>\n",
       "      <td>aef2cf8a233a4c71aacfe9441fbf86f7</td>\n",
       "      <td>427.257819</td>\n",
       "      <td>TECHNO</td>\n",
       "      <td>0a49df19-8a78-479e-9215-131c2cd7ce04</td>\n",
       "      <td>52954001ebf6474586ba</td>\n",
       "      <td>2021-02-18 08:19:06.653000+00:00</td>\n",
       "      <td>2021-02-18 08:18:09.428000+00:00</td>\n",
       "    </tr>\n",
       "    <tr>\n",
       "      <th>192631</th>\n",
       "      <td>dfcf959579c942c1b1f1b15a9fb6603d</td>\n",
       "      <td>420.482822</td>\n",
       "      <td>POP</td>\n",
       "      <td>1cc3d649-d737-4634-931e-579ccee127cb</td>\n",
       "      <td>52954001ebf6474586ba</td>\n",
       "      <td>2021-02-18 14:24:18.963000+00:00</td>\n",
       "      <td>2021-02-18 14:22:16.092000+00:00</td>\n",
       "    </tr>\n",
       "    <tr>\n",
       "      <th>782475</th>\n",
       "      <td>5feb037a1bdb4e12b35e04817cb5962e</td>\n",
       "      <td>413.179909</td>\n",
       "      <td>KPOP</td>\n",
       "      <td>b7eea3ba-1e62-49cc-a749-e3b657c3ec63</td>\n",
       "      <td>52954001ebf6474586ba</td>\n",
       "      <td>2021-02-19 07:58:52.510000+00:00</td>\n",
       "      <td>2021-02-19 07:52:44.976000+00:00</td>\n",
       "    </tr>\n",
       "    <tr>\n",
       "      <th>303339</th>\n",
       "      <td>a05878ee99604cafbdd973e871ffbe35</td>\n",
       "      <td>460.902298</td>\n",
       "      <td>METAL</td>\n",
       "      <td>50cbad3c-2697-4f50-9d57-9aa80bc2acdf</td>\n",
       "      <td>52954001ebf6474586ba</td>\n",
       "      <td>2021-02-19 10:09:26.111000+00:00</td>\n",
       "      <td>2021-02-19 10:02:44.674000+00:00</td>\n",
       "    </tr>\n",
       "    <tr>\n",
       "      <th>427083</th>\n",
       "      <td>bd36ba428a684743824438d1d63e94ef</td>\n",
       "      <td>4425.023783</td>\n",
       "      <td>PODCASTS</td>\n",
       "      <td>a9836bbf-3603-4afd-9c37-af0b1aa95e23</td>\n",
       "      <td>52954001ebf6474586ba</td>\n",
       "      <td>2021-02-19 23:34:08.946000+00:00</td>\n",
       "      <td>2021-02-19 23:22:25.865000+00:00</td>\n",
       "    </tr>\n",
       "    <tr>\n",
       "      <th>249118</th>\n",
       "      <td>deab7b800fba4caf938ca203b5811f5d</td>\n",
       "      <td>395.326104</td>\n",
       "      <td>POP</td>\n",
       "      <td>b5e08db8-a27a-41a8-a353-b23bb5bd6a62</td>\n",
       "      <td>52954001ebf6474586ba</td>\n",
       "      <td>2021-02-20 07:12:37.182000+00:00</td>\n",
       "      <td>2021-02-20 07:07:18.390000+00:00</td>\n",
       "    </tr>\n",
       "    <tr>\n",
       "      <th>113825</th>\n",
       "      <td>d4da0fa8a79e4b84af6cc64512d5ed03</td>\n",
       "      <td>379.204580</td>\n",
       "      <td>POP</td>\n",
       "      <td>0e805633-3707-4eea-9e10-d9c4d34382a7</td>\n",
       "      <td>52954001ebf6474586ba</td>\n",
       "      <td>2021-02-20 15:48:48.671000+00:00</td>\n",
       "      <td>2021-02-20 15:43:18.571000+00:00</td>\n",
       "    </tr>\n",
       "    <tr>\n",
       "      <th>759420</th>\n",
       "      <td>0ae0d54546f44a80b302534a83ec0586</td>\n",
       "      <td>537.168572</td>\n",
       "      <td>DUBSTEP</td>\n",
       "      <td>0807b06c-9fb3-43bf-b1fd-61f3045b7304</td>\n",
       "      <td>52954001ebf6474586ba</td>\n",
       "      <td>2021-02-21 10:36:35.185000+00:00</td>\n",
       "      <td>2021-02-21 10:27:51.827000+00:00</td>\n",
       "    </tr>\n",
       "    <tr>\n",
       "      <th>669506</th>\n",
       "      <td>9e5986a356dc43229f48f520cadc67f7</td>\n",
       "      <td>766.807437</td>\n",
       "      <td>ELECTRONICS</td>\n",
       "      <td>37cf5349-b1e3-42c8-9109-bc9927f30cd5</td>\n",
       "      <td>52954001ebf6474586ba</td>\n",
       "      <td>2021-02-22 09:49:15.281000+00:00</td>\n",
       "      <td>2021-02-22 09:37:26.532000+00:00</td>\n",
       "    </tr>\n",
       "    <tr>\n",
       "      <th>646445</th>\n",
       "      <td>178237e77c8849a28848e6a9872172ac</td>\n",
       "      <td>349.623632</td>\n",
       "      <td>HARDROCK</td>\n",
       "      <td>46b392fb-957b-421d-970d-bbafe0a06e1c</td>\n",
       "      <td>52954001ebf6474586ba</td>\n",
       "      <td>2021-02-23 00:34:21.615000+00:00</td>\n",
       "      <td>2021-02-23 00:27:55.847000+00:00</td>\n",
       "    </tr>\n",
       "    <tr>\n",
       "      <th>171719</th>\n",
       "      <td>dd497549359243b4bd98d9b62af646f9</td>\n",
       "      <td>374.415199</td>\n",
       "      <td>POP</td>\n",
       "      <td>81247294-4d2b-430a-b84f-8ce45439069e</td>\n",
       "      <td>52954001ebf6474586ba</td>\n",
       "      <td>2021-02-23 16:39:14.596000+00:00</td>\n",
       "      <td>2021-02-23 16:35:44.063000+00:00</td>\n",
       "    </tr>\n",
       "    <tr>\n",
       "      <th>78208</th>\n",
       "      <td>efc15d66beca4f3ba674d5999cc12907</td>\n",
       "      <td>368.650261</td>\n",
       "      <td>POP</td>\n",
       "      <td>4f096dd4-fe5f-4664-956f-1974cbb5fd98</td>\n",
       "      <td>52954001ebf6474586ba</td>\n",
       "      <td>2021-02-23 22:42:10.212000+00:00</td>\n",
       "      <td>2021-02-23 22:37:17.329000+00:00</td>\n",
       "    </tr>\n",
       "    <tr>\n",
       "      <th>136700</th>\n",
       "      <td>c17b5c585711467faf76075c411d3618</td>\n",
       "      <td>345.697340</td>\n",
       "      <td>POP</td>\n",
       "      <td>1e079a10-4cf1-464d-8c2d-aff61c7ed7d8</td>\n",
       "      <td>52954001ebf6474586ba</td>\n",
       "      <td>2021-02-24 10:28:39.852000+00:00</td>\n",
       "      <td>2021-02-24 10:24:08.795000+00:00</td>\n",
       "    </tr>\n",
       "    <tr>\n",
       "      <th>52182</th>\n",
       "      <td>41077c831eed41c3bf4ba5d99586acf9</td>\n",
       "      <td>398.753166</td>\n",
       "      <td>VOCAL</td>\n",
       "      <td>e1b57908-0bb5-45f2-b438-ef3849d9b9f0</td>\n",
       "      <td>52954001ebf6474586ba</td>\n",
       "      <td>2021-02-24 11:19:31.801000+00:00</td>\n",
       "      <td>2021-02-24 11:18:02.551000+00:00</td>\n",
       "    </tr>\n",
       "    <tr>\n",
       "      <th>93004</th>\n",
       "      <td>a5527fe4071e4f86b1e3499eed7b91a4</td>\n",
       "      <td>345.697340</td>\n",
       "      <td>POP</td>\n",
       "      <td>1e079a10-4cf1-464d-8c2d-aff61c7ed7d8</td>\n",
       "      <td>52954001ebf6474586ba</td>\n",
       "      <td>2021-02-24 19:49:06.246000+00:00</td>\n",
       "      <td>2021-02-24 19:43:56.603000+00:00</td>\n",
       "    </tr>\n",
       "    <tr>\n",
       "      <th>272762</th>\n",
       "      <td>e0340e84602242a2a71e9f3635b783e1</td>\n",
       "      <td>368.317416</td>\n",
       "      <td>POP</td>\n",
       "      <td>24e91686-2ff7-4598-a576-ba79501829c7</td>\n",
       "      <td>52954001ebf6474586ba</td>\n",
       "      <td>2021-02-24 20:22:32.527000+00:00</td>\n",
       "      <td>2021-02-24 20:19:22.556000+00:00</td>\n",
       "    </tr>\n",
       "    <tr>\n",
       "      <th>487328</th>\n",
       "      <td>b302486c7f5f46218971506eaa580913</td>\n",
       "      <td>310.612093</td>\n",
       "      <td>HARDROCK</td>\n",
       "      <td>4f8d5d5a-5615-4fb9-bb42-1dbedc8aedff</td>\n",
       "      <td>52954001ebf6474586ba</td>\n",
       "      <td>2021-02-25 02:44:10.646000+00:00</td>\n",
       "      <td>2021-02-25 02:39:46.153000+00:00</td>\n",
       "    </tr>\n",
       "    <tr>\n",
       "      <th>485604</th>\n",
       "      <td>cd642e6cb2a6410bbee421eb1bf13946</td>\n",
       "      <td>632.090422</td>\n",
       "      <td>ELECTRONICS</td>\n",
       "      <td>f2f572c5-3372-4165-b637-357a922ad790</td>\n",
       "      <td>52954001ebf6474586ba</td>\n",
       "      <td>2021-02-25 09:03:44.230000+00:00</td>\n",
       "      <td>2021-02-25 08:53:26.011000+00:00</td>\n",
       "    </tr>\n",
       "    <tr>\n",
       "      <th>589506</th>\n",
       "      <td>f8281bca9faf4250871708f5c777076e</td>\n",
       "      <td>373.989008</td>\n",
       "      <td>POP</td>\n",
       "      <td>3ac8a9f4-efe6-4978-ad11-98d0c1ffb21b</td>\n",
       "      <td>52954001ebf6474586ba</td>\n",
       "      <td>2021-02-25 11:10:16.121000+00:00</td>\n",
       "      <td>2021-02-25 11:04:14.710000+00:00</td>\n",
       "    </tr>\n",
       "    <tr>\n",
       "      <th>708456</th>\n",
       "      <td>33c53003147f489f91bbaf8673c299c4</td>\n",
       "      <td>697.745445</td>\n",
       "      <td>ELECTRONICS</td>\n",
       "      <td>c44196ff-7518-4588-a3c7-37b0b288c240</td>\n",
       "      <td>52954001ebf6474586ba</td>\n",
       "      <td>2021-02-25 17:19:07.863000+00:00</td>\n",
       "      <td>2021-02-25 17:06:53.182000+00:00</td>\n",
       "    </tr>\n",
       "    <tr>\n",
       "      <th>721827</th>\n",
       "      <td>02329614783344edb5b7e9a754240172</td>\n",
       "      <td>405.053819</td>\n",
       "      <td>KPOP</td>\n",
       "      <td>4a8ca52f-d84d-4c63-9d53-68b56a0ad9e0</td>\n",
       "      <td>52954001ebf6474586ba</td>\n",
       "      <td>2021-02-26 01:33:19.646000+00:00</td>\n",
       "      <td>2021-02-26 01:26:34.616000+00:00</td>\n",
       "    </tr>\n",
       "    <tr>\n",
       "      <th>140318</th>\n",
       "      <td>30a7f9277846450dae506b7ce3d31832</td>\n",
       "      <td>343.835112</td>\n",
       "      <td>RAP</td>\n",
       "      <td>8253ac3a-0dee-4bf9-b925-e2cd643a0bda</td>\n",
       "      <td>52954001ebf6474586ba</td>\n",
       "      <td>2021-02-26 05:53:27.207000+00:00</td>\n",
       "      <td>2021-02-26 05:50:21.461000+00:00</td>\n",
       "    </tr>\n",
       "    <tr>\n",
       "      <th>309772</th>\n",
       "      <td>6b551ec5bc644d2ab754292b95e7c19a</td>\n",
       "      <td>587.744893</td>\n",
       "      <td>JAZZ</td>\n",
       "      <td>a0145ac5-091f-4206-9ed2-7ac0a5f0dc43</td>\n",
       "      <td>52954001ebf6474586ba</td>\n",
       "      <td>2021-02-26 08:44:45.960000+00:00</td>\n",
       "      <td>2021-02-26 08:39:21.054000+00:00</td>\n",
       "    </tr>\n",
       "    <tr>\n",
       "      <th>361701</th>\n",
       "      <td>e43e76a4c68a4716a4422595316c300a</td>\n",
       "      <td>330.767682</td>\n",
       "      <td>HARDROCK</td>\n",
       "      <td>a3be8bf6-1adf-427c-a77e-8f522561274a</td>\n",
       "      <td>52954001ebf6474586ba</td>\n",
       "      <td>2021-02-26 10:52:24.739000+00:00</td>\n",
       "      <td>2021-02-26 10:47:00.853000+00:00</td>\n",
       "    </tr>\n",
       "    <tr>\n",
       "      <th>473920</th>\n",
       "      <td>3e32ded47ab64c0eaa0d84035683491b</td>\n",
       "      <td>1049.087412</td>\n",
       "      <td>CLASSICAL</td>\n",
       "      <td>a9ecaacf-685e-45b9-9600-88154ed415bb</td>\n",
       "      <td>52954001ebf6474586ba</td>\n",
       "      <td>2021-02-26 12:41:41.675000+00:00</td>\n",
       "      <td>2021-02-26 12:38:51.013000+00:00</td>\n",
       "    </tr>\n",
       "    <tr>\n",
       "      <th>527251</th>\n",
       "      <td>a9c42ea9930b42acb0533a2eb27e9705</td>\n",
       "      <td>474.447390</td>\n",
       "      <td>TECHNO</td>\n",
       "      <td>644b3f37-9489-4946-862e-f7878060a050</td>\n",
       "      <td>52954001ebf6474586ba</td>\n",
       "      <td>2021-02-26 16:14:46.558000+00:00</td>\n",
       "      <td>2021-02-26 16:13:02.351000+00:00</td>\n",
       "    </tr>\n",
       "    <tr>\n",
       "      <th>658042</th>\n",
       "      <td>aae5cbf2a714477aa5326231116f5172</td>\n",
       "      <td>401.537497</td>\n",
       "      <td>ROCK</td>\n",
       "      <td>6d7248eb-791d-4884-84d6-d9e1db3bb297</td>\n",
       "      <td>52954001ebf6474586ba</td>\n",
       "      <td>2021-02-27 17:58:01.043000+00:00</td>\n",
       "      <td>2021-02-27 17:51:58.466000+00:00</td>\n",
       "    </tr>\n",
       "    <tr>\n",
       "      <th>81890</th>\n",
       "      <td>bc4195c883534c4f8f90db3d978d6aa0</td>\n",
       "      <td>354.667775</td>\n",
       "      <td>POP</td>\n",
       "      <td>806c751e-ac32-465a-b157-9a39cbe5f7a1</td>\n",
       "      <td>52954001ebf6474586ba</td>\n",
       "      <td>2021-02-27 18:52:36.334000+00:00</td>\n",
       "      <td>2021-02-27 18:51:11.278000+00:00</td>\n",
       "    </tr>\n",
       "    <tr>\n",
       "      <th>788715</th>\n",
       "      <td>c8fb256fdbb548b6b96d372292b7977e</td>\n",
       "      <td>372.552915</td>\n",
       "      <td>POP</td>\n",
       "      <td>f6186156-0ca6-4986-8f2e-77b710e3f1ba</td>\n",
       "      <td>52954001ebf6474586ba</td>\n",
       "      <td>2021-02-27 21:03:24.322000+00:00</td>\n",
       "      <td>2021-02-27 20:57:31.610000+00:00</td>\n",
       "    </tr>\n",
       "    <tr>\n",
       "      <th>43463</th>\n",
       "      <td>19340951c3ae48f29afa8d95b55f7bfa</td>\n",
       "      <td>665.663608</td>\n",
       "      <td>ELECTRONICS</td>\n",
       "      <td>980c8418-3695-400c-9635-ef49a4e63b89</td>\n",
       "      <td>52954001ebf6474586ba</td>\n",
       "      <td>2021-02-27 22:27:44.546000+00:00</td>\n",
       "      <td>2021-02-27 22:17:27.577000+00:00</td>\n",
       "    </tr>\n",
       "    <tr>\n",
       "      <th>765759</th>\n",
       "      <td>a9e1ea546e3e4aa1aa1e3503bcb17459</td>\n",
       "      <td>293.470699</td>\n",
       "      <td>HOUSE</td>\n",
       "      <td>e2386337-190c-46c2-9755-fd24e7810cf5</td>\n",
       "      <td>52954001ebf6474586ba</td>\n",
       "      <td>2021-02-28 06:34:04.627000+00:00</td>\n",
       "      <td>2021-02-28 06:30:01.434000+00:00</td>\n",
       "    </tr>\n",
       "    <tr>\n",
       "      <th>538291</th>\n",
       "      <td>8b71d6ac96924baebe5eb519d6805933</td>\n",
       "      <td>411.009846</td>\n",
       "      <td>KPOP</td>\n",
       "      <td>317e3ee0-d87e-417d-be5f-2000108c2561</td>\n",
       "      <td>52954001ebf6474586ba</td>\n",
       "      <td>2021-02-28 12:18:01.386000+00:00</td>\n",
       "      <td>2021-02-28 12:11:02.619000+00:00</td>\n",
       "    </tr>\n",
       "    <tr>\n",
       "      <th>339904</th>\n",
       "      <td>973044aab94c4340b4baf8aee0dddf77</td>\n",
       "      <td>424.666822</td>\n",
       "      <td>ROCK</td>\n",
       "      <td>00370546-dc8b-43db-8085-012dcb09362d</td>\n",
       "      <td>52954001ebf6474586ba</td>\n",
       "      <td>2021-02-28 13:14:10.033000+00:00</td>\n",
       "      <td>2021-02-28 13:13:30.724000+00:00</td>\n",
       "    </tr>\n",
       "    <tr>\n",
       "      <th>400272</th>\n",
       "      <td>3aa69397ffba469eb32845222bdc990e</td>\n",
       "      <td>344.298224</td>\n",
       "      <td>RAP</td>\n",
       "      <td>b05757d1-7dc5-47a6-befb-de772c819587</td>\n",
       "      <td>52954001ebf6474586ba</td>\n",
       "      <td>2021-02-28 21:22:25.617000+00:00</td>\n",
       "      <td>2021-02-28 21:17:31.040000+00:00</td>\n",
       "    </tr>\n",
       "    <tr>\n",
       "      <th>259552</th>\n",
       "      <td>ebc6d0c156794d908ea30da0ce665820</td>\n",
       "      <td>384.040483</td>\n",
       "      <td>POP</td>\n",
       "      <td>4e079c21-60ea-4316-ade1-05b870b02b1c</td>\n",
       "      <td>52954001ebf6474586ba</td>\n",
       "      <td>2021-03-01 12:15:30.924000+00:00</td>\n",
       "      <td>2021-03-01 12:10:44.295000+00:00</td>\n",
       "    </tr>\n",
       "    <tr>\n",
       "      <th>467414</th>\n",
       "      <td>d068920362f74bfc9104fdb10dea013b</td>\n",
       "      <td>447.120717</td>\n",
       "      <td>DUBSTEP</td>\n",
       "      <td>58f190ea-b380-4750-8725-2c811e00bde5</td>\n",
       "      <td>52954001ebf6474586ba</td>\n",
       "      <td>2021-03-01 15:58:47.024000+00:00</td>\n",
       "      <td>2021-03-01 15:57:50.314000+00:00</td>\n",
       "    </tr>\n",
       "  </tbody>\n",
       "</table>\n",
       "</div>"
      ],
      "text/plain": [
       "                             audition_id  ...          utc_audition_start_dttm\n",
       "342158  2c1df2053b934ddca4b7dcf842fe721b  ... 2020-10-27 09:35:07.240000+00:00\n",
       "559672  ea87018e5c3545c2ab60d2a8ee93d59f  ... 2020-11-28 19:49:23.073000+00:00\n",
       "471593  3644c17a1a494b60aa1b3d9b0fd9753e  ... 2020-12-03 20:12:35.294000+00:00\n",
       "21899   af53564bd24b490c9b4a3e8b24b2a537  ... 2020-12-09 16:07:04.929000+00:00\n",
       "455316  6b458f57ecfe4c5ea9cbb82161200dfa  ... 2020-12-31 19:41:37.786000+00:00\n",
       "191072  69cf6b359d7f40ef89af87b8868b8e9e  ... 2021-01-02 01:01:44.330000+00:00\n",
       "293359  d5330e67649f4335a2cf55c29e12aa7b  ... 2021-01-09 06:35:51.452000+00:00\n",
       "675587  f3c59ca9ab9f4c198e18cf7c6bcb4fad  ... 2021-01-12 14:57:58.453000+00:00\n",
       "117973  39e65b1fe5bb41afbfa6f2e989e99a7f  ... 2021-01-15 22:06:57.521000+00:00\n",
       "2929    08adb4ba5e36485e9e230b58ecdd9beb  ... 2021-01-18 23:37:59.327000+00:00\n",
       "101009  77bf9413b4394111abf55d363c43c0c5  ... 2021-01-19 12:52:14.812000+00:00\n",
       "352674  58c8b817561e45cca3e77a339cfe0542  ... 2021-01-22 14:15:41.910000+00:00\n",
       "776602  52e4b9f4e7854de194963ba5b7c28994  ... 2021-01-25 05:57:19.792000+00:00\n",
       "785791  f67c0df8a1934694afb5e66c4549d290  ... 2021-01-27 15:55:45.731000+00:00\n",
       "123222  15445d5982ad43b08d0a6ff2c3062cd0  ... 2021-01-29 07:05:26.943000+00:00\n",
       "547265  57015855fb584da0a548efe6042be0ef  ... 2021-01-30 07:01:48.392000+00:00\n",
       "503070  ce5caa16946c41b5ae310531d1d6d0db  ... 2021-02-01 07:26:49.837000+00:00\n",
       "730875  6e91f17898a140258b1088af3e00faba  ... 2021-02-06 03:29:26.028000+00:00\n",
       "419949  4525576370694358b7dc3faa743b5c3f  ... 2021-02-07 10:47:48.215000+00:00\n",
       "291720  aadbb5f4eb774a2fbf50a6b2023075dd  ... 2021-02-07 18:23:55.766000+00:00\n",
       "246742  b9c41852dc444be5b467f139573174c2  ... 2021-02-07 19:23:01.514000+00:00\n",
       "532281  4ddadfd80d364b6e9d7675d24b42d2f9  ... 2021-02-09 16:34:30.261000+00:00\n",
       "723697  b9002902bc7841fab11dcb07e04d5bf1  ... 2021-02-10 13:03:53.862000+00:00\n",
       "501645  52177639d4ea44f789ca6b913c49cbd1  ... 2021-02-11 22:58:44.223000+00:00\n",
       "110935  4a389d9e297e4f3cbbb6fec2e00f8944  ... 2021-02-12 00:03:26.941000+00:00\n",
       "639272  e2d58a54bf764539acff602cc49b5ce2  ... 2021-02-14 09:21:07.472000+00:00\n",
       "32688   e31bef014c32460caa622ac5d6ef8e69  ... 2021-02-14 14:27:38.445000+00:00\n",
       "478933  28a20e33a5a24a8c8f2b4d198bb24318  ... 2021-02-14 18:34:52.857000+00:00\n",
       "339754  98482b671620420b8689079460275cd4  ... 2021-02-15 03:46:15.591000+00:00\n",
       "830790  0f58175196654ae98dfeac37d1bbe31b  ... 2021-02-15 16:04:38.874000+00:00\n",
       "777292  d3dbf371f1c54ee4afeff9cd22babbae  ... 2021-02-15 18:48:24.145000+00:00\n",
       "740382  88332419501c4b2a98ca0cd20bd5fe92  ... 2021-02-17 11:02:59.180000+00:00\n",
       "331675  aef2cf8a233a4c71aacfe9441fbf86f7  ... 2021-02-18 08:18:09.428000+00:00\n",
       "192631  dfcf959579c942c1b1f1b15a9fb6603d  ... 2021-02-18 14:22:16.092000+00:00\n",
       "782475  5feb037a1bdb4e12b35e04817cb5962e  ... 2021-02-19 07:52:44.976000+00:00\n",
       "303339  a05878ee99604cafbdd973e871ffbe35  ... 2021-02-19 10:02:44.674000+00:00\n",
       "427083  bd36ba428a684743824438d1d63e94ef  ... 2021-02-19 23:22:25.865000+00:00\n",
       "249118  deab7b800fba4caf938ca203b5811f5d  ... 2021-02-20 07:07:18.390000+00:00\n",
       "113825  d4da0fa8a79e4b84af6cc64512d5ed03  ... 2021-02-20 15:43:18.571000+00:00\n",
       "759420  0ae0d54546f44a80b302534a83ec0586  ... 2021-02-21 10:27:51.827000+00:00\n",
       "669506  9e5986a356dc43229f48f520cadc67f7  ... 2021-02-22 09:37:26.532000+00:00\n",
       "646445  178237e77c8849a28848e6a9872172ac  ... 2021-02-23 00:27:55.847000+00:00\n",
       "171719  dd497549359243b4bd98d9b62af646f9  ... 2021-02-23 16:35:44.063000+00:00\n",
       "78208   efc15d66beca4f3ba674d5999cc12907  ... 2021-02-23 22:37:17.329000+00:00\n",
       "136700  c17b5c585711467faf76075c411d3618  ... 2021-02-24 10:24:08.795000+00:00\n",
       "52182   41077c831eed41c3bf4ba5d99586acf9  ... 2021-02-24 11:18:02.551000+00:00\n",
       "93004   a5527fe4071e4f86b1e3499eed7b91a4  ... 2021-02-24 19:43:56.603000+00:00\n",
       "272762  e0340e84602242a2a71e9f3635b783e1  ... 2021-02-24 20:19:22.556000+00:00\n",
       "487328  b302486c7f5f46218971506eaa580913  ... 2021-02-25 02:39:46.153000+00:00\n",
       "485604  cd642e6cb2a6410bbee421eb1bf13946  ... 2021-02-25 08:53:26.011000+00:00\n",
       "589506  f8281bca9faf4250871708f5c777076e  ... 2021-02-25 11:04:14.710000+00:00\n",
       "708456  33c53003147f489f91bbaf8673c299c4  ... 2021-02-25 17:06:53.182000+00:00\n",
       "721827  02329614783344edb5b7e9a754240172  ... 2021-02-26 01:26:34.616000+00:00\n",
       "140318  30a7f9277846450dae506b7ce3d31832  ... 2021-02-26 05:50:21.461000+00:00\n",
       "309772  6b551ec5bc644d2ab754292b95e7c19a  ... 2021-02-26 08:39:21.054000+00:00\n",
       "361701  e43e76a4c68a4716a4422595316c300a  ... 2021-02-26 10:47:00.853000+00:00\n",
       "473920  3e32ded47ab64c0eaa0d84035683491b  ... 2021-02-26 12:38:51.013000+00:00\n",
       "527251  a9c42ea9930b42acb0533a2eb27e9705  ... 2021-02-26 16:13:02.351000+00:00\n",
       "658042  aae5cbf2a714477aa5326231116f5172  ... 2021-02-27 17:51:58.466000+00:00\n",
       "81890   bc4195c883534c4f8f90db3d978d6aa0  ... 2021-02-27 18:51:11.278000+00:00\n",
       "788715  c8fb256fdbb548b6b96d372292b7977e  ... 2021-02-27 20:57:31.610000+00:00\n",
       "43463   19340951c3ae48f29afa8d95b55f7bfa  ... 2021-02-27 22:17:27.577000+00:00\n",
       "765759  a9e1ea546e3e4aa1aa1e3503bcb17459  ... 2021-02-28 06:30:01.434000+00:00\n",
       "538291  8b71d6ac96924baebe5eb519d6805933  ... 2021-02-28 12:11:02.619000+00:00\n",
       "339904  973044aab94c4340b4baf8aee0dddf77  ... 2021-02-28 13:13:30.724000+00:00\n",
       "400272  3aa69397ffba469eb32845222bdc990e  ... 2021-02-28 21:17:31.040000+00:00\n",
       "259552  ebc6d0c156794d908ea30da0ce665820  ... 2021-03-01 12:10:44.295000+00:00\n",
       "467414  d068920362f74bfc9104fdb10dea013b  ... 2021-03-01 15:57:50.314000+00:00\n",
       "\n",
       "[68 rows x 7 columns]"
      ]
     },
     "metadata": {
      "tags": []
     },
     "execution_count": 29
    }
   ]
  },
  {
   "cell_type": "code",
   "metadata": {
    "id": "ca5BioLiBUro"
   },
   "source": [
    "df['listen_time_sec'] = (df['utc_audition_end_dttm'] - df['utc_audition_start_dttm']).astype('timedelta64[s]')"
   ],
   "execution_count": null,
   "outputs": []
  },
  {
   "cell_type": "code",
   "metadata": {
    "id": "4cfUSsPpCjeW"
   },
   "source": [
    "df['track_complete_ratio'] = df['listen_time_sec'] / df['track_duration']"
   ],
   "execution_count": null,
   "outputs": []
  },
  {
   "cell_type": "code",
   "metadata": {
    "colab": {
     "base_uri": "https://localhost:8080/",
     "height": 945
    },
    "id": "CzSYON74CljC",
    "outputId": "bcab81a1-bba1-4ac6-f95f-9d0bc6927007"
   },
   "source": [
    "df"
   ],
   "execution_count": null,
   "outputs": [
    {
     "output_type": "execute_result",
     "data": {
      "text/html": [
       "<div>\n",
       "<style scoped>\n",
       "    .dataframe tbody tr th:only-of-type {\n",
       "        vertical-align: middle;\n",
       "    }\n",
       "\n",
       "    .dataframe tbody tr th {\n",
       "        vertical-align: top;\n",
       "    }\n",
       "\n",
       "    .dataframe thead th {\n",
       "        text-align: right;\n",
       "    }\n",
       "</style>\n",
       "<table border=\"1\" class=\"dataframe\">\n",
       "  <thead>\n",
       "    <tr style=\"text-align: right;\">\n",
       "      <th></th>\n",
       "      <th>audition_id</th>\n",
       "      <th>track_duration</th>\n",
       "      <th>track_genre</th>\n",
       "      <th>track_id</th>\n",
       "      <th>user_id</th>\n",
       "      <th>utc_audition_end_dttm</th>\n",
       "      <th>utc_audition_start_dttm</th>\n",
       "      <th>lisnten_time_sec</th>\n",
       "      <th>listen_time_sec</th>\n",
       "      <th>track_complete_ratio</th>\n",
       "    </tr>\n",
       "  </thead>\n",
       "  <tbody>\n",
       "    <tr>\n",
       "      <th>0</th>\n",
       "      <td>3fecd60bf5564de7bb0064335f482b4d</td>\n",
       "      <td>336.629082</td>\n",
       "      <td>RAP</td>\n",
       "      <td>efd614e5-239a-418e-b39c-181b43719b62</td>\n",
       "      <td>a72d73ea124840698aa8</td>\n",
       "      <td>2021-02-28 12:32:10.776000+00:00</td>\n",
       "      <td>2021-02-28 12:31:01.865000+00:00</td>\n",
       "      <td>68.0</td>\n",
       "      <td>68.0</td>\n",
       "      <td>0.202003</td>\n",
       "    </tr>\n",
       "    <tr>\n",
       "      <th>1</th>\n",
       "      <td>8ae1703df8354ee6b8d39ce2ceae4508</td>\n",
       "      <td>428.797846</td>\n",
       "      <td>VOCAL</td>\n",
       "      <td>d4697e6e-698a-41e8-8e15-ec890c94751e</td>\n",
       "      <td>066cc9287de340f281ba</td>\n",
       "      <td>2021-01-19 12:13:43.369000+00:00</td>\n",
       "      <td>2021-01-19 12:12:48.185000+00:00</td>\n",
       "      <td>55.0</td>\n",
       "      <td>55.0</td>\n",
       "      <td>0.128266</td>\n",
       "    </tr>\n",
       "    <tr>\n",
       "      <th>2</th>\n",
       "      <td>44383125d98a4d939e7f294602674fc6</td>\n",
       "      <td>463.467143</td>\n",
       "      <td>METAL</td>\n",
       "      <td>e006afab-c832-4d07-8cd0-7d4a9c2aabe8</td>\n",
       "      <td>95ed23b52b104f66b4b1</td>\n",
       "      <td>2021-02-27 19:53:57.143000+00:00</td>\n",
       "      <td>2021-02-27 19:52:42.470000+00:00</td>\n",
       "      <td>74.0</td>\n",
       "      <td>74.0</td>\n",
       "      <td>0.159666</td>\n",
       "    </tr>\n",
       "    <tr>\n",
       "      <th>3</th>\n",
       "      <td>a90b74992c9f4046a68935cb83ced7ee</td>\n",
       "      <td>323.746259</td>\n",
       "      <td>HARDROCK</td>\n",
       "      <td>c2ea845c-fcba-480a-b41a-d58bf9493375</td>\n",
       "      <td>b0a6dcec6f604b50b37e</td>\n",
       "      <td>2021-02-24 01:51:44.526000+00:00</td>\n",
       "      <td>2021-02-24 01:46:25.549000+00:00</td>\n",
       "      <td>318.0</td>\n",
       "      <td>318.0</td>\n",
       "      <td>0.982251</td>\n",
       "    </tr>\n",
       "    <tr>\n",
       "      <th>4</th>\n",
       "      <td>0d98a88fba0a4dc3bb0444089a0ce16b</td>\n",
       "      <td>316.888403</td>\n",
       "      <td>POP</td>\n",
       "      <td>ad68738c-2a38-4e0f-910a-71bb0aa0a0c0</td>\n",
       "      <td>6788b1c78a724de488c9</td>\n",
       "      <td>2020-12-24 05:04:32.855000+00:00</td>\n",
       "      <td>2020-12-24 05:00:09.645000+00:00</td>\n",
       "      <td>263.0</td>\n",
       "      <td>263.0</td>\n",
       "      <td>0.829945</td>\n",
       "    </tr>\n",
       "    <tr>\n",
       "      <th>...</th>\n",
       "      <td>...</td>\n",
       "      <td>...</td>\n",
       "      <td>...</td>\n",
       "      <td>...</td>\n",
       "      <td>...</td>\n",
       "      <td>...</td>\n",
       "      <td>...</td>\n",
       "      <td>...</td>\n",
       "      <td>...</td>\n",
       "      <td>...</td>\n",
       "    </tr>\n",
       "    <tr>\n",
       "      <th>842392</th>\n",
       "      <td>45d2ac0d4fe049d387caf17a5243074e</td>\n",
       "      <td>360.581998</td>\n",
       "      <td>POP</td>\n",
       "      <td>7bedf37f-a671-4aa2-bcf9-e2defccbcb8e</td>\n",
       "      <td>e5e46188fe6d41f89faf</td>\n",
       "      <td>2021-02-05 09:17:07.865000+00:00</td>\n",
       "      <td>2021-02-05 09:11:33.925000+00:00</td>\n",
       "      <td>333.0</td>\n",
       "      <td>333.0</td>\n",
       "      <td>0.923507</td>\n",
       "    </tr>\n",
       "    <tr>\n",
       "      <th>842393</th>\n",
       "      <td>a0f30ab974e94b19b9be607f4ac55f76</td>\n",
       "      <td>373.243783</td>\n",
       "      <td>RAP</td>\n",
       "      <td>e06f3160-d57e-47f3-be08-33d3c5de26e8</td>\n",
       "      <td>f437ddab36c74c67a42d</td>\n",
       "      <td>2021-02-20 13:31:47.351000+00:00</td>\n",
       "      <td>2021-02-20 13:31:02.089000+00:00</td>\n",
       "      <td>45.0</td>\n",
       "      <td>45.0</td>\n",
       "      <td>0.120565</td>\n",
       "    </tr>\n",
       "    <tr>\n",
       "      <th>842394</th>\n",
       "      <td>ae2f051bbfa44cbdaf140ef2124e5e82</td>\n",
       "      <td>574.092229</td>\n",
       "      <td>BLUES</td>\n",
       "      <td>08de5d63-286b-40a2-b609-e7d85218f182</td>\n",
       "      <td>6d1fe5c707a7482a82e6</td>\n",
       "      <td>2021-02-26 17:00:06.380000+00:00</td>\n",
       "      <td>2021-02-26 16:54:46.656000+00:00</td>\n",
       "      <td>319.0</td>\n",
       "      <td>319.0</td>\n",
       "      <td>0.555660</td>\n",
       "    </tr>\n",
       "    <tr>\n",
       "      <th>842395</th>\n",
       "      <td>9fda54d3ad6841f0ad78e84c6abdf506</td>\n",
       "      <td>370.237483</td>\n",
       "      <td>POP</td>\n",
       "      <td>0397b6fb-a5fe-4e9c-b50d-ff9cff864bc7</td>\n",
       "      <td>7cb9103d77eb4a899c19</td>\n",
       "      <td>2021-02-25 06:57:20.404000+00:00</td>\n",
       "      <td>2021-02-25 06:52:09.760000+00:00</td>\n",
       "      <td>310.0</td>\n",
       "      <td>310.0</td>\n",
       "      <td>0.837300</td>\n",
       "    </tr>\n",
       "    <tr>\n",
       "      <th>842396</th>\n",
       "      <td>0cbfbb2e44e84116bc112f5c041a887c</td>\n",
       "      <td>519.360214</td>\n",
       "      <td>DUBSTEP</td>\n",
       "      <td>29314a82-c82e-4146-865b-f4368b96ca56</td>\n",
       "      <td>9830d91152d547c6b8fc</td>\n",
       "      <td>2021-02-26 04:49:59.839000+00:00</td>\n",
       "      <td>2021-02-26 04:41:40.213000+00:00</td>\n",
       "      <td>499.0</td>\n",
       "      <td>499.0</td>\n",
       "      <td>0.960798</td>\n",
       "    </tr>\n",
       "  </tbody>\n",
       "</table>\n",
       "<p>842397 rows × 10 columns</p>\n",
       "</div>"
      ],
      "text/plain": [
       "                             audition_id  ...  track_complete_ratio\n",
       "0       3fecd60bf5564de7bb0064335f482b4d  ...              0.202003\n",
       "1       8ae1703df8354ee6b8d39ce2ceae4508  ...              0.128266\n",
       "2       44383125d98a4d939e7f294602674fc6  ...              0.159666\n",
       "3       a90b74992c9f4046a68935cb83ced7ee  ...              0.982251\n",
       "4       0d98a88fba0a4dc3bb0444089a0ce16b  ...              0.829945\n",
       "...                                  ...  ...                   ...\n",
       "842392  45d2ac0d4fe049d387caf17a5243074e  ...              0.923507\n",
       "842393  a0f30ab974e94b19b9be607f4ac55f76  ...              0.120565\n",
       "842394  ae2f051bbfa44cbdaf140ef2124e5e82  ...              0.555660\n",
       "842395  9fda54d3ad6841f0ad78e84c6abdf506  ...              0.837300\n",
       "842396  0cbfbb2e44e84116bc112f5c041a887c  ...              0.960798\n",
       "\n",
       "[842397 rows x 10 columns]"
      ]
     },
     "metadata": {
      "tags": []
     },
     "execution_count": 44
    }
   ]
  },
  {
   "cell_type": "code",
   "metadata": {
    "colab": {
     "base_uri": "https://localhost:8080/"
    },
    "id": "xKNcd_nxD4qa",
    "outputId": "9b44a492-ba9d-4c9c-f133-7d85bbbab5e5"
   },
   "source": [
    "df['track_genre'].value_counts()"
   ],
   "execution_count": null,
   "outputs": [
    {
     "output_type": "execute_result",
     "data": {
      "text/plain": [
       "POP            149835\n",
       "ROCK            98126\n",
       "RAP             77198\n",
       "TECHNO          59482\n",
       "HARDROCK        54338\n",
       "METAL           50725\n",
       "PODCASTS        49666\n",
       "KPOP            49418\n",
       "DUBSTEP         47722\n",
       "VOCAL           42138\n",
       "ELECTRONICS     41015\n",
       "RNB             20509\n",
       "DISCO           19526\n",
       "HOUSE           18479\n",
       "INDUSTRIAL      15735\n",
       "DANCE           15432\n",
       "PUNK             8190\n",
       "RELAX            7593\n",
       "JAZZ             6283\n",
       "BLUES            5652\n",
       "CLASSICAL        4470\n",
       "POSTROCK          865\n",
       "Name: track_genre, dtype: int64"
      ]
     },
     "metadata": {
      "tags": []
     },
     "execution_count": 45
    }
   ]
  },
  {
   "cell_type": "code",
   "metadata": {
    "id": "HgQjYi1zEKdA"
   },
   "source": [
    "df['techno_flag'] = (df['track_genre'] == 'TECHNO')*1"
   ],
   "execution_count": null,
   "outputs": []
  },
  {
   "cell_type": "code",
   "metadata": {
    "colab": {
     "base_uri": "https://localhost:8080/",
     "height": 945
    },
    "id": "qab4miIREpxa",
    "outputId": "c32195be-fd3c-4b2e-b6c6-59d23397e9ac"
   },
   "source": [
    "df"
   ],
   "execution_count": null,
   "outputs": [
    {
     "output_type": "execute_result",
     "data": {
      "text/html": [
       "<div>\n",
       "<style scoped>\n",
       "    .dataframe tbody tr th:only-of-type {\n",
       "        vertical-align: middle;\n",
       "    }\n",
       "\n",
       "    .dataframe tbody tr th {\n",
       "        vertical-align: top;\n",
       "    }\n",
       "\n",
       "    .dataframe thead th {\n",
       "        text-align: right;\n",
       "    }\n",
       "</style>\n",
       "<table border=\"1\" class=\"dataframe\">\n",
       "  <thead>\n",
       "    <tr style=\"text-align: right;\">\n",
       "      <th></th>\n",
       "      <th>audition_id</th>\n",
       "      <th>track_duration</th>\n",
       "      <th>track_genre</th>\n",
       "      <th>track_id</th>\n",
       "      <th>user_id</th>\n",
       "      <th>utc_audition_end_dttm</th>\n",
       "      <th>utc_audition_start_dttm</th>\n",
       "      <th>lisnten_time_sec</th>\n",
       "      <th>listen_time_sec</th>\n",
       "      <th>track_complete_ratio</th>\n",
       "      <th>techno_flag</th>\n",
       "    </tr>\n",
       "  </thead>\n",
       "  <tbody>\n",
       "    <tr>\n",
       "      <th>0</th>\n",
       "      <td>3fecd60bf5564de7bb0064335f482b4d</td>\n",
       "      <td>336.629082</td>\n",
       "      <td>RAP</td>\n",
       "      <td>efd614e5-239a-418e-b39c-181b43719b62</td>\n",
       "      <td>a72d73ea124840698aa8</td>\n",
       "      <td>2021-02-28 12:32:10.776000+00:00</td>\n",
       "      <td>2021-02-28 12:31:01.865000+00:00</td>\n",
       "      <td>68.0</td>\n",
       "      <td>68.0</td>\n",
       "      <td>0.202003</td>\n",
       "      <td>0</td>\n",
       "    </tr>\n",
       "    <tr>\n",
       "      <th>1</th>\n",
       "      <td>8ae1703df8354ee6b8d39ce2ceae4508</td>\n",
       "      <td>428.797846</td>\n",
       "      <td>VOCAL</td>\n",
       "      <td>d4697e6e-698a-41e8-8e15-ec890c94751e</td>\n",
       "      <td>066cc9287de340f281ba</td>\n",
       "      <td>2021-01-19 12:13:43.369000+00:00</td>\n",
       "      <td>2021-01-19 12:12:48.185000+00:00</td>\n",
       "      <td>55.0</td>\n",
       "      <td>55.0</td>\n",
       "      <td>0.128266</td>\n",
       "      <td>0</td>\n",
       "    </tr>\n",
       "    <tr>\n",
       "      <th>2</th>\n",
       "      <td>44383125d98a4d939e7f294602674fc6</td>\n",
       "      <td>463.467143</td>\n",
       "      <td>METAL</td>\n",
       "      <td>e006afab-c832-4d07-8cd0-7d4a9c2aabe8</td>\n",
       "      <td>95ed23b52b104f66b4b1</td>\n",
       "      <td>2021-02-27 19:53:57.143000+00:00</td>\n",
       "      <td>2021-02-27 19:52:42.470000+00:00</td>\n",
       "      <td>74.0</td>\n",
       "      <td>74.0</td>\n",
       "      <td>0.159666</td>\n",
       "      <td>0</td>\n",
       "    </tr>\n",
       "    <tr>\n",
       "      <th>3</th>\n",
       "      <td>a90b74992c9f4046a68935cb83ced7ee</td>\n",
       "      <td>323.746259</td>\n",
       "      <td>HARDROCK</td>\n",
       "      <td>c2ea845c-fcba-480a-b41a-d58bf9493375</td>\n",
       "      <td>b0a6dcec6f604b50b37e</td>\n",
       "      <td>2021-02-24 01:51:44.526000+00:00</td>\n",
       "      <td>2021-02-24 01:46:25.549000+00:00</td>\n",
       "      <td>318.0</td>\n",
       "      <td>318.0</td>\n",
       "      <td>0.982251</td>\n",
       "      <td>0</td>\n",
       "    </tr>\n",
       "    <tr>\n",
       "      <th>4</th>\n",
       "      <td>0d98a88fba0a4dc3bb0444089a0ce16b</td>\n",
       "      <td>316.888403</td>\n",
       "      <td>POP</td>\n",
       "      <td>ad68738c-2a38-4e0f-910a-71bb0aa0a0c0</td>\n",
       "      <td>6788b1c78a724de488c9</td>\n",
       "      <td>2020-12-24 05:04:32.855000+00:00</td>\n",
       "      <td>2020-12-24 05:00:09.645000+00:00</td>\n",
       "      <td>263.0</td>\n",
       "      <td>263.0</td>\n",
       "      <td>0.829945</td>\n",
       "      <td>0</td>\n",
       "    </tr>\n",
       "    <tr>\n",
       "      <th>...</th>\n",
       "      <td>...</td>\n",
       "      <td>...</td>\n",
       "      <td>...</td>\n",
       "      <td>...</td>\n",
       "      <td>...</td>\n",
       "      <td>...</td>\n",
       "      <td>...</td>\n",
       "      <td>...</td>\n",
       "      <td>...</td>\n",
       "      <td>...</td>\n",
       "      <td>...</td>\n",
       "    </tr>\n",
       "    <tr>\n",
       "      <th>842392</th>\n",
       "      <td>45d2ac0d4fe049d387caf17a5243074e</td>\n",
       "      <td>360.581998</td>\n",
       "      <td>POP</td>\n",
       "      <td>7bedf37f-a671-4aa2-bcf9-e2defccbcb8e</td>\n",
       "      <td>e5e46188fe6d41f89faf</td>\n",
       "      <td>2021-02-05 09:17:07.865000+00:00</td>\n",
       "      <td>2021-02-05 09:11:33.925000+00:00</td>\n",
       "      <td>333.0</td>\n",
       "      <td>333.0</td>\n",
       "      <td>0.923507</td>\n",
       "      <td>0</td>\n",
       "    </tr>\n",
       "    <tr>\n",
       "      <th>842393</th>\n",
       "      <td>a0f30ab974e94b19b9be607f4ac55f76</td>\n",
       "      <td>373.243783</td>\n",
       "      <td>RAP</td>\n",
       "      <td>e06f3160-d57e-47f3-be08-33d3c5de26e8</td>\n",
       "      <td>f437ddab36c74c67a42d</td>\n",
       "      <td>2021-02-20 13:31:47.351000+00:00</td>\n",
       "      <td>2021-02-20 13:31:02.089000+00:00</td>\n",
       "      <td>45.0</td>\n",
       "      <td>45.0</td>\n",
       "      <td>0.120565</td>\n",
       "      <td>0</td>\n",
       "    </tr>\n",
       "    <tr>\n",
       "      <th>842394</th>\n",
       "      <td>ae2f051bbfa44cbdaf140ef2124e5e82</td>\n",
       "      <td>574.092229</td>\n",
       "      <td>BLUES</td>\n",
       "      <td>08de5d63-286b-40a2-b609-e7d85218f182</td>\n",
       "      <td>6d1fe5c707a7482a82e6</td>\n",
       "      <td>2021-02-26 17:00:06.380000+00:00</td>\n",
       "      <td>2021-02-26 16:54:46.656000+00:00</td>\n",
       "      <td>319.0</td>\n",
       "      <td>319.0</td>\n",
       "      <td>0.555660</td>\n",
       "      <td>0</td>\n",
       "    </tr>\n",
       "    <tr>\n",
       "      <th>842395</th>\n",
       "      <td>9fda54d3ad6841f0ad78e84c6abdf506</td>\n",
       "      <td>370.237483</td>\n",
       "      <td>POP</td>\n",
       "      <td>0397b6fb-a5fe-4e9c-b50d-ff9cff864bc7</td>\n",
       "      <td>7cb9103d77eb4a899c19</td>\n",
       "      <td>2021-02-25 06:57:20.404000+00:00</td>\n",
       "      <td>2021-02-25 06:52:09.760000+00:00</td>\n",
       "      <td>310.0</td>\n",
       "      <td>310.0</td>\n",
       "      <td>0.837300</td>\n",
       "      <td>0</td>\n",
       "    </tr>\n",
       "    <tr>\n",
       "      <th>842396</th>\n",
       "      <td>0cbfbb2e44e84116bc112f5c041a887c</td>\n",
       "      <td>519.360214</td>\n",
       "      <td>DUBSTEP</td>\n",
       "      <td>29314a82-c82e-4146-865b-f4368b96ca56</td>\n",
       "      <td>9830d91152d547c6b8fc</td>\n",
       "      <td>2021-02-26 04:49:59.839000+00:00</td>\n",
       "      <td>2021-02-26 04:41:40.213000+00:00</td>\n",
       "      <td>499.0</td>\n",
       "      <td>499.0</td>\n",
       "      <td>0.960798</td>\n",
       "      <td>0</td>\n",
       "    </tr>\n",
       "  </tbody>\n",
       "</table>\n",
       "<p>842397 rows × 11 columns</p>\n",
       "</div>"
      ],
      "text/plain": [
       "                             audition_id  ...  techno_flag\n",
       "0       3fecd60bf5564de7bb0064335f482b4d  ...            0\n",
       "1       8ae1703df8354ee6b8d39ce2ceae4508  ...            0\n",
       "2       44383125d98a4d939e7f294602674fc6  ...            0\n",
       "3       a90b74992c9f4046a68935cb83ced7ee  ...            0\n",
       "4       0d98a88fba0a4dc3bb0444089a0ce16b  ...            0\n",
       "...                                  ...  ...          ...\n",
       "842392  45d2ac0d4fe049d387caf17a5243074e  ...            0\n",
       "842393  a0f30ab974e94b19b9be607f4ac55f76  ...            0\n",
       "842394  ae2f051bbfa44cbdaf140ef2124e5e82  ...            0\n",
       "842395  9fda54d3ad6841f0ad78e84c6abdf506  ...            0\n",
       "842396  0cbfbb2e44e84116bc112f5c041a887c  ...            0\n",
       "\n",
       "[842397 rows x 11 columns]"
      ]
     },
     "metadata": {
      "tags": []
     },
     "execution_count": 47
    }
   ]
  },
  {
   "cell_type": "code",
   "metadata": {
    "colab": {
     "base_uri": "https://localhost:8080/"
    },
    "id": "C_kOG1SEEqNr",
    "outputId": "4d845b50-e24d-46de-cb92-1021a928041e"
   },
   "source": [
    "df.groupby('user_id')['techno_flag'].max()"
   ],
   "execution_count": null,
   "outputs": [
    {
     "output_type": "execute_result",
     "data": {
      "text/plain": [
       "user_id\n",
       "002123faf66b47b5aafa    1\n",
       "0041383820e248e487a6    1\n",
       "008005a451764a63aa3f    1\n",
       "00c017dc34254d39a390    1\n",
       "00f628a2f8044ae18d88    1\n",
       "                       ..\n",
       "ff77d34a23c04d36a421    1\n",
       "ff9b606118d449f1ab15    1\n",
       "ffa2421c514844c087f3    1\n",
       "ffa5ecacdcfb466d8e91    1\n",
       "ffe8e02a691746d18159    1\n",
       "Name: techno_flag, Length: 1727, dtype: int64"
      ]
     },
     "metadata": {
      "tags": []
     },
     "execution_count": 51
    }
   ]
  },
  {
   "cell_type": "code",
   "metadata": {
    "id": "awbLjt0UG_ek"
   },
   "source": [],
   "execution_count": null,
   "outputs": []
  },
  {
   "cell_type": "code",
   "metadata": {
    "id": "lGuvUbdVE36Y"
   },
   "source": [
    "df['punk_flag'] = (df['track_genre'] == 'PUNK')*1"
   ],
   "execution_count": null,
   "outputs": []
  },
  {
   "cell_type": "code",
   "metadata": {
    "colab": {
     "base_uri": "https://localhost:8080/"
    },
    "id": "1cJhhIS9FUP2",
    "outputId": "02ca5b15-d488-4ac6-af69-f808c63d98a0"
   },
   "source": [
    "df.groupby('user_id')['punk_flag'].max().mean()"
   ],
   "execution_count": null,
   "outputs": [
    {
     "output_type": "execute_result",
     "data": {
      "text/plain": [
       "0.9768384481760278"
      ]
     },
     "metadata": {
      "tags": []
     },
     "execution_count": 52
    }
   ]
  },
  {
   "cell_type": "code",
   "metadata": {
    "colab": {
     "base_uri": "https://localhost:8080/"
    },
    "id": "J2EaAF3KFeIC",
    "outputId": "3c5d9687-553b-45b6-96ac-769e8cc462ab"
   },
   "source": [
    "df.groupby('user_id')['techno_flag'].max().mean()"
   ],
   "execution_count": null,
   "outputs": [
    {
     "output_type": "execute_result",
     "data": {
      "text/plain": [
       "1.0"
      ]
     },
     "metadata": {
      "tags": []
     },
     "execution_count": 53
    }
   ]
  },
  {
   "cell_type": "code",
   "metadata": {
    "colab": {
     "base_uri": "https://localhost:8080/",
     "height": 945
    },
    "id": "HeGWiJOuHC84",
    "outputId": "25e9a9e0-f25a-440e-8dab-f7be1c5baabd"
   },
   "source": [
    "df"
   ],
   "execution_count": null,
   "outputs": [
    {
     "output_type": "execute_result",
     "data": {
      "text/html": [
       "<div>\n",
       "<style scoped>\n",
       "    .dataframe tbody tr th:only-of-type {\n",
       "        vertical-align: middle;\n",
       "    }\n",
       "\n",
       "    .dataframe tbody tr th {\n",
       "        vertical-align: top;\n",
       "    }\n",
       "\n",
       "    .dataframe thead th {\n",
       "        text-align: right;\n",
       "    }\n",
       "</style>\n",
       "<table border=\"1\" class=\"dataframe\">\n",
       "  <thead>\n",
       "    <tr style=\"text-align: right;\">\n",
       "      <th></th>\n",
       "      <th>audition_id</th>\n",
       "      <th>track_duration</th>\n",
       "      <th>track_genre</th>\n",
       "      <th>track_id</th>\n",
       "      <th>user_id</th>\n",
       "      <th>utc_audition_end_dttm</th>\n",
       "      <th>utc_audition_start_dttm</th>\n",
       "      <th>lisnten_time_sec</th>\n",
       "      <th>listen_time_sec</th>\n",
       "      <th>track_complete_ratio</th>\n",
       "      <th>techno_flag</th>\n",
       "      <th>punk_flag</th>\n",
       "    </tr>\n",
       "  </thead>\n",
       "  <tbody>\n",
       "    <tr>\n",
       "      <th>0</th>\n",
       "      <td>3fecd60bf5564de7bb0064335f482b4d</td>\n",
       "      <td>336.629082</td>\n",
       "      <td>RAP</td>\n",
       "      <td>efd614e5-239a-418e-b39c-181b43719b62</td>\n",
       "      <td>a72d73ea124840698aa8</td>\n",
       "      <td>2021-02-28 12:32:10.776000+00:00</td>\n",
       "      <td>2021-02-28 12:31:01.865000+00:00</td>\n",
       "      <td>68.0</td>\n",
       "      <td>68.0</td>\n",
       "      <td>0.202003</td>\n",
       "      <td>0</td>\n",
       "      <td>0</td>\n",
       "    </tr>\n",
       "    <tr>\n",
       "      <th>1</th>\n",
       "      <td>8ae1703df8354ee6b8d39ce2ceae4508</td>\n",
       "      <td>428.797846</td>\n",
       "      <td>VOCAL</td>\n",
       "      <td>d4697e6e-698a-41e8-8e15-ec890c94751e</td>\n",
       "      <td>066cc9287de340f281ba</td>\n",
       "      <td>2021-01-19 12:13:43.369000+00:00</td>\n",
       "      <td>2021-01-19 12:12:48.185000+00:00</td>\n",
       "      <td>55.0</td>\n",
       "      <td>55.0</td>\n",
       "      <td>0.128266</td>\n",
       "      <td>0</td>\n",
       "      <td>0</td>\n",
       "    </tr>\n",
       "    <tr>\n",
       "      <th>2</th>\n",
       "      <td>44383125d98a4d939e7f294602674fc6</td>\n",
       "      <td>463.467143</td>\n",
       "      <td>METAL</td>\n",
       "      <td>e006afab-c832-4d07-8cd0-7d4a9c2aabe8</td>\n",
       "      <td>95ed23b52b104f66b4b1</td>\n",
       "      <td>2021-02-27 19:53:57.143000+00:00</td>\n",
       "      <td>2021-02-27 19:52:42.470000+00:00</td>\n",
       "      <td>74.0</td>\n",
       "      <td>74.0</td>\n",
       "      <td>0.159666</td>\n",
       "      <td>0</td>\n",
       "      <td>0</td>\n",
       "    </tr>\n",
       "    <tr>\n",
       "      <th>3</th>\n",
       "      <td>a90b74992c9f4046a68935cb83ced7ee</td>\n",
       "      <td>323.746259</td>\n",
       "      <td>HARDROCK</td>\n",
       "      <td>c2ea845c-fcba-480a-b41a-d58bf9493375</td>\n",
       "      <td>b0a6dcec6f604b50b37e</td>\n",
       "      <td>2021-02-24 01:51:44.526000+00:00</td>\n",
       "      <td>2021-02-24 01:46:25.549000+00:00</td>\n",
       "      <td>318.0</td>\n",
       "      <td>318.0</td>\n",
       "      <td>0.982251</td>\n",
       "      <td>0</td>\n",
       "      <td>0</td>\n",
       "    </tr>\n",
       "    <tr>\n",
       "      <th>4</th>\n",
       "      <td>0d98a88fba0a4dc3bb0444089a0ce16b</td>\n",
       "      <td>316.888403</td>\n",
       "      <td>POP</td>\n",
       "      <td>ad68738c-2a38-4e0f-910a-71bb0aa0a0c0</td>\n",
       "      <td>6788b1c78a724de488c9</td>\n",
       "      <td>2020-12-24 05:04:32.855000+00:00</td>\n",
       "      <td>2020-12-24 05:00:09.645000+00:00</td>\n",
       "      <td>263.0</td>\n",
       "      <td>263.0</td>\n",
       "      <td>0.829945</td>\n",
       "      <td>0</td>\n",
       "      <td>0</td>\n",
       "    </tr>\n",
       "    <tr>\n",
       "      <th>...</th>\n",
       "      <td>...</td>\n",
       "      <td>...</td>\n",
       "      <td>...</td>\n",
       "      <td>...</td>\n",
       "      <td>...</td>\n",
       "      <td>...</td>\n",
       "      <td>...</td>\n",
       "      <td>...</td>\n",
       "      <td>...</td>\n",
       "      <td>...</td>\n",
       "      <td>...</td>\n",
       "      <td>...</td>\n",
       "    </tr>\n",
       "    <tr>\n",
       "      <th>842392</th>\n",
       "      <td>45d2ac0d4fe049d387caf17a5243074e</td>\n",
       "      <td>360.581998</td>\n",
       "      <td>POP</td>\n",
       "      <td>7bedf37f-a671-4aa2-bcf9-e2defccbcb8e</td>\n",
       "      <td>e5e46188fe6d41f89faf</td>\n",
       "      <td>2021-02-05 09:17:07.865000+00:00</td>\n",
       "      <td>2021-02-05 09:11:33.925000+00:00</td>\n",
       "      <td>333.0</td>\n",
       "      <td>333.0</td>\n",
       "      <td>0.923507</td>\n",
       "      <td>0</td>\n",
       "      <td>0</td>\n",
       "    </tr>\n",
       "    <tr>\n",
       "      <th>842393</th>\n",
       "      <td>a0f30ab974e94b19b9be607f4ac55f76</td>\n",
       "      <td>373.243783</td>\n",
       "      <td>RAP</td>\n",
       "      <td>e06f3160-d57e-47f3-be08-33d3c5de26e8</td>\n",
       "      <td>f437ddab36c74c67a42d</td>\n",
       "      <td>2021-02-20 13:31:47.351000+00:00</td>\n",
       "      <td>2021-02-20 13:31:02.089000+00:00</td>\n",
       "      <td>45.0</td>\n",
       "      <td>45.0</td>\n",
       "      <td>0.120565</td>\n",
       "      <td>0</td>\n",
       "      <td>0</td>\n",
       "    </tr>\n",
       "    <tr>\n",
       "      <th>842394</th>\n",
       "      <td>ae2f051bbfa44cbdaf140ef2124e5e82</td>\n",
       "      <td>574.092229</td>\n",
       "      <td>BLUES</td>\n",
       "      <td>08de5d63-286b-40a2-b609-e7d85218f182</td>\n",
       "      <td>6d1fe5c707a7482a82e6</td>\n",
       "      <td>2021-02-26 17:00:06.380000+00:00</td>\n",
       "      <td>2021-02-26 16:54:46.656000+00:00</td>\n",
       "      <td>319.0</td>\n",
       "      <td>319.0</td>\n",
       "      <td>0.555660</td>\n",
       "      <td>0</td>\n",
       "      <td>0</td>\n",
       "    </tr>\n",
       "    <tr>\n",
       "      <th>842395</th>\n",
       "      <td>9fda54d3ad6841f0ad78e84c6abdf506</td>\n",
       "      <td>370.237483</td>\n",
       "      <td>POP</td>\n",
       "      <td>0397b6fb-a5fe-4e9c-b50d-ff9cff864bc7</td>\n",
       "      <td>7cb9103d77eb4a899c19</td>\n",
       "      <td>2021-02-25 06:57:20.404000+00:00</td>\n",
       "      <td>2021-02-25 06:52:09.760000+00:00</td>\n",
       "      <td>310.0</td>\n",
       "      <td>310.0</td>\n",
       "      <td>0.837300</td>\n",
       "      <td>0</td>\n",
       "      <td>0</td>\n",
       "    </tr>\n",
       "    <tr>\n",
       "      <th>842396</th>\n",
       "      <td>0cbfbb2e44e84116bc112f5c041a887c</td>\n",
       "      <td>519.360214</td>\n",
       "      <td>DUBSTEP</td>\n",
       "      <td>29314a82-c82e-4146-865b-f4368b96ca56</td>\n",
       "      <td>9830d91152d547c6b8fc</td>\n",
       "      <td>2021-02-26 04:49:59.839000+00:00</td>\n",
       "      <td>2021-02-26 04:41:40.213000+00:00</td>\n",
       "      <td>499.0</td>\n",
       "      <td>499.0</td>\n",
       "      <td>0.960798</td>\n",
       "      <td>0</td>\n",
       "      <td>0</td>\n",
       "    </tr>\n",
       "  </tbody>\n",
       "</table>\n",
       "<p>842397 rows × 12 columns</p>\n",
       "</div>"
      ],
      "text/plain": [
       "                             audition_id  ...  punk_flag\n",
       "0       3fecd60bf5564de7bb0064335f482b4d  ...          0\n",
       "1       8ae1703df8354ee6b8d39ce2ceae4508  ...          0\n",
       "2       44383125d98a4d939e7f294602674fc6  ...          0\n",
       "3       a90b74992c9f4046a68935cb83ced7ee  ...          0\n",
       "4       0d98a88fba0a4dc3bb0444089a0ce16b  ...          0\n",
       "...                                  ...  ...        ...\n",
       "842392  45d2ac0d4fe049d387caf17a5243074e  ...          0\n",
       "842393  a0f30ab974e94b19b9be607f4ac55f76  ...          0\n",
       "842394  ae2f051bbfa44cbdaf140ef2124e5e82  ...          0\n",
       "842395  9fda54d3ad6841f0ad78e84c6abdf506  ...          0\n",
       "842396  0cbfbb2e44e84116bc112f5c041a887c  ...          0\n",
       "\n",
       "[842397 rows x 12 columns]"
      ]
     },
     "metadata": {
      "tags": []
     },
     "execution_count": 66
    }
   ]
  },
  {
   "cell_type": "code",
   "metadata": {
    "id": "AkTHaMt4FiLc"
   },
   "source": [
    "techno_frac = (df.groupby('user_id')[['techno_flag','track_id',\n",
    "                                      'utc_audition_start_dttm','track_complete_ratio']]\n",
    "               .agg({'techno_flag':['count','mean'],\n",
    "                     'track_id':['nunique'],'utc_audition_start_dttm':['max'],\n",
    "                     'track_complete_ratio':['mean']\n",
    "                     }))"
   ],
   "execution_count": null,
   "outputs": []
  },
  {
   "cell_type": "code",
   "metadata": {
    "colab": {
     "base_uri": "https://localhost:8080/",
     "height": 467
    },
    "id": "8oAp-He9F7Ts",
    "outputId": "e6c1ec3b-30b0-4762-c49e-6bdb6f804b2e"
   },
   "source": [
    "techno_frac"
   ],
   "execution_count": null,
   "outputs": [
    {
     "output_type": "execute_result",
     "data": {
      "text/html": [
       "<div>\n",
       "<style scoped>\n",
       "    .dataframe tbody tr th:only-of-type {\n",
       "        vertical-align: middle;\n",
       "    }\n",
       "\n",
       "    .dataframe tbody tr th {\n",
       "        vertical-align: top;\n",
       "    }\n",
       "\n",
       "    .dataframe thead tr th {\n",
       "        text-align: left;\n",
       "    }\n",
       "\n",
       "    .dataframe thead tr:last-of-type th {\n",
       "        text-align: right;\n",
       "    }\n",
       "</style>\n",
       "<table border=\"1\" class=\"dataframe\">\n",
       "  <thead>\n",
       "    <tr>\n",
       "      <th></th>\n",
       "      <th colspan=\"2\" halign=\"left\">techno_flag</th>\n",
       "      <th>track_id</th>\n",
       "      <th>utc_audition_start_dttm</th>\n",
       "      <th>track_complete_ratio</th>\n",
       "    </tr>\n",
       "    <tr>\n",
       "      <th></th>\n",
       "      <th>count</th>\n",
       "      <th>mean</th>\n",
       "      <th>nunique</th>\n",
       "      <th>max</th>\n",
       "      <th>mean</th>\n",
       "    </tr>\n",
       "    <tr>\n",
       "      <th>user_id</th>\n",
       "      <th></th>\n",
       "      <th></th>\n",
       "      <th></th>\n",
       "      <th></th>\n",
       "      <th></th>\n",
       "    </tr>\n",
       "  </thead>\n",
       "  <tbody>\n",
       "    <tr>\n",
       "      <th>002123faf66b47b5aafa</th>\n",
       "      <td>343</td>\n",
       "      <td>0.067055</td>\n",
       "      <td>325</td>\n",
       "      <td>2021-03-01 15:16:33.151000+00:00</td>\n",
       "      <td>0.667551</td>\n",
       "    </tr>\n",
       "    <tr>\n",
       "      <th>0041383820e248e487a6</th>\n",
       "      <td>1069</td>\n",
       "      <td>0.072030</td>\n",
       "      <td>950</td>\n",
       "      <td>2021-03-01 15:45:14.180000+00:00</td>\n",
       "      <td>0.646674</td>\n",
       "    </tr>\n",
       "    <tr>\n",
       "      <th>008005a451764a63aa3f</th>\n",
       "      <td>638</td>\n",
       "      <td>0.067398</td>\n",
       "      <td>595</td>\n",
       "      <td>2021-03-01 15:48:42.881000+00:00</td>\n",
       "      <td>0.645333</td>\n",
       "    </tr>\n",
       "    <tr>\n",
       "      <th>00c017dc34254d39a390</th>\n",
       "      <td>633</td>\n",
       "      <td>0.080569</td>\n",
       "      <td>602</td>\n",
       "      <td>2021-03-01 14:32:11.413000+00:00</td>\n",
       "      <td>0.675924</td>\n",
       "    </tr>\n",
       "    <tr>\n",
       "      <th>00f628a2f8044ae18d88</th>\n",
       "      <td>415</td>\n",
       "      <td>0.084337</td>\n",
       "      <td>404</td>\n",
       "      <td>2021-03-01 12:12:00.550000+00:00</td>\n",
       "      <td>0.658767</td>\n",
       "    </tr>\n",
       "    <tr>\n",
       "      <th>...</th>\n",
       "      <td>...</td>\n",
       "      <td>...</td>\n",
       "      <td>...</td>\n",
       "      <td>...</td>\n",
       "      <td>...</td>\n",
       "    </tr>\n",
       "    <tr>\n",
       "      <th>ff77d34a23c04d36a421</th>\n",
       "      <td>402</td>\n",
       "      <td>0.082090</td>\n",
       "      <td>374</td>\n",
       "      <td>2021-03-01 15:15:59.023000+00:00</td>\n",
       "      <td>0.667263</td>\n",
       "    </tr>\n",
       "    <tr>\n",
       "      <th>ff9b606118d449f1ab15</th>\n",
       "      <td>426</td>\n",
       "      <td>0.068075</td>\n",
       "      <td>403</td>\n",
       "      <td>2021-03-01 13:05:53.583000+00:00</td>\n",
       "      <td>0.635799</td>\n",
       "    </tr>\n",
       "    <tr>\n",
       "      <th>ffa2421c514844c087f3</th>\n",
       "      <td>627</td>\n",
       "      <td>0.049442</td>\n",
       "      <td>578</td>\n",
       "      <td>2021-03-01 15:08:04.135000+00:00</td>\n",
       "      <td>0.648494</td>\n",
       "    </tr>\n",
       "    <tr>\n",
       "      <th>ffa5ecacdcfb466d8e91</th>\n",
       "      <td>534</td>\n",
       "      <td>0.073034</td>\n",
       "      <td>494</td>\n",
       "      <td>2021-03-01 15:23:34.200000+00:00</td>\n",
       "      <td>0.638745</td>\n",
       "    </tr>\n",
       "    <tr>\n",
       "      <th>ffe8e02a691746d18159</th>\n",
       "      <td>457</td>\n",
       "      <td>0.056893</td>\n",
       "      <td>439</td>\n",
       "      <td>2021-03-01 14:43:46.242000+00:00</td>\n",
       "      <td>0.661892</td>\n",
       "    </tr>\n",
       "  </tbody>\n",
       "</table>\n",
       "<p>1727 rows × 5 columns</p>\n",
       "</div>"
      ],
      "text/plain": [
       "                     techno_flag  ... track_complete_ratio\n",
       "                           count  ...                 mean\n",
       "user_id                           ...                     \n",
       "002123faf66b47b5aafa         343  ...             0.667551\n",
       "0041383820e248e487a6        1069  ...             0.646674\n",
       "008005a451764a63aa3f         638  ...             0.645333\n",
       "00c017dc34254d39a390         633  ...             0.675924\n",
       "00f628a2f8044ae18d88         415  ...             0.658767\n",
       "...                          ...  ...                  ...\n",
       "ff77d34a23c04d36a421         402  ...             0.667263\n",
       "ff9b606118d449f1ab15         426  ...             0.635799\n",
       "ffa2421c514844c087f3         627  ...             0.648494\n",
       "ffa5ecacdcfb466d8e91         534  ...             0.638745\n",
       "ffe8e02a691746d18159         457  ...             0.661892\n",
       "\n",
       "[1727 rows x 5 columns]"
      ]
     },
     "metadata": {
      "tags": []
     },
     "execution_count": 68
    }
   ]
  },
  {
   "cell_type": "code",
   "metadata": {
    "id": "leLzpJzhGEy-"
   },
   "source": [
    "techno_frac.columns = techno_frac.columns.get_level_values(0)\n"
   ],
   "execution_count": null,
   "outputs": []
  },
  {
   "cell_type": "code",
   "metadata": {
    "id": "pRKPFRkdIINT"
   },
   "source": [
    "techno_frac.columns = ['track_cnt','techno_ratio','unique_track_cnt','last_dt','track_complete_ratio_mean']"
   ],
   "execution_count": null,
   "outputs": []
  },
  {
   "cell_type": "code",
   "metadata": {
    "id": "FhrAajV7Ht0n"
   },
   "source": [
    "techno_frac['unique_ratio'] = techno_frac['unique_track_cnt'] / techno_frac['track_cnt']"
   ],
   "execution_count": null,
   "outputs": []
  },
  {
   "cell_type": "code",
   "metadata": {
    "id": "OA0FzbCQIt7x"
   },
   "source": [
    "techno_frac['last_dt'] = techno_frac['last_dt'].astype(int)/ 10**9"
   ],
   "execution_count": null,
   "outputs": []
  },
  {
   "cell_type": "code",
   "metadata": {
    "colab": {
     "base_uri": "https://localhost:8080/"
    },
    "id": "WJSelZn2IxOx",
    "outputId": "6b2df8a8-8481-4596-ad26-8894114dec4a"
   },
   "source": [
    "techno_frac.columns"
   ],
   "execution_count": null,
   "outputs": [
    {
     "output_type": "execute_result",
     "data": {
      "text/plain": [
       "Index(['track_cnt', 'techno_ratio', 'unique_track_cnt', 'last_dt',\n",
       "       'track_complete_ratio_mean', 'unique_ratio'],\n",
       "      dtype='object')"
      ]
     },
     "metadata": {
      "tags": []
     },
     "execution_count": 84
    }
   ]
  },
  {
   "cell_type": "code",
   "metadata": {
    "id": "Y8rrwOxCJknj"
   },
   "source": [
    "features = ['track_cnt', 'techno_ratio', 'last_dt',\n",
    "       'track_complete_ratio_mean', 'unique_ratio']"
   ],
   "execution_count": null,
   "outputs": []
  },
  {
   "cell_type": "code",
   "metadata": {
    "colab": {
     "base_uri": "https://localhost:8080/"
    },
    "id": "jVF7VvOPJptX",
    "outputId": "47cfe175-f947-482f-965c-59a4b330bf44"
   },
   "source": [
    "for f in features:\n",
    "  print(f)\n",
    "  techno_frac[f'{f}_pct'] = techno_frac[f].rank(pct=True,method='max')"
   ],
   "execution_count": null,
   "outputs": [
    {
     "output_type": "stream",
     "text": [
      "track_cnt\n",
      "techno_ratio\n",
      "last_dt\n",
      "track_complete_ratio_mean\n",
      "unique_ratio\n"
     ],
     "name": "stdout"
    }
   ]
  },
  {
   "cell_type": "code",
   "metadata": {
    "colab": {
     "base_uri": "https://localhost:8080/"
    },
    "id": "e_z_arBDJX8R",
    "outputId": "b3973bce-c32f-475e-b976-08ac891b3aec"
   },
   "source": [
    "techno_frac.columns"
   ],
   "execution_count": null,
   "outputs": [
    {
     "output_type": "execute_result",
     "data": {
      "text/plain": [
       "Index(['track_cnt', 'techno_ratio', 'unique_track_cnt', 'last_dt',\n",
       "       'track_complete_ratio_mean', 'unique_ratio', 'track_cnt_pct',\n",
       "       'techno_ratio_pct', 'last_dt_pct', 'track_complete_ratio_mean_pct',\n",
       "       'unique_ratio_pct'],\n",
       "      dtype='object')"
      ]
     },
     "metadata": {
      "tags": []
     },
     "execution_count": 92
    }
   ]
  },
  {
   "cell_type": "code",
   "metadata": {
    "id": "SRIjS2dKKAeE"
   },
   "source": [
    "techno_frac['score'] = techno_frac[['track_cnt_pct',\n",
    "       'techno_ratio_pct', 'last_dt_pct', 'track_complete_ratio_mean_pct',\n",
    "       'unique_ratio_pct']].sum(axis=1)"
   ],
   "execution_count": null,
   "outputs": []
  },
  {
   "cell_type": "code",
   "metadata": {
    "colab": {
     "base_uri": "https://localhost:8080/",
     "height": 457
    },
    "id": "bzZ9YQLYKMTt",
    "outputId": "4a1e6fa8-7c51-4808-a7ec-4800d661ef78"
   },
   "source": [
    "techno_frac.sort_values('score',ascending=False)"
   ],
   "execution_count": null,
   "outputs": [
    {
     "output_type": "execute_result",
     "data": {
      "text/html": [
       "<div>\n",
       "<style scoped>\n",
       "    .dataframe tbody tr th:only-of-type {\n",
       "        vertical-align: middle;\n",
       "    }\n",
       "\n",
       "    .dataframe tbody tr th {\n",
       "        vertical-align: top;\n",
       "    }\n",
       "\n",
       "    .dataframe thead th {\n",
       "        text-align: right;\n",
       "    }\n",
       "</style>\n",
       "<table border=\"1\" class=\"dataframe\">\n",
       "  <thead>\n",
       "    <tr style=\"text-align: right;\">\n",
       "      <th></th>\n",
       "      <th>track_cnt</th>\n",
       "      <th>techno_ratio</th>\n",
       "      <th>unique_track_cnt</th>\n",
       "      <th>last_dt</th>\n",
       "      <th>track_complete_ratio_mean</th>\n",
       "      <th>unique_ratio</th>\n",
       "      <th>track_cnt_pct</th>\n",
       "      <th>techno_ratio_pct</th>\n",
       "      <th>last_dt_pct</th>\n",
       "      <th>track_complete_ratio_mean_pct</th>\n",
       "      <th>unique_ratio_pct</th>\n",
       "      <th>score</th>\n",
       "    </tr>\n",
       "    <tr>\n",
       "      <th>user_id</th>\n",
       "      <th></th>\n",
       "      <th></th>\n",
       "      <th></th>\n",
       "      <th></th>\n",
       "      <th></th>\n",
       "      <th></th>\n",
       "      <th></th>\n",
       "      <th></th>\n",
       "      <th></th>\n",
       "      <th></th>\n",
       "      <th></th>\n",
       "      <th></th>\n",
       "    </tr>\n",
       "  </thead>\n",
       "  <tbody>\n",
       "    <tr>\n",
       "      <th>f0e498a8212f4e71ab3a</th>\n",
       "      <td>456</td>\n",
       "      <td>0.089912</td>\n",
       "      <td>442</td>\n",
       "      <td>1.614614e+09</td>\n",
       "      <td>0.676741</td>\n",
       "      <td>0.969298</td>\n",
       "      <td>0.426173</td>\n",
       "      <td>0.934569</td>\n",
       "      <td>0.932831</td>\n",
       "      <td>0.932252</td>\n",
       "      <td>0.878981</td>\n",
       "      <td>4.104806</td>\n",
       "    </tr>\n",
       "    <tr>\n",
       "      <th>b4a1617c374a490c8868</th>\n",
       "      <td>513</td>\n",
       "      <td>0.089669</td>\n",
       "      <td>491</td>\n",
       "      <td>1.614614e+09</td>\n",
       "      <td>0.666676</td>\n",
       "      <td>0.957115</td>\n",
       "      <td>0.572669</td>\n",
       "      <td>0.933411</td>\n",
       "      <td>0.948466</td>\n",
       "      <td>0.799653</td>\n",
       "      <td>0.665895</td>\n",
       "      <td>3.920093</td>\n",
       "    </tr>\n",
       "    <tr>\n",
       "      <th>7ad3d1dd2c1f4aef827a</th>\n",
       "      <td>550</td>\n",
       "      <td>0.098182</td>\n",
       "      <td>525</td>\n",
       "      <td>1.614614e+09</td>\n",
       "      <td>0.662114</td>\n",
       "      <td>0.954545</td>\n",
       "      <td>0.679792</td>\n",
       "      <td>0.976838</td>\n",
       "      <td>0.873191</td>\n",
       "      <td>0.715692</td>\n",
       "      <td>0.614360</td>\n",
       "      <td>3.859873</td>\n",
       "    </tr>\n",
       "    <tr>\n",
       "      <th>5eb26ac30baa44b09d0a</th>\n",
       "      <td>484</td>\n",
       "      <td>0.076446</td>\n",
       "      <td>467</td>\n",
       "      <td>1.614614e+09</td>\n",
       "      <td>0.686542</td>\n",
       "      <td>0.964876</td>\n",
       "      <td>0.498552</td>\n",
       "      <td>0.698321</td>\n",
       "      <td>0.826288</td>\n",
       "      <td>0.976838</td>\n",
       "      <td>0.818182</td>\n",
       "      <td>3.818182</td>\n",
       "    </tr>\n",
       "    <tr>\n",
       "      <th>de026e73f7af4a17ae38</th>\n",
       "      <td>495</td>\n",
       "      <td>0.096970</td>\n",
       "      <td>477</td>\n",
       "      <td>1.614612e+09</td>\n",
       "      <td>0.674532</td>\n",
       "      <td>0.963636</td>\n",
       "      <td>0.525188</td>\n",
       "      <td>0.973364</td>\n",
       "      <td>0.569774</td>\n",
       "      <td>0.910828</td>\n",
       "      <td>0.796178</td>\n",
       "      <td>3.775333</td>\n",
       "    </tr>\n",
       "    <tr>\n",
       "      <th>...</th>\n",
       "      <td>...</td>\n",
       "      <td>...</td>\n",
       "      <td>...</td>\n",
       "      <td>...</td>\n",
       "      <td>...</td>\n",
       "      <td>...</td>\n",
       "      <td>...</td>\n",
       "      <td>...</td>\n",
       "      <td>...</td>\n",
       "      <td>...</td>\n",
       "      <td>...</td>\n",
       "      <td>...</td>\n",
       "    </tr>\n",
       "    <tr>\n",
       "      <th>9342a40f32c34766a29f</th>\n",
       "      <td>316</td>\n",
       "      <td>0.053797</td>\n",
       "      <td>301</td>\n",
       "      <td>1.614608e+09</td>\n",
       "      <td>0.630257</td>\n",
       "      <td>0.952532</td>\n",
       "      <td>0.116387</td>\n",
       "      <td>0.073538</td>\n",
       "      <td>0.176028</td>\n",
       "      <td>0.065431</td>\n",
       "      <td>0.562826</td>\n",
       "      <td>0.994210</td>\n",
       "    </tr>\n",
       "    <tr>\n",
       "      <th>bd3256057f9140cf8df0</th>\n",
       "      <td>276</td>\n",
       "      <td>0.057971</td>\n",
       "      <td>259</td>\n",
       "      <td>1.614608e+09</td>\n",
       "      <td>0.644667</td>\n",
       "      <td>0.938406</td>\n",
       "      <td>0.069485</td>\n",
       "      <td>0.145339</td>\n",
       "      <td>0.212507</td>\n",
       "      <td>0.292415</td>\n",
       "      <td>0.255935</td>\n",
       "      <td>0.975680</td>\n",
       "    </tr>\n",
       "    <tr>\n",
       "      <th>1f8ea6aa8660483fb86b</th>\n",
       "      <td>250</td>\n",
       "      <td>0.056000</td>\n",
       "      <td>240</td>\n",
       "      <td>1.614603e+09</td>\n",
       "      <td>0.606584</td>\n",
       "      <td>0.960000</td>\n",
       "      <td>0.048639</td>\n",
       "      <td>0.113492</td>\n",
       "      <td>0.062536</td>\n",
       "      <td>0.003474</td>\n",
       "      <td>0.724378</td>\n",
       "      <td>0.952519</td>\n",
       "    </tr>\n",
       "    <tr>\n",
       "      <th>acf991deaab942858991</th>\n",
       "      <td>411</td>\n",
       "      <td>0.053528</td>\n",
       "      <td>387</td>\n",
       "      <td>1.614601e+09</td>\n",
       "      <td>0.641468</td>\n",
       "      <td>0.941606</td>\n",
       "      <td>0.294731</td>\n",
       "      <td>0.068327</td>\n",
       "      <td>0.042270</td>\n",
       "      <td>0.228141</td>\n",
       "      <td>0.317892</td>\n",
       "      <td>0.951361</td>\n",
       "    </tr>\n",
       "    <tr>\n",
       "      <th>34a3270b4b2d437d9389</th>\n",
       "      <td>391</td>\n",
       "      <td>0.058824</td>\n",
       "      <td>364</td>\n",
       "      <td>1.614606e+09</td>\n",
       "      <td>0.611746</td>\n",
       "      <td>0.930946</td>\n",
       "      <td>0.242617</td>\n",
       "      <td>0.164447</td>\n",
       "      <td>0.101332</td>\n",
       "      <td>0.009265</td>\n",
       "      <td>0.134337</td>\n",
       "      <td>0.651998</td>\n",
       "    </tr>\n",
       "  </tbody>\n",
       "</table>\n",
       "<p>1727 rows × 12 columns</p>\n",
       "</div>"
      ],
      "text/plain": [
       "                      track_cnt  techno_ratio  ...  unique_ratio_pct     score\n",
       "user_id                                        ...                            \n",
       "f0e498a8212f4e71ab3a        456      0.089912  ...          0.878981  4.104806\n",
       "b4a1617c374a490c8868        513      0.089669  ...          0.665895  3.920093\n",
       "7ad3d1dd2c1f4aef827a        550      0.098182  ...          0.614360  3.859873\n",
       "5eb26ac30baa44b09d0a        484      0.076446  ...          0.818182  3.818182\n",
       "de026e73f7af4a17ae38        495      0.096970  ...          0.796178  3.775333\n",
       "...                         ...           ...  ...               ...       ...\n",
       "9342a40f32c34766a29f        316      0.053797  ...          0.562826  0.994210\n",
       "bd3256057f9140cf8df0        276      0.057971  ...          0.255935  0.975680\n",
       "1f8ea6aa8660483fb86b        250      0.056000  ...          0.724378  0.952519\n",
       "acf991deaab942858991        411      0.053528  ...          0.317892  0.951361\n",
       "34a3270b4b2d437d9389        391      0.058824  ...          0.134337  0.651998\n",
       "\n",
       "[1727 rows x 12 columns]"
      ]
     },
     "metadata": {
      "tags": []
     },
     "execution_count": 95
    }
   ]
  },
  {
   "cell_type": "code",
   "metadata": {
    "colab": {
     "base_uri": "https://localhost:8080/"
    },
    "id": "oqe7F-z-KNvT",
    "outputId": "046c0056-2c72-4e57-d2e8-ef437ec9f61e"
   },
   "source": [
    "techno_frac.columns"
   ],
   "execution_count": null,
   "outputs": [
    {
     "output_type": "execute_result",
     "data": {
      "text/plain": [
       "Index(['track_cnt', 'techno_ratio', 'unique_track_cnt', 'last_dt',\n",
       "       'track_complete_ratio_mean', 'unique_ratio', 'track_cnt_pct',\n",
       "       'techno_ratio_pct', 'last_dt_pct', 'track_complete_ratio_mean_pct',\n",
       "       'unique_ratio_pct', 'score'],\n",
       "      dtype='object')"
      ]
     },
     "metadata": {
      "tags": []
     },
     "execution_count": 98
    }
   ]
  },
  {
   "cell_type": "code",
   "metadata": {
    "id": "foO_EDIeLHI6"
   },
   "source": [
    "pcts = ['track_cnt_pct',\n",
    "       'techno_ratio_pct', 'last_dt_pct', 'track_complete_ratio_mean_pct',\n",
    "       'unique_ratio_pct']"
   ],
   "execution_count": null,
   "outputs": []
  },
  {
   "cell_type": "code",
   "metadata": {
    "id": "0eTnXGmDLTdr"
   },
   "source": [
    "code = ''\n",
    "for p in pcts:\n",
    "  code += f\"techno_frac['{p}'] + \""
   ],
   "execution_count": null,
   "outputs": []
  },
  {
   "cell_type": "code",
   "metadata": {
    "colab": {
     "base_uri": "https://localhost:8080/",
     "height": 53
    },
    "id": "h_V-ZwJpLVKm",
    "outputId": "1cd336f6-82d4-4077-feec-2b701b066042"
   },
   "source": [
    "code"
   ],
   "execution_count": null,
   "outputs": [
    {
     "output_type": "execute_result",
     "data": {
      "application/vnd.google.colaboratory.intrinsic+json": {
       "type": "string"
      },
      "text/plain": [
       "\"techno_frac['track_cnt_pct'] + techno_frac['techno_ratio_pct'] + techno_frac['last_dt_pct'] + techno_frac['track_complete_ratio_mean_pct'] + techno_frac['unique_ratio_pct'] + \""
      ]
     },
     "metadata": {
      "tags": []
     },
     "execution_count": 105
    }
   ]
  },
  {
   "cell_type": "code",
   "metadata": {
    "id": "8c94ycpYLhZX"
   },
   "source": [
    "techno_frac['score2'] = 0.5/5 * techno_frac['track_cnt_pct'] + \\\n",
    "2/5 * techno_frac['techno_ratio_pct'] + \\\n",
    "0.5/5 * techno_frac['last_dt_pct'] + \\\n",
    "1/5 * techno_frac['track_complete_ratio_mean_pct'] + \\\n",
    "1/5 * techno_frac['unique_ratio_pct']"
   ],
   "execution_count": null,
   "outputs": []
  },
  {
   "cell_type": "code",
   "metadata": {
    "id": "wczE415oLtY8"
   },
   "source": [],
   "execution_count": null,
   "outputs": []
  },
  {
   "cell_type": "markdown",
   "source": [],
   "metadata": {
    "collapsed": false
   }
  }
 ]
}