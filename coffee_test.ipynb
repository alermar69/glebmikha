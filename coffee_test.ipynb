{
  "nbformat": 4,
  "nbformat_minor": 0,
  "metadata": {
    "colab": {
      "name": "coffee-test.ipynb",
      "provenance": [],
      "collapsed_sections": [],
      "toc_visible": true,
      "include_colab_link": true
    },
    "kernelspec": {
      "name": "python3",
      "display_name": "Python 3"
    }
  },
  "cells": [
    {
      "cell_type": "markdown",
      "metadata": {
        "id": "view-in-github",
        "colab_type": "text"
      },
      "source": [
        "<a href=\"https://colab.research.google.com/github/alermar69/glebmikha/blob/master/coffee_test.ipynb\" target=\"_parent\"><img src=\"https://colab.research.google.com/assets/colab-badge.svg\" alt=\"Open In Colab\"/></a>"
      ]
    },
    {
      "cell_type": "code",
      "metadata": {
        "id": "-6gHQlcSj0b0"
      },
      "source": [
        "!wget https://www.sqlite.org/src/tarball/sqlite.tar.gz?r=release -O sqlite.tar.gz\n",
        "!tar xzf sqlite.tar.gz\n",
        "%cd sqlite/\n",
        "!./configure\n",
        "!make sqlite3.c\n",
        "%cd /content\n",
        "!npx degit coleifer/pysqlite3 -f\n",
        "!cp sqlite/sqlite3.[ch] .\n",
        "!python setup.py build_static build\n",
        "!cp build/lib.linux-x86_64-3.6/pysqlite3/_sqlite3.cpython-36m-x86_64-linux-gnu.so \\\n",
        "    /usr/lib/python3.6/lib-dynload/_sqlite3.cpython-36m-x86_64-linux-gnu.so\n",
        "# then MENU: Runtime > Restart runtime ..."
      ],
      "execution_count": null,
      "outputs": []
    },
    {
      "cell_type": "code",
      "metadata": {
        "id": "xzTUB9EOkYNW"
      },
      "source": [
        "import sqlite3\n",
        "import pandas as pd\n",
        "import numpy as np"
      ],
      "execution_count": null,
      "outputs": []
    },
    {
      "cell_type": "code",
      "metadata": {
        "colab": {
          "base_uri": "https://localhost:8080/",
          "height": 35
        },
        "id": "KMGwJgAfkZfs",
        "outputId": "e7ae2c01-e0d4-4e34-a1bb-3f3618a14102"
      },
      "source": [
        "sqlite3.sqlite_version"
      ],
      "execution_count": null,
      "outputs": [
        {
          "output_type": "execute_result",
          "data": {
            "application/vnd.google.colaboratory.intrinsic+json": {
              "type": "string"
            },
            "text/plain": [
              "'3.34.0'"
            ]
          },
          "metadata": {
            "tags": []
          },
          "execution_count": 2
        }
      ]
    },
    {
      "cell_type": "code",
      "metadata": {
        "colab": {
          "base_uri": "https://localhost:8080/"
        },
        "id": "V0Z9g6AZkFhe",
        "outputId": "61c7e047-7712-4e9b-f508-e06f49faf10c"
      },
      "source": [
        "print('''\n",
        "Есть таблица с данными по продажам кофе:\n",
        "SALE_DTTM – точное время продажи,\n",
        "CARD_NUMBER – номер скидочной карты\n",
        "COFFEE_TYPE – название проданного кофейного напитка\n",
        "PRICE – полная стоимость\n",
        "DISCOUNT – размер скидки в %\n",
        "GROCERY_FLG – флаг покупки выпечки в том же чеке\n",
        "Составьте алгоритм SQL-запросов для решения следующих заданий:\n",
        "Вычислить медианное значение суммарных месячных трат постоянных клиентов за каждый месяц \n",
        "(при отсутствии встроенной функции, вычисляющей медиану).\n",
        "\n",
        "Вычислить максимальное количество последовательных дней, когда один и тот же клиент покупал кофе с выпечкой.\n",
        "\n",
        "В кофейне есть акция – при ежедневной покупке кофе с выпечкой можно купить термокружку со скидкой. \n",
        "При этом размер скидки на термокружку получается путём последовательного применения всех скидок на кофе \n",
        "с выпечкой, применённых за накопленную на момент покупки термокружки серию ежедневных покупок кофе с \n",
        "выпечкой.Вычислить максимальную скидку на термокружку, которую мог достичь клиент (размер скидки клиента\n",
        " не является константой).\n",
        "''')"
      ],
      "execution_count": null,
      "outputs": [
        {
          "output_type": "stream",
          "text": [
            "\n",
            "Есть таблица с данными по продажам кофе:\n",
            "SALE_DTTM – точное время продажи,\n",
            "CARD_NUMBER – номер скидочной карты\n",
            "COFFEE_TYPE – название проданного кофейного напитка\n",
            "PRICE – полная стоимость\n",
            "DISCOUNT – размер скидки в %\n",
            "GROCERY_FLG – флаг покупки выпечки в том же чеке\n",
            "Составьте алгоритм SQL-запросов для решения следующих заданий:\n",
            "Вычислить медианное значение суммарных месячных трат постоянных клиентов за каждый месяц \n",
            "(при отсутствии встроенной функции, вычисляющей медиану).\n",
            "\n",
            "Вычислить максимальное количество последовательных дней, когда один и тот же клиент покупал кофе с выпечкой.\n",
            "\n",
            "В кофейне есть акция – при ежедневной покупке кофе с выпечкой можно купить термокружку со скидкой. \n",
            "При этом размер скидки на термокружку получается путём последовательного применения всех скидок на кофе \n",
            "с выпечкой, применённых за накопленную на момент покупки термокружки серию ежедневных покупок кофе с \n",
            "выпечкой.Вычислить максимальную скидку на термокружку, которую мог достичь клиент (размер скидки клиента\n",
            " не является константой).\n",
            "\n"
          ],
          "name": "stdout"
        }
      ]
    },
    {
      "cell_type": "code",
      "metadata": {
        "colab": {
          "base_uri": "https://localhost:8080/"
        },
        "id": "eauUepZQ_fSv",
        "outputId": "e08d0a37-3548-4b6a-80cb-bf26dd65970a"
      },
      "source": [
        "1000 * (1-0.05)*(1-0.1)*((1-0.05))"
      ],
      "execution_count": null,
      "outputs": [
        {
          "output_type": "execute_result",
          "data": {
            "text/plain": [
              "812.25"
            ]
          },
          "metadata": {
            "tags": []
          },
          "execution_count": 4
        }
      ]
    },
    {
      "cell_type": "markdown",
      "metadata": {
        "id": "nt9NkbdqQ2t2"
      },
      "source": [
        "# 0. Генерим данные"
      ]
    },
    {
      "cell_type": "markdown",
      "metadata": {
        "id": "FZqRy3ZZaPyS"
      },
      "source": [
        "Я зафиксил рандом стейт и все пересчитал, так что цифры теперь отличаются от видоса. Но смысл остается тем же"
      ]
    },
    {
      "cell_type": "code",
      "metadata": {
        "id": "Y7sjXd5Ql3_G"
      },
      "source": [
        "dt = pd.DataFrame({'dt':pd.date_range('2020-04-01','2020-05-31')})"
      ],
      "execution_count": null,
      "outputs": []
    },
    {
      "cell_type": "code",
      "metadata": {
        "id": "7qza1IvJmlm1"
      },
      "source": [
        "np.random.seed(42)\n",
        "dt['num'] = np.random.poisson(30,size=len(dt))"
      ],
      "execution_count": null,
      "outputs": []
    },
    {
      "cell_type": "code",
      "metadata": {
        "colab": {
          "base_uri": "https://localhost:8080/",
          "height": 419
        },
        "id": "hEw7GERNnn12",
        "outputId": "b14069ad-b3a9-4f16-9dee-b5855719ea6b"
      },
      "source": [
        "dt"
      ],
      "execution_count": null,
      "outputs": [
        {
          "output_type": "execute_result",
          "data": {
            "text/html": [
              "<div>\n",
              "<style scoped>\n",
              "    .dataframe tbody tr th:only-of-type {\n",
              "        vertical-align: middle;\n",
              "    }\n",
              "\n",
              "    .dataframe tbody tr th {\n",
              "        vertical-align: top;\n",
              "    }\n",
              "\n",
              "    .dataframe thead th {\n",
              "        text-align: right;\n",
              "    }\n",
              "</style>\n",
              "<table border=\"1\" class=\"dataframe\">\n",
              "  <thead>\n",
              "    <tr style=\"text-align: right;\">\n",
              "      <th></th>\n",
              "      <th>dt</th>\n",
              "      <th>num</th>\n",
              "    </tr>\n",
              "  </thead>\n",
              "  <tbody>\n",
              "    <tr>\n",
              "      <th>0</th>\n",
              "      <td>2020-04-01</td>\n",
              "      <td>28</td>\n",
              "    </tr>\n",
              "    <tr>\n",
              "      <th>1</th>\n",
              "      <td>2020-04-02</td>\n",
              "      <td>34</td>\n",
              "    </tr>\n",
              "    <tr>\n",
              "      <th>2</th>\n",
              "      <td>2020-04-03</td>\n",
              "      <td>23</td>\n",
              "    </tr>\n",
              "    <tr>\n",
              "      <th>3</th>\n",
              "      <td>2020-04-04</td>\n",
              "      <td>32</td>\n",
              "    </tr>\n",
              "    <tr>\n",
              "      <th>4</th>\n",
              "      <td>2020-04-05</td>\n",
              "      <td>36</td>\n",
              "    </tr>\n",
              "    <tr>\n",
              "      <th>...</th>\n",
              "      <td>...</td>\n",
              "      <td>...</td>\n",
              "    </tr>\n",
              "    <tr>\n",
              "      <th>56</th>\n",
              "      <td>2020-05-27</td>\n",
              "      <td>30</td>\n",
              "    </tr>\n",
              "    <tr>\n",
              "      <th>57</th>\n",
              "      <td>2020-05-28</td>\n",
              "      <td>26</td>\n",
              "    </tr>\n",
              "    <tr>\n",
              "      <th>58</th>\n",
              "      <td>2020-05-29</td>\n",
              "      <td>32</td>\n",
              "    </tr>\n",
              "    <tr>\n",
              "      <th>59</th>\n",
              "      <td>2020-05-30</td>\n",
              "      <td>18</td>\n",
              "    </tr>\n",
              "    <tr>\n",
              "      <th>60</th>\n",
              "      <td>2020-05-31</td>\n",
              "      <td>39</td>\n",
              "    </tr>\n",
              "  </tbody>\n",
              "</table>\n",
              "<p>61 rows × 2 columns</p>\n",
              "</div>"
            ],
            "text/plain": [
              "           dt  num\n",
              "0  2020-04-01   28\n",
              "1  2020-04-02   34\n",
              "2  2020-04-03   23\n",
              "3  2020-04-04   32\n",
              "4  2020-04-05   36\n",
              "..        ...  ...\n",
              "56 2020-05-27   30\n",
              "57 2020-05-28   26\n",
              "58 2020-05-29   32\n",
              "59 2020-05-30   18\n",
              "60 2020-05-31   39\n",
              "\n",
              "[61 rows x 2 columns]"
            ]
          },
          "metadata": {
            "tags": []
          },
          "execution_count": 7
        }
      ]
    },
    {
      "cell_type": "code",
      "metadata": {
        "id": "WocJM5LsnNYI"
      },
      "source": [
        "df = pd.DataFrame({'sale_dttm':(dt['dt'].apply(lambda x: [x]) * dt['num']).sum()})"
      ],
      "execution_count": null,
      "outputs": []
    },
    {
      "cell_type": "code",
      "metadata": {
        "colab": {
          "base_uri": "https://localhost:8080/",
          "height": 419
        },
        "id": "8eJHvdJIpeHu",
        "outputId": "abdf952f-1bf7-426c-abfe-191f94d28248"
      },
      "source": [
        "df"
      ],
      "execution_count": null,
      "outputs": [
        {
          "output_type": "execute_result",
          "data": {
            "text/html": [
              "<div>\n",
              "<style scoped>\n",
              "    .dataframe tbody tr th:only-of-type {\n",
              "        vertical-align: middle;\n",
              "    }\n",
              "\n",
              "    .dataframe tbody tr th {\n",
              "        vertical-align: top;\n",
              "    }\n",
              "\n",
              "    .dataframe thead th {\n",
              "        text-align: right;\n",
              "    }\n",
              "</style>\n",
              "<table border=\"1\" class=\"dataframe\">\n",
              "  <thead>\n",
              "    <tr style=\"text-align: right;\">\n",
              "      <th></th>\n",
              "      <th>sale_dttm</th>\n",
              "    </tr>\n",
              "  </thead>\n",
              "  <tbody>\n",
              "    <tr>\n",
              "      <th>0</th>\n",
              "      <td>2020-04-01</td>\n",
              "    </tr>\n",
              "    <tr>\n",
              "      <th>1</th>\n",
              "      <td>2020-04-01</td>\n",
              "    </tr>\n",
              "    <tr>\n",
              "      <th>2</th>\n",
              "      <td>2020-04-01</td>\n",
              "    </tr>\n",
              "    <tr>\n",
              "      <th>3</th>\n",
              "      <td>2020-04-01</td>\n",
              "    </tr>\n",
              "    <tr>\n",
              "      <th>4</th>\n",
              "      <td>2020-04-01</td>\n",
              "    </tr>\n",
              "    <tr>\n",
              "      <th>...</th>\n",
              "      <td>...</td>\n",
              "    </tr>\n",
              "    <tr>\n",
              "      <th>1816</th>\n",
              "      <td>2020-05-31</td>\n",
              "    </tr>\n",
              "    <tr>\n",
              "      <th>1817</th>\n",
              "      <td>2020-05-31</td>\n",
              "    </tr>\n",
              "    <tr>\n",
              "      <th>1818</th>\n",
              "      <td>2020-05-31</td>\n",
              "    </tr>\n",
              "    <tr>\n",
              "      <th>1819</th>\n",
              "      <td>2020-05-31</td>\n",
              "    </tr>\n",
              "    <tr>\n",
              "      <th>1820</th>\n",
              "      <td>2020-05-31</td>\n",
              "    </tr>\n",
              "  </tbody>\n",
              "</table>\n",
              "<p>1821 rows × 1 columns</p>\n",
              "</div>"
            ],
            "text/plain": [
              "      sale_dttm\n",
              "0    2020-04-01\n",
              "1    2020-04-01\n",
              "2    2020-04-01\n",
              "3    2020-04-01\n",
              "4    2020-04-01\n",
              "...         ...\n",
              "1816 2020-05-31\n",
              "1817 2020-05-31\n",
              "1818 2020-05-31\n",
              "1819 2020-05-31\n",
              "1820 2020-05-31\n",
              "\n",
              "[1821 rows x 1 columns]"
            ]
          },
          "metadata": {
            "tags": []
          },
          "execution_count": 9
        }
      ]
    },
    {
      "cell_type": "code",
      "metadata": {
        "id": "gNMPvS4HotSX"
      },
      "source": [
        "df['card_number'] = pd.Series(list(range(40))+[np.nan]*10).sample(len(df),replace=True,random_state=42).values"
      ],
      "execution_count": null,
      "outputs": []
    },
    {
      "cell_type": "code",
      "metadata": {
        "id": "eVqp2MBnqCAn"
      },
      "source": [
        "df['coffee_type'] = pd.Series(['espresso','americano','cappuccino','cappuccino','cappuccino','latte']).sample(len(df),replace=True,random_state=42).values"
      ],
      "execution_count": null,
      "outputs": []
    },
    {
      "cell_type": "code",
      "metadata": {
        "id": "i2Xm1U2eq1GF"
      },
      "source": [
        "coffee_price = pd.DataFrame({'espresso':[100],'americano':[120],'cappuccino':[130],'latte':[150]}).T.reset_index()"
      ],
      "execution_count": null,
      "outputs": []
    },
    {
      "cell_type": "code",
      "metadata": {
        "colab": {
          "base_uri": "https://localhost:8080/",
          "height": 173
        },
        "id": "q1Hjshk8rSBj",
        "outputId": "136165c6-7f93-4954-c7f8-b5f2d8c76a0f"
      },
      "source": [
        "coffee_price"
      ],
      "execution_count": null,
      "outputs": [
        {
          "output_type": "execute_result",
          "data": {
            "text/html": [
              "<div>\n",
              "<style scoped>\n",
              "    .dataframe tbody tr th:only-of-type {\n",
              "        vertical-align: middle;\n",
              "    }\n",
              "\n",
              "    .dataframe tbody tr th {\n",
              "        vertical-align: top;\n",
              "    }\n",
              "\n",
              "    .dataframe thead th {\n",
              "        text-align: right;\n",
              "    }\n",
              "</style>\n",
              "<table border=\"1\" class=\"dataframe\">\n",
              "  <thead>\n",
              "    <tr style=\"text-align: right;\">\n",
              "      <th></th>\n",
              "      <th>index</th>\n",
              "      <th>0</th>\n",
              "    </tr>\n",
              "  </thead>\n",
              "  <tbody>\n",
              "    <tr>\n",
              "      <th>0</th>\n",
              "      <td>espresso</td>\n",
              "      <td>100</td>\n",
              "    </tr>\n",
              "    <tr>\n",
              "      <th>1</th>\n",
              "      <td>americano</td>\n",
              "      <td>120</td>\n",
              "    </tr>\n",
              "    <tr>\n",
              "      <th>2</th>\n",
              "      <td>cappuccino</td>\n",
              "      <td>130</td>\n",
              "    </tr>\n",
              "    <tr>\n",
              "      <th>3</th>\n",
              "      <td>latte</td>\n",
              "      <td>150</td>\n",
              "    </tr>\n",
              "  </tbody>\n",
              "</table>\n",
              "</div>"
            ],
            "text/plain": [
              "        index    0\n",
              "0    espresso  100\n",
              "1   americano  120\n",
              "2  cappuccino  130\n",
              "3       latte  150"
            ]
          },
          "metadata": {
            "tags": []
          },
          "execution_count": 13
        }
      ]
    },
    {
      "cell_type": "code",
      "metadata": {
        "id": "Tli-8DeSrTNf"
      },
      "source": [
        "coffee_price.columns = ['coffee_type','coffee_price']"
      ],
      "execution_count": null,
      "outputs": []
    },
    {
      "cell_type": "code",
      "metadata": {
        "colab": {
          "base_uri": "https://localhost:8080/",
          "height": 419
        },
        "id": "B2MKxKiprhfs",
        "outputId": "721b7832-719d-47bd-9c6f-f446cb6c8741"
      },
      "source": [
        "df"
      ],
      "execution_count": null,
      "outputs": [
        {
          "output_type": "execute_result",
          "data": {
            "text/html": [
              "<div>\n",
              "<style scoped>\n",
              "    .dataframe tbody tr th:only-of-type {\n",
              "        vertical-align: middle;\n",
              "    }\n",
              "\n",
              "    .dataframe tbody tr th {\n",
              "        vertical-align: top;\n",
              "    }\n",
              "\n",
              "    .dataframe thead th {\n",
              "        text-align: right;\n",
              "    }\n",
              "</style>\n",
              "<table border=\"1\" class=\"dataframe\">\n",
              "  <thead>\n",
              "    <tr style=\"text-align: right;\">\n",
              "      <th></th>\n",
              "      <th>sale_dttm</th>\n",
              "      <th>card_number</th>\n",
              "      <th>coffee_type</th>\n",
              "    </tr>\n",
              "  </thead>\n",
              "  <tbody>\n",
              "    <tr>\n",
              "      <th>0</th>\n",
              "      <td>2020-04-01</td>\n",
              "      <td>38.0</td>\n",
              "      <td>cappuccino</td>\n",
              "    </tr>\n",
              "    <tr>\n",
              "      <th>1</th>\n",
              "      <td>2020-04-01</td>\n",
              "      <td>28.0</td>\n",
              "      <td>cappuccino</td>\n",
              "    </tr>\n",
              "    <tr>\n",
              "      <th>2</th>\n",
              "      <td>2020-04-01</td>\n",
              "      <td>14.0</td>\n",
              "      <td>cappuccino</td>\n",
              "    </tr>\n",
              "    <tr>\n",
              "      <th>3</th>\n",
              "      <td>2020-04-01</td>\n",
              "      <td>NaN</td>\n",
              "      <td>cappuccino</td>\n",
              "    </tr>\n",
              "    <tr>\n",
              "      <th>4</th>\n",
              "      <td>2020-04-01</td>\n",
              "      <td>7.0</td>\n",
              "      <td>cappuccino</td>\n",
              "    </tr>\n",
              "    <tr>\n",
              "      <th>...</th>\n",
              "      <td>...</td>\n",
              "      <td>...</td>\n",
              "      <td>...</td>\n",
              "    </tr>\n",
              "    <tr>\n",
              "      <th>1816</th>\n",
              "      <td>2020-05-31</td>\n",
              "      <td>28.0</td>\n",
              "      <td>cappuccino</td>\n",
              "    </tr>\n",
              "    <tr>\n",
              "      <th>1817</th>\n",
              "      <td>2020-05-31</td>\n",
              "      <td>21.0</td>\n",
              "      <td>espresso</td>\n",
              "    </tr>\n",
              "    <tr>\n",
              "      <th>1818</th>\n",
              "      <td>2020-05-31</td>\n",
              "      <td>3.0</td>\n",
              "      <td>latte</td>\n",
              "    </tr>\n",
              "    <tr>\n",
              "      <th>1819</th>\n",
              "      <td>2020-05-31</td>\n",
              "      <td>19.0</td>\n",
              "      <td>cappuccino</td>\n",
              "    </tr>\n",
              "    <tr>\n",
              "      <th>1820</th>\n",
              "      <td>2020-05-31</td>\n",
              "      <td>31.0</td>\n",
              "      <td>cappuccino</td>\n",
              "    </tr>\n",
              "  </tbody>\n",
              "</table>\n",
              "<p>1821 rows × 3 columns</p>\n",
              "</div>"
            ],
            "text/plain": [
              "      sale_dttm  card_number coffee_type\n",
              "0    2020-04-01         38.0  cappuccino\n",
              "1    2020-04-01         28.0  cappuccino\n",
              "2    2020-04-01         14.0  cappuccino\n",
              "3    2020-04-01          NaN  cappuccino\n",
              "4    2020-04-01          7.0  cappuccino\n",
              "...         ...          ...         ...\n",
              "1816 2020-05-31         28.0  cappuccino\n",
              "1817 2020-05-31         21.0    espresso\n",
              "1818 2020-05-31          3.0       latte\n",
              "1819 2020-05-31         19.0  cappuccino\n",
              "1820 2020-05-31         31.0  cappuccino\n",
              "\n",
              "[1821 rows x 3 columns]"
            ]
          },
          "metadata": {
            "tags": []
          },
          "execution_count": 15
        }
      ]
    },
    {
      "cell_type": "code",
      "metadata": {
        "id": "jZI53ZRBnUdn"
      },
      "source": [
        "df = df.merge(coffee_price,how='left',on='coffee_type')"
      ],
      "execution_count": null,
      "outputs": []
    },
    {
      "cell_type": "code",
      "metadata": {
        "colab": {
          "base_uri": "https://localhost:8080/",
          "height": 419
        },
        "id": "Tz0Zrz5yoWHH",
        "outputId": "7424dc9c-98c0-4b82-bbf2-c626fac9f5e4"
      },
      "source": [
        "df"
      ],
      "execution_count": null,
      "outputs": [
        {
          "output_type": "execute_result",
          "data": {
            "text/html": [
              "<div>\n",
              "<style scoped>\n",
              "    .dataframe tbody tr th:only-of-type {\n",
              "        vertical-align: middle;\n",
              "    }\n",
              "\n",
              "    .dataframe tbody tr th {\n",
              "        vertical-align: top;\n",
              "    }\n",
              "\n",
              "    .dataframe thead th {\n",
              "        text-align: right;\n",
              "    }\n",
              "</style>\n",
              "<table border=\"1\" class=\"dataframe\">\n",
              "  <thead>\n",
              "    <tr style=\"text-align: right;\">\n",
              "      <th></th>\n",
              "      <th>sale_dttm</th>\n",
              "      <th>card_number</th>\n",
              "      <th>coffee_type</th>\n",
              "      <th>coffee_price</th>\n",
              "    </tr>\n",
              "  </thead>\n",
              "  <tbody>\n",
              "    <tr>\n",
              "      <th>0</th>\n",
              "      <td>2020-04-01</td>\n",
              "      <td>38.0</td>\n",
              "      <td>cappuccino</td>\n",
              "      <td>130</td>\n",
              "    </tr>\n",
              "    <tr>\n",
              "      <th>1</th>\n",
              "      <td>2020-04-01</td>\n",
              "      <td>28.0</td>\n",
              "      <td>cappuccino</td>\n",
              "      <td>130</td>\n",
              "    </tr>\n",
              "    <tr>\n",
              "      <th>2</th>\n",
              "      <td>2020-04-01</td>\n",
              "      <td>14.0</td>\n",
              "      <td>cappuccino</td>\n",
              "      <td>130</td>\n",
              "    </tr>\n",
              "    <tr>\n",
              "      <th>3</th>\n",
              "      <td>2020-04-01</td>\n",
              "      <td>NaN</td>\n",
              "      <td>cappuccino</td>\n",
              "      <td>130</td>\n",
              "    </tr>\n",
              "    <tr>\n",
              "      <th>4</th>\n",
              "      <td>2020-04-01</td>\n",
              "      <td>7.0</td>\n",
              "      <td>cappuccino</td>\n",
              "      <td>130</td>\n",
              "    </tr>\n",
              "    <tr>\n",
              "      <th>...</th>\n",
              "      <td>...</td>\n",
              "      <td>...</td>\n",
              "      <td>...</td>\n",
              "      <td>...</td>\n",
              "    </tr>\n",
              "    <tr>\n",
              "      <th>1816</th>\n",
              "      <td>2020-05-31</td>\n",
              "      <td>28.0</td>\n",
              "      <td>cappuccino</td>\n",
              "      <td>130</td>\n",
              "    </tr>\n",
              "    <tr>\n",
              "      <th>1817</th>\n",
              "      <td>2020-05-31</td>\n",
              "      <td>21.0</td>\n",
              "      <td>espresso</td>\n",
              "      <td>100</td>\n",
              "    </tr>\n",
              "    <tr>\n",
              "      <th>1818</th>\n",
              "      <td>2020-05-31</td>\n",
              "      <td>3.0</td>\n",
              "      <td>latte</td>\n",
              "      <td>150</td>\n",
              "    </tr>\n",
              "    <tr>\n",
              "      <th>1819</th>\n",
              "      <td>2020-05-31</td>\n",
              "      <td>19.0</td>\n",
              "      <td>cappuccino</td>\n",
              "      <td>130</td>\n",
              "    </tr>\n",
              "    <tr>\n",
              "      <th>1820</th>\n",
              "      <td>2020-05-31</td>\n",
              "      <td>31.0</td>\n",
              "      <td>cappuccino</td>\n",
              "      <td>130</td>\n",
              "    </tr>\n",
              "  </tbody>\n",
              "</table>\n",
              "<p>1821 rows × 4 columns</p>\n",
              "</div>"
            ],
            "text/plain": [
              "      sale_dttm  card_number coffee_type  coffee_price\n",
              "0    2020-04-01         38.0  cappuccino           130\n",
              "1    2020-04-01         28.0  cappuccino           130\n",
              "2    2020-04-01         14.0  cappuccino           130\n",
              "3    2020-04-01          NaN  cappuccino           130\n",
              "4    2020-04-01          7.0  cappuccino           130\n",
              "...         ...          ...         ...           ...\n",
              "1816 2020-05-31         28.0  cappuccino           130\n",
              "1817 2020-05-31         21.0    espresso           100\n",
              "1818 2020-05-31          3.0       latte           150\n",
              "1819 2020-05-31         19.0  cappuccino           130\n",
              "1820 2020-05-31         31.0  cappuccino           130\n",
              "\n",
              "[1821 rows x 4 columns]"
            ]
          },
          "metadata": {
            "tags": []
          },
          "execution_count": 17
        }
      ]
    },
    {
      "cell_type": "code",
      "metadata": {
        "id": "kuFmB8MAro1G"
      },
      "source": [
        "df['discount'] = pd.Series([0,0,0,0,0,0,0.05,0.05,0.05,0.05,0.1,0.15]).sample(len(df),replace=True,random_state=42).values"
      ],
      "execution_count": null,
      "outputs": []
    },
    {
      "cell_type": "code",
      "metadata": {
        "colab": {
          "base_uri": "https://localhost:8080/",
          "height": 419
        },
        "id": "Kw1DvF0ZsKWA",
        "outputId": "ccccb586-dbcb-4a2f-8cfb-9594a3541185"
      },
      "source": [
        "df"
      ],
      "execution_count": null,
      "outputs": [
        {
          "output_type": "execute_result",
          "data": {
            "text/html": [
              "<div>\n",
              "<style scoped>\n",
              "    .dataframe tbody tr th:only-of-type {\n",
              "        vertical-align: middle;\n",
              "    }\n",
              "\n",
              "    .dataframe tbody tr th {\n",
              "        vertical-align: top;\n",
              "    }\n",
              "\n",
              "    .dataframe thead th {\n",
              "        text-align: right;\n",
              "    }\n",
              "</style>\n",
              "<table border=\"1\" class=\"dataframe\">\n",
              "  <thead>\n",
              "    <tr style=\"text-align: right;\">\n",
              "      <th></th>\n",
              "      <th>sale_dttm</th>\n",
              "      <th>card_number</th>\n",
              "      <th>coffee_type</th>\n",
              "      <th>coffee_price</th>\n",
              "      <th>discount</th>\n",
              "    </tr>\n",
              "  </thead>\n",
              "  <tbody>\n",
              "    <tr>\n",
              "      <th>0</th>\n",
              "      <td>2020-04-01</td>\n",
              "      <td>38.0</td>\n",
              "      <td>cappuccino</td>\n",
              "      <td>130</td>\n",
              "      <td>0.05</td>\n",
              "    </tr>\n",
              "    <tr>\n",
              "      <th>1</th>\n",
              "      <td>2020-04-01</td>\n",
              "      <td>28.0</td>\n",
              "      <td>cappuccino</td>\n",
              "      <td>130</td>\n",
              "      <td>0.00</td>\n",
              "    </tr>\n",
              "    <tr>\n",
              "      <th>2</th>\n",
              "      <td>2020-04-01</td>\n",
              "      <td>14.0</td>\n",
              "      <td>cappuccino</td>\n",
              "      <td>130</td>\n",
              "      <td>0.10</td>\n",
              "    </tr>\n",
              "    <tr>\n",
              "      <th>3</th>\n",
              "      <td>2020-04-01</td>\n",
              "      <td>NaN</td>\n",
              "      <td>cappuccino</td>\n",
              "      <td>130</td>\n",
              "      <td>0.05</td>\n",
              "    </tr>\n",
              "    <tr>\n",
              "      <th>4</th>\n",
              "      <td>2020-04-01</td>\n",
              "      <td>7.0</td>\n",
              "      <td>cappuccino</td>\n",
              "      <td>130</td>\n",
              "      <td>0.00</td>\n",
              "    </tr>\n",
              "    <tr>\n",
              "      <th>...</th>\n",
              "      <td>...</td>\n",
              "      <td>...</td>\n",
              "      <td>...</td>\n",
              "      <td>...</td>\n",
              "      <td>...</td>\n",
              "    </tr>\n",
              "    <tr>\n",
              "      <th>1816</th>\n",
              "      <td>2020-05-31</td>\n",
              "      <td>28.0</td>\n",
              "      <td>cappuccino</td>\n",
              "      <td>130</td>\n",
              "      <td>0.00</td>\n",
              "    </tr>\n",
              "    <tr>\n",
              "      <th>1817</th>\n",
              "      <td>2020-05-31</td>\n",
              "      <td>21.0</td>\n",
              "      <td>espresso</td>\n",
              "      <td>100</td>\n",
              "      <td>0.00</td>\n",
              "    </tr>\n",
              "    <tr>\n",
              "      <th>1818</th>\n",
              "      <td>2020-05-31</td>\n",
              "      <td>3.0</td>\n",
              "      <td>latte</td>\n",
              "      <td>150</td>\n",
              "      <td>0.10</td>\n",
              "    </tr>\n",
              "    <tr>\n",
              "      <th>1819</th>\n",
              "      <td>2020-05-31</td>\n",
              "      <td>19.0</td>\n",
              "      <td>cappuccino</td>\n",
              "      <td>130</td>\n",
              "      <td>0.05</td>\n",
              "    </tr>\n",
              "    <tr>\n",
              "      <th>1820</th>\n",
              "      <td>2020-05-31</td>\n",
              "      <td>31.0</td>\n",
              "      <td>cappuccino</td>\n",
              "      <td>130</td>\n",
              "      <td>0.05</td>\n",
              "    </tr>\n",
              "  </tbody>\n",
              "</table>\n",
              "<p>1821 rows × 5 columns</p>\n",
              "</div>"
            ],
            "text/plain": [
              "      sale_dttm  card_number coffee_type  coffee_price  discount\n",
              "0    2020-04-01         38.0  cappuccino           130      0.05\n",
              "1    2020-04-01         28.0  cappuccino           130      0.00\n",
              "2    2020-04-01         14.0  cappuccino           130      0.10\n",
              "3    2020-04-01          NaN  cappuccino           130      0.05\n",
              "4    2020-04-01          7.0  cappuccino           130      0.00\n",
              "...         ...          ...         ...           ...       ...\n",
              "1816 2020-05-31         28.0  cappuccino           130      0.00\n",
              "1817 2020-05-31         21.0    espresso           100      0.00\n",
              "1818 2020-05-31          3.0       latte           150      0.10\n",
              "1819 2020-05-31         19.0  cappuccino           130      0.05\n",
              "1820 2020-05-31         31.0  cappuccino           130      0.05\n",
              "\n",
              "[1821 rows x 5 columns]"
            ]
          },
          "metadata": {
            "tags": []
          },
          "execution_count": 19
        }
      ]
    },
    {
      "cell_type": "code",
      "metadata": {
        "id": "arDU5hspsTM-"
      },
      "source": [
        "df['grocery_flg'] = pd.Series([0,0,1,1]).sample(len(df),replace=True,random_state=42).values"
      ],
      "execution_count": null,
      "outputs": []
    },
    {
      "cell_type": "code",
      "metadata": {
        "colab": {
          "base_uri": "https://localhost:8080/",
          "height": 419
        },
        "id": "OuFc9zJwsgkq",
        "outputId": "64a936e6-9730-4cc1-e055-f1352a71d7b8"
      },
      "source": [
        "df"
      ],
      "execution_count": null,
      "outputs": [
        {
          "output_type": "execute_result",
          "data": {
            "text/html": [
              "<div>\n",
              "<style scoped>\n",
              "    .dataframe tbody tr th:only-of-type {\n",
              "        vertical-align: middle;\n",
              "    }\n",
              "\n",
              "    .dataframe tbody tr th {\n",
              "        vertical-align: top;\n",
              "    }\n",
              "\n",
              "    .dataframe thead th {\n",
              "        text-align: right;\n",
              "    }\n",
              "</style>\n",
              "<table border=\"1\" class=\"dataframe\">\n",
              "  <thead>\n",
              "    <tr style=\"text-align: right;\">\n",
              "      <th></th>\n",
              "      <th>sale_dttm</th>\n",
              "      <th>card_number</th>\n",
              "      <th>coffee_type</th>\n",
              "      <th>coffee_price</th>\n",
              "      <th>discount</th>\n",
              "      <th>grocery_flg</th>\n",
              "    </tr>\n",
              "  </thead>\n",
              "  <tbody>\n",
              "    <tr>\n",
              "      <th>0</th>\n",
              "      <td>2020-04-01</td>\n",
              "      <td>38.0</td>\n",
              "      <td>cappuccino</td>\n",
              "      <td>130</td>\n",
              "      <td>0.05</td>\n",
              "      <td>1</td>\n",
              "    </tr>\n",
              "    <tr>\n",
              "      <th>1</th>\n",
              "      <td>2020-04-01</td>\n",
              "      <td>28.0</td>\n",
              "      <td>cappuccino</td>\n",
              "      <td>130</td>\n",
              "      <td>0.00</td>\n",
              "      <td>1</td>\n",
              "    </tr>\n",
              "    <tr>\n",
              "      <th>2</th>\n",
              "      <td>2020-04-01</td>\n",
              "      <td>14.0</td>\n",
              "      <td>cappuccino</td>\n",
              "      <td>130</td>\n",
              "      <td>0.10</td>\n",
              "      <td>0</td>\n",
              "    </tr>\n",
              "    <tr>\n",
              "      <th>3</th>\n",
              "      <td>2020-04-01</td>\n",
              "      <td>NaN</td>\n",
              "      <td>cappuccino</td>\n",
              "      <td>130</td>\n",
              "      <td>0.05</td>\n",
              "      <td>1</td>\n",
              "    </tr>\n",
              "    <tr>\n",
              "      <th>4</th>\n",
              "      <td>2020-04-01</td>\n",
              "      <td>7.0</td>\n",
              "      <td>cappuccino</td>\n",
              "      <td>130</td>\n",
              "      <td>0.00</td>\n",
              "      <td>1</td>\n",
              "    </tr>\n",
              "    <tr>\n",
              "      <th>...</th>\n",
              "      <td>...</td>\n",
              "      <td>...</td>\n",
              "      <td>...</td>\n",
              "      <td>...</td>\n",
              "      <td>...</td>\n",
              "      <td>...</td>\n",
              "    </tr>\n",
              "    <tr>\n",
              "      <th>1816</th>\n",
              "      <td>2020-05-31</td>\n",
              "      <td>28.0</td>\n",
              "      <td>cappuccino</td>\n",
              "      <td>130</td>\n",
              "      <td>0.00</td>\n",
              "      <td>0</td>\n",
              "    </tr>\n",
              "    <tr>\n",
              "      <th>1817</th>\n",
              "      <td>2020-05-31</td>\n",
              "      <td>21.0</td>\n",
              "      <td>espresso</td>\n",
              "      <td>100</td>\n",
              "      <td>0.00</td>\n",
              "      <td>1</td>\n",
              "    </tr>\n",
              "    <tr>\n",
              "      <th>1818</th>\n",
              "      <td>2020-05-31</td>\n",
              "      <td>3.0</td>\n",
              "      <td>latte</td>\n",
              "      <td>150</td>\n",
              "      <td>0.10</td>\n",
              "      <td>0</td>\n",
              "    </tr>\n",
              "    <tr>\n",
              "      <th>1819</th>\n",
              "      <td>2020-05-31</td>\n",
              "      <td>19.0</td>\n",
              "      <td>cappuccino</td>\n",
              "      <td>130</td>\n",
              "      <td>0.05</td>\n",
              "      <td>1</td>\n",
              "    </tr>\n",
              "    <tr>\n",
              "      <th>1820</th>\n",
              "      <td>2020-05-31</td>\n",
              "      <td>31.0</td>\n",
              "      <td>cappuccino</td>\n",
              "      <td>130</td>\n",
              "      <td>0.05</td>\n",
              "      <td>1</td>\n",
              "    </tr>\n",
              "  </tbody>\n",
              "</table>\n",
              "<p>1821 rows × 6 columns</p>\n",
              "</div>"
            ],
            "text/plain": [
              "      sale_dttm  card_number coffee_type  coffee_price  discount  grocery_flg\n",
              "0    2020-04-01         38.0  cappuccino           130      0.05            1\n",
              "1    2020-04-01         28.0  cappuccino           130      0.00            1\n",
              "2    2020-04-01         14.0  cappuccino           130      0.10            0\n",
              "3    2020-04-01          NaN  cappuccino           130      0.05            1\n",
              "4    2020-04-01          7.0  cappuccino           130      0.00            1\n",
              "...         ...          ...         ...           ...       ...          ...\n",
              "1816 2020-05-31         28.0  cappuccino           130      0.00            0\n",
              "1817 2020-05-31         21.0    espresso           100      0.00            1\n",
              "1818 2020-05-31          3.0       latte           150      0.10            0\n",
              "1819 2020-05-31         19.0  cappuccino           130      0.05            1\n",
              "1820 2020-05-31         31.0  cappuccino           130      0.05            1\n",
              "\n",
              "[1821 rows x 6 columns]"
            ]
          },
          "metadata": {
            "tags": []
          },
          "execution_count": 21
        }
      ]
    },
    {
      "cell_type": "code",
      "metadata": {
        "colab": {
          "base_uri": "https://localhost:8080/"
        },
        "id": "1CTCuMXWshJw",
        "outputId": "5dfb7b71-40d9-44ae-8753-30eecd07bf22"
      },
      "source": [
        "df['grocery_flg'].mean()"
      ],
      "execution_count": null,
      "outputs": [
        {
          "output_type": "execute_result",
          "data": {
            "text/plain": [
              "0.49807797913234486"
            ]
          },
          "metadata": {
            "tags": []
          },
          "execution_count": 22
        }
      ]
    },
    {
      "cell_type": "code",
      "metadata": {
        "id": "EESYSUrWskOA"
      },
      "source": [
        "df['price'] = (df['coffee_price'] + df['grocery_flg'] * 100)*(1-df['discount'])"
      ],
      "execution_count": null,
      "outputs": []
    },
    {
      "cell_type": "code",
      "metadata": {
        "id": "5gyuwbQtspG1"
      },
      "source": [
        "con = sqlite3.connect('db')"
      ],
      "execution_count": null,
      "outputs": []
    },
    {
      "cell_type": "code",
      "metadata": {
        "id": "uclZEIm-EMwF"
      },
      "source": [
        "cur = con.cursor()"
      ],
      "execution_count": null,
      "outputs": []
    },
    {
      "cell_type": "code",
      "metadata": {
        "id": "l6amaC9ntivV"
      },
      "source": [
        "df.to_sql('coffee_sales',con,index=False,if_exists='replace')"
      ],
      "execution_count": null,
      "outputs": []
    },
    {
      "cell_type": "code",
      "metadata": {
        "id": "0rJ0Qlrltvcc"
      },
      "source": [
        "sql = '''select * from coffee_sales t limit 10'''"
      ],
      "execution_count": null,
      "outputs": []
    },
    {
      "cell_type": "code",
      "metadata": {
        "id": "aax3ufqWtzjX"
      },
      "source": [
        "def select(sql):\n",
        "  return pd.read_sql(sql,con)"
      ],
      "execution_count": null,
      "outputs": []
    },
    {
      "cell_type": "code",
      "metadata": {
        "colab": {
          "base_uri": "https://localhost:8080/",
          "height": 359
        },
        "id": "xBoWS1avt070",
        "outputId": "c1191ae1-8e09-48dd-e792-98b8775b145a"
      },
      "source": [
        "select(sql)"
      ],
      "execution_count": null,
      "outputs": [
        {
          "output_type": "execute_result",
          "data": {
            "text/html": [
              "<div>\n",
              "<style scoped>\n",
              "    .dataframe tbody tr th:only-of-type {\n",
              "        vertical-align: middle;\n",
              "    }\n",
              "\n",
              "    .dataframe tbody tr th {\n",
              "        vertical-align: top;\n",
              "    }\n",
              "\n",
              "    .dataframe thead th {\n",
              "        text-align: right;\n",
              "    }\n",
              "</style>\n",
              "<table border=\"1\" class=\"dataframe\">\n",
              "  <thead>\n",
              "    <tr style=\"text-align: right;\">\n",
              "      <th></th>\n",
              "      <th>sale_dttm</th>\n",
              "      <th>card_number</th>\n",
              "      <th>coffee_type</th>\n",
              "      <th>coffee_price</th>\n",
              "      <th>discount</th>\n",
              "      <th>grocery_flg</th>\n",
              "      <th>price</th>\n",
              "    </tr>\n",
              "  </thead>\n",
              "  <tbody>\n",
              "    <tr>\n",
              "      <th>0</th>\n",
              "      <td>2020-04-01 00:00:00</td>\n",
              "      <td>38.0</td>\n",
              "      <td>cappuccino</td>\n",
              "      <td>130</td>\n",
              "      <td>0.05</td>\n",
              "      <td>1</td>\n",
              "      <td>218.5</td>\n",
              "    </tr>\n",
              "    <tr>\n",
              "      <th>1</th>\n",
              "      <td>2020-04-01 00:00:00</td>\n",
              "      <td>28.0</td>\n",
              "      <td>cappuccino</td>\n",
              "      <td>130</td>\n",
              "      <td>0.00</td>\n",
              "      <td>1</td>\n",
              "      <td>230.0</td>\n",
              "    </tr>\n",
              "    <tr>\n",
              "      <th>2</th>\n",
              "      <td>2020-04-01 00:00:00</td>\n",
              "      <td>14.0</td>\n",
              "      <td>cappuccino</td>\n",
              "      <td>130</td>\n",
              "      <td>0.10</td>\n",
              "      <td>0</td>\n",
              "      <td>117.0</td>\n",
              "    </tr>\n",
              "    <tr>\n",
              "      <th>3</th>\n",
              "      <td>2020-04-01 00:00:00</td>\n",
              "      <td>NaN</td>\n",
              "      <td>cappuccino</td>\n",
              "      <td>130</td>\n",
              "      <td>0.05</td>\n",
              "      <td>1</td>\n",
              "      <td>218.5</td>\n",
              "    </tr>\n",
              "    <tr>\n",
              "      <th>4</th>\n",
              "      <td>2020-04-01 00:00:00</td>\n",
              "      <td>7.0</td>\n",
              "      <td>cappuccino</td>\n",
              "      <td>130</td>\n",
              "      <td>0.00</td>\n",
              "      <td>1</td>\n",
              "      <td>230.0</td>\n",
              "    </tr>\n",
              "    <tr>\n",
              "      <th>5</th>\n",
              "      <td>2020-04-01 00:00:00</td>\n",
              "      <td>20.0</td>\n",
              "      <td>americano</td>\n",
              "      <td>120</td>\n",
              "      <td>0.05</td>\n",
              "      <td>1</td>\n",
              "      <td>209.0</td>\n",
              "    </tr>\n",
              "    <tr>\n",
              "      <th>6</th>\n",
              "      <td>2020-04-01 00:00:00</td>\n",
              "      <td>38.0</td>\n",
              "      <td>cappuccino</td>\n",
              "      <td>130</td>\n",
              "      <td>0.05</td>\n",
              "      <td>0</td>\n",
              "      <td>123.5</td>\n",
              "    </tr>\n",
              "    <tr>\n",
              "      <th>7</th>\n",
              "      <td>2020-04-01 00:00:00</td>\n",
              "      <td>18.0</td>\n",
              "      <td>cappuccino</td>\n",
              "      <td>130</td>\n",
              "      <td>0.00</td>\n",
              "      <td>0</td>\n",
              "      <td>130.0</td>\n",
              "    </tr>\n",
              "    <tr>\n",
              "      <th>8</th>\n",
              "      <td>2020-04-01 00:00:00</td>\n",
              "      <td>22.0</td>\n",
              "      <td>cappuccino</td>\n",
              "      <td>130</td>\n",
              "      <td>0.05</td>\n",
              "      <td>1</td>\n",
              "      <td>218.5</td>\n",
              "    </tr>\n",
              "    <tr>\n",
              "      <th>9</th>\n",
              "      <td>2020-04-01 00:00:00</td>\n",
              "      <td>10.0</td>\n",
              "      <td>cappuccino</td>\n",
              "      <td>130</td>\n",
              "      <td>0.10</td>\n",
              "      <td>0</td>\n",
              "      <td>117.0</td>\n",
              "    </tr>\n",
              "  </tbody>\n",
              "</table>\n",
              "</div>"
            ],
            "text/plain": [
              "             sale_dttm  card_number coffee_type  ...  discount  grocery_flg  price\n",
              "0  2020-04-01 00:00:00         38.0  cappuccino  ...      0.05            1  218.5\n",
              "1  2020-04-01 00:00:00         28.0  cappuccino  ...      0.00            1  230.0\n",
              "2  2020-04-01 00:00:00         14.0  cappuccino  ...      0.10            0  117.0\n",
              "3  2020-04-01 00:00:00          NaN  cappuccino  ...      0.05            1  218.5\n",
              "4  2020-04-01 00:00:00          7.0  cappuccino  ...      0.00            1  230.0\n",
              "5  2020-04-01 00:00:00         20.0   americano  ...      0.05            1  209.0\n",
              "6  2020-04-01 00:00:00         38.0  cappuccino  ...      0.05            0  123.5\n",
              "7  2020-04-01 00:00:00         18.0  cappuccino  ...      0.00            0  130.0\n",
              "8  2020-04-01 00:00:00         22.0  cappuccino  ...      0.05            1  218.5\n",
              "9  2020-04-01 00:00:00         10.0  cappuccino  ...      0.10            0  117.0\n",
              "\n",
              "[10 rows x 7 columns]"
            ]
          },
          "metadata": {
            "tags": []
          },
          "execution_count": 29
        }
      ]
    },
    {
      "cell_type": "markdown",
      "metadata": {
        "id": "BEtW3shsuDKC"
      },
      "source": [
        "# 1. Вычислить медианное значение суммарных месячных трат постоянных клиентов за каждый месяц (при отсутствии встроенной функции, вычисляющей медиану)."
      ]
    },
    {
      "cell_type": "code",
      "metadata": {
        "id": "a-Kyv7NmuXVb"
      },
      "source": [
        "sql = '''\n",
        "select t.month, avg(t.price_sum) as mean_price,\n",
        "median(t.price_sum) as median_price\n",
        "\n",
        "from \n",
        "\n",
        "(select date(t.sale_dttm,'start of month') as month, \n",
        "t.card_number, \n",
        "sum(t.price) as price_sum from coffee_sales t\n",
        "group by date(t.sale_dttm,'start of month'),t.card_number) t\n",
        "\n",
        "group by t.month\n",
        "\n",
        "'''"
      ],
      "execution_count": null,
      "outputs": []
    },
    {
      "cell_type": "code",
      "metadata": {
        "id": "CrNDdt2-vf34"
      },
      "source": [
        "df['month'] = df['sale_dttm'].values.astype('datetime64[M]')"
      ],
      "execution_count": null,
      "outputs": []
    },
    {
      "cell_type": "code",
      "metadata": {
        "id": "yWiJKH1dy7IV"
      },
      "source": [
        "m = df.groupby(['month','card_number'])['price'].sum().reset_index()"
      ],
      "execution_count": null,
      "outputs": []
    },
    {
      "cell_type": "code",
      "metadata": {
        "colab": {
          "base_uri": "https://localhost:8080/",
          "height": 142
        },
        "id": "2LtPl2tczR-S",
        "outputId": "8c3101fc-b410-4b49-c956-12565cf1cb7d"
      },
      "source": [
        "m.groupby('month')['price'].agg(['count','median'])"
      ],
      "execution_count": null,
      "outputs": [
        {
          "output_type": "execute_result",
          "data": {
            "text/html": [
              "<div>\n",
              "<style scoped>\n",
              "    .dataframe tbody tr th:only-of-type {\n",
              "        vertical-align: middle;\n",
              "    }\n",
              "\n",
              "    .dataframe tbody tr th {\n",
              "        vertical-align: top;\n",
              "    }\n",
              "\n",
              "    .dataframe thead th {\n",
              "        text-align: right;\n",
              "    }\n",
              "</style>\n",
              "<table border=\"1\" class=\"dataframe\">\n",
              "  <thead>\n",
              "    <tr style=\"text-align: right;\">\n",
              "      <th></th>\n",
              "      <th>count</th>\n",
              "      <th>median</th>\n",
              "    </tr>\n",
              "    <tr>\n",
              "      <th>month</th>\n",
              "      <th></th>\n",
              "      <th></th>\n",
              "    </tr>\n",
              "  </thead>\n",
              "  <tbody>\n",
              "    <tr>\n",
              "      <th>2020-04-01</th>\n",
              "      <td>40</td>\n",
              "      <td>2960.00</td>\n",
              "    </tr>\n",
              "    <tr>\n",
              "      <th>2020-05-01</th>\n",
              "      <td>40</td>\n",
              "      <td>3209.25</td>\n",
              "    </tr>\n",
              "  </tbody>\n",
              "</table>\n",
              "</div>"
            ],
            "text/plain": [
              "            count   median\n",
              "month                     \n",
              "2020-04-01     40  2960.00\n",
              "2020-05-01     40  3209.25"
            ]
          },
          "metadata": {
            "tags": []
          },
          "execution_count": 33
        }
      ]
    },
    {
      "cell_type": "code",
      "metadata": {
        "id": "9SrXA-3xzkZ5"
      },
      "source": [
        "t = pd.DataFrame({'group':['a','a','a','b','b','b','b'],'val':[1,2,3,1,2,3,4]})"
      ],
      "execution_count": null,
      "outputs": []
    },
    {
      "cell_type": "code",
      "metadata": {
        "colab": {
          "base_uri": "https://localhost:8080/",
          "height": 266
        },
        "id": "A89YfwXczve-",
        "outputId": "492f46d9-232e-4ae2-a660-1686a5aa9ddb"
      },
      "source": [
        "t"
      ],
      "execution_count": null,
      "outputs": [
        {
          "output_type": "execute_result",
          "data": {
            "text/html": [
              "<div>\n",
              "<style scoped>\n",
              "    .dataframe tbody tr th:only-of-type {\n",
              "        vertical-align: middle;\n",
              "    }\n",
              "\n",
              "    .dataframe tbody tr th {\n",
              "        vertical-align: top;\n",
              "    }\n",
              "\n",
              "    .dataframe thead th {\n",
              "        text-align: right;\n",
              "    }\n",
              "</style>\n",
              "<table border=\"1\" class=\"dataframe\">\n",
              "  <thead>\n",
              "    <tr style=\"text-align: right;\">\n",
              "      <th></th>\n",
              "      <th>group</th>\n",
              "      <th>val</th>\n",
              "    </tr>\n",
              "  </thead>\n",
              "  <tbody>\n",
              "    <tr>\n",
              "      <th>0</th>\n",
              "      <td>a</td>\n",
              "      <td>1</td>\n",
              "    </tr>\n",
              "    <tr>\n",
              "      <th>1</th>\n",
              "      <td>a</td>\n",
              "      <td>2</td>\n",
              "    </tr>\n",
              "    <tr>\n",
              "      <th>2</th>\n",
              "      <td>a</td>\n",
              "      <td>3</td>\n",
              "    </tr>\n",
              "    <tr>\n",
              "      <th>3</th>\n",
              "      <td>b</td>\n",
              "      <td>1</td>\n",
              "    </tr>\n",
              "    <tr>\n",
              "      <th>4</th>\n",
              "      <td>b</td>\n",
              "      <td>2</td>\n",
              "    </tr>\n",
              "    <tr>\n",
              "      <th>5</th>\n",
              "      <td>b</td>\n",
              "      <td>3</td>\n",
              "    </tr>\n",
              "    <tr>\n",
              "      <th>6</th>\n",
              "      <td>b</td>\n",
              "      <td>4</td>\n",
              "    </tr>\n",
              "  </tbody>\n",
              "</table>\n",
              "</div>"
            ],
            "text/plain": [
              "  group  val\n",
              "0     a    1\n",
              "1     a    2\n",
              "2     a    3\n",
              "3     b    1\n",
              "4     b    2\n",
              "5     b    3\n",
              "6     b    4"
            ]
          },
          "metadata": {
            "tags": []
          },
          "execution_count": 35
        }
      ]
    },
    {
      "cell_type": "code",
      "metadata": {
        "colab": {
          "base_uri": "https://localhost:8080/",
          "height": 142
        },
        "id": "qgUxwXf20Dbh",
        "outputId": "37f83e28-d0f3-4760-819d-c9060027e0db"
      },
      "source": [
        "t.groupby('group')['val'].agg(['count','median'])"
      ],
      "execution_count": null,
      "outputs": [
        {
          "output_type": "execute_result",
          "data": {
            "text/html": [
              "<div>\n",
              "<style scoped>\n",
              "    .dataframe tbody tr th:only-of-type {\n",
              "        vertical-align: middle;\n",
              "    }\n",
              "\n",
              "    .dataframe tbody tr th {\n",
              "        vertical-align: top;\n",
              "    }\n",
              "\n",
              "    .dataframe thead th {\n",
              "        text-align: right;\n",
              "    }\n",
              "</style>\n",
              "<table border=\"1\" class=\"dataframe\">\n",
              "  <thead>\n",
              "    <tr style=\"text-align: right;\">\n",
              "      <th></th>\n",
              "      <th>count</th>\n",
              "      <th>median</th>\n",
              "    </tr>\n",
              "    <tr>\n",
              "      <th>group</th>\n",
              "      <th></th>\n",
              "      <th></th>\n",
              "    </tr>\n",
              "  </thead>\n",
              "  <tbody>\n",
              "    <tr>\n",
              "      <th>a</th>\n",
              "      <td>3</td>\n",
              "      <td>2.0</td>\n",
              "    </tr>\n",
              "    <tr>\n",
              "      <th>b</th>\n",
              "      <td>4</td>\n",
              "      <td>2.5</td>\n",
              "    </tr>\n",
              "  </tbody>\n",
              "</table>\n",
              "</div>"
            ],
            "text/plain": [
              "       count  median\n",
              "group               \n",
              "a          3     2.0\n",
              "b          4     2.5"
            ]
          },
          "metadata": {
            "tags": []
          },
          "execution_count": 36
        }
      ]
    },
    {
      "cell_type": "code",
      "metadata": {
        "id": "D1n3s2R20IlT"
      },
      "source": [
        "t['rnk'] = t.groupby('group')['val'].rank()"
      ],
      "execution_count": null,
      "outputs": []
    },
    {
      "cell_type": "code",
      "metadata": {
        "colab": {
          "base_uri": "https://localhost:8080/",
          "height": 266
        },
        "id": "tHW5m50o0ywK",
        "outputId": "28c4438f-2d2b-47a7-ae64-b5abca0bbb69"
      },
      "source": [
        "t"
      ],
      "execution_count": null,
      "outputs": [
        {
          "output_type": "execute_result",
          "data": {
            "text/html": [
              "<div>\n",
              "<style scoped>\n",
              "    .dataframe tbody tr th:only-of-type {\n",
              "        vertical-align: middle;\n",
              "    }\n",
              "\n",
              "    .dataframe tbody tr th {\n",
              "        vertical-align: top;\n",
              "    }\n",
              "\n",
              "    .dataframe thead th {\n",
              "        text-align: right;\n",
              "    }\n",
              "</style>\n",
              "<table border=\"1\" class=\"dataframe\">\n",
              "  <thead>\n",
              "    <tr style=\"text-align: right;\">\n",
              "      <th></th>\n",
              "      <th>group</th>\n",
              "      <th>val</th>\n",
              "      <th>rnk</th>\n",
              "    </tr>\n",
              "  </thead>\n",
              "  <tbody>\n",
              "    <tr>\n",
              "      <th>0</th>\n",
              "      <td>a</td>\n",
              "      <td>1</td>\n",
              "      <td>1.0</td>\n",
              "    </tr>\n",
              "    <tr>\n",
              "      <th>1</th>\n",
              "      <td>a</td>\n",
              "      <td>2</td>\n",
              "      <td>2.0</td>\n",
              "    </tr>\n",
              "    <tr>\n",
              "      <th>2</th>\n",
              "      <td>a</td>\n",
              "      <td>3</td>\n",
              "      <td>3.0</td>\n",
              "    </tr>\n",
              "    <tr>\n",
              "      <th>3</th>\n",
              "      <td>b</td>\n",
              "      <td>1</td>\n",
              "      <td>1.0</td>\n",
              "    </tr>\n",
              "    <tr>\n",
              "      <th>4</th>\n",
              "      <td>b</td>\n",
              "      <td>2</td>\n",
              "      <td>2.0</td>\n",
              "    </tr>\n",
              "    <tr>\n",
              "      <th>5</th>\n",
              "      <td>b</td>\n",
              "      <td>3</td>\n",
              "      <td>3.0</td>\n",
              "    </tr>\n",
              "    <tr>\n",
              "      <th>6</th>\n",
              "      <td>b</td>\n",
              "      <td>4</td>\n",
              "      <td>4.0</td>\n",
              "    </tr>\n",
              "  </tbody>\n",
              "</table>\n",
              "</div>"
            ],
            "text/plain": [
              "  group  val  rnk\n",
              "0     a    1  1.0\n",
              "1     a    2  2.0\n",
              "2     a    3  3.0\n",
              "3     b    1  1.0\n",
              "4     b    2  2.0\n",
              "5     b    3  3.0\n",
              "6     b    4  4.0"
            ]
          },
          "metadata": {
            "tags": []
          },
          "execution_count": 38
        }
      ]
    },
    {
      "cell_type": "code",
      "metadata": {
        "colab": {
          "base_uri": "https://localhost:8080/",
          "height": 35
        },
        "id": "4fj1YCWT02lH",
        "outputId": "463a6a10-062f-41a8-e9b9-f7a20565815b"
      },
      "source": [
        "'''PERCENTILE_CONT(height, 0.5) OVER(PARTITION BY sex) AS median_height_per_sex'''"
      ],
      "execution_count": null,
      "outputs": [
        {
          "output_type": "execute_result",
          "data": {
            "application/vnd.google.colaboratory.intrinsic+json": {
              "type": "string"
            },
            "text/plain": [
              "'PERCENTILE_CONT(height, 0.5) OVER(PARTITION BY sex) AS median_height_per_sex'"
            ]
          },
          "metadata": {
            "tags": []
          },
          "execution_count": 39
        }
      ]
    },
    {
      "cell_type": "markdown",
      "metadata": {
        "id": "4a7t1aBi5tEE"
      },
      "source": [
        "https://www.sqlservercentral.com/forums/topic/calculating-a-median-for-groups -- восьмая ссылка в гугле по запросу \"sql median with group by\" -- надо быть упорным и просматривать ссылки гугла, пока не найдешь то, что нужно. Не всегда оно выдается первой ссылкой."
      ]
    },
    {
      "cell_type": "code",
      "metadata": {
        "id": "F-r_k_1g1wGq"
      },
      "source": [
        "sql = '''\n",
        "\n",
        "select \n",
        "\n",
        " x.month,\n",
        "\n",
        "       AVG(x.price_sum) AS Median\n",
        "\n",
        "\n",
        " from \n",
        "\n",
        "(select \n",
        "\n",
        "t.*,\n",
        "\n",
        "ROW_NUMBER() OVER (PARTITION BY t.month ORDER BY t.price_sum)\n",
        "\n",
        "               AS\n",
        "\n",
        "                      RowNum,\n",
        "\n",
        "               COUNT(*) OVER (PARTITION BY t.month)\n",
        "\n",
        "               AS\n",
        "\n",
        "                      RowCnt\n",
        "\n",
        "\n",
        "from \n",
        "\n",
        "(select date(t.sale_dttm,'start of month') as month, \n",
        "t.card_number, \n",
        "sum(t.price) as price_sum from coffee_sales t\n",
        "\n",
        "--where t.card_number is not null\n",
        "\n",
        "group by date(t.sale_dttm,'start of month'),t.card_number) t) x\n",
        "\n",
        "WHERE  x.RowNum IN ( ( x.RowCnt + 1 ) / 2, ( x.RowCnt + 2 ) / 2 )\n",
        "\n",
        "GROUP  BY x.month\n",
        "\n",
        "\n",
        "\n",
        "'''"
      ],
      "execution_count": null,
      "outputs": []
    },
    {
      "cell_type": "code",
      "metadata": {
        "colab": {
          "base_uri": "https://localhost:8080/",
          "height": 111
        },
        "id": "gmy37wIc2lnX",
        "outputId": "a8ea6060-1221-402b-8266-417edf45db1d"
      },
      "source": [
        "select(sql)"
      ],
      "execution_count": null,
      "outputs": [
        {
          "output_type": "execute_result",
          "data": {
            "text/html": [
              "<div>\n",
              "<style scoped>\n",
              "    .dataframe tbody tr th:only-of-type {\n",
              "        vertical-align: middle;\n",
              "    }\n",
              "\n",
              "    .dataframe tbody tr th {\n",
              "        vertical-align: top;\n",
              "    }\n",
              "\n",
              "    .dataframe thead th {\n",
              "        text-align: right;\n",
              "    }\n",
              "</style>\n",
              "<table border=\"1\" class=\"dataframe\">\n",
              "  <thead>\n",
              "    <tr style=\"text-align: right;\">\n",
              "      <th></th>\n",
              "      <th>month</th>\n",
              "      <th>Median</th>\n",
              "    </tr>\n",
              "  </thead>\n",
              "  <tbody>\n",
              "    <tr>\n",
              "      <th>0</th>\n",
              "      <td>2020-04-01</td>\n",
              "      <td>2970.0</td>\n",
              "    </tr>\n",
              "    <tr>\n",
              "      <th>1</th>\n",
              "      <td>2020-05-01</td>\n",
              "      <td>3222.5</td>\n",
              "    </tr>\n",
              "  </tbody>\n",
              "</table>\n",
              "</div>"
            ],
            "text/plain": [
              "        month  Median\n",
              "0  2020-04-01  2970.0\n",
              "1  2020-05-01  3222.5"
            ]
          },
          "metadata": {
            "tags": []
          },
          "execution_count": 41
        }
      ]
    },
    {
      "cell_type": "code",
      "metadata": {
        "id": "v6aZAeVL4z1f"
      },
      "source": [
        "m = df.groupby(['month','card_number'],dropna=False)['price'].sum().reset_index()"
      ],
      "execution_count": null,
      "outputs": []
    },
    {
      "cell_type": "code",
      "metadata": {
        "colab": {
          "base_uri": "https://localhost:8080/",
          "height": 142
        },
        "id": "ILoAikmS23qN",
        "outputId": "6f0b18ea-3c6d-4a9f-ee45-8cb0b63d0c2d"
      },
      "source": [
        "m.groupby('month')['price'].agg(['count','median'])"
      ],
      "execution_count": null,
      "outputs": [
        {
          "output_type": "execute_result",
          "data": {
            "text/html": [
              "<div>\n",
              "<style scoped>\n",
              "    .dataframe tbody tr th:only-of-type {\n",
              "        vertical-align: middle;\n",
              "    }\n",
              "\n",
              "    .dataframe tbody tr th {\n",
              "        vertical-align: top;\n",
              "    }\n",
              "\n",
              "    .dataframe thead th {\n",
              "        text-align: right;\n",
              "    }\n",
              "</style>\n",
              "<table border=\"1\" class=\"dataframe\">\n",
              "  <thead>\n",
              "    <tr style=\"text-align: right;\">\n",
              "      <th></th>\n",
              "      <th>count</th>\n",
              "      <th>median</th>\n",
              "    </tr>\n",
              "    <tr>\n",
              "      <th>month</th>\n",
              "      <th></th>\n",
              "      <th></th>\n",
              "    </tr>\n",
              "  </thead>\n",
              "  <tbody>\n",
              "    <tr>\n",
              "      <th>2020-04-01</th>\n",
              "      <td>41</td>\n",
              "      <td>2970.0</td>\n",
              "    </tr>\n",
              "    <tr>\n",
              "      <th>2020-05-01</th>\n",
              "      <td>41</td>\n",
              "      <td>3222.5</td>\n",
              "    </tr>\n",
              "  </tbody>\n",
              "</table>\n",
              "</div>"
            ],
            "text/plain": [
              "            count  median\n",
              "month                    \n",
              "2020-04-01     41  2970.0\n",
              "2020-05-01     41  3222.5"
            ]
          },
          "metadata": {
            "tags": []
          },
          "execution_count": 43
        }
      ]
    },
    {
      "cell_type": "markdown",
      "metadata": {
        "id": "Sd8rntYZ96qg"
      },
      "source": [
        "# 2. Вычислить максимальное количество последовательных дней, когда один и тот же клиент покупал кофе с выпечкой.\n"
      ]
    },
    {
      "cell_type": "code",
      "metadata": {
        "id": "JGOLD8O_-BL9"
      },
      "source": [
        "sql = '''\n",
        "\n",
        "drop table if exists sales_day_1;\n",
        "\n",
        "create table sales_day_1 as\n",
        "\n",
        "select date(t.sale_dttm) as dt,\n",
        "t.card_number,\n",
        "max(t.grocery_flg) as grocery_flg,\n",
        "count(1) as num_purchases,\n",
        "\n",
        "max(case when t.grocery_flg = 1 then t.discount else 0 end) as discount\n",
        "\n",
        " from coffee_sales t\n",
        "\n",
        "group by date(t.sale_dttm),\n",
        "t.card_number\n",
        "\n",
        "'''"
      ],
      "execution_count": null,
      "outputs": []
    },
    {
      "cell_type": "code",
      "metadata": {
        "colab": {
          "base_uri": "https://localhost:8080/"
        },
        "id": "GW8g0GDiEgT3",
        "outputId": "ba459b4d-4ed2-442b-8f9a-dd42c7b2be02"
      },
      "source": [
        "cur.executescript(sql)"
      ],
      "execution_count": null,
      "outputs": [
        {
          "output_type": "execute_result",
          "data": {
            "text/plain": [
              "<pysqlite3.dbapi2.Cursor at 0x7f05e588e500>"
            ]
          },
          "metadata": {
            "tags": []
          },
          "execution_count": 45
        }
      ]
    },
    {
      "cell_type": "markdown",
      "metadata": {
        "id": "kzlBUT8GFXkS"
      },
      "source": [
        "фишка подзапрос в питоне"
      ]
    },
    {
      "cell_type": "code",
      "metadata": {
        "id": "nM4iyG7IE7Vq"
      },
      "source": [
        "subq = '''select date(t.sale_dttm) as dt,\n",
        "t.card_number,\n",
        "max(t.grocery_flg) as grocery_flg,\n",
        "count(1) as num_purchases,\n",
        "\n",
        "-- add multipication https://stackoverflow.com/a/5416210\n",
        "max(case when t.grocery_flg = 1 then t.discount else 0 end) as discount\n",
        "\n",
        " from coffee_sales t\n",
        "\n",
        "group by date(t.sale_dttm),\n",
        "t.card_number'''"
      ],
      "execution_count": null,
      "outputs": []
    },
    {
      "cell_type": "code",
      "metadata": {
        "id": "iUIqYFyPEo_T"
      },
      "source": [
        "sql = f'''select * from ({subq}) t '''"
      ],
      "execution_count": null,
      "outputs": []
    },
    {
      "cell_type": "code",
      "metadata": {
        "colab": {
          "base_uri": "https://localhost:8080/"
        },
        "id": "eaHEO8-BFJiO",
        "outputId": "125f34d3-2fe1-4720-c105-9fe17dd1b262"
      },
      "source": [
        "print(sql)"
      ],
      "execution_count": null,
      "outputs": [
        {
          "output_type": "stream",
          "text": [
            "select * from (select date(t.sale_dttm) as dt,\n",
            "t.card_number,\n",
            "max(t.grocery_flg) as grocery_flg,\n",
            "count(1) as num_purchases,\n",
            "\n",
            "max(case when t.grocery_flg = 1 then t.discount else 0 end) as discount\n",
            "\n",
            " from coffee_sales t\n",
            "\n",
            "group by date(t.sale_dttm),\n",
            "t.card_number) t \n"
          ],
          "name": "stdout"
        }
      ]
    },
    {
      "cell_type": "code",
      "metadata": {
        "colab": {
          "base_uri": "https://localhost:8080/",
          "height": 419
        },
        "id": "bRcCPHgrB2If",
        "outputId": "5cea4739-7585-4dd9-ff88-897720888a5a"
      },
      "source": [
        "select(sql)"
      ],
      "execution_count": null,
      "outputs": [
        {
          "output_type": "execute_result",
          "data": {
            "text/html": [
              "<div>\n",
              "<style scoped>\n",
              "    .dataframe tbody tr th:only-of-type {\n",
              "        vertical-align: middle;\n",
              "    }\n",
              "\n",
              "    .dataframe tbody tr th {\n",
              "        vertical-align: top;\n",
              "    }\n",
              "\n",
              "    .dataframe thead th {\n",
              "        text-align: right;\n",
              "    }\n",
              "</style>\n",
              "<table border=\"1\" class=\"dataframe\">\n",
              "  <thead>\n",
              "    <tr style=\"text-align: right;\">\n",
              "      <th></th>\n",
              "      <th>dt</th>\n",
              "      <th>card_number</th>\n",
              "      <th>grocery_flg</th>\n",
              "      <th>num_purchases</th>\n",
              "      <th>discount</th>\n",
              "    </tr>\n",
              "  </thead>\n",
              "  <tbody>\n",
              "    <tr>\n",
              "      <th>0</th>\n",
              "      <td>2020-04-01</td>\n",
              "      <td>NaN</td>\n",
              "      <td>1</td>\n",
              "      <td>3</td>\n",
              "      <td>0.05</td>\n",
              "    </tr>\n",
              "    <tr>\n",
              "      <th>1</th>\n",
              "      <td>2020-04-01</td>\n",
              "      <td>1.0</td>\n",
              "      <td>1</td>\n",
              "      <td>2</td>\n",
              "      <td>0.00</td>\n",
              "    </tr>\n",
              "    <tr>\n",
              "      <th>2</th>\n",
              "      <td>2020-04-01</td>\n",
              "      <td>2.0</td>\n",
              "      <td>0</td>\n",
              "      <td>1</td>\n",
              "      <td>0.00</td>\n",
              "    </tr>\n",
              "    <tr>\n",
              "      <th>3</th>\n",
              "      <td>2020-04-01</td>\n",
              "      <td>7.0</td>\n",
              "      <td>1</td>\n",
              "      <td>1</td>\n",
              "      <td>0.00</td>\n",
              "    </tr>\n",
              "    <tr>\n",
              "      <th>4</th>\n",
              "      <td>2020-04-01</td>\n",
              "      <td>10.0</td>\n",
              "      <td>1</td>\n",
              "      <td>2</td>\n",
              "      <td>0.10</td>\n",
              "    </tr>\n",
              "    <tr>\n",
              "      <th>...</th>\n",
              "      <td>...</td>\n",
              "      <td>...</td>\n",
              "      <td>...</td>\n",
              "      <td>...</td>\n",
              "      <td>...</td>\n",
              "    </tr>\n",
              "    <tr>\n",
              "      <th>1147</th>\n",
              "      <td>2020-05-31</td>\n",
              "      <td>34.0</td>\n",
              "      <td>1</td>\n",
              "      <td>1</td>\n",
              "      <td>0.05</td>\n",
              "    </tr>\n",
              "    <tr>\n",
              "      <th>1148</th>\n",
              "      <td>2020-05-31</td>\n",
              "      <td>35.0</td>\n",
              "      <td>1</td>\n",
              "      <td>1</td>\n",
              "      <td>0.05</td>\n",
              "    </tr>\n",
              "    <tr>\n",
              "      <th>1149</th>\n",
              "      <td>2020-05-31</td>\n",
              "      <td>36.0</td>\n",
              "      <td>1</td>\n",
              "      <td>1</td>\n",
              "      <td>0.00</td>\n",
              "    </tr>\n",
              "    <tr>\n",
              "      <th>1150</th>\n",
              "      <td>2020-05-31</td>\n",
              "      <td>38.0</td>\n",
              "      <td>0</td>\n",
              "      <td>1</td>\n",
              "      <td>0.00</td>\n",
              "    </tr>\n",
              "    <tr>\n",
              "      <th>1151</th>\n",
              "      <td>2020-05-31</td>\n",
              "      <td>39.0</td>\n",
              "      <td>0</td>\n",
              "      <td>1</td>\n",
              "      <td>0.00</td>\n",
              "    </tr>\n",
              "  </tbody>\n",
              "</table>\n",
              "<p>1152 rows × 5 columns</p>\n",
              "</div>"
            ],
            "text/plain": [
              "              dt  card_number  grocery_flg  num_purchases  discount\n",
              "0     2020-04-01          NaN            1              3      0.05\n",
              "1     2020-04-01          1.0            1              2      0.00\n",
              "2     2020-04-01          2.0            0              1      0.00\n",
              "3     2020-04-01          7.0            1              1      0.00\n",
              "4     2020-04-01         10.0            1              2      0.10\n",
              "...          ...          ...          ...            ...       ...\n",
              "1147  2020-05-31         34.0            1              1      0.05\n",
              "1148  2020-05-31         35.0            1              1      0.05\n",
              "1149  2020-05-31         36.0            1              1      0.00\n",
              "1150  2020-05-31         38.0            0              1      0.00\n",
              "1151  2020-05-31         39.0            0              1      0.00\n",
              "\n",
              "[1152 rows x 5 columns]"
            ]
          },
          "metadata": {
            "tags": []
          },
          "execution_count": 49
        }
      ]
    },
    {
      "cell_type": "code",
      "metadata": {
        "id": "2LsaEEkw-Xaw"
      },
      "source": [
        "sql = '''\n",
        "drop table if exists sales_day_2;\n",
        "\n",
        "create table sales_day_2 as\n",
        "\n",
        "\n",
        "select t.*,\n",
        "\n",
        "lag(t.dt) over (partition by t.card_number order by t.dt) as prev_dt,\n",
        "\n",
        "julianday(t.dt) - julianday(lag(t.dt) over (partition by t.card_number order by t.dt)) as days_since_last_purchase,\n",
        "\n",
        "lag(t.grocery_flg) over (partition by t.card_number order by t.dt) as prev_grocery_flg\n",
        "\n",
        "\n",
        " from sales_day_1  t\n",
        "'''"
      ],
      "execution_count": null,
      "outputs": []
    },
    {
      "cell_type": "code",
      "metadata": {
        "colab": {
          "base_uri": "https://localhost:8080/"
        },
        "id": "4w72lf-BIFuA",
        "outputId": "7d0e9513-13d4-4707-c404-ca333fe97fd0"
      },
      "source": [
        "cur.executescript(sql)"
      ],
      "execution_count": null,
      "outputs": [
        {
          "output_type": "execute_result",
          "data": {
            "text/plain": [
              "<pysqlite3.dbapi2.Cursor at 0x7f05e588e500>"
            ]
          },
          "metadata": {
            "tags": []
          },
          "execution_count": 51
        }
      ]
    },
    {
      "cell_type": "code",
      "metadata": {
        "id": "-8LpJpKvIG-H"
      },
      "source": [
        "sql = '''select * from sales_day_2 t \n",
        "where t.card_number = 39'''"
      ],
      "execution_count": null,
      "outputs": []
    },
    {
      "cell_type": "code",
      "metadata": {
        "colab": {
          "base_uri": "https://localhost:8080/",
          "height": 917
        },
        "id": "gISk5hjfFlRY",
        "outputId": "75398a3b-25dc-45e4-ca86-a0094dd682cd"
      },
      "source": [
        "select(sql)"
      ],
      "execution_count": null,
      "outputs": [
        {
          "output_type": "execute_result",
          "data": {
            "text/html": [
              "<div>\n",
              "<style scoped>\n",
              "    .dataframe tbody tr th:only-of-type {\n",
              "        vertical-align: middle;\n",
              "    }\n",
              "\n",
              "    .dataframe tbody tr th {\n",
              "        vertical-align: top;\n",
              "    }\n",
              "\n",
              "    .dataframe thead th {\n",
              "        text-align: right;\n",
              "    }\n",
              "</style>\n",
              "<table border=\"1\" class=\"dataframe\">\n",
              "  <thead>\n",
              "    <tr style=\"text-align: right;\">\n",
              "      <th></th>\n",
              "      <th>dt</th>\n",
              "      <th>card_number</th>\n",
              "      <th>grocery_flg</th>\n",
              "      <th>num_purchases</th>\n",
              "      <th>discount</th>\n",
              "      <th>prev_dt</th>\n",
              "      <th>days_since_last_purchase</th>\n",
              "      <th>prev_grocery_flg</th>\n",
              "    </tr>\n",
              "  </thead>\n",
              "  <tbody>\n",
              "    <tr>\n",
              "      <th>0</th>\n",
              "      <td>2020-04-01</td>\n",
              "      <td>39.0</td>\n",
              "      <td>1</td>\n",
              "      <td>1</td>\n",
              "      <td>0.00</td>\n",
              "      <td>None</td>\n",
              "      <td>NaN</td>\n",
              "      <td>NaN</td>\n",
              "    </tr>\n",
              "    <tr>\n",
              "      <th>1</th>\n",
              "      <td>2020-04-03</td>\n",
              "      <td>39.0</td>\n",
              "      <td>1</td>\n",
              "      <td>2</td>\n",
              "      <td>0.00</td>\n",
              "      <td>2020-04-01</td>\n",
              "      <td>2.0</td>\n",
              "      <td>1.0</td>\n",
              "    </tr>\n",
              "    <tr>\n",
              "      <th>2</th>\n",
              "      <td>2020-04-05</td>\n",
              "      <td>39.0</td>\n",
              "      <td>1</td>\n",
              "      <td>1</td>\n",
              "      <td>0.05</td>\n",
              "      <td>2020-04-03</td>\n",
              "      <td>2.0</td>\n",
              "      <td>1.0</td>\n",
              "    </tr>\n",
              "    <tr>\n",
              "      <th>3</th>\n",
              "      <td>2020-04-09</td>\n",
              "      <td>39.0</td>\n",
              "      <td>0</td>\n",
              "      <td>2</td>\n",
              "      <td>0.00</td>\n",
              "      <td>2020-04-05</td>\n",
              "      <td>4.0</td>\n",
              "      <td>1.0</td>\n",
              "    </tr>\n",
              "    <tr>\n",
              "      <th>4</th>\n",
              "      <td>2020-04-11</td>\n",
              "      <td>39.0</td>\n",
              "      <td>1</td>\n",
              "      <td>1</td>\n",
              "      <td>0.00</td>\n",
              "      <td>2020-04-09</td>\n",
              "      <td>2.0</td>\n",
              "      <td>0.0</td>\n",
              "    </tr>\n",
              "    <tr>\n",
              "      <th>5</th>\n",
              "      <td>2020-04-14</td>\n",
              "      <td>39.0</td>\n",
              "      <td>1</td>\n",
              "      <td>2</td>\n",
              "      <td>0.00</td>\n",
              "      <td>2020-04-11</td>\n",
              "      <td>3.0</td>\n",
              "      <td>1.0</td>\n",
              "    </tr>\n",
              "    <tr>\n",
              "      <th>6</th>\n",
              "      <td>2020-04-16</td>\n",
              "      <td>39.0</td>\n",
              "      <td>0</td>\n",
              "      <td>1</td>\n",
              "      <td>0.00</td>\n",
              "      <td>2020-04-14</td>\n",
              "      <td>2.0</td>\n",
              "      <td>1.0</td>\n",
              "    </tr>\n",
              "    <tr>\n",
              "      <th>7</th>\n",
              "      <td>2020-04-17</td>\n",
              "      <td>39.0</td>\n",
              "      <td>1</td>\n",
              "      <td>1</td>\n",
              "      <td>0.05</td>\n",
              "      <td>2020-04-16</td>\n",
              "      <td>1.0</td>\n",
              "      <td>0.0</td>\n",
              "    </tr>\n",
              "    <tr>\n",
              "      <th>8</th>\n",
              "      <td>2020-04-19</td>\n",
              "      <td>39.0</td>\n",
              "      <td>0</td>\n",
              "      <td>1</td>\n",
              "      <td>0.00</td>\n",
              "      <td>2020-04-17</td>\n",
              "      <td>2.0</td>\n",
              "      <td>1.0</td>\n",
              "    </tr>\n",
              "    <tr>\n",
              "      <th>9</th>\n",
              "      <td>2020-04-24</td>\n",
              "      <td>39.0</td>\n",
              "      <td>1</td>\n",
              "      <td>1</td>\n",
              "      <td>0.05</td>\n",
              "      <td>2020-04-19</td>\n",
              "      <td>5.0</td>\n",
              "      <td>0.0</td>\n",
              "    </tr>\n",
              "    <tr>\n",
              "      <th>10</th>\n",
              "      <td>2020-04-29</td>\n",
              "      <td>39.0</td>\n",
              "      <td>1</td>\n",
              "      <td>1</td>\n",
              "      <td>0.05</td>\n",
              "      <td>2020-04-24</td>\n",
              "      <td>5.0</td>\n",
              "      <td>1.0</td>\n",
              "    </tr>\n",
              "    <tr>\n",
              "      <th>11</th>\n",
              "      <td>2020-05-01</td>\n",
              "      <td>39.0</td>\n",
              "      <td>1</td>\n",
              "      <td>1</td>\n",
              "      <td>0.00</td>\n",
              "      <td>2020-04-29</td>\n",
              "      <td>2.0</td>\n",
              "      <td>1.0</td>\n",
              "    </tr>\n",
              "    <tr>\n",
              "      <th>12</th>\n",
              "      <td>2020-05-05</td>\n",
              "      <td>39.0</td>\n",
              "      <td>1</td>\n",
              "      <td>2</td>\n",
              "      <td>0.10</td>\n",
              "      <td>2020-05-01</td>\n",
              "      <td>4.0</td>\n",
              "      <td>1.0</td>\n",
              "    </tr>\n",
              "    <tr>\n",
              "      <th>13</th>\n",
              "      <td>2020-05-07</td>\n",
              "      <td>39.0</td>\n",
              "      <td>0</td>\n",
              "      <td>1</td>\n",
              "      <td>0.00</td>\n",
              "      <td>2020-05-05</td>\n",
              "      <td>2.0</td>\n",
              "      <td>1.0</td>\n",
              "    </tr>\n",
              "    <tr>\n",
              "      <th>14</th>\n",
              "      <td>2020-05-08</td>\n",
              "      <td>39.0</td>\n",
              "      <td>0</td>\n",
              "      <td>1</td>\n",
              "      <td>0.00</td>\n",
              "      <td>2020-05-07</td>\n",
              "      <td>1.0</td>\n",
              "      <td>0.0</td>\n",
              "    </tr>\n",
              "    <tr>\n",
              "      <th>15</th>\n",
              "      <td>2020-05-09</td>\n",
              "      <td>39.0</td>\n",
              "      <td>1</td>\n",
              "      <td>4</td>\n",
              "      <td>0.00</td>\n",
              "      <td>2020-05-08</td>\n",
              "      <td>1.0</td>\n",
              "      <td>0.0</td>\n",
              "    </tr>\n",
              "    <tr>\n",
              "      <th>16</th>\n",
              "      <td>2020-05-11</td>\n",
              "      <td>39.0</td>\n",
              "      <td>1</td>\n",
              "      <td>2</td>\n",
              "      <td>0.10</td>\n",
              "      <td>2020-05-09</td>\n",
              "      <td>2.0</td>\n",
              "      <td>1.0</td>\n",
              "    </tr>\n",
              "    <tr>\n",
              "      <th>17</th>\n",
              "      <td>2020-05-12</td>\n",
              "      <td>39.0</td>\n",
              "      <td>1</td>\n",
              "      <td>2</td>\n",
              "      <td>0.00</td>\n",
              "      <td>2020-05-11</td>\n",
              "      <td>1.0</td>\n",
              "      <td>1.0</td>\n",
              "    </tr>\n",
              "    <tr>\n",
              "      <th>18</th>\n",
              "      <td>2020-05-13</td>\n",
              "      <td>39.0</td>\n",
              "      <td>1</td>\n",
              "      <td>1</td>\n",
              "      <td>0.10</td>\n",
              "      <td>2020-05-12</td>\n",
              "      <td>1.0</td>\n",
              "      <td>1.0</td>\n",
              "    </tr>\n",
              "    <tr>\n",
              "      <th>19</th>\n",
              "      <td>2020-05-15</td>\n",
              "      <td>39.0</td>\n",
              "      <td>0</td>\n",
              "      <td>2</td>\n",
              "      <td>0.00</td>\n",
              "      <td>2020-05-13</td>\n",
              "      <td>2.0</td>\n",
              "      <td>1.0</td>\n",
              "    </tr>\n",
              "    <tr>\n",
              "      <th>20</th>\n",
              "      <td>2020-05-18</td>\n",
              "      <td>39.0</td>\n",
              "      <td>0</td>\n",
              "      <td>1</td>\n",
              "      <td>0.00</td>\n",
              "      <td>2020-05-15</td>\n",
              "      <td>3.0</td>\n",
              "      <td>0.0</td>\n",
              "    </tr>\n",
              "    <tr>\n",
              "      <th>21</th>\n",
              "      <td>2020-05-19</td>\n",
              "      <td>39.0</td>\n",
              "      <td>1</td>\n",
              "      <td>1</td>\n",
              "      <td>0.10</td>\n",
              "      <td>2020-05-18</td>\n",
              "      <td>1.0</td>\n",
              "      <td>0.0</td>\n",
              "    </tr>\n",
              "    <tr>\n",
              "      <th>22</th>\n",
              "      <td>2020-05-20</td>\n",
              "      <td>39.0</td>\n",
              "      <td>1</td>\n",
              "      <td>2</td>\n",
              "      <td>0.00</td>\n",
              "      <td>2020-05-19</td>\n",
              "      <td>1.0</td>\n",
              "      <td>1.0</td>\n",
              "    </tr>\n",
              "    <tr>\n",
              "      <th>23</th>\n",
              "      <td>2020-05-21</td>\n",
              "      <td>39.0</td>\n",
              "      <td>1</td>\n",
              "      <td>2</td>\n",
              "      <td>0.05</td>\n",
              "      <td>2020-05-20</td>\n",
              "      <td>1.0</td>\n",
              "      <td>1.0</td>\n",
              "    </tr>\n",
              "    <tr>\n",
              "      <th>24</th>\n",
              "      <td>2020-05-24</td>\n",
              "      <td>39.0</td>\n",
              "      <td>0</td>\n",
              "      <td>1</td>\n",
              "      <td>0.00</td>\n",
              "      <td>2020-05-21</td>\n",
              "      <td>3.0</td>\n",
              "      <td>1.0</td>\n",
              "    </tr>\n",
              "    <tr>\n",
              "      <th>25</th>\n",
              "      <td>2020-05-28</td>\n",
              "      <td>39.0</td>\n",
              "      <td>1</td>\n",
              "      <td>1</td>\n",
              "      <td>0.00</td>\n",
              "      <td>2020-05-24</td>\n",
              "      <td>4.0</td>\n",
              "      <td>0.0</td>\n",
              "    </tr>\n",
              "    <tr>\n",
              "      <th>26</th>\n",
              "      <td>2020-05-29</td>\n",
              "      <td>39.0</td>\n",
              "      <td>1</td>\n",
              "      <td>4</td>\n",
              "      <td>0.05</td>\n",
              "      <td>2020-05-28</td>\n",
              "      <td>1.0</td>\n",
              "      <td>1.0</td>\n",
              "    </tr>\n",
              "    <tr>\n",
              "      <th>27</th>\n",
              "      <td>2020-05-31</td>\n",
              "      <td>39.0</td>\n",
              "      <td>0</td>\n",
              "      <td>1</td>\n",
              "      <td>0.00</td>\n",
              "      <td>2020-05-29</td>\n",
              "      <td>2.0</td>\n",
              "      <td>1.0</td>\n",
              "    </tr>\n",
              "  </tbody>\n",
              "</table>\n",
              "</div>"
            ],
            "text/plain": [
              "            dt  card_number  ...  days_since_last_purchase  prev_grocery_flg\n",
              "0   2020-04-01         39.0  ...                       NaN               NaN\n",
              "1   2020-04-03         39.0  ...                       2.0               1.0\n",
              "2   2020-04-05         39.0  ...                       2.0               1.0\n",
              "3   2020-04-09         39.0  ...                       4.0               1.0\n",
              "4   2020-04-11         39.0  ...                       2.0               0.0\n",
              "5   2020-04-14         39.0  ...                       3.0               1.0\n",
              "6   2020-04-16         39.0  ...                       2.0               1.0\n",
              "7   2020-04-17         39.0  ...                       1.0               0.0\n",
              "8   2020-04-19         39.0  ...                       2.0               1.0\n",
              "9   2020-04-24         39.0  ...                       5.0               0.0\n",
              "10  2020-04-29         39.0  ...                       5.0               1.0\n",
              "11  2020-05-01         39.0  ...                       2.0               1.0\n",
              "12  2020-05-05         39.0  ...                       4.0               1.0\n",
              "13  2020-05-07         39.0  ...                       2.0               1.0\n",
              "14  2020-05-08         39.0  ...                       1.0               0.0\n",
              "15  2020-05-09         39.0  ...                       1.0               0.0\n",
              "16  2020-05-11         39.0  ...                       2.0               1.0\n",
              "17  2020-05-12         39.0  ...                       1.0               1.0\n",
              "18  2020-05-13         39.0  ...                       1.0               1.0\n",
              "19  2020-05-15         39.0  ...                       2.0               1.0\n",
              "20  2020-05-18         39.0  ...                       3.0               0.0\n",
              "21  2020-05-19         39.0  ...                       1.0               0.0\n",
              "22  2020-05-20         39.0  ...                       1.0               1.0\n",
              "23  2020-05-21         39.0  ...                       1.0               1.0\n",
              "24  2020-05-24         39.0  ...                       3.0               1.0\n",
              "25  2020-05-28         39.0  ...                       4.0               0.0\n",
              "26  2020-05-29         39.0  ...                       1.0               1.0\n",
              "27  2020-05-31         39.0  ...                       2.0               1.0\n",
              "\n",
              "[28 rows x 8 columns]"
            ]
          },
          "metadata": {
            "tags": []
          },
          "execution_count": 53
        }
      ]
    },
    {
      "cell_type": "markdown",
      "metadata": {
        "id": "-aVDNOzUV1Bk"
      },
      "source": [
        "В таком виде я до решения не додумался и решил сделать по классике, через темплейт где есть все даты на каждого клиента, как здесь в секции отток https://colab.research.google.com/drive/17Er-SMqRrJW7sDeKvEzyrgrGQJMmM8og"
      ]
    },
    {
      "cell_type": "code",
      "metadata": {
        "id": "G5n3_TQjFl4X"
      },
      "source": [
        "sql = '''select distinct(t.card_number) as card_number from coffee_sales t\n",
        "where t.card_number is not null'''"
      ],
      "execution_count": null,
      "outputs": []
    },
    {
      "cell_type": "code",
      "metadata": {
        "colab": {
          "base_uri": "https://localhost:8080/",
          "height": 1000
        },
        "id": "w_j175v3KN0N",
        "outputId": "64bf4ae7-3c08-4bb5-92cc-8203302d4487"
      },
      "source": [
        "select(sql)"
      ],
      "execution_count": null,
      "outputs": [
        {
          "output_type": "execute_result",
          "data": {
            "text/html": [
              "<div>\n",
              "<style scoped>\n",
              "    .dataframe tbody tr th:only-of-type {\n",
              "        vertical-align: middle;\n",
              "    }\n",
              "\n",
              "    .dataframe tbody tr th {\n",
              "        vertical-align: top;\n",
              "    }\n",
              "\n",
              "    .dataframe thead th {\n",
              "        text-align: right;\n",
              "    }\n",
              "</style>\n",
              "<table border=\"1\" class=\"dataframe\">\n",
              "  <thead>\n",
              "    <tr style=\"text-align: right;\">\n",
              "      <th></th>\n",
              "      <th>card_number</th>\n",
              "    </tr>\n",
              "  </thead>\n",
              "  <tbody>\n",
              "    <tr>\n",
              "      <th>0</th>\n",
              "      <td>38.0</td>\n",
              "    </tr>\n",
              "    <tr>\n",
              "      <th>1</th>\n",
              "      <td>28.0</td>\n",
              "    </tr>\n",
              "    <tr>\n",
              "      <th>2</th>\n",
              "      <td>14.0</td>\n",
              "    </tr>\n",
              "    <tr>\n",
              "      <th>3</th>\n",
              "      <td>7.0</td>\n",
              "    </tr>\n",
              "    <tr>\n",
              "      <th>4</th>\n",
              "      <td>20.0</td>\n",
              "    </tr>\n",
              "    <tr>\n",
              "      <th>5</th>\n",
              "      <td>18.0</td>\n",
              "    </tr>\n",
              "    <tr>\n",
              "      <th>6</th>\n",
              "      <td>22.0</td>\n",
              "    </tr>\n",
              "    <tr>\n",
              "      <th>7</th>\n",
              "      <td>10.0</td>\n",
              "    </tr>\n",
              "    <tr>\n",
              "      <th>8</th>\n",
              "      <td>23.0</td>\n",
              "    </tr>\n",
              "    <tr>\n",
              "      <th>9</th>\n",
              "      <td>35.0</td>\n",
              "    </tr>\n",
              "    <tr>\n",
              "      <th>10</th>\n",
              "      <td>39.0</td>\n",
              "    </tr>\n",
              "    <tr>\n",
              "      <th>11</th>\n",
              "      <td>2.0</td>\n",
              "    </tr>\n",
              "    <tr>\n",
              "      <th>12</th>\n",
              "      <td>21.0</td>\n",
              "    </tr>\n",
              "    <tr>\n",
              "      <th>13</th>\n",
              "      <td>1.0</td>\n",
              "    </tr>\n",
              "    <tr>\n",
              "      <th>14</th>\n",
              "      <td>29.0</td>\n",
              "    </tr>\n",
              "    <tr>\n",
              "      <th>15</th>\n",
              "      <td>37.0</td>\n",
              "    </tr>\n",
              "    <tr>\n",
              "      <th>16</th>\n",
              "      <td>32.0</td>\n",
              "    </tr>\n",
              "    <tr>\n",
              "      <th>17</th>\n",
              "      <td>11.0</td>\n",
              "    </tr>\n",
              "    <tr>\n",
              "      <th>18</th>\n",
              "      <td>24.0</td>\n",
              "    </tr>\n",
              "    <tr>\n",
              "      <th>19</th>\n",
              "      <td>26.0</td>\n",
              "    </tr>\n",
              "    <tr>\n",
              "      <th>20</th>\n",
              "      <td>27.0</td>\n",
              "    </tr>\n",
              "    <tr>\n",
              "      <th>21</th>\n",
              "      <td>15.0</td>\n",
              "    </tr>\n",
              "    <tr>\n",
              "      <th>22</th>\n",
              "      <td>36.0</td>\n",
              "    </tr>\n",
              "    <tr>\n",
              "      <th>23</th>\n",
              "      <td>6.0</td>\n",
              "    </tr>\n",
              "    <tr>\n",
              "      <th>24</th>\n",
              "      <td>8.0</td>\n",
              "    </tr>\n",
              "    <tr>\n",
              "      <th>25</th>\n",
              "      <td>17.0</td>\n",
              "    </tr>\n",
              "    <tr>\n",
              "      <th>26</th>\n",
              "      <td>3.0</td>\n",
              "    </tr>\n",
              "    <tr>\n",
              "      <th>27</th>\n",
              "      <td>13.0</td>\n",
              "    </tr>\n",
              "    <tr>\n",
              "      <th>28</th>\n",
              "      <td>25.0</td>\n",
              "    </tr>\n",
              "    <tr>\n",
              "      <th>29</th>\n",
              "      <td>19.0</td>\n",
              "    </tr>\n",
              "    <tr>\n",
              "      <th>30</th>\n",
              "      <td>34.0</td>\n",
              "    </tr>\n",
              "    <tr>\n",
              "      <th>31</th>\n",
              "      <td>16.0</td>\n",
              "    </tr>\n",
              "    <tr>\n",
              "      <th>32</th>\n",
              "      <td>5.0</td>\n",
              "    </tr>\n",
              "    <tr>\n",
              "      <th>33</th>\n",
              "      <td>33.0</td>\n",
              "    </tr>\n",
              "    <tr>\n",
              "      <th>34</th>\n",
              "      <td>9.0</td>\n",
              "    </tr>\n",
              "    <tr>\n",
              "      <th>35</th>\n",
              "      <td>30.0</td>\n",
              "    </tr>\n",
              "    <tr>\n",
              "      <th>36</th>\n",
              "      <td>0.0</td>\n",
              "    </tr>\n",
              "    <tr>\n",
              "      <th>37</th>\n",
              "      <td>4.0</td>\n",
              "    </tr>\n",
              "    <tr>\n",
              "      <th>38</th>\n",
              "      <td>12.0</td>\n",
              "    </tr>\n",
              "    <tr>\n",
              "      <th>39</th>\n",
              "      <td>31.0</td>\n",
              "    </tr>\n",
              "  </tbody>\n",
              "</table>\n",
              "</div>"
            ],
            "text/plain": [
              "    card_number\n",
              "0          38.0\n",
              "1          28.0\n",
              "2          14.0\n",
              "3           7.0\n",
              "4          20.0\n",
              "5          18.0\n",
              "6          22.0\n",
              "7          10.0\n",
              "8          23.0\n",
              "9          35.0\n",
              "10         39.0\n",
              "11          2.0\n",
              "12         21.0\n",
              "13          1.0\n",
              "14         29.0\n",
              "15         37.0\n",
              "16         32.0\n",
              "17         11.0\n",
              "18         24.0\n",
              "19         26.0\n",
              "20         27.0\n",
              "21         15.0\n",
              "22         36.0\n",
              "23          6.0\n",
              "24          8.0\n",
              "25         17.0\n",
              "26          3.0\n",
              "27         13.0\n",
              "28         25.0\n",
              "29         19.0\n",
              "30         34.0\n",
              "31         16.0\n",
              "32          5.0\n",
              "33         33.0\n",
              "34          9.0\n",
              "35         30.0\n",
              "36          0.0\n",
              "37          4.0\n",
              "38         12.0\n",
              "39         31.0"
            ]
          },
          "metadata": {
            "tags": []
          },
          "execution_count": 55
        }
      ]
    },
    {
      "cell_type": "code",
      "metadata": {
        "id": "OYVW6wbIKuQN"
      },
      "source": [
        "min_date = '''select min(date(t.sale_dttm)) as dt from coffee_sales t'''\n",
        "max_date = '''select max(date(t.sale_dttm)) as dt from coffee_sales t'''"
      ],
      "execution_count": null,
      "outputs": []
    },
    {
      "cell_type": "code",
      "metadata": {
        "id": "RiUwbHpHLZOc"
      },
      "source": [
        "all_customers = '''select distinct(t.card_number) as card_number from coffee_sales t\n",
        "where t.card_number is not null'''"
      ],
      "execution_count": null,
      "outputs": []
    },
    {
      "cell_type": "code",
      "metadata": {
        "id": "pxHNCuzEKO0_"
      },
      "source": [
        "sql = f'''\n",
        "drop table if exists day_template;\n",
        "create table day_template as\n",
        "\n",
        "WITH RECURSIVE dates(date) AS (\n",
        "  VALUES(({min_date}))\n",
        "  UNION ALL\n",
        "  SELECT date(date, '+1 day')\n",
        "  FROM dates\n",
        "  WHERE date < ({max_date})\n",
        ")\n",
        "SELECT date as dt, card_number FROM dates\n",
        "join ({all_customers}) c\n",
        "'''"
      ],
      "execution_count": null,
      "outputs": []
    },
    {
      "cell_type": "code",
      "metadata": {
        "colab": {
          "base_uri": "https://localhost:8080/"
        },
        "id": "6xASd3_QL6MY",
        "outputId": "2bb2c433-5f07-4ff2-9c01-c7e9a6318ff1"
      },
      "source": [
        "cur.executescript(sql)"
      ],
      "execution_count": null,
      "outputs": [
        {
          "output_type": "execute_result",
          "data": {
            "text/plain": [
              "<pysqlite3.dbapi2.Cursor at 0x7f05e588e500>"
            ]
          },
          "metadata": {
            "tags": []
          },
          "execution_count": 59
        }
      ]
    },
    {
      "cell_type": "code",
      "metadata": {
        "id": "ygKSWyIyL8ZE"
      },
      "source": [
        "sql = '''select * from day_template t limit 10'''"
      ],
      "execution_count": null,
      "outputs": []
    },
    {
      "cell_type": "code",
      "metadata": {
        "colab": {
          "base_uri": "https://localhost:8080/",
          "height": 359
        },
        "id": "YCXy_vBXKc-s",
        "outputId": "2d5d89b8-fd47-4024-b296-32cb51f8951b"
      },
      "source": [
        "select(sql)"
      ],
      "execution_count": null,
      "outputs": [
        {
          "output_type": "execute_result",
          "data": {
            "text/html": [
              "<div>\n",
              "<style scoped>\n",
              "    .dataframe tbody tr th:only-of-type {\n",
              "        vertical-align: middle;\n",
              "    }\n",
              "\n",
              "    .dataframe tbody tr th {\n",
              "        vertical-align: top;\n",
              "    }\n",
              "\n",
              "    .dataframe thead th {\n",
              "        text-align: right;\n",
              "    }\n",
              "</style>\n",
              "<table border=\"1\" class=\"dataframe\">\n",
              "  <thead>\n",
              "    <tr style=\"text-align: right;\">\n",
              "      <th></th>\n",
              "      <th>dt</th>\n",
              "      <th>card_number</th>\n",
              "    </tr>\n",
              "  </thead>\n",
              "  <tbody>\n",
              "    <tr>\n",
              "      <th>0</th>\n",
              "      <td>2020-04-01</td>\n",
              "      <td>38.0</td>\n",
              "    </tr>\n",
              "    <tr>\n",
              "      <th>1</th>\n",
              "      <td>2020-04-01</td>\n",
              "      <td>28.0</td>\n",
              "    </tr>\n",
              "    <tr>\n",
              "      <th>2</th>\n",
              "      <td>2020-04-01</td>\n",
              "      <td>14.0</td>\n",
              "    </tr>\n",
              "    <tr>\n",
              "      <th>3</th>\n",
              "      <td>2020-04-01</td>\n",
              "      <td>7.0</td>\n",
              "    </tr>\n",
              "    <tr>\n",
              "      <th>4</th>\n",
              "      <td>2020-04-01</td>\n",
              "      <td>20.0</td>\n",
              "    </tr>\n",
              "    <tr>\n",
              "      <th>5</th>\n",
              "      <td>2020-04-01</td>\n",
              "      <td>18.0</td>\n",
              "    </tr>\n",
              "    <tr>\n",
              "      <th>6</th>\n",
              "      <td>2020-04-01</td>\n",
              "      <td>22.0</td>\n",
              "    </tr>\n",
              "    <tr>\n",
              "      <th>7</th>\n",
              "      <td>2020-04-01</td>\n",
              "      <td>10.0</td>\n",
              "    </tr>\n",
              "    <tr>\n",
              "      <th>8</th>\n",
              "      <td>2020-04-01</td>\n",
              "      <td>23.0</td>\n",
              "    </tr>\n",
              "    <tr>\n",
              "      <th>9</th>\n",
              "      <td>2020-04-01</td>\n",
              "      <td>35.0</td>\n",
              "    </tr>\n",
              "  </tbody>\n",
              "</table>\n",
              "</div>"
            ],
            "text/plain": [
              "           dt  card_number\n",
              "0  2020-04-01         38.0\n",
              "1  2020-04-01         28.0\n",
              "2  2020-04-01         14.0\n",
              "3  2020-04-01          7.0\n",
              "4  2020-04-01         20.0\n",
              "5  2020-04-01         18.0\n",
              "6  2020-04-01         22.0\n",
              "7  2020-04-01         10.0\n",
              "8  2020-04-01         23.0\n",
              "9  2020-04-01         35.0"
            ]
          },
          "metadata": {
            "tags": []
          },
          "execution_count": 61
        }
      ]
    },
    {
      "cell_type": "code",
      "metadata": {
        "id": "1ImG_5e1MIK5"
      },
      "source": [
        "sql = '''\n",
        "\n",
        "\n",
        "drop table if exists sales_day_3;\n",
        "create table sales_day_3 as\n",
        "\n",
        "select t.*,\n",
        "\n",
        "case when sd.grocery_flg > 0 then 1 else 0 end as grocery_flg,\n",
        "sd.num_purchases,\n",
        "sd.discount,\n",
        "\n",
        "case when sd.num_purchases > 0 then 1 else 0 end as active,\n",
        "lag(case when sd.num_purchases > 0 then 1 else 0 end) over (partition by t.card_number order by t.dt) as prev_active,\n",
        "\n",
        "\n",
        "lag(case when sd.grocery_flg > 0 then 1 else 0 end) over (partition by t.card_number order by t.dt) as prev_grocery_flg\n",
        "\n",
        "\n",
        " from day_template t\n",
        "left join sales_day_1 sd\n",
        "on t.card_number = sd.card_number and \n",
        "t.dt = sd.dt\n",
        "\n",
        "\n",
        "\n",
        "'''"
      ],
      "execution_count": null,
      "outputs": []
    },
    {
      "cell_type": "code",
      "metadata": {
        "colab": {
          "base_uri": "https://localhost:8080/"
        },
        "id": "DmD1uPyNN6Fo",
        "outputId": "929ca0c8-be51-46ba-856d-3e5409d77b67"
      },
      "source": [
        "cur.executescript(sql)"
      ],
      "execution_count": null,
      "outputs": [
        {
          "output_type": "execute_result",
          "data": {
            "text/plain": [
              "<pysqlite3.dbapi2.Cursor at 0x7f05e588e500>"
            ]
          },
          "metadata": {
            "tags": []
          },
          "execution_count": 63
        }
      ]
    },
    {
      "cell_type": "code",
      "metadata": {
        "id": "6kkTiFNQN7ga"
      },
      "source": [
        "sql = '''\n",
        "\n",
        "\n",
        "drop table if exists sales_day_4;\n",
        "create table sales_day_4 as\n",
        "\n",
        "select t.*,\n",
        "case when t.active != t.prev_active then 1 else 0 end change_active,\n",
        "\n",
        "\n",
        "\n",
        "SUM(case when t.active != t.prev_active then 1 else 0 end) OVER (\n",
        "  partition by t.card_number\n",
        "        ORDER BY t.dt \n",
        "        ROWS BETWEEN \n",
        "            UNBOUNDED PRECEDING \n",
        "            AND CURRENT ROW \n",
        "        ) as session_id,\n",
        "\n",
        "\n",
        "SUM(case when t.grocery_flg != t.prev_grocery_flg then 1 else 0 end) OVER (\n",
        "  partition by t.card_number\n",
        "        ORDER BY t.dt \n",
        "        ROWS BETWEEN \n",
        "            UNBOUNDED PRECEDING \n",
        "            AND CURRENT ROW \n",
        "        ) as session_id_grocery\n",
        "\n",
        "\n",
        " from sales_day_3 t \n",
        "\n",
        "'''"
      ],
      "execution_count": null,
      "outputs": []
    },
    {
      "cell_type": "code",
      "metadata": {
        "id": "jp8BBHjIOWXW"
      },
      "source": [
        "pd.options.display.max_rows = 100"
      ],
      "execution_count": null,
      "outputs": []
    },
    {
      "cell_type": "code",
      "metadata": {
        "colab": {
          "base_uri": "https://localhost:8080/"
        },
        "id": "6hIwSTK6RmXU",
        "outputId": "9b98bc61-6a62-4282-8910-98a339d8b03a"
      },
      "source": [
        "cur.executescript(sql)"
      ],
      "execution_count": null,
      "outputs": [
        {
          "output_type": "execute_result",
          "data": {
            "text/plain": [
              "<pysqlite3.dbapi2.Cursor at 0x7f05e588e500>"
            ]
          },
          "metadata": {
            "tags": []
          },
          "execution_count": 66
        }
      ]
    },
    {
      "cell_type": "code",
      "metadata": {
        "id": "r8v-MJQzRu-K"
      },
      "source": [
        "sql = '''select t.session_id_grocery,\n",
        "t.card_number,\n",
        "max(grocery_flg) as grocery_flg,\n",
        "count(1) as days_cnt\n",
        "\n",
        "--,mul(1-t.discount) as final_discount\n",
        "\n",
        " from sales_day_4 t\n",
        " group by\n",
        " t.session_id_grocery,\n",
        "t.card_number\n",
        "\n",
        "having max(grocery_flg) = 1\n",
        "\n",
        "order by count(1) desc\n",
        " \n",
        " '''"
      ],
      "execution_count": null,
      "outputs": []
    },
    {
      "cell_type": "code",
      "metadata": {
        "colab": {
          "base_uri": "https://localhost:8080/",
          "height": 419
        },
        "id": "PxkFufCdMx1q",
        "outputId": "394c97d9-6260-4943-dafc-776aa0d18367"
      },
      "source": [
        "select(sql)"
      ],
      "execution_count": null,
      "outputs": [
        {
          "output_type": "execute_result",
          "data": {
            "text/html": [
              "<div>\n",
              "<style scoped>\n",
              "    .dataframe tbody tr th:only-of-type {\n",
              "        vertical-align: middle;\n",
              "    }\n",
              "\n",
              "    .dataframe tbody tr th {\n",
              "        vertical-align: top;\n",
              "    }\n",
              "\n",
              "    .dataframe thead th {\n",
              "        text-align: right;\n",
              "    }\n",
              "</style>\n",
              "<table border=\"1\" class=\"dataframe\">\n",
              "  <thead>\n",
              "    <tr style=\"text-align: right;\">\n",
              "      <th></th>\n",
              "      <th>session_id_grocery</th>\n",
              "      <th>card_number</th>\n",
              "      <th>grocery_flg</th>\n",
              "      <th>days_cnt</th>\n",
              "    </tr>\n",
              "  </thead>\n",
              "  <tbody>\n",
              "    <tr>\n",
              "      <th>0</th>\n",
              "      <td>1</td>\n",
              "      <td>31.0</td>\n",
              "      <td>1</td>\n",
              "      <td>6</td>\n",
              "    </tr>\n",
              "    <tr>\n",
              "      <th>1</th>\n",
              "      <td>17</td>\n",
              "      <td>33.0</td>\n",
              "      <td>1</td>\n",
              "      <td>5</td>\n",
              "    </tr>\n",
              "    <tr>\n",
              "      <th>2</th>\n",
              "      <td>2</td>\n",
              "      <td>38.0</td>\n",
              "      <td>1</td>\n",
              "      <td>4</td>\n",
              "    </tr>\n",
              "    <tr>\n",
              "      <th>3</th>\n",
              "      <td>19</td>\n",
              "      <td>2.0</td>\n",
              "      <td>1</td>\n",
              "      <td>4</td>\n",
              "    </tr>\n",
              "    <tr>\n",
              "      <th>4</th>\n",
              "      <td>20</td>\n",
              "      <td>28.0</td>\n",
              "      <td>1</td>\n",
              "      <td>4</td>\n",
              "    </tr>\n",
              "    <tr>\n",
              "      <th>...</th>\n",
              "      <td>...</td>\n",
              "      <td>...</td>\n",
              "      <td>...</td>\n",
              "      <td>...</td>\n",
              "    </tr>\n",
              "    <tr>\n",
              "      <th>481</th>\n",
              "      <td>29</td>\n",
              "      <td>16.0</td>\n",
              "      <td>1</td>\n",
              "      <td>1</td>\n",
              "    </tr>\n",
              "    <tr>\n",
              "      <th>482</th>\n",
              "      <td>29</td>\n",
              "      <td>24.0</td>\n",
              "      <td>1</td>\n",
              "      <td>1</td>\n",
              "    </tr>\n",
              "    <tr>\n",
              "      <th>483</th>\n",
              "      <td>30</td>\n",
              "      <td>23.0</td>\n",
              "      <td>1</td>\n",
              "      <td>1</td>\n",
              "    </tr>\n",
              "    <tr>\n",
              "      <th>484</th>\n",
              "      <td>31</td>\n",
              "      <td>16.0</td>\n",
              "      <td>1</td>\n",
              "      <td>1</td>\n",
              "    </tr>\n",
              "    <tr>\n",
              "      <th>485</th>\n",
              "      <td>32</td>\n",
              "      <td>23.0</td>\n",
              "      <td>1</td>\n",
              "      <td>1</td>\n",
              "    </tr>\n",
              "  </tbody>\n",
              "</table>\n",
              "<p>486 rows × 4 columns</p>\n",
              "</div>"
            ],
            "text/plain": [
              "     session_id_grocery  card_number  grocery_flg  days_cnt\n",
              "0                     1         31.0            1         6\n",
              "1                    17         33.0            1         5\n",
              "2                     2         38.0            1         4\n",
              "3                    19          2.0            1         4\n",
              "4                    20         28.0            1         4\n",
              "..                  ...          ...          ...       ...\n",
              "481                  29         16.0            1         1\n",
              "482                  29         24.0            1         1\n",
              "483                  30         23.0            1         1\n",
              "484                  31         16.0            1         1\n",
              "485                  32         23.0            1         1\n",
              "\n",
              "[486 rows x 4 columns]"
            ]
          },
          "metadata": {
            "tags": []
          },
          "execution_count": 68
        }
      ]
    },
    {
      "cell_type": "code",
      "metadata": {
        "id": "EfvMi6MBTZD6"
      },
      "source": [
        "sql = '''select * from sales_day_4 t\n",
        "where t.card_number = 31 and t.session_id_grocery = 1'''"
      ],
      "execution_count": null,
      "outputs": []
    },
    {
      "cell_type": "code",
      "metadata": {
        "colab": {
          "base_uri": "https://localhost:8080/",
          "height": 235
        },
        "id": "P8ZqmPm8ToiP",
        "outputId": "9961649b-f303-445a-932a-e747134a700b"
      },
      "source": [
        "select(sql)"
      ],
      "execution_count": null,
      "outputs": [
        {
          "output_type": "execute_result",
          "data": {
            "text/html": [
              "<div>\n",
              "<style scoped>\n",
              "    .dataframe tbody tr th:only-of-type {\n",
              "        vertical-align: middle;\n",
              "    }\n",
              "\n",
              "    .dataframe tbody tr th {\n",
              "        vertical-align: top;\n",
              "    }\n",
              "\n",
              "    .dataframe thead th {\n",
              "        text-align: right;\n",
              "    }\n",
              "</style>\n",
              "<table border=\"1\" class=\"dataframe\">\n",
              "  <thead>\n",
              "    <tr style=\"text-align: right;\">\n",
              "      <th></th>\n",
              "      <th>dt</th>\n",
              "      <th>card_number</th>\n",
              "      <th>grocery_flg</th>\n",
              "      <th>num_purchases</th>\n",
              "      <th>discount</th>\n",
              "      <th>active</th>\n",
              "      <th>prev_active</th>\n",
              "      <th>prev_grocery_flg</th>\n",
              "      <th>change_active</th>\n",
              "      <th>session_id</th>\n",
              "      <th>session_id_grocery</th>\n",
              "    </tr>\n",
              "  </thead>\n",
              "  <tbody>\n",
              "    <tr>\n",
              "      <th>0</th>\n",
              "      <td>2020-04-05</td>\n",
              "      <td>31.0</td>\n",
              "      <td>1</td>\n",
              "      <td>1</td>\n",
              "      <td>0.15</td>\n",
              "      <td>1</td>\n",
              "      <td>0</td>\n",
              "      <td>0</td>\n",
              "      <td>1</td>\n",
              "      <td>1</td>\n",
              "      <td>1</td>\n",
              "    </tr>\n",
              "    <tr>\n",
              "      <th>1</th>\n",
              "      <td>2020-04-06</td>\n",
              "      <td>31.0</td>\n",
              "      <td>1</td>\n",
              "      <td>2</td>\n",
              "      <td>0.15</td>\n",
              "      <td>1</td>\n",
              "      <td>1</td>\n",
              "      <td>1</td>\n",
              "      <td>0</td>\n",
              "      <td>1</td>\n",
              "      <td>1</td>\n",
              "    </tr>\n",
              "    <tr>\n",
              "      <th>2</th>\n",
              "      <td>2020-04-07</td>\n",
              "      <td>31.0</td>\n",
              "      <td>1</td>\n",
              "      <td>2</td>\n",
              "      <td>0.10</td>\n",
              "      <td>1</td>\n",
              "      <td>1</td>\n",
              "      <td>1</td>\n",
              "      <td>0</td>\n",
              "      <td>1</td>\n",
              "      <td>1</td>\n",
              "    </tr>\n",
              "    <tr>\n",
              "      <th>3</th>\n",
              "      <td>2020-04-08</td>\n",
              "      <td>31.0</td>\n",
              "      <td>1</td>\n",
              "      <td>3</td>\n",
              "      <td>0.00</td>\n",
              "      <td>1</td>\n",
              "      <td>1</td>\n",
              "      <td>1</td>\n",
              "      <td>0</td>\n",
              "      <td>1</td>\n",
              "      <td>1</td>\n",
              "    </tr>\n",
              "    <tr>\n",
              "      <th>4</th>\n",
              "      <td>2020-04-09</td>\n",
              "      <td>31.0</td>\n",
              "      <td>1</td>\n",
              "      <td>1</td>\n",
              "      <td>0.00</td>\n",
              "      <td>1</td>\n",
              "      <td>1</td>\n",
              "      <td>1</td>\n",
              "      <td>0</td>\n",
              "      <td>1</td>\n",
              "      <td>1</td>\n",
              "    </tr>\n",
              "    <tr>\n",
              "      <th>5</th>\n",
              "      <td>2020-04-10</td>\n",
              "      <td>31.0</td>\n",
              "      <td>1</td>\n",
              "      <td>1</td>\n",
              "      <td>0.05</td>\n",
              "      <td>1</td>\n",
              "      <td>1</td>\n",
              "      <td>1</td>\n",
              "      <td>0</td>\n",
              "      <td>1</td>\n",
              "      <td>1</td>\n",
              "    </tr>\n",
              "  </tbody>\n",
              "</table>\n",
              "</div>"
            ],
            "text/plain": [
              "           dt  card_number  ...  session_id  session_id_grocery\n",
              "0  2020-04-05         31.0  ...           1                   1\n",
              "1  2020-04-06         31.0  ...           1                   1\n",
              "2  2020-04-07         31.0  ...           1                   1\n",
              "3  2020-04-08         31.0  ...           1                   1\n",
              "4  2020-04-09         31.0  ...           1                   1\n",
              "5  2020-04-10         31.0  ...           1                   1\n",
              "\n",
              "[6 rows x 11 columns]"
            ]
          },
          "metadata": {
            "tags": []
          },
          "execution_count": 70
        }
      ]
    },
    {
      "cell_type": "code",
      "metadata": {
        "id": "tBSBuj6hM2kk"
      },
      "source": [
        "sql = '''select * from coffee_sales t\n",
        "where t.card_number = 31\n",
        "order by t.sale_dttm'''"
      ],
      "execution_count": null,
      "outputs": []
    },
    {
      "cell_type": "code",
      "metadata": {
        "colab": {
          "base_uri": "https://localhost:8080/",
          "height": 1000
        },
        "id": "OCvW8WMSTHTC",
        "outputId": "8411c6a6-debd-4ffc-d8ee-73d2450876ac"
      },
      "source": [
        "select(sql)"
      ],
      "execution_count": null,
      "outputs": [
        {
          "output_type": "execute_result",
          "data": {
            "text/html": [
              "<div>\n",
              "<style scoped>\n",
              "    .dataframe tbody tr th:only-of-type {\n",
              "        vertical-align: middle;\n",
              "    }\n",
              "\n",
              "    .dataframe tbody tr th {\n",
              "        vertical-align: top;\n",
              "    }\n",
              "\n",
              "    .dataframe thead th {\n",
              "        text-align: right;\n",
              "    }\n",
              "</style>\n",
              "<table border=\"1\" class=\"dataframe\">\n",
              "  <thead>\n",
              "    <tr style=\"text-align: right;\">\n",
              "      <th></th>\n",
              "      <th>sale_dttm</th>\n",
              "      <th>card_number</th>\n",
              "      <th>coffee_type</th>\n",
              "      <th>coffee_price</th>\n",
              "      <th>discount</th>\n",
              "      <th>grocery_flg</th>\n",
              "      <th>price</th>\n",
              "    </tr>\n",
              "  </thead>\n",
              "  <tbody>\n",
              "    <tr>\n",
              "      <th>0</th>\n",
              "      <td>2020-04-05 00:00:00</td>\n",
              "      <td>31.0</td>\n",
              "      <td>cappuccino</td>\n",
              "      <td>130</td>\n",
              "      <td>0.15</td>\n",
              "      <td>1</td>\n",
              "      <td>195.5</td>\n",
              "    </tr>\n",
              "    <tr>\n",
              "      <th>1</th>\n",
              "      <td>2020-04-06 00:00:00</td>\n",
              "      <td>31.0</td>\n",
              "      <td>cappuccino</td>\n",
              "      <td>130</td>\n",
              "      <td>0.00</td>\n",
              "      <td>0</td>\n",
              "      <td>130.0</td>\n",
              "    </tr>\n",
              "    <tr>\n",
              "      <th>2</th>\n",
              "      <td>2020-04-06 00:00:00</td>\n",
              "      <td>31.0</td>\n",
              "      <td>latte</td>\n",
              "      <td>150</td>\n",
              "      <td>0.15</td>\n",
              "      <td>1</td>\n",
              "      <td>212.5</td>\n",
              "    </tr>\n",
              "    <tr>\n",
              "      <th>3</th>\n",
              "      <td>2020-04-07 00:00:00</td>\n",
              "      <td>31.0</td>\n",
              "      <td>cappuccino</td>\n",
              "      <td>130</td>\n",
              "      <td>0.05</td>\n",
              "      <td>1</td>\n",
              "      <td>218.5</td>\n",
              "    </tr>\n",
              "    <tr>\n",
              "      <th>4</th>\n",
              "      <td>2020-04-07 00:00:00</td>\n",
              "      <td>31.0</td>\n",
              "      <td>espresso</td>\n",
              "      <td>100</td>\n",
              "      <td>0.10</td>\n",
              "      <td>1</td>\n",
              "      <td>180.0</td>\n",
              "    </tr>\n",
              "    <tr>\n",
              "      <th>5</th>\n",
              "      <td>2020-04-08 00:00:00</td>\n",
              "      <td>31.0</td>\n",
              "      <td>cappuccino</td>\n",
              "      <td>130</td>\n",
              "      <td>0.00</td>\n",
              "      <td>1</td>\n",
              "      <td>230.0</td>\n",
              "    </tr>\n",
              "    <tr>\n",
              "      <th>6</th>\n",
              "      <td>2020-04-08 00:00:00</td>\n",
              "      <td>31.0</td>\n",
              "      <td>cappuccino</td>\n",
              "      <td>130</td>\n",
              "      <td>0.00</td>\n",
              "      <td>0</td>\n",
              "      <td>130.0</td>\n",
              "    </tr>\n",
              "    <tr>\n",
              "      <th>7</th>\n",
              "      <td>2020-04-08 00:00:00</td>\n",
              "      <td>31.0</td>\n",
              "      <td>latte</td>\n",
              "      <td>150</td>\n",
              "      <td>0.00</td>\n",
              "      <td>0</td>\n",
              "      <td>150.0</td>\n",
              "    </tr>\n",
              "    <tr>\n",
              "      <th>8</th>\n",
              "      <td>2020-04-09 00:00:00</td>\n",
              "      <td>31.0</td>\n",
              "      <td>cappuccino</td>\n",
              "      <td>130</td>\n",
              "      <td>0.00</td>\n",
              "      <td>1</td>\n",
              "      <td>230.0</td>\n",
              "    </tr>\n",
              "    <tr>\n",
              "      <th>9</th>\n",
              "      <td>2020-04-10 00:00:00</td>\n",
              "      <td>31.0</td>\n",
              "      <td>espresso</td>\n",
              "      <td>100</td>\n",
              "      <td>0.05</td>\n",
              "      <td>1</td>\n",
              "      <td>190.0</td>\n",
              "    </tr>\n",
              "    <tr>\n",
              "      <th>10</th>\n",
              "      <td>2020-04-13 00:00:00</td>\n",
              "      <td>31.0</td>\n",
              "      <td>cappuccino</td>\n",
              "      <td>130</td>\n",
              "      <td>0.00</td>\n",
              "      <td>1</td>\n",
              "      <td>230.0</td>\n",
              "    </tr>\n",
              "    <tr>\n",
              "      <th>11</th>\n",
              "      <td>2020-04-14 00:00:00</td>\n",
              "      <td>31.0</td>\n",
              "      <td>americano</td>\n",
              "      <td>120</td>\n",
              "      <td>0.05</td>\n",
              "      <td>1</td>\n",
              "      <td>209.0</td>\n",
              "    </tr>\n",
              "    <tr>\n",
              "      <th>12</th>\n",
              "      <td>2020-04-15 00:00:00</td>\n",
              "      <td>31.0</td>\n",
              "      <td>cappuccino</td>\n",
              "      <td>130</td>\n",
              "      <td>0.00</td>\n",
              "      <td>0</td>\n",
              "      <td>130.0</td>\n",
              "    </tr>\n",
              "    <tr>\n",
              "      <th>13</th>\n",
              "      <td>2020-04-16 00:00:00</td>\n",
              "      <td>31.0</td>\n",
              "      <td>americano</td>\n",
              "      <td>120</td>\n",
              "      <td>0.15</td>\n",
              "      <td>1</td>\n",
              "      <td>187.0</td>\n",
              "    </tr>\n",
              "    <tr>\n",
              "      <th>14</th>\n",
              "      <td>2020-04-17 00:00:00</td>\n",
              "      <td>31.0</td>\n",
              "      <td>espresso</td>\n",
              "      <td>100</td>\n",
              "      <td>0.05</td>\n",
              "      <td>0</td>\n",
              "      <td>95.0</td>\n",
              "    </tr>\n",
              "    <tr>\n",
              "      <th>15</th>\n",
              "      <td>2020-04-18 00:00:00</td>\n",
              "      <td>31.0</td>\n",
              "      <td>espresso</td>\n",
              "      <td>100</td>\n",
              "      <td>0.00</td>\n",
              "      <td>1</td>\n",
              "      <td>200.0</td>\n",
              "    </tr>\n",
              "    <tr>\n",
              "      <th>16</th>\n",
              "      <td>2020-04-19 00:00:00</td>\n",
              "      <td>31.0</td>\n",
              "      <td>cappuccino</td>\n",
              "      <td>130</td>\n",
              "      <td>0.05</td>\n",
              "      <td>1</td>\n",
              "      <td>218.5</td>\n",
              "    </tr>\n",
              "    <tr>\n",
              "      <th>17</th>\n",
              "      <td>2020-04-21 00:00:00</td>\n",
              "      <td>31.0</td>\n",
              "      <td>espresso</td>\n",
              "      <td>100</td>\n",
              "      <td>0.00</td>\n",
              "      <td>1</td>\n",
              "      <td>200.0</td>\n",
              "    </tr>\n",
              "    <tr>\n",
              "      <th>18</th>\n",
              "      <td>2020-04-21 00:00:00</td>\n",
              "      <td>31.0</td>\n",
              "      <td>cappuccino</td>\n",
              "      <td>130</td>\n",
              "      <td>0.05</td>\n",
              "      <td>1</td>\n",
              "      <td>218.5</td>\n",
              "    </tr>\n",
              "    <tr>\n",
              "      <th>19</th>\n",
              "      <td>2020-04-26 00:00:00</td>\n",
              "      <td>31.0</td>\n",
              "      <td>cappuccino</td>\n",
              "      <td>130</td>\n",
              "      <td>0.00</td>\n",
              "      <td>0</td>\n",
              "      <td>130.0</td>\n",
              "    </tr>\n",
              "    <tr>\n",
              "      <th>20</th>\n",
              "      <td>2020-04-27 00:00:00</td>\n",
              "      <td>31.0</td>\n",
              "      <td>latte</td>\n",
              "      <td>150</td>\n",
              "      <td>0.15</td>\n",
              "      <td>1</td>\n",
              "      <td>212.5</td>\n",
              "    </tr>\n",
              "    <tr>\n",
              "      <th>21</th>\n",
              "      <td>2020-04-28 00:00:00</td>\n",
              "      <td>31.0</td>\n",
              "      <td>espresso</td>\n",
              "      <td>100</td>\n",
              "      <td>0.00</td>\n",
              "      <td>0</td>\n",
              "      <td>100.0</td>\n",
              "    </tr>\n",
              "    <tr>\n",
              "      <th>22</th>\n",
              "      <td>2020-04-29 00:00:00</td>\n",
              "      <td>31.0</td>\n",
              "      <td>espresso</td>\n",
              "      <td>100</td>\n",
              "      <td>0.05</td>\n",
              "      <td>1</td>\n",
              "      <td>190.0</td>\n",
              "    </tr>\n",
              "    <tr>\n",
              "      <th>23</th>\n",
              "      <td>2020-05-01 00:00:00</td>\n",
              "      <td>31.0</td>\n",
              "      <td>cappuccino</td>\n",
              "      <td>130</td>\n",
              "      <td>0.00</td>\n",
              "      <td>0</td>\n",
              "      <td>130.0</td>\n",
              "    </tr>\n",
              "    <tr>\n",
              "      <th>24</th>\n",
              "      <td>2020-05-02 00:00:00</td>\n",
              "      <td>31.0</td>\n",
              "      <td>cappuccino</td>\n",
              "      <td>130</td>\n",
              "      <td>0.00</td>\n",
              "      <td>0</td>\n",
              "      <td>130.0</td>\n",
              "    </tr>\n",
              "    <tr>\n",
              "      <th>25</th>\n",
              "      <td>2020-05-09 00:00:00</td>\n",
              "      <td>31.0</td>\n",
              "      <td>espresso</td>\n",
              "      <td>100</td>\n",
              "      <td>0.05</td>\n",
              "      <td>1</td>\n",
              "      <td>190.0</td>\n",
              "    </tr>\n",
              "    <tr>\n",
              "      <th>26</th>\n",
              "      <td>2020-05-15 00:00:00</td>\n",
              "      <td>31.0</td>\n",
              "      <td>cappuccino</td>\n",
              "      <td>130</td>\n",
              "      <td>0.05</td>\n",
              "      <td>0</td>\n",
              "      <td>123.5</td>\n",
              "    </tr>\n",
              "    <tr>\n",
              "      <th>27</th>\n",
              "      <td>2020-05-15 00:00:00</td>\n",
              "      <td>31.0</td>\n",
              "      <td>espresso</td>\n",
              "      <td>100</td>\n",
              "      <td>0.00</td>\n",
              "      <td>1</td>\n",
              "      <td>200.0</td>\n",
              "    </tr>\n",
              "    <tr>\n",
              "      <th>28</th>\n",
              "      <td>2020-05-15 00:00:00</td>\n",
              "      <td>31.0</td>\n",
              "      <td>espresso</td>\n",
              "      <td>100</td>\n",
              "      <td>0.05</td>\n",
              "      <td>0</td>\n",
              "      <td>95.0</td>\n",
              "    </tr>\n",
              "    <tr>\n",
              "      <th>29</th>\n",
              "      <td>2020-05-16 00:00:00</td>\n",
              "      <td>31.0</td>\n",
              "      <td>espresso</td>\n",
              "      <td>100</td>\n",
              "      <td>0.00</td>\n",
              "      <td>1</td>\n",
              "      <td>200.0</td>\n",
              "    </tr>\n",
              "    <tr>\n",
              "      <th>30</th>\n",
              "      <td>2020-05-16 00:00:00</td>\n",
              "      <td>31.0</td>\n",
              "      <td>cappuccino</td>\n",
              "      <td>130</td>\n",
              "      <td>0.05</td>\n",
              "      <td>1</td>\n",
              "      <td>218.5</td>\n",
              "    </tr>\n",
              "    <tr>\n",
              "      <th>31</th>\n",
              "      <td>2020-05-16 00:00:00</td>\n",
              "      <td>31.0</td>\n",
              "      <td>cappuccino</td>\n",
              "      <td>130</td>\n",
              "      <td>0.05</td>\n",
              "      <td>0</td>\n",
              "      <td>123.5</td>\n",
              "    </tr>\n",
              "    <tr>\n",
              "      <th>32</th>\n",
              "      <td>2020-05-18 00:00:00</td>\n",
              "      <td>31.0</td>\n",
              "      <td>cappuccino</td>\n",
              "      <td>130</td>\n",
              "      <td>0.05</td>\n",
              "      <td>1</td>\n",
              "      <td>218.5</td>\n",
              "    </tr>\n",
              "    <tr>\n",
              "      <th>33</th>\n",
              "      <td>2020-05-23 00:00:00</td>\n",
              "      <td>31.0</td>\n",
              "      <td>cappuccino</td>\n",
              "      <td>130</td>\n",
              "      <td>0.00</td>\n",
              "      <td>1</td>\n",
              "      <td>230.0</td>\n",
              "    </tr>\n",
              "    <tr>\n",
              "      <th>34</th>\n",
              "      <td>2020-05-25 00:00:00</td>\n",
              "      <td>31.0</td>\n",
              "      <td>cappuccino</td>\n",
              "      <td>130</td>\n",
              "      <td>0.05</td>\n",
              "      <td>0</td>\n",
              "      <td>123.5</td>\n",
              "    </tr>\n",
              "    <tr>\n",
              "      <th>35</th>\n",
              "      <td>2020-05-25 00:00:00</td>\n",
              "      <td>31.0</td>\n",
              "      <td>americano</td>\n",
              "      <td>120</td>\n",
              "      <td>0.00</td>\n",
              "      <td>1</td>\n",
              "      <td>220.0</td>\n",
              "    </tr>\n",
              "    <tr>\n",
              "      <th>36</th>\n",
              "      <td>2020-05-27 00:00:00</td>\n",
              "      <td>31.0</td>\n",
              "      <td>cappuccino</td>\n",
              "      <td>130</td>\n",
              "      <td>0.00</td>\n",
              "      <td>1</td>\n",
              "      <td>230.0</td>\n",
              "    </tr>\n",
              "    <tr>\n",
              "      <th>37</th>\n",
              "      <td>2020-05-29 00:00:00</td>\n",
              "      <td>31.0</td>\n",
              "      <td>cappuccino</td>\n",
              "      <td>130</td>\n",
              "      <td>0.10</td>\n",
              "      <td>0</td>\n",
              "      <td>117.0</td>\n",
              "    </tr>\n",
              "    <tr>\n",
              "      <th>38</th>\n",
              "      <td>2020-05-30 00:00:00</td>\n",
              "      <td>31.0</td>\n",
              "      <td>latte</td>\n",
              "      <td>150</td>\n",
              "      <td>0.05</td>\n",
              "      <td>0</td>\n",
              "      <td>142.5</td>\n",
              "    </tr>\n",
              "    <tr>\n",
              "      <th>39</th>\n",
              "      <td>2020-05-31 00:00:00</td>\n",
              "      <td>31.0</td>\n",
              "      <td>cappuccino</td>\n",
              "      <td>130</td>\n",
              "      <td>0.00</td>\n",
              "      <td>0</td>\n",
              "      <td>130.0</td>\n",
              "    </tr>\n",
              "    <tr>\n",
              "      <th>40</th>\n",
              "      <td>2020-05-31 00:00:00</td>\n",
              "      <td>31.0</td>\n",
              "      <td>cappuccino</td>\n",
              "      <td>130</td>\n",
              "      <td>0.00</td>\n",
              "      <td>0</td>\n",
              "      <td>130.0</td>\n",
              "    </tr>\n",
              "    <tr>\n",
              "      <th>41</th>\n",
              "      <td>2020-05-31 00:00:00</td>\n",
              "      <td>31.0</td>\n",
              "      <td>cappuccino</td>\n",
              "      <td>130</td>\n",
              "      <td>0.05</td>\n",
              "      <td>1</td>\n",
              "      <td>218.5</td>\n",
              "    </tr>\n",
              "  </tbody>\n",
              "</table>\n",
              "</div>"
            ],
            "text/plain": [
              "              sale_dttm  card_number coffee_type  ...  discount  grocery_flg  price\n",
              "0   2020-04-05 00:00:00         31.0  cappuccino  ...      0.15            1  195.5\n",
              "1   2020-04-06 00:00:00         31.0  cappuccino  ...      0.00            0  130.0\n",
              "2   2020-04-06 00:00:00         31.0       latte  ...      0.15            1  212.5\n",
              "3   2020-04-07 00:00:00         31.0  cappuccino  ...      0.05            1  218.5\n",
              "4   2020-04-07 00:00:00         31.0    espresso  ...      0.10            1  180.0\n",
              "5   2020-04-08 00:00:00         31.0  cappuccino  ...      0.00            1  230.0\n",
              "6   2020-04-08 00:00:00         31.0  cappuccino  ...      0.00            0  130.0\n",
              "7   2020-04-08 00:00:00         31.0       latte  ...      0.00            0  150.0\n",
              "8   2020-04-09 00:00:00         31.0  cappuccino  ...      0.00            1  230.0\n",
              "9   2020-04-10 00:00:00         31.0    espresso  ...      0.05            1  190.0\n",
              "10  2020-04-13 00:00:00         31.0  cappuccino  ...      0.00            1  230.0\n",
              "11  2020-04-14 00:00:00         31.0   americano  ...      0.05            1  209.0\n",
              "12  2020-04-15 00:00:00         31.0  cappuccino  ...      0.00            0  130.0\n",
              "13  2020-04-16 00:00:00         31.0   americano  ...      0.15            1  187.0\n",
              "14  2020-04-17 00:00:00         31.0    espresso  ...      0.05            0   95.0\n",
              "15  2020-04-18 00:00:00         31.0    espresso  ...      0.00            1  200.0\n",
              "16  2020-04-19 00:00:00         31.0  cappuccino  ...      0.05            1  218.5\n",
              "17  2020-04-21 00:00:00         31.0    espresso  ...      0.00            1  200.0\n",
              "18  2020-04-21 00:00:00         31.0  cappuccino  ...      0.05            1  218.5\n",
              "19  2020-04-26 00:00:00         31.0  cappuccino  ...      0.00            0  130.0\n",
              "20  2020-04-27 00:00:00         31.0       latte  ...      0.15            1  212.5\n",
              "21  2020-04-28 00:00:00         31.0    espresso  ...      0.00            0  100.0\n",
              "22  2020-04-29 00:00:00         31.0    espresso  ...      0.05            1  190.0\n",
              "23  2020-05-01 00:00:00         31.0  cappuccino  ...      0.00            0  130.0\n",
              "24  2020-05-02 00:00:00         31.0  cappuccino  ...      0.00            0  130.0\n",
              "25  2020-05-09 00:00:00         31.0    espresso  ...      0.05            1  190.0\n",
              "26  2020-05-15 00:00:00         31.0  cappuccino  ...      0.05            0  123.5\n",
              "27  2020-05-15 00:00:00         31.0    espresso  ...      0.00            1  200.0\n",
              "28  2020-05-15 00:00:00         31.0    espresso  ...      0.05            0   95.0\n",
              "29  2020-05-16 00:00:00         31.0    espresso  ...      0.00            1  200.0\n",
              "30  2020-05-16 00:00:00         31.0  cappuccino  ...      0.05            1  218.5\n",
              "31  2020-05-16 00:00:00         31.0  cappuccino  ...      0.05            0  123.5\n",
              "32  2020-05-18 00:00:00         31.0  cappuccino  ...      0.05            1  218.5\n",
              "33  2020-05-23 00:00:00         31.0  cappuccino  ...      0.00            1  230.0\n",
              "34  2020-05-25 00:00:00         31.0  cappuccino  ...      0.05            0  123.5\n",
              "35  2020-05-25 00:00:00         31.0   americano  ...      0.00            1  220.0\n",
              "36  2020-05-27 00:00:00         31.0  cappuccino  ...      0.00            1  230.0\n",
              "37  2020-05-29 00:00:00         31.0  cappuccino  ...      0.10            0  117.0\n",
              "38  2020-05-30 00:00:00         31.0       latte  ...      0.05            0  142.5\n",
              "39  2020-05-31 00:00:00         31.0  cappuccino  ...      0.00            0  130.0\n",
              "40  2020-05-31 00:00:00         31.0  cappuccino  ...      0.00            0  130.0\n",
              "41  2020-05-31 00:00:00         31.0  cappuccino  ...      0.05            1  218.5\n",
              "\n",
              "[42 rows x 7 columns]"
            ]
          },
          "metadata": {
            "tags": []
          },
          "execution_count": 72
        }
      ]
    },
    {
      "cell_type": "markdown",
      "metadata": {
        "id": "kNWYK-CGkflX"
      },
      "source": [
        "# 3. Серии вторым способом"
      ]
    },
    {
      "cell_type": "code",
      "metadata": {
        "id": "4IwRtygwlbOn"
      },
      "source": [
        "sql = '''\n",
        "\n",
        "drop table if exists sales_day_1;\n",
        "\n",
        "create table sales_day_1 as\n",
        "\n",
        "select date(t.sale_dttm) as dt,\n",
        "t.card_number,\n",
        "max(t.grocery_flg) as grocery_flg,\n",
        "count(1) as num_purchases,\n",
        "\n",
        "\n",
        "-- add multipication https://stackoverflow.com/a/5416210\n",
        "max(case when t.grocery_flg = 1 then t.discount else 0 end) as discount\n",
        "\n",
        " from coffee_sales t\n",
        "\n",
        "where t.grocery_flg = 1\n",
        "\n",
        "group by date(t.sale_dttm),\n",
        "t.card_number\n",
        "\n",
        "'''"
      ],
      "execution_count": null,
      "outputs": []
    },
    {
      "cell_type": "code",
      "metadata": {
        "colab": {
          "base_uri": "https://localhost:8080/"
        },
        "id": "0GxCMG_olj5a",
        "outputId": "c8a04f00-8086-47db-c9ce-66ad9b90e73a"
      },
      "source": [
        "cur.executescript(sql)"
      ],
      "execution_count": null,
      "outputs": [
        {
          "output_type": "execute_result",
          "data": {
            "text/plain": [
              "<pysqlite3.dbapi2.Cursor at 0x7f05e588e500>"
            ]
          },
          "metadata": {
            "tags": []
          },
          "execution_count": 76
        }
      ]
    },
    {
      "cell_type": "code",
      "metadata": {
        "id": "Q39dY3h7lplH"
      },
      "source": [
        "sql = '''\n",
        "drop table if exists sales_day_2;\n",
        "\n",
        "create table sales_day_2 as\n",
        "\n",
        "\n",
        "select t.*,\n",
        "\n",
        "lag(t.dt) over (partition by t.card_number order by t.dt) as prev_dt,\n",
        "\n",
        "julianday(t.dt) - julianday(lag(t.dt) over (partition by t.card_number order by t.dt)) as days_since_last_purchase,\n",
        "\n",
        "case when julianday(t.dt) - julianday(lag(t.dt) over (partition by t.card_number order by t.dt)) is null or\n",
        "julianday(t.dt) - julianday(lag(t.dt) over (partition by t.card_number order by t.dt)) > 1 then 1 else 0 end as new_session_flag\n",
        "\n",
        "\n",
        "from sales_day_1  t\n",
        "'''"
      ],
      "execution_count": null,
      "outputs": []
    },
    {
      "cell_type": "code",
      "metadata": {
        "colab": {
          "base_uri": "https://localhost:8080/"
        },
        "id": "BohYS6fXl-Jc",
        "outputId": "2f249017-adb6-4eaf-ac90-5ee67c5f250b"
      },
      "source": [
        "cur.executescript(sql)"
      ],
      "execution_count": null,
      "outputs": [
        {
          "output_type": "execute_result",
          "data": {
            "text/plain": [
              "<pysqlite3.dbapi2.Cursor at 0x7f05e588e500>"
            ]
          },
          "metadata": {
            "tags": []
          },
          "execution_count": 94
        }
      ]
    },
    {
      "cell_type": "code",
      "metadata": {
        "id": "nyQ-QsNBl_9_"
      },
      "source": [
        "sql = '''\n",
        "drop table if exists sales_day_3;\n",
        "create table sales_day_3 as\n",
        "\n",
        "select t.*,\n",
        "\n",
        "SUM(t.new_session_flag) OVER (\n",
        "  partition by t.card_number\n",
        "        ORDER BY t.dt \n",
        "        ROWS BETWEEN \n",
        "            UNBOUNDED PRECEDING \n",
        "            AND CURRENT ROW \n",
        "        ) as session_id\n",
        "\n",
        "\n",
        "from sales_day_2 t\n",
        "\n",
        "\n",
        "order by t.dt\n",
        "'''"
      ],
      "execution_count": null,
      "outputs": []
    },
    {
      "cell_type": "code",
      "metadata": {
        "colab": {
          "base_uri": "https://localhost:8080/"
        },
        "id": "gaMM8vW3n3Or",
        "outputId": "67b6c10b-577e-4b55-9cc2-90f329a08bc7"
      },
      "source": [
        "cur.executescript(sql)"
      ],
      "execution_count": null,
      "outputs": [
        {
          "output_type": "execute_result",
          "data": {
            "text/plain": [
              "<pysqlite3.dbapi2.Cursor at 0x7f05e588e500>"
            ]
          },
          "metadata": {
            "tags": []
          },
          "execution_count": 102
        }
      ]
    },
    {
      "cell_type": "code",
      "metadata": {
        "id": "Jtjf6_iGoC1q"
      },
      "source": [
        "sql = '''select t.card_number, t.session_id, count(1) from sales_day_3 t\n",
        "\n",
        "where t.card_number is not null\n",
        "\n",
        "group by t.card_number, t.session_id\n",
        "order by count(1) desc\n",
        "\n",
        "'''"
      ],
      "execution_count": null,
      "outputs": []
    },
    {
      "cell_type": "code",
      "metadata": {
        "colab": {
          "base_uri": "https://localhost:8080/",
          "height": 419
        },
        "id": "kkfhIFqSmFVg",
        "outputId": "ec0e8e40-be26-443c-ddcf-41a401388f21"
      },
      "source": [
        "select(sql)"
      ],
      "execution_count": null,
      "outputs": [
        {
          "output_type": "execute_result",
          "data": {
            "text/html": [
              "<div>\n",
              "<style scoped>\n",
              "    .dataframe tbody tr th:only-of-type {\n",
              "        vertical-align: middle;\n",
              "    }\n",
              "\n",
              "    .dataframe tbody tr th {\n",
              "        vertical-align: top;\n",
              "    }\n",
              "\n",
              "    .dataframe thead th {\n",
              "        text-align: right;\n",
              "    }\n",
              "</style>\n",
              "<table border=\"1\" class=\"dataframe\">\n",
              "  <thead>\n",
              "    <tr style=\"text-align: right;\">\n",
              "      <th></th>\n",
              "      <th>card_number</th>\n",
              "      <th>session_id</th>\n",
              "      <th>count(1)</th>\n",
              "    </tr>\n",
              "  </thead>\n",
              "  <tbody>\n",
              "    <tr>\n",
              "      <th>0</th>\n",
              "      <td>31.0</td>\n",
              "      <td>1</td>\n",
              "      <td>6</td>\n",
              "    </tr>\n",
              "    <tr>\n",
              "      <th>1</th>\n",
              "      <td>33.0</td>\n",
              "      <td>9</td>\n",
              "      <td>5</td>\n",
              "    </tr>\n",
              "    <tr>\n",
              "      <th>2</th>\n",
              "      <td>2.0</td>\n",
              "      <td>10</td>\n",
              "      <td>4</td>\n",
              "    </tr>\n",
              "    <tr>\n",
              "      <th>3</th>\n",
              "      <td>28.0</td>\n",
              "      <td>11</td>\n",
              "      <td>4</td>\n",
              "    </tr>\n",
              "    <tr>\n",
              "      <th>4</th>\n",
              "      <td>38.0</td>\n",
              "      <td>2</td>\n",
              "      <td>4</td>\n",
              "    </tr>\n",
              "    <tr>\n",
              "      <th>...</th>\n",
              "      <td>...</td>\n",
              "      <td>...</td>\n",
              "      <td>...</td>\n",
              "    </tr>\n",
              "    <tr>\n",
              "      <th>481</th>\n",
              "      <td>39.0</td>\n",
              "      <td>7</td>\n",
              "      <td>1</td>\n",
              "    </tr>\n",
              "    <tr>\n",
              "      <th>482</th>\n",
              "      <td>39.0</td>\n",
              "      <td>8</td>\n",
              "      <td>1</td>\n",
              "    </tr>\n",
              "    <tr>\n",
              "      <th>483</th>\n",
              "      <td>39.0</td>\n",
              "      <td>9</td>\n",
              "      <td>1</td>\n",
              "    </tr>\n",
              "    <tr>\n",
              "      <th>484</th>\n",
              "      <td>39.0</td>\n",
              "      <td>10</td>\n",
              "      <td>1</td>\n",
              "    </tr>\n",
              "    <tr>\n",
              "      <th>485</th>\n",
              "      <td>39.0</td>\n",
              "      <td>11</td>\n",
              "      <td>1</td>\n",
              "    </tr>\n",
              "  </tbody>\n",
              "</table>\n",
              "<p>486 rows × 3 columns</p>\n",
              "</div>"
            ],
            "text/plain": [
              "     card_number  session_id  count(1)\n",
              "0           31.0           1         6\n",
              "1           33.0           9         5\n",
              "2            2.0          10         4\n",
              "3           28.0          11         4\n",
              "4           38.0           2         4\n",
              "..           ...         ...       ...\n",
              "481         39.0           7         1\n",
              "482         39.0           8         1\n",
              "483         39.0           9         1\n",
              "484         39.0          10         1\n",
              "485         39.0          11         1\n",
              "\n",
              "[486 rows x 3 columns]"
            ]
          },
          "metadata": {
            "tags": []
          },
          "execution_count": 108
        }
      ]
    },
    {
      "cell_type": "markdown",
      "metadata": {
        "id": "YKRl4FLpmF04"
      },
      "source": [
        "# 4. Еще один способ серий"
      ]
    },
    {
      "cell_type": "markdown",
      "metadata": {
        "id": "XErdI4ISrRW-"
      },
      "source": [
        "https://stackoverflow.com/questions/20402089/detect-consecutive-dates-ranges-using-sql"
      ]
    },
    {
      "cell_type": "code",
      "metadata": {
        "id": "MI2DD5oXqGa9"
      },
      "source": [
        "sql = '''select * from sales_day_1 t limit 10'''"
      ],
      "execution_count": null,
      "outputs": []
    },
    {
      "cell_type": "code",
      "metadata": {
        "colab": {
          "base_uri": "https://localhost:8080/",
          "height": 359
        },
        "id": "2vDHP--VqLpU",
        "outputId": "ac82e59a-868f-4261-8f81-b898612843be"
      },
      "source": [
        "select(sql)"
      ],
      "execution_count": null,
      "outputs": [
        {
          "output_type": "execute_result",
          "data": {
            "text/html": [
              "<div>\n",
              "<style scoped>\n",
              "    .dataframe tbody tr th:only-of-type {\n",
              "        vertical-align: middle;\n",
              "    }\n",
              "\n",
              "    .dataframe tbody tr th {\n",
              "        vertical-align: top;\n",
              "    }\n",
              "\n",
              "    .dataframe thead th {\n",
              "        text-align: right;\n",
              "    }\n",
              "</style>\n",
              "<table border=\"1\" class=\"dataframe\">\n",
              "  <thead>\n",
              "    <tr style=\"text-align: right;\">\n",
              "      <th></th>\n",
              "      <th>dt</th>\n",
              "      <th>card_number</th>\n",
              "      <th>grocery_flg</th>\n",
              "      <th>num_purchases</th>\n",
              "      <th>discount</th>\n",
              "    </tr>\n",
              "  </thead>\n",
              "  <tbody>\n",
              "    <tr>\n",
              "      <th>0</th>\n",
              "      <td>2020-04-01</td>\n",
              "      <td>NaN</td>\n",
              "      <td>1</td>\n",
              "      <td>2</td>\n",
              "      <td>0.05</td>\n",
              "    </tr>\n",
              "    <tr>\n",
              "      <th>1</th>\n",
              "      <td>2020-04-01</td>\n",
              "      <td>1.0</td>\n",
              "      <td>1</td>\n",
              "      <td>1</td>\n",
              "      <td>0.00</td>\n",
              "    </tr>\n",
              "    <tr>\n",
              "      <th>2</th>\n",
              "      <td>2020-04-01</td>\n",
              "      <td>7.0</td>\n",
              "      <td>1</td>\n",
              "      <td>1</td>\n",
              "      <td>0.00</td>\n",
              "    </tr>\n",
              "    <tr>\n",
              "      <th>3</th>\n",
              "      <td>2020-04-01</td>\n",
              "      <td>10.0</td>\n",
              "      <td>1</td>\n",
              "      <td>1</td>\n",
              "      <td>0.10</td>\n",
              "    </tr>\n",
              "    <tr>\n",
              "      <th>4</th>\n",
              "      <td>2020-04-01</td>\n",
              "      <td>20.0</td>\n",
              "      <td>1</td>\n",
              "      <td>2</td>\n",
              "      <td>0.05</td>\n",
              "    </tr>\n",
              "    <tr>\n",
              "      <th>5</th>\n",
              "      <td>2020-04-01</td>\n",
              "      <td>21.0</td>\n",
              "      <td>1</td>\n",
              "      <td>1</td>\n",
              "      <td>0.00</td>\n",
              "    </tr>\n",
              "    <tr>\n",
              "      <th>6</th>\n",
              "      <td>2020-04-01</td>\n",
              "      <td>22.0</td>\n",
              "      <td>1</td>\n",
              "      <td>1</td>\n",
              "      <td>0.05</td>\n",
              "    </tr>\n",
              "    <tr>\n",
              "      <th>7</th>\n",
              "      <td>2020-04-01</td>\n",
              "      <td>23.0</td>\n",
              "      <td>1</td>\n",
              "      <td>3</td>\n",
              "      <td>0.05</td>\n",
              "    </tr>\n",
              "    <tr>\n",
              "      <th>8</th>\n",
              "      <td>2020-04-01</td>\n",
              "      <td>28.0</td>\n",
              "      <td>1</td>\n",
              "      <td>1</td>\n",
              "      <td>0.00</td>\n",
              "    </tr>\n",
              "    <tr>\n",
              "      <th>9</th>\n",
              "      <td>2020-04-01</td>\n",
              "      <td>32.0</td>\n",
              "      <td>1</td>\n",
              "      <td>1</td>\n",
              "      <td>0.15</td>\n",
              "    </tr>\n",
              "  </tbody>\n",
              "</table>\n",
              "</div>"
            ],
            "text/plain": [
              "           dt  card_number  grocery_flg  num_purchases  discount\n",
              "0  2020-04-01          NaN            1              2      0.05\n",
              "1  2020-04-01          1.0            1              1      0.00\n",
              "2  2020-04-01          7.0            1              1      0.00\n",
              "3  2020-04-01         10.0            1              1      0.10\n",
              "4  2020-04-01         20.0            1              2      0.05\n",
              "5  2020-04-01         21.0            1              1      0.00\n",
              "6  2020-04-01         22.0            1              1      0.05\n",
              "7  2020-04-01         23.0            1              3      0.05\n",
              "8  2020-04-01         28.0            1              1      0.00\n",
              "9  2020-04-01         32.0            1              1      0.15"
            ]
          },
          "metadata": {
            "tags": []
          },
          "execution_count": 111
        }
      ]
    },
    {
      "cell_type": "code",
      "metadata": {
        "id": "DvT42v_mp83o"
      },
      "source": [
        "sql = '''WITH t AS (\n",
        "  SELECT t.dt as d,\n",
        "  t.card_number,\n",
        "  ROW_NUMBER() OVER(partition by t.card_number ORDER BY t.dt) i\n",
        "  FROM sales_day_1 t\n",
        "  GROUP BY t.dt\n",
        ")\n",
        "SELECT MIN(d),MAX(d)\n",
        "FROM t\n",
        "GROUP BY DATEDIFF(day,i,d)'''"
      ],
      "execution_count": null,
      "outputs": []
    },
    {
      "cell_type": "code",
      "metadata": {
        "id": "WFse0E9pq9BJ"
      },
      "source": [
        "select(sql)"
      ],
      "execution_count": null,
      "outputs": []
    },
    {
      "cell_type": "markdown",
      "metadata": {
        "id": "ZZFddgjRo_L2"
      },
      "source": [
        "Слишком геморно и я забил"
      ]
    },
    {
      "cell_type": "markdown",
      "metadata": {
        "id": "O1iTtsd7p_Tp"
      },
      "source": [
        "# 5. Скидка"
      ]
    },
    {
      "cell_type": "markdown",
      "metadata": {
        "id": "015Z3itEpHtB"
      },
      "source": [
        "https://stackoverflow.com/a/5416210"
      ]
    },
    {
      "cell_type": "code",
      "metadata": {
        "colab": {
          "base_uri": "https://localhost:8080/",
          "height": 35
        },
        "id": "GZ77iu2zrabI",
        "outputId": "93c44174-6cb0-4626-f35a-369b280eb6e3"
      },
      "source": [
        "'''select EXP(SUM(LOG(yourColumn))) As ColumnProduct from yourTable'''"
      ],
      "execution_count": null,
      "outputs": [
        {
          "output_type": "execute_result",
          "data": {
            "application/vnd.google.colaboratory.intrinsic+json": {
              "type": "string"
            },
            "text/plain": [
              "'select EXP(SUM(LOG(yourColumn))) As ColumnProduct from yourTable'"
            ]
          },
          "metadata": {
            "tags": []
          },
          "execution_count": 114
        }
      ]
    },
    {
      "cell_type": "code",
      "metadata": {
        "colab": {
          "base_uri": "https://localhost:8080/"
        },
        "id": "SKz9WwmYto3Q",
        "outputId": "dd55878c-fe11-475f-9448-a608e3721d88"
      },
      "source": [
        "np.log(np.e)"
      ],
      "execution_count": null,
      "outputs": [
        {
          "output_type": "execute_result",
          "data": {
            "text/plain": [
              "1.0"
            ]
          },
          "metadata": {
            "tags": []
          },
          "execution_count": 128
        }
      ]
    },
    {
      "cell_type": "code",
      "metadata": {
        "id": "OF5HEpb9tk7-"
      },
      "source": [
        "con.create_function(\"log\", 1, np.log)\n",
        "con.create_function(\"exp\", 1, np.exp)"
      ],
      "execution_count": null,
      "outputs": []
    },
    {
      "cell_type": "code",
      "metadata": {
        "id": "uKQGiv5fr137"
      },
      "source": [
        "sql = '''select \n",
        "\n",
        "t.card_number,\n",
        "t.session_id,\n",
        "\n",
        "count(1) as purchase_count,\n",
        "\n",
        "\n",
        "1-EXP(SUM(log(1-t.discount))) as final_discount\n",
        "\n",
        "\n",
        "from sales_day_3 t\n",
        "\n",
        "where t.card_number is not null\n",
        "\n",
        "group by\n",
        "t.card_number,\n",
        "t.session_id\n",
        "\n",
        "order by 1-EXP(SUM(log(1-t.discount))) desc\n",
        "\n",
        "'''"
      ],
      "execution_count": null,
      "outputs": []
    },
    {
      "cell_type": "code",
      "metadata": {
        "colab": {
          "base_uri": "https://localhost:8080/",
          "height": 419
        },
        "id": "7bISeKJRsK0g",
        "outputId": "9fdb7d32-a04a-4e00-a1f6-e25453125b29"
      },
      "source": [
        "select(sql)"
      ],
      "execution_count": null,
      "outputs": [
        {
          "output_type": "execute_result",
          "data": {
            "text/html": [
              "<div>\n",
              "<style scoped>\n",
              "    .dataframe tbody tr th:only-of-type {\n",
              "        vertical-align: middle;\n",
              "    }\n",
              "\n",
              "    .dataframe tbody tr th {\n",
              "        vertical-align: top;\n",
              "    }\n",
              "\n",
              "    .dataframe thead th {\n",
              "        text-align: right;\n",
              "    }\n",
              "</style>\n",
              "<table border=\"1\" class=\"dataframe\">\n",
              "  <thead>\n",
              "    <tr style=\"text-align: right;\">\n",
              "      <th></th>\n",
              "      <th>card_number</th>\n",
              "      <th>session_id</th>\n",
              "      <th>purchase_count</th>\n",
              "      <th>final_discount</th>\n",
              "    </tr>\n",
              "  </thead>\n",
              "  <tbody>\n",
              "    <tr>\n",
              "      <th>0</th>\n",
              "      <td>31.0</td>\n",
              "      <td>1</td>\n",
              "      <td>6</td>\n",
              "      <td>0.382263</td>\n",
              "    </tr>\n",
              "    <tr>\n",
              "      <th>1</th>\n",
              "      <td>11.0</td>\n",
              "      <td>5</td>\n",
              "      <td>3</td>\n",
              "      <td>0.313625</td>\n",
              "    </tr>\n",
              "    <tr>\n",
              "      <th>2</th>\n",
              "      <td>33.0</td>\n",
              "      <td>9</td>\n",
              "      <td>5</td>\n",
              "      <td>0.273250</td>\n",
              "    </tr>\n",
              "    <tr>\n",
              "      <th>3</th>\n",
              "      <td>2.0</td>\n",
              "      <td>10</td>\n",
              "      <td>4</td>\n",
              "      <td>0.268975</td>\n",
              "    </tr>\n",
              "    <tr>\n",
              "      <th>4</th>\n",
              "      <td>29.0</td>\n",
              "      <td>13</td>\n",
              "      <td>2</td>\n",
              "      <td>0.235000</td>\n",
              "    </tr>\n",
              "    <tr>\n",
              "      <th>...</th>\n",
              "      <td>...</td>\n",
              "      <td>...</td>\n",
              "      <td>...</td>\n",
              "      <td>...</td>\n",
              "    </tr>\n",
              "    <tr>\n",
              "      <th>481</th>\n",
              "      <td>39.0</td>\n",
              "      <td>2</td>\n",
              "      <td>1</td>\n",
              "      <td>0.000000</td>\n",
              "    </tr>\n",
              "    <tr>\n",
              "      <th>482</th>\n",
              "      <td>39.0</td>\n",
              "      <td>4</td>\n",
              "      <td>1</td>\n",
              "      <td>0.000000</td>\n",
              "    </tr>\n",
              "    <tr>\n",
              "      <th>483</th>\n",
              "      <td>39.0</td>\n",
              "      <td>5</td>\n",
              "      <td>1</td>\n",
              "      <td>0.000000</td>\n",
              "    </tr>\n",
              "    <tr>\n",
              "      <th>484</th>\n",
              "      <td>39.0</td>\n",
              "      <td>9</td>\n",
              "      <td>1</td>\n",
              "      <td>0.000000</td>\n",
              "    </tr>\n",
              "    <tr>\n",
              "      <th>485</th>\n",
              "      <td>39.0</td>\n",
              "      <td>11</td>\n",
              "      <td>1</td>\n",
              "      <td>0.000000</td>\n",
              "    </tr>\n",
              "  </tbody>\n",
              "</table>\n",
              "<p>486 rows × 4 columns</p>\n",
              "</div>"
            ],
            "text/plain": [
              "     card_number  session_id  purchase_count  final_discount\n",
              "0           31.0           1               6        0.382263\n",
              "1           11.0           5               3        0.313625\n",
              "2           33.0           9               5        0.273250\n",
              "3            2.0          10               4        0.268975\n",
              "4           29.0          13               2        0.235000\n",
              "..           ...         ...             ...             ...\n",
              "481         39.0           2               1        0.000000\n",
              "482         39.0           4               1        0.000000\n",
              "483         39.0           5               1        0.000000\n",
              "484         39.0           9               1        0.000000\n",
              "485         39.0          11               1        0.000000\n",
              "\n",
              "[486 rows x 4 columns]"
            ]
          },
          "metadata": {
            "tags": []
          },
          "execution_count": 146
        }
      ]
    },
    {
      "cell_type": "code",
      "metadata": {
        "id": "f7PewCB9sQcO"
      },
      "source": [
        "sql = '''select \n",
        "\n",
        "*\n",
        "\n",
        "from sales_day_3 t\n",
        "\n",
        "where t.card_number = 31 and t.session_id = 1\n",
        "\n",
        "'''"
      ],
      "execution_count": null,
      "outputs": []
    },
    {
      "cell_type": "code",
      "metadata": {
        "id": "ToO_xdVNvGJE"
      },
      "source": [
        "t = select(sql)"
      ],
      "execution_count": null,
      "outputs": []
    },
    {
      "cell_type": "code",
      "metadata": {
        "colab": {
          "base_uri": "https://localhost:8080/"
        },
        "id": "ch36cgiOvGpi",
        "outputId": "937c713f-6e0d-476b-9c5a-e553032f2161"
      },
      "source": [
        "1-(1-t['discount']).prod()"
      ],
      "execution_count": null,
      "outputs": [
        {
          "output_type": "execute_result",
          "data": {
            "text/plain": [
              "0.38226250000000006"
            ]
          },
          "metadata": {
            "tags": []
          },
          "execution_count": 154
        }
      ]
    },
    {
      "cell_type": "markdown",
      "metadata": {
        "id": "Z22a1U7lvMuS"
      },
      "source": [
        "# 6. Имеется следующая структура данных - данные записываются для каждого пользователя, совершавшего покупки, каждый день. Под каждую дату есть своя папка, внутри неё папки для каждого пользователя. Внутри каждой папки есть файл data.csv, где и хранятся данные. Требуется собрать данные из папки data в 1 датафрэйм, где будут две колонки из самих файлов (product_id, quantity), а также имя пользователя, и дата этих покупок (соответствует названию папки, где лежит папка с пользователем)"
      ]
    },
    {
      "cell_type": "code",
      "metadata": {
        "colab": {
          "base_uri": "https://localhost:8080/"
        },
        "id": "GAX8KNK5wR_Y",
        "outputId": "f4f67292-93e2-48be-d535-18fabcb9f7d1"
      },
      "source": [
        "! ls"
      ],
      "execution_count": null,
      "outputs": [
        {
          "output_type": "stream",
          "text": [
            "build\t       LICENSE\t    README.md\t setup.py   sqlite3.h\t   test\n",
            "build-scripts  MANIFEST.in  sample_data  sqlite     sqlite.tar.gz  TODO\n",
            "db\t       pysqlite3    setup.cfg\t sqlite3.c  src\n"
          ],
          "name": "stdout"
        }
      ]
    },
    {
      "cell_type": "code",
      "metadata": {
        "colab": {
          "base_uri": "https://localhost:8080/"
        },
        "id": "EOZ7PzV7xD77",
        "outputId": "40d309d1-35ab-4513-ae14-bfba47f6933c"
      },
      "source": [
        "! pwd"
      ],
      "execution_count": null,
      "outputs": [
        {
          "output_type": "stream",
          "text": [
            "/content\n"
          ],
          "name": "stdout"
        }
      ]
    },
    {
      "cell_type": "code",
      "metadata": {
        "id": "eb9Je_DxxH7b"
      },
      "source": [
        "! mkdir mydir"
      ],
      "execution_count": null,
      "outputs": []
    },
    {
      "cell_type": "code",
      "metadata": {
        "id": "FxXdZb0rxMpa"
      },
      "source": [
        "! touch ./mydir/file"
      ],
      "execution_count": null,
      "outputs": []
    },
    {
      "cell_type": "code",
      "metadata": {
        "id": "eyaHiODVxXk6"
      },
      "source": [
        "df = pd.DataFrame({'product_id':[1,2],'quantity':[2,3]})"
      ],
      "execution_count": null,
      "outputs": []
    },
    {
      "cell_type": "code",
      "metadata": {
        "id": "r4IrPj-rxng5"
      },
      "source": [
        "df.to_csv('./mydir/data.csv',index=False)"
      ],
      "execution_count": null,
      "outputs": []
    },
    {
      "cell_type": "code",
      "metadata": {
        "id": "D22x3aiQxn6j"
      },
      "source": [
        "! rm /content/mydir/data.csv"
      ],
      "execution_count": null,
      "outputs": []
    },
    {
      "cell_type": "code",
      "metadata": {
        "id": "lGXw7dosyCnf"
      },
      "source": [
        "! rm /content/mydir/file"
      ],
      "execution_count": null,
      "outputs": []
    },
    {
      "cell_type": "code",
      "metadata": {
        "id": "Uuw5jizdyHnt"
      },
      "source": [
        "df = pd.DataFrame({'user_id':[1,1,2,2],\n",
        "                   'dt':['2020-12-24','2020-12-23','2020-12-24','2020-12-23'],\n",
        "                   'product_id':[1,2,3,2],\n",
        "                   'quantity':[2,3,5,7]})"
      ],
      "execution_count": null,
      "outputs": []
    },
    {
      "cell_type": "code",
      "metadata": {
        "colab": {
          "base_uri": "https://localhost:8080/",
          "height": 173
        },
        "id": "jMXc32Kkyo69",
        "outputId": "29bf04a9-58a7-445b-d134-aa31762c2009"
      },
      "source": [
        "df"
      ],
      "execution_count": null,
      "outputs": [
        {
          "output_type": "execute_result",
          "data": {
            "text/html": [
              "<div>\n",
              "<style scoped>\n",
              "    .dataframe tbody tr th:only-of-type {\n",
              "        vertical-align: middle;\n",
              "    }\n",
              "\n",
              "    .dataframe tbody tr th {\n",
              "        vertical-align: top;\n",
              "    }\n",
              "\n",
              "    .dataframe thead th {\n",
              "        text-align: right;\n",
              "    }\n",
              "</style>\n",
              "<table border=\"1\" class=\"dataframe\">\n",
              "  <thead>\n",
              "    <tr style=\"text-align: right;\">\n",
              "      <th></th>\n",
              "      <th>user_id</th>\n",
              "      <th>dt</th>\n",
              "      <th>product_id</th>\n",
              "      <th>quantity</th>\n",
              "    </tr>\n",
              "  </thead>\n",
              "  <tbody>\n",
              "    <tr>\n",
              "      <th>0</th>\n",
              "      <td>1</td>\n",
              "      <td>2020-12-24</td>\n",
              "      <td>1</td>\n",
              "      <td>2</td>\n",
              "    </tr>\n",
              "    <tr>\n",
              "      <th>1</th>\n",
              "      <td>1</td>\n",
              "      <td>2020-12-23</td>\n",
              "      <td>2</td>\n",
              "      <td>3</td>\n",
              "    </tr>\n",
              "    <tr>\n",
              "      <th>2</th>\n",
              "      <td>2</td>\n",
              "      <td>2020-12-24</td>\n",
              "      <td>3</td>\n",
              "      <td>5</td>\n",
              "    </tr>\n",
              "    <tr>\n",
              "      <th>3</th>\n",
              "      <td>2</td>\n",
              "      <td>2020-12-23</td>\n",
              "      <td>2</td>\n",
              "      <td>7</td>\n",
              "    </tr>\n",
              "  </tbody>\n",
              "</table>\n",
              "</div>"
            ],
            "text/plain": [
              "   user_id          dt  product_id  quantity\n",
              "0        1  2020-12-24           1         2\n",
              "1        1  2020-12-23           2         3\n",
              "2        2  2020-12-24           3         5\n",
              "3        2  2020-12-23           2         7"
            ]
          },
          "metadata": {
            "tags": []
          },
          "execution_count": 168
        }
      ]
    },
    {
      "cell_type": "code",
      "metadata": {
        "id": "WIYqH0O1ypWi"
      },
      "source": [
        "import os"
      ],
      "execution_count": null,
      "outputs": []
    },
    {
      "cell_type": "code",
      "metadata": {
        "id": "SsCp_89T0Fra"
      },
      "source": [
        "os.makedirs('/content/mydir/2020-12-24')"
      ],
      "execution_count": null,
      "outputs": []
    },
    {
      "cell_type": "code",
      "metadata": {
        "colab": {
          "base_uri": "https://localhost:8080/"
        },
        "id": "HxdBO_8b0IJj",
        "outputId": "50dabacd-9ef4-47cc-861b-0b354051a3cd"
      },
      "source": [
        "df['dt'].unique()"
      ],
      "execution_count": null,
      "outputs": [
        {
          "output_type": "execute_result",
          "data": {
            "text/plain": [
              "array(['2020-12-24', '2020-12-23'], dtype=object)"
            ]
          },
          "metadata": {
            "tags": []
          },
          "execution_count": 173
        }
      ]
    },
    {
      "cell_type": "code",
      "metadata": {
        "colab": {
          "base_uri": "https://localhost:8080/"
        },
        "id": "Z4l5M-w20pJt",
        "outputId": "1dd2807f-3205-4e12-f84b-e908320de82e"
      },
      "source": [
        "for dt in df['dt'].unique():\n",
        "\n",
        "  date_dir = f'/content/mydir/{dt}'\n",
        "\n",
        "  if not os.path.exists(date_dir):\n",
        "    os.makedirs(date_dir)\n",
        "\n",
        "  for user_id in df[df['dt']==dt]['user_id'].unique():\n",
        "\n",
        "    user_dir = f'/content/mydir/{dt}/{user_id}'\n",
        "    if not os.path.exists(user_dir):\n",
        "      os.makedirs(user_dir)\n",
        "      \n",
        "    (df[(df['dt']==dt)&(df['user_id']==user_id)][['product_id','quantity']]\n",
        "     .to_csv(user_dir+'/data.csv',index=False))\n"
      ],
      "execution_count": null,
      "outputs": [
        {
          "output_type": "stream",
          "text": [
            "   product_id  quantity\n",
            "0           1         2\n",
            "   product_id  quantity\n",
            "2           3         5\n",
            "   product_id  quantity\n",
            "1           2         3\n",
            "   product_id  quantity\n",
            "3           2         7\n"
          ],
          "name": "stdout"
        }
      ]
    },
    {
      "cell_type": "code",
      "metadata": {
        "id": "7NXBwIU80w3u"
      },
      "source": [
        "rootdir = '/content/mydir'\n",
        "\n",
        "dfs = []\n",
        "\n",
        "for subdir, dirs, files in os.walk(rootdir):\n",
        "    for file in files:\n",
        "      file_path = os.path.join(subdir, file)\n",
        "      df = pd.read_csv(file_path)\n",
        "      df['dt'] = file_path.split('/')[3]\n",
        "      df['user_id'] = file_path.split('/')[4]\n",
        "      dfs.append(df)"
      ],
      "execution_count": null,
      "outputs": []
    },
    {
      "cell_type": "code",
      "metadata": {
        "colab": {
          "base_uri": "https://localhost:8080/",
          "height": 173
        },
        "id": "FeunrtoM34qh",
        "outputId": "244f458d-901a-49bd-b461-37d3d4f94475"
      },
      "source": [
        "pd.concat(dfs)"
      ],
      "execution_count": null,
      "outputs": [
        {
          "output_type": "execute_result",
          "data": {
            "text/html": [
              "<div>\n",
              "<style scoped>\n",
              "    .dataframe tbody tr th:only-of-type {\n",
              "        vertical-align: middle;\n",
              "    }\n",
              "\n",
              "    .dataframe tbody tr th {\n",
              "        vertical-align: top;\n",
              "    }\n",
              "\n",
              "    .dataframe thead th {\n",
              "        text-align: right;\n",
              "    }\n",
              "</style>\n",
              "<table border=\"1\" class=\"dataframe\">\n",
              "  <thead>\n",
              "    <tr style=\"text-align: right;\">\n",
              "      <th></th>\n",
              "      <th>product_id</th>\n",
              "      <th>quantity</th>\n",
              "      <th>dt</th>\n",
              "      <th>user_id</th>\n",
              "    </tr>\n",
              "  </thead>\n",
              "  <tbody>\n",
              "    <tr>\n",
              "      <th>0</th>\n",
              "      <td>1</td>\n",
              "      <td>2</td>\n",
              "      <td>2020-12-24</td>\n",
              "      <td>1</td>\n",
              "    </tr>\n",
              "    <tr>\n",
              "      <th>0</th>\n",
              "      <td>3</td>\n",
              "      <td>5</td>\n",
              "      <td>2020-12-24</td>\n",
              "      <td>2</td>\n",
              "    </tr>\n",
              "    <tr>\n",
              "      <th>0</th>\n",
              "      <td>2</td>\n",
              "      <td>3</td>\n",
              "      <td>2020-12-23</td>\n",
              "      <td>1</td>\n",
              "    </tr>\n",
              "    <tr>\n",
              "      <th>0</th>\n",
              "      <td>2</td>\n",
              "      <td>7</td>\n",
              "      <td>2020-12-23</td>\n",
              "      <td>2</td>\n",
              "    </tr>\n",
              "  </tbody>\n",
              "</table>\n",
              "</div>"
            ],
            "text/plain": [
              "   product_id  quantity          dt user_id\n",
              "0           1         2  2020-12-24       1\n",
              "0           3         5  2020-12-24       2\n",
              "0           2         3  2020-12-23       1\n",
              "0           2         7  2020-12-23       2"
            ]
          },
          "metadata": {
            "tags": []
          },
          "execution_count": 193
        }
      ]
    },
    {
      "cell_type": "code",
      "metadata": {
        "id": "-4CIm8qa5F3x"
      },
      "source": [
        ""
      ],
      "execution_count": null,
      "outputs": []
    }
  ]
}