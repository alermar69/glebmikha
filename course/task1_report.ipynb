{
 "cells": [
  {
   "cell_type": "code",
   "execution_count": 1,
   "metadata": {
    "collapsed": true,
    "pycharm": {
     "name": "#%%\n"
    }
   },
   "outputs": [],
   "source": [
    "import pandas as pd\n",
    "import numpy as np\n",
    "import sqlite3"
   ]
  },
  {
   "cell_type": "code",
   "execution_count": 2,
   "outputs": [],
   "source": [
    "con = sqlite3.connect('db')"
   ],
   "metadata": {
    "collapsed": false,
    "pycharm": {
     "name": "#%%\n"
    }
   }
  },
  {
   "cell_type": "code",
   "execution_count": 3,
   "outputs": [],
   "source": [
    "def select(sql):\n",
    "    return pd.read_sql(sql, con)"
   ],
   "metadata": {
    "collapsed": false,
    "pycharm": {
     "name": "#%%\n"
    }
   }
  },
  {
   "cell_type": "code",
   "execution_count": 4,
   "outputs": [
    {
     "data": {
      "text/plain": "     age     sex  job housing saving_accounts checking_account  credit_amount  \\\n0     33    male    2     own            None             None           3074   \n1     43    male    1     own          little           little           1344   \n2     52    male    2     own      quite rich             None            936   \n3     35  female    3     own          little             None           1393   \n4     28    male    2     own          little             None            776   \n..   ...     ...  ...     ...             ...              ...            ...   \n995   65    male    2    free          little           little           2600   \n996   30    male    3     own          little         moderate           4455   \n997   33    male    2     own          little         moderate           6403   \n998   29  female    2     own            None             None           5003   \n999   44    male    2     own        moderate         moderate           1804   \n\n     duration    purpose  default          contract_dt  client_id  \n0           9   radio/TV        0  2008-06-29 18:52:00        210  \n1          12        car        0  2007-05-20 18:30:19        929  \n2           9  education        0  2008-04-27 08:23:07        200  \n3          11        car        0  2007-05-06 10:58:22         45  \n4          12   radio/TV        0  2007-07-21 13:22:14        358  \n..        ...        ...      ...                  ...        ...  \n995        18   radio/TV        1  2007-12-16 20:17:19        624  \n996        36   business        1  2007-07-12 14:08:58        181  \n997        24   radio/TV        0  2008-04-08 03:24:26        730  \n998        21        car        1  2007-11-29 15:51:45        557  \n999        12        car        0  2007-08-14 09:05:33         23  \n\n[1000 rows x 12 columns]",
      "text/html": "<div>\n<style scoped>\n    .dataframe tbody tr th:only-of-type {\n        vertical-align: middle;\n    }\n\n    .dataframe tbody tr th {\n        vertical-align: top;\n    }\n\n    .dataframe thead th {\n        text-align: right;\n    }\n</style>\n<table border=\"1\" class=\"dataframe\">\n  <thead>\n    <tr style=\"text-align: right;\">\n      <th></th>\n      <th>age</th>\n      <th>sex</th>\n      <th>job</th>\n      <th>housing</th>\n      <th>saving_accounts</th>\n      <th>checking_account</th>\n      <th>credit_amount</th>\n      <th>duration</th>\n      <th>purpose</th>\n      <th>default</th>\n      <th>contract_dt</th>\n      <th>client_id</th>\n    </tr>\n  </thead>\n  <tbody>\n    <tr>\n      <th>0</th>\n      <td>33</td>\n      <td>male</td>\n      <td>2</td>\n      <td>own</td>\n      <td>None</td>\n      <td>None</td>\n      <td>3074</td>\n      <td>9</td>\n      <td>radio/TV</td>\n      <td>0</td>\n      <td>2008-06-29 18:52:00</td>\n      <td>210</td>\n    </tr>\n    <tr>\n      <th>1</th>\n      <td>43</td>\n      <td>male</td>\n      <td>1</td>\n      <td>own</td>\n      <td>little</td>\n      <td>little</td>\n      <td>1344</td>\n      <td>12</td>\n      <td>car</td>\n      <td>0</td>\n      <td>2007-05-20 18:30:19</td>\n      <td>929</td>\n    </tr>\n    <tr>\n      <th>2</th>\n      <td>52</td>\n      <td>male</td>\n      <td>2</td>\n      <td>own</td>\n      <td>quite rich</td>\n      <td>None</td>\n      <td>936</td>\n      <td>9</td>\n      <td>education</td>\n      <td>0</td>\n      <td>2008-04-27 08:23:07</td>\n      <td>200</td>\n    </tr>\n    <tr>\n      <th>3</th>\n      <td>35</td>\n      <td>female</td>\n      <td>3</td>\n      <td>own</td>\n      <td>little</td>\n      <td>None</td>\n      <td>1393</td>\n      <td>11</td>\n      <td>car</td>\n      <td>0</td>\n      <td>2007-05-06 10:58:22</td>\n      <td>45</td>\n    </tr>\n    <tr>\n      <th>4</th>\n      <td>28</td>\n      <td>male</td>\n      <td>2</td>\n      <td>own</td>\n      <td>little</td>\n      <td>None</td>\n      <td>776</td>\n      <td>12</td>\n      <td>radio/TV</td>\n      <td>0</td>\n      <td>2007-07-21 13:22:14</td>\n      <td>358</td>\n    </tr>\n    <tr>\n      <th>...</th>\n      <td>...</td>\n      <td>...</td>\n      <td>...</td>\n      <td>...</td>\n      <td>...</td>\n      <td>...</td>\n      <td>...</td>\n      <td>...</td>\n      <td>...</td>\n      <td>...</td>\n      <td>...</td>\n      <td>...</td>\n    </tr>\n    <tr>\n      <th>995</th>\n      <td>65</td>\n      <td>male</td>\n      <td>2</td>\n      <td>free</td>\n      <td>little</td>\n      <td>little</td>\n      <td>2600</td>\n      <td>18</td>\n      <td>radio/TV</td>\n      <td>1</td>\n      <td>2007-12-16 20:17:19</td>\n      <td>624</td>\n    </tr>\n    <tr>\n      <th>996</th>\n      <td>30</td>\n      <td>male</td>\n      <td>3</td>\n      <td>own</td>\n      <td>little</td>\n      <td>moderate</td>\n      <td>4455</td>\n      <td>36</td>\n      <td>business</td>\n      <td>1</td>\n      <td>2007-07-12 14:08:58</td>\n      <td>181</td>\n    </tr>\n    <tr>\n      <th>997</th>\n      <td>33</td>\n      <td>male</td>\n      <td>2</td>\n      <td>own</td>\n      <td>little</td>\n      <td>moderate</td>\n      <td>6403</td>\n      <td>24</td>\n      <td>radio/TV</td>\n      <td>0</td>\n      <td>2008-04-08 03:24:26</td>\n      <td>730</td>\n    </tr>\n    <tr>\n      <th>998</th>\n      <td>29</td>\n      <td>female</td>\n      <td>2</td>\n      <td>own</td>\n      <td>None</td>\n      <td>None</td>\n      <td>5003</td>\n      <td>21</td>\n      <td>car</td>\n      <td>1</td>\n      <td>2007-11-29 15:51:45</td>\n      <td>557</td>\n    </tr>\n    <tr>\n      <th>999</th>\n      <td>44</td>\n      <td>male</td>\n      <td>2</td>\n      <td>own</td>\n      <td>moderate</td>\n      <td>moderate</td>\n      <td>1804</td>\n      <td>12</td>\n      <td>car</td>\n      <td>0</td>\n      <td>2007-08-14 09:05:33</td>\n      <td>23</td>\n    </tr>\n  </tbody>\n</table>\n<p>1000 rows × 12 columns</p>\n</div>"
     },
     "execution_count": 4,
     "metadata": {},
     "output_type": "execute_result"
    }
   ],
   "source": [
    "sql = '''select * from german_credit'''\n",
    "select(sql)"
   ],
   "metadata": {
    "collapsed": false,
    "pycharm": {
     "name": "#%%\n"
    }
   }
  },
  {
   "cell_type": "code",
   "execution_count": 7,
   "outputs": [
    {
     "name": "stderr",
     "output_type": "stream",
     "text": [
      "Downloading...\n",
      "From: https://drive.google.com/uc?id=1ksjv4EsLItdn9rYA4oxislish-c4eE4D\n",
      "To: E:\\Projects\\glebmikha\\course\\german_credit_augmented_transactions.csv\n",
      "\n",
      "  0%|          | 0.00/134k [00:00<?, ?B/s]\n",
      "100%|##########| 134k/134k [00:00<00:00, 1.28MB/s]\n",
      "100%|##########| 134k/134k [00:00<00:00, 1.27MB/s]\n"
     ]
    }
   ],
   "source": [
    "! gdown --id 1ksjv4EsLItdn9rYA4oxislish-c4eE4D"
   ],
   "metadata": {
    "collapsed": false,
    "pycharm": {
     "name": "#%%\n"
    }
   }
  },
  {
   "cell_type": "code",
   "execution_count": 5,
   "outputs": [],
   "source": [
    "transactions = pd.read_csv('german_credit_augmented_transactions.csv')"
   ],
   "metadata": {
    "collapsed": false,
    "pycharm": {
     "name": "#%%\n"
    }
   }
  },
  {
   "cell_type": "code",
   "execution_count": 6,
   "outputs": [
    {
     "data": {
      "text/plain": "                    dt  client_id  amount\n0  2008-04-06 11:54:47        950  161.38\n1  2007-07-28 00:00:19        418   35.34\n2  2008-03-14 20:43:54        131  146.50\n3  2007-12-18 13:03:24        353  119.21\n4  2007-11-09 05:18:30        849  105.24",
      "text/html": "<div>\n<style scoped>\n    .dataframe tbody tr th:only-of-type {\n        vertical-align: middle;\n    }\n\n    .dataframe tbody tr th {\n        vertical-align: top;\n    }\n\n    .dataframe thead th {\n        text-align: right;\n    }\n</style>\n<table border=\"1\" class=\"dataframe\">\n  <thead>\n    <tr style=\"text-align: right;\">\n      <th></th>\n      <th>dt</th>\n      <th>client_id</th>\n      <th>amount</th>\n    </tr>\n  </thead>\n  <tbody>\n    <tr>\n      <th>0</th>\n      <td>2008-04-06 11:54:47</td>\n      <td>950</td>\n      <td>161.38</td>\n    </tr>\n    <tr>\n      <th>1</th>\n      <td>2007-07-28 00:00:19</td>\n      <td>418</td>\n      <td>35.34</td>\n    </tr>\n    <tr>\n      <th>2</th>\n      <td>2008-03-14 20:43:54</td>\n      <td>131</td>\n      <td>146.50</td>\n    </tr>\n    <tr>\n      <th>3</th>\n      <td>2007-12-18 13:03:24</td>\n      <td>353</td>\n      <td>119.21</td>\n    </tr>\n    <tr>\n      <th>4</th>\n      <td>2007-11-09 05:18:30</td>\n      <td>849</td>\n      <td>105.24</td>\n    </tr>\n  </tbody>\n</table>\n</div>"
     },
     "execution_count": 6,
     "metadata": {},
     "output_type": "execute_result"
    }
   ],
   "source": [
    "transactions.head()"
   ],
   "metadata": {
    "collapsed": false,
    "pycharm": {
     "name": "#%%\n"
    }
   }
  },
  {
   "cell_type": "code",
   "execution_count": 7,
   "outputs": [],
   "source": [
    "transactions.to_sql('client_transactions', con, if_exists='replace', index=False)"
   ],
   "metadata": {
    "collapsed": false,
    "pycharm": {
     "name": "#%%\n"
    }
   }
  },
  {
   "cell_type": "code",
   "execution_count": 8,
   "outputs": [
    {
     "data": {
      "text/plain": "                       dt  client_id    amount\n0     2008-04-06 11:54:47        950    161.38\n1     2007-07-28 00:00:19        418     35.34\n2     2008-03-14 20:43:54        131    146.50\n3     2007-12-18 13:03:24        353    119.21\n4     2007-11-09 05:18:30        849    105.24\n...                   ...        ...       ...\n4270  2007-08-18 04:05:05        185  10063.07\n4271  2007-06-04 15:23:32        375    156.91\n4272  2007-12-06 21:34:06        418  10053.82\n4273  2008-04-19 17:30:07        409  10050.35\n4274  2007-11-07 19:44:50        674    165.60\n\n[4275 rows x 3 columns]",
      "text/html": "<div>\n<style scoped>\n    .dataframe tbody tr th:only-of-type {\n        vertical-align: middle;\n    }\n\n    .dataframe tbody tr th {\n        vertical-align: top;\n    }\n\n    .dataframe thead th {\n        text-align: right;\n    }\n</style>\n<table border=\"1\" class=\"dataframe\">\n  <thead>\n    <tr style=\"text-align: right;\">\n      <th></th>\n      <th>dt</th>\n      <th>client_id</th>\n      <th>amount</th>\n    </tr>\n  </thead>\n  <tbody>\n    <tr>\n      <th>0</th>\n      <td>2008-04-06 11:54:47</td>\n      <td>950</td>\n      <td>161.38</td>\n    </tr>\n    <tr>\n      <th>1</th>\n      <td>2007-07-28 00:00:19</td>\n      <td>418</td>\n      <td>35.34</td>\n    </tr>\n    <tr>\n      <th>2</th>\n      <td>2008-03-14 20:43:54</td>\n      <td>131</td>\n      <td>146.50</td>\n    </tr>\n    <tr>\n      <th>3</th>\n      <td>2007-12-18 13:03:24</td>\n      <td>353</td>\n      <td>119.21</td>\n    </tr>\n    <tr>\n      <th>4</th>\n      <td>2007-11-09 05:18:30</td>\n      <td>849</td>\n      <td>105.24</td>\n    </tr>\n    <tr>\n      <th>...</th>\n      <td>...</td>\n      <td>...</td>\n      <td>...</td>\n    </tr>\n    <tr>\n      <th>4270</th>\n      <td>2007-08-18 04:05:05</td>\n      <td>185</td>\n      <td>10063.07</td>\n    </tr>\n    <tr>\n      <th>4271</th>\n      <td>2007-06-04 15:23:32</td>\n      <td>375</td>\n      <td>156.91</td>\n    </tr>\n    <tr>\n      <th>4272</th>\n      <td>2007-12-06 21:34:06</td>\n      <td>418</td>\n      <td>10053.82</td>\n    </tr>\n    <tr>\n      <th>4273</th>\n      <td>2008-04-19 17:30:07</td>\n      <td>409</td>\n      <td>10050.35</td>\n    </tr>\n    <tr>\n      <th>4274</th>\n      <td>2007-11-07 19:44:50</td>\n      <td>674</td>\n      <td>165.60</td>\n    </tr>\n  </tbody>\n</table>\n<p>4275 rows × 3 columns</p>\n</div>"
     },
     "execution_count": 8,
     "metadata": {},
     "output_type": "execute_result"
    }
   ],
   "source": [
    "sql ='''select * from client_transactions t'''\n",
    "select(sql)"
   ],
   "metadata": {
    "collapsed": false,
    "pycharm": {
     "name": "#%%\n"
    }
   }
  },
  {
   "cell_type": "code",
   "execution_count": 9,
   "outputs": [
    {
     "data": {
      "text/plain": "   count (1)\n0       4275",
      "text/html": "<div>\n<style scoped>\n    .dataframe tbody tr th:only-of-type {\n        vertical-align: middle;\n    }\n\n    .dataframe tbody tr th {\n        vertical-align: top;\n    }\n\n    .dataframe thead th {\n        text-align: right;\n    }\n</style>\n<table border=\"1\" class=\"dataframe\">\n  <thead>\n    <tr style=\"text-align: right;\">\n      <th></th>\n      <th>count (1)</th>\n    </tr>\n  </thead>\n  <tbody>\n    <tr>\n      <th>0</th>\n      <td>4275</td>\n    </tr>\n  </tbody>\n</table>\n</div>"
     },
     "execution_count": 9,
     "metadata": {},
     "output_type": "execute_result"
    }
   ],
   "source": [
    "sql ='''select count (1) from client_transactions t'''\n",
    "select(sql)"
   ],
   "metadata": {
    "collapsed": false,
    "pycharm": {
     "name": "#%%\n"
    }
   }
  },
  {
   "cell_type": "code",
   "execution_count": 10,
   "outputs": [
    {
     "data": {
      "text/plain": "         month  trans_cnt  amount_sum\n0   2007-05-01        338   450912.77\n1   2007-06-01        379   551664.83\n2   2007-07-01        304   494134.50\n3   2007-08-01        255   426903.23\n4   2007-10-01        332   634846.49\n5   2007-11-01        389   500420.98\n6   2007-12-01        364   561449.89\n7   2008-01-01        413   630137.22\n8   2008-02-01        228   337043.47\n9   2008-03-01        309   425599.09\n10  2008-04-01        383   677194.97\n11  2008-05-01        310   474962.34\n12  2008-06-01        271   383710.84",
      "text/html": "<div>\n<style scoped>\n    .dataframe tbody tr th:only-of-type {\n        vertical-align: middle;\n    }\n\n    .dataframe tbody tr th {\n        vertical-align: top;\n    }\n\n    .dataframe thead th {\n        text-align: right;\n    }\n</style>\n<table border=\"1\" class=\"dataframe\">\n  <thead>\n    <tr style=\"text-align: right;\">\n      <th></th>\n      <th>month</th>\n      <th>trans_cnt</th>\n      <th>amount_sum</th>\n    </tr>\n  </thead>\n  <tbody>\n    <tr>\n      <th>0</th>\n      <td>2007-05-01</td>\n      <td>338</td>\n      <td>450912.77</td>\n    </tr>\n    <tr>\n      <th>1</th>\n      <td>2007-06-01</td>\n      <td>379</td>\n      <td>551664.83</td>\n    </tr>\n    <tr>\n      <th>2</th>\n      <td>2007-07-01</td>\n      <td>304</td>\n      <td>494134.50</td>\n    </tr>\n    <tr>\n      <th>3</th>\n      <td>2007-08-01</td>\n      <td>255</td>\n      <td>426903.23</td>\n    </tr>\n    <tr>\n      <th>4</th>\n      <td>2007-10-01</td>\n      <td>332</td>\n      <td>634846.49</td>\n    </tr>\n    <tr>\n      <th>5</th>\n      <td>2007-11-01</td>\n      <td>389</td>\n      <td>500420.98</td>\n    </tr>\n    <tr>\n      <th>6</th>\n      <td>2007-12-01</td>\n      <td>364</td>\n      <td>561449.89</td>\n    </tr>\n    <tr>\n      <th>7</th>\n      <td>2008-01-01</td>\n      <td>413</td>\n      <td>630137.22</td>\n    </tr>\n    <tr>\n      <th>8</th>\n      <td>2008-02-01</td>\n      <td>228</td>\n      <td>337043.47</td>\n    </tr>\n    <tr>\n      <th>9</th>\n      <td>2008-03-01</td>\n      <td>309</td>\n      <td>425599.09</td>\n    </tr>\n    <tr>\n      <th>10</th>\n      <td>2008-04-01</td>\n      <td>383</td>\n      <td>677194.97</td>\n    </tr>\n    <tr>\n      <th>11</th>\n      <td>2008-05-01</td>\n      <td>310</td>\n      <td>474962.34</td>\n    </tr>\n    <tr>\n      <th>12</th>\n      <td>2008-06-01</td>\n      <td>271</td>\n      <td>383710.84</td>\n    </tr>\n  </tbody>\n</table>\n</div>"
     },
     "execution_count": 10,
     "metadata": {},
     "output_type": "execute_result"
    }
   ],
   "source": [
    "sql ='''\n",
    "select\n",
    "     date(t.dt, 'start of month') as month,\n",
    "     count(t.client_id) as trans_cnt,\n",
    "     sum(t.amount) as amount_sum\n",
    "from client_transactions t\n",
    "group by 1\n",
    "order by 1\n",
    "'''\n",
    "select(sql)"
   ],
   "metadata": {
    "collapsed": false,
    "pycharm": {
     "name": "#%%\n"
    }
   }
  },
  {
   "cell_type": "code",
   "execution_count": 11,
   "outputs": [],
   "source": [
    "min ='''select min(date(t.dt, 'start of month')) from client_transactions t'''\n",
    "max ='''select max(date(t.dt, 'start of month')) from client_transactions t'''"
   ],
   "metadata": {
    "collapsed": false,
    "pycharm": {
     "name": "#%%\n"
    }
   }
  },
  {
   "cell_type": "code",
   "execution_count": 12,
   "outputs": [
    {
     "data": {
      "text/plain": "         month\n0   2007-05-01\n1   2007-06-01\n2   2007-07-01\n3   2007-08-01\n4   2007-09-01\n5   2007-10-01\n6   2007-11-01\n7   2007-12-01\n8   2008-01-01\n9   2008-02-01\n10  2008-03-01\n11  2008-04-01\n12  2008-05-01\n13  2008-06-01",
      "text/html": "<div>\n<style scoped>\n    .dataframe tbody tr th:only-of-type {\n        vertical-align: middle;\n    }\n\n    .dataframe tbody tr th {\n        vertical-align: top;\n    }\n\n    .dataframe thead th {\n        text-align: right;\n    }\n</style>\n<table border=\"1\" class=\"dataframe\">\n  <thead>\n    <tr style=\"text-align: right;\">\n      <th></th>\n      <th>month</th>\n    </tr>\n  </thead>\n  <tbody>\n    <tr>\n      <th>0</th>\n      <td>2007-05-01</td>\n    </tr>\n    <tr>\n      <th>1</th>\n      <td>2007-06-01</td>\n    </tr>\n    <tr>\n      <th>2</th>\n      <td>2007-07-01</td>\n    </tr>\n    <tr>\n      <th>3</th>\n      <td>2007-08-01</td>\n    </tr>\n    <tr>\n      <th>4</th>\n      <td>2007-09-01</td>\n    </tr>\n    <tr>\n      <th>5</th>\n      <td>2007-10-01</td>\n    </tr>\n    <tr>\n      <th>6</th>\n      <td>2007-11-01</td>\n    </tr>\n    <tr>\n      <th>7</th>\n      <td>2007-12-01</td>\n    </tr>\n    <tr>\n      <th>8</th>\n      <td>2008-01-01</td>\n    </tr>\n    <tr>\n      <th>9</th>\n      <td>2008-02-01</td>\n    </tr>\n    <tr>\n      <th>10</th>\n      <td>2008-03-01</td>\n    </tr>\n    <tr>\n      <th>11</th>\n      <td>2008-04-01</td>\n    </tr>\n    <tr>\n      <th>12</th>\n      <td>2008-05-01</td>\n    </tr>\n    <tr>\n      <th>13</th>\n      <td>2008-06-01</td>\n    </tr>\n  </tbody>\n</table>\n</div>"
     },
     "execution_count": 12,
     "metadata": {},
     "output_type": "execute_result"
    }
   ],
   "source": [
    "sql =f'''\n",
    "WITH RECURSIVE dates(month) AS (\n",
    "  VALUES(({min}))\n",
    "  UNION ALL\n",
    "  SELECT date(month, '+1 month')\n",
    "  FROM dates\n",
    "  WHERE month < ({max})\n",
    ")\n",
    "SELECT t.month FROM dates t;\n",
    "'''\n",
    "select(sql)"
   ],
   "metadata": {
    "collapsed": false,
    "pycharm": {
     "name": "#%%\n"
    }
   }
  },
  {
   "cell_type": "code",
   "execution_count": 13,
   "outputs": [
    {
     "data": {
      "text/plain": "  min(date(t.dt, 'start of month'))\n0                        2007-05-01",
      "text/html": "<div>\n<style scoped>\n    .dataframe tbody tr th:only-of-type {\n        vertical-align: middle;\n    }\n\n    .dataframe tbody tr th {\n        vertical-align: top;\n    }\n\n    .dataframe thead th {\n        text-align: right;\n    }\n</style>\n<table border=\"1\" class=\"dataframe\">\n  <thead>\n    <tr style=\"text-align: right;\">\n      <th></th>\n      <th>min(date(t.dt, 'start of month'))</th>\n    </tr>\n  </thead>\n  <tbody>\n    <tr>\n      <th>0</th>\n      <td>2007-05-01</td>\n    </tr>\n  </tbody>\n</table>\n</div>"
     },
     "execution_count": 13,
     "metadata": {},
     "output_type": "execute_result"
    }
   ],
   "source": [
    "sql ='''select min(date(t.dt, 'start of month')) from client_transactions t'''\n",
    "select(sql)"
   ],
   "metadata": {
    "collapsed": false,
    "pycharm": {
     "name": "#%%\n"
    }
   }
  },
  {
   "cell_type": "code",
   "execution_count": 14,
   "outputs": [
    {
     "data": {
      "text/plain": "         month  trans_cnt  amount_sum\n0   2007-05-01        338   450912.77\n1   2007-06-01        379   551664.83\n2   2007-07-01        304   494134.50\n3   2007-08-01        255   426903.23\n4   2007-09-01          0        0.00\n5   2007-10-01        332   634846.49\n6   2007-11-01        389   500420.98\n7   2007-12-01        364   561449.89\n8   2008-01-01        413   630137.22\n9   2008-02-01        228   337043.47\n10  2008-03-01        309   425599.09\n11  2008-04-01        383   677194.97\n12  2008-05-01        310   474962.34\n13  2008-06-01        271   383710.84",
      "text/html": "<div>\n<style scoped>\n    .dataframe tbody tr th:only-of-type {\n        vertical-align: middle;\n    }\n\n    .dataframe tbody tr th {\n        vertical-align: top;\n    }\n\n    .dataframe thead th {\n        text-align: right;\n    }\n</style>\n<table border=\"1\" class=\"dataframe\">\n  <thead>\n    <tr style=\"text-align: right;\">\n      <th></th>\n      <th>month</th>\n      <th>trans_cnt</th>\n      <th>amount_sum</th>\n    </tr>\n  </thead>\n  <tbody>\n    <tr>\n      <th>0</th>\n      <td>2007-05-01</td>\n      <td>338</td>\n      <td>450912.77</td>\n    </tr>\n    <tr>\n      <th>1</th>\n      <td>2007-06-01</td>\n      <td>379</td>\n      <td>551664.83</td>\n    </tr>\n    <tr>\n      <th>2</th>\n      <td>2007-07-01</td>\n      <td>304</td>\n      <td>494134.50</td>\n    </tr>\n    <tr>\n      <th>3</th>\n      <td>2007-08-01</td>\n      <td>255</td>\n      <td>426903.23</td>\n    </tr>\n    <tr>\n      <th>4</th>\n      <td>2007-09-01</td>\n      <td>0</td>\n      <td>0.00</td>\n    </tr>\n    <tr>\n      <th>5</th>\n      <td>2007-10-01</td>\n      <td>332</td>\n      <td>634846.49</td>\n    </tr>\n    <tr>\n      <th>6</th>\n      <td>2007-11-01</td>\n      <td>389</td>\n      <td>500420.98</td>\n    </tr>\n    <tr>\n      <th>7</th>\n      <td>2007-12-01</td>\n      <td>364</td>\n      <td>561449.89</td>\n    </tr>\n    <tr>\n      <th>8</th>\n      <td>2008-01-01</td>\n      <td>413</td>\n      <td>630137.22</td>\n    </tr>\n    <tr>\n      <th>9</th>\n      <td>2008-02-01</td>\n      <td>228</td>\n      <td>337043.47</td>\n    </tr>\n    <tr>\n      <th>10</th>\n      <td>2008-03-01</td>\n      <td>309</td>\n      <td>425599.09</td>\n    </tr>\n    <tr>\n      <th>11</th>\n      <td>2008-04-01</td>\n      <td>383</td>\n      <td>677194.97</td>\n    </tr>\n    <tr>\n      <th>12</th>\n      <td>2008-05-01</td>\n      <td>310</td>\n      <td>474962.34</td>\n    </tr>\n    <tr>\n      <th>13</th>\n      <td>2008-06-01</td>\n      <td>271</td>\n      <td>383710.84</td>\n    </tr>\n  </tbody>\n</table>\n</div>"
     },
     "execution_count": 14,
     "metadata": {},
     "output_type": "execute_result"
    }
   ],
   "source": [
    "sql =f'''\n",
    "WITH\n",
    "dates(month) AS (\n",
    "  VALUES(({min}))\n",
    "  UNION ALL\n",
    "  SELECT date(month, '+1 month')\n",
    "  FROM dates\n",
    "  WHERE month < ({max})\n",
    "),\n",
    "\n",
    "trans_month as\n",
    "(\n",
    "select\n",
    "     date(t.dt, 'start of month') as month,\n",
    "     count(t.client_id) as trans_cnt,\n",
    "     sum(t.amount) as amount_sum\n",
    "from client_transactions t\n",
    "group by 1\n",
    "order by 1\n",
    ")\n",
    "\n",
    "\n",
    "SELECT t.month,\n",
    " coalesce (tm.trans_cnt, 0) as trans_cnt,\n",
    " coalesce (tm.amount_sum, 0) as amount_sum\n",
    " FROM dates t\n",
    " left join trans_month tm on t.month=tm.month\n",
    " order by 1\n",
    "'''\n",
    "select(sql)"
   ],
   "metadata": {
    "collapsed": false,
    "pycharm": {
     "name": "#%%\n"
    }
   }
  },
  {
   "cell_type": "code",
   "execution_count": 17,
   "outputs": [
    {
     "data": {
      "text/plain": "     client_id\n0          210\n1          929\n2          200\n3           45\n4          358\n..         ...\n995        624\n996        181\n997        730\n998        557\n999         23\n\n[1000 rows x 1 columns]",
      "text/html": "<div>\n<style scoped>\n    .dataframe tbody tr th:only-of-type {\n        vertical-align: middle;\n    }\n\n    .dataframe tbody tr th {\n        vertical-align: top;\n    }\n\n    .dataframe thead th {\n        text-align: right;\n    }\n</style>\n<table border=\"1\" class=\"dataframe\">\n  <thead>\n    <tr style=\"text-align: right;\">\n      <th></th>\n      <th>client_id</th>\n    </tr>\n  </thead>\n  <tbody>\n    <tr>\n      <th>0</th>\n      <td>210</td>\n    </tr>\n    <tr>\n      <th>1</th>\n      <td>929</td>\n    </tr>\n    <tr>\n      <th>2</th>\n      <td>200</td>\n    </tr>\n    <tr>\n      <th>3</th>\n      <td>45</td>\n    </tr>\n    <tr>\n      <th>4</th>\n      <td>358</td>\n    </tr>\n    <tr>\n      <th>...</th>\n      <td>...</td>\n    </tr>\n    <tr>\n      <th>995</th>\n      <td>624</td>\n    </tr>\n    <tr>\n      <th>996</th>\n      <td>181</td>\n    </tr>\n    <tr>\n      <th>997</th>\n      <td>730</td>\n    </tr>\n    <tr>\n      <th>998</th>\n      <td>557</td>\n    </tr>\n    <tr>\n      <th>999</th>\n      <td>23</td>\n    </tr>\n  </tbody>\n</table>\n<p>1000 rows × 1 columns</p>\n</div>"
     },
     "execution_count": 17,
     "metadata": {},
     "output_type": "execute_result"
    }
   ],
   "source": [
    "sql ='''select distinct t.client_id from german_credit t'''\n",
    "select(sql)"
   ],
   "metadata": {
    "collapsed": false,
    "pycharm": {
     "name": "#%%\n"
    }
   }
  },
  {
   "cell_type": "code",
   "execution_count": 32,
   "outputs": [
    {
     "data": {
      "text/plain": "           month  client_id  trans_cnt  amount_sum\n0     2007-05-01        101          1      149.67\n1     2007-05-01        107          2      217.50\n2     2007-05-01        110          1     1081.32\n3     2007-05-01        111          1      139.97\n4     2007-05-01        113          1     1051.29\n...          ...        ...        ...         ...\n3551  2008-06-01        983          1    10050.37\n3552  2008-06-01        987          1      192.48\n3553  2008-06-01        992          1     -610.21\n3554  2008-06-01        996          1      121.28\n3555  2008-06-01        999          1     -641.25\n\n[3556 rows x 4 columns]",
      "text/html": "<div>\n<style scoped>\n    .dataframe tbody tr th:only-of-type {\n        vertical-align: middle;\n    }\n\n    .dataframe tbody tr th {\n        vertical-align: top;\n    }\n\n    .dataframe thead th {\n        text-align: right;\n    }\n</style>\n<table border=\"1\" class=\"dataframe\">\n  <thead>\n    <tr style=\"text-align: right;\">\n      <th></th>\n      <th>month</th>\n      <th>client_id</th>\n      <th>trans_cnt</th>\n      <th>amount_sum</th>\n    </tr>\n  </thead>\n  <tbody>\n    <tr>\n      <th>0</th>\n      <td>2007-05-01</td>\n      <td>101</td>\n      <td>1</td>\n      <td>149.67</td>\n    </tr>\n    <tr>\n      <th>1</th>\n      <td>2007-05-01</td>\n      <td>107</td>\n      <td>2</td>\n      <td>217.50</td>\n    </tr>\n    <tr>\n      <th>2</th>\n      <td>2007-05-01</td>\n      <td>110</td>\n      <td>1</td>\n      <td>1081.32</td>\n    </tr>\n    <tr>\n      <th>3</th>\n      <td>2007-05-01</td>\n      <td>111</td>\n      <td>1</td>\n      <td>139.97</td>\n    </tr>\n    <tr>\n      <th>4</th>\n      <td>2007-05-01</td>\n      <td>113</td>\n      <td>1</td>\n      <td>1051.29</td>\n    </tr>\n    <tr>\n      <th>...</th>\n      <td>...</td>\n      <td>...</td>\n      <td>...</td>\n      <td>...</td>\n    </tr>\n    <tr>\n      <th>3551</th>\n      <td>2008-06-01</td>\n      <td>983</td>\n      <td>1</td>\n      <td>10050.37</td>\n    </tr>\n    <tr>\n      <th>3552</th>\n      <td>2008-06-01</td>\n      <td>987</td>\n      <td>1</td>\n      <td>192.48</td>\n    </tr>\n    <tr>\n      <th>3553</th>\n      <td>2008-06-01</td>\n      <td>992</td>\n      <td>1</td>\n      <td>-610.21</td>\n    </tr>\n    <tr>\n      <th>3554</th>\n      <td>2008-06-01</td>\n      <td>996</td>\n      <td>1</td>\n      <td>121.28</td>\n    </tr>\n    <tr>\n      <th>3555</th>\n      <td>2008-06-01</td>\n      <td>999</td>\n      <td>1</td>\n      <td>-641.25</td>\n    </tr>\n  </tbody>\n</table>\n<p>3556 rows × 4 columns</p>\n</div>"
     },
     "execution_count": 32,
     "metadata": {},
     "output_type": "execute_result"
    }
   ],
   "source": [
    "sql ='''\n",
    "select\n",
    "     date(t.dt, 'start of month') as month,\n",
    "     t.client_id,\n",
    "     count(t.client_id) as trans_cnt,\n",
    "     sum(t.amount) as amount_sum\n",
    "from client_transactions t\n",
    "group by 1, 2\n",
    "order by 1\n",
    "'''\n",
    "select(sql)"
   ],
   "metadata": {
    "collapsed": false,
    "pycharm": {
     "name": "#%%\n"
    }
   }
  },
  {
   "cell_type": "code",
   "execution_count": 51,
   "outputs": [],
   "source": [
    "sql =f'''\n",
    "WITH RECURSIVE dates(month) AS (\n",
    "  VALUES(({min}))\n",
    "  UNION ALL\n",
    "  SELECT date(month, '+1 month')\n",
    "  FROM dates\n",
    "  WHERE month < ({max})\n",
    "),\n",
    "\n",
    "clients as (\n",
    "    select distinct t.client_id from german_credit t\n",
    "),\n",
    "\n",
    "clients_month as (\n",
    "    select t.month, c.client_id FROM dates t\n",
    "    join clients c on 1=1\n",
    "),\n",
    "\n",
    "trans_month as (\n",
    "    select\n",
    "         date(t.dt, 'start of month') as month,\n",
    "         t.client_id,\n",
    "         count(t.client_id) as trans_cnt,\n",
    "         sum(t.amount) as amount_sum\n",
    "    from client_transactions t\n",
    "    group by 1, 2\n",
    "    order by 1\n",
    "),\n",
    "\n",
    "client_trans_month as(\n",
    "\n",
    "select  t.*,\n",
    " tm.trans_cnt,\n",
    " tm.amount_sum,\n",
    " 1 as user,\n",
    " case when tm.trans_cnt > 0 then 1 else 0 end as active\n",
    "\n",
    " from clients_month t\n",
    "left join trans_month tm on t.client_id=tm.client_id and t.month=tm.month\n",
    "--where t.client_id=929\n",
    ")\n",
    "\n",
    "select\n",
    "t.month,\n",
    " sum(t.user) as user_cnt,\n",
    " sum(t.active) as active_cnt,\n",
    " sum(t.amount_sum) as amount_sum\n",
    "  from client_trans_month t\n",
    "  group by t.month\n",
    "'''\n",
    "t = select(sql)"
   ],
   "metadata": {
    "collapsed": false,
    "pycharm": {
     "name": "#%%\n"
    }
   }
  },
  {
   "cell_type": "code",
   "execution_count": 53,
   "outputs": [
    {
     "data": {
      "text/plain": "6548980.619999999"
     },
     "execution_count": 53,
     "metadata": {},
     "output_type": "execute_result"
    }
   ],
   "source": [
    "t['amount_sum'].sum()"
   ],
   "metadata": {
    "collapsed": false,
    "pycharm": {
     "name": "#%%\n"
    }
   }
  },
  {
   "cell_type": "code",
   "execution_count": 50,
   "outputs": [
    {
     "data": {
      "text/plain": "   sum(t.amount)\n0     6548980.62",
      "text/html": "<div>\n<style scoped>\n    .dataframe tbody tr th:only-of-type {\n        vertical-align: middle;\n    }\n\n    .dataframe tbody tr th {\n        vertical-align: top;\n    }\n\n    .dataframe thead th {\n        text-align: right;\n    }\n</style>\n<table border=\"1\" class=\"dataframe\">\n  <thead>\n    <tr style=\"text-align: right;\">\n      <th></th>\n      <th>sum(t.amount)</th>\n    </tr>\n  </thead>\n  <tbody>\n    <tr>\n      <th>0</th>\n      <td>6548980.62</td>\n    </tr>\n  </tbody>\n</table>\n</div>"
     },
     "execution_count": 50,
     "metadata": {},
     "output_type": "execute_result"
    }
   ],
   "source": [
    "sql ='''select sum(t.amount) from client_transactions t'''\n",
    "select(sql)"
   ],
   "metadata": {
    "collapsed": false,
    "pycharm": {
     "name": "#%%\n"
    }
   }
  },
  {
   "cell_type": "code",
   "execution_count": 16,
   "outputs": [],
   "source": [],
   "metadata": {
    "collapsed": false,
    "pycharm": {
     "name": "#%%\n"
    }
   }
  },
  {
   "cell_type": "code",
   "execution_count": 16,
   "outputs": [],
   "source": [],
   "metadata": {
    "collapsed": false,
    "pycharm": {
     "name": "#%%\n"
    }
   }
  },
  {
   "cell_type": "code",
   "execution_count": 16,
   "outputs": [],
   "source": [],
   "metadata": {
    "collapsed": false,
    "pycharm": {
     "name": "#%%\n"
    }
   }
  },
  {
   "cell_type": "code",
   "execution_count": 16,
   "outputs": [],
   "source": [],
   "metadata": {
    "collapsed": false,
    "pycharm": {
     "name": "#%%\n"
    }
   }
  },
  {
   "cell_type": "code",
   "execution_count": 16,
   "outputs": [],
   "source": [],
   "metadata": {
    "collapsed": false,
    "pycharm": {
     "name": "#%%\n"
    }
   }
  },
  {
   "cell_type": "code",
   "execution_count": 16,
   "outputs": [],
   "source": [],
   "metadata": {
    "collapsed": false,
    "pycharm": {
     "name": "#%%\n"
    }
   }
  }
 ],
 "metadata": {
  "kernelspec": {
   "display_name": "Python 3",
   "language": "python",
   "name": "python3"
  },
  "language_info": {
   "codemirror_mode": {
    "name": "ipython",
    "version": 2
   },
   "file_extension": ".py",
   "mimetype": "text/x-python",
   "name": "python",
   "nbconvert_exporter": "python",
   "pygments_lexer": "ipython2",
   "version": "2.7.6"
  }
 },
 "nbformat": 4,
 "nbformat_minor": 0
}