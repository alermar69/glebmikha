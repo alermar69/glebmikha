{
 "cells": [
  {
   "cell_type": "code",
   "execution_count": 1,
   "metadata": {
    "collapsed": true
   },
   "outputs": [],
   "source": [
    "import sqlite3\n",
    "import pandas as pd\n",
    "import numpy as np"
   ]
  },
  {
   "cell_type": "code",
   "execution_count": 2,
   "outputs": [
    {
     "data": {
      "text/plain": "'3.35.4'"
     },
     "execution_count": 2,
     "metadata": {},
     "output_type": "execute_result"
    }
   ],
   "source": [
    "sqlite3.sqlite_version"
   ],
   "metadata": {
    "collapsed": false,
    "pycharm": {
     "name": "#%%\n"
    }
   }
  },
  {
   "cell_type": "code",
   "execution_count": 6,
   "outputs": [
    {
     "name": "stdout",
     "output_type": "stream",
     "text": [
      "\n",
      "Есть таблица с данными по продажам кофе:\n",
      "SALE_DTTM – точное время продажи,\n",
      "CARD_NUMBER – номер скидочной карты\n",
      "COFFEE_TYPE – название проданного кофейного напитка\n",
      "PRICE – полная стоимость\n",
      "DISCOUNT – размер скидки в %\n",
      "GROCERY_FLG – флаг покупки выпечки в том же чеке\n",
      "\n",
      "Составьте алгоритм SQL-запросов для решения следующих заданий:\n",
      "\n",
      "1) Вычислить медианное значение суммарных месячных трат постоянных клиентов за каждый месяц\n",
      "(при отсутствии встроенной функции, вычисляющей медиану).\n",
      "\n",
      "2) Вычислить максимальное количество последовательных дней, когда один и тот же клиент покупал кофе с выпечкой.\n",
      "\n",
      "3) В кофейне есть акция – при ежедневной покупке кофе с выпечкой можно купить термокружку со скидкой.\n",
      "При этом размер скидки на термокружку получается путём последовательного применения всех скидок на кофе\n",
      "с выпечкой, применённых за накопленную на момент покупки термокружки серию ежедневных покупок кофе с\n",
      "выпечкой.Вычислить максимальную скидку на термокружку, которую мог достичь клиент (размер скидки клиента\n",
      "не является константой).\n",
      "\n"
     ]
    }
   ],
   "source": [
    "print('''\n",
    "Есть таблица с данными по продажам кофе:\n",
    "SALE_DTTM – точное время продажи,\n",
    "CARD_NUMBER – номер скидочной карты\n",
    "COFFEE_TYPE – название проданного кофейного напитка\n",
    "PRICE – полная стоимость\n",
    "DISCOUNT – размер скидки в %\n",
    "GROCERY_FLG – флаг покупки выпечки в том же чеке\n",
    "\n",
    "Составьте алгоритм SQL-запросов для решения следующих заданий:\n",
    "\n",
    "1) Вычислить медианное значение суммарных месячных трат постоянных клиентов за каждый месяц\n",
    "(при отсутствии встроенной функции, вычисляющей медиану).\n",
    "\n",
    "2) Вычислить максимальное количество последовательных дней, когда один и тот же клиент покупал кофе с выпечкой.\n",
    "\n",
    "3) В кофейне есть акция – при ежедневной покупке кофе с выпечкой можно купить термокружку со скидкой.\n",
    "При этом размер скидки на термокружку получается путём последовательного применения всех скидок на кофе\n",
    "с выпечкой, применённых за накопленную на момент покупки термокружки серию ежедневных покупок кофе с\n",
    "выпечкой.Вычислить максимальную скидку на термокружку, которую мог достичь клиент (размер скидки клиента\n",
    "не является константой).\n",
    "''')"
   ],
   "metadata": {
    "collapsed": false,
    "pycharm": {
     "name": "#%%\n"
    }
   }
  },
  {
   "cell_type": "code",
   "execution_count": 21,
   "outputs": [],
   "source": [
    "df = pd.DataFrame({'dt': pd.date_range('2020-04-01', '2020-05-31')})\n",
    "df['num'] = np.random.poisson(30, len(df))"
   ],
   "metadata": {
    "collapsed": false,
    "pycharm": {
     "name": "#%%\n"
    }
   }
  },
  {
   "cell_type": "code",
   "execution_count": 22,
   "outputs": [],
   "source": [
    "df = pd.DataFrame({'sale_dttm':(df['dt'].apply(lambda x: [x])*df['num']).sum()})"
   ],
   "metadata": {
    "collapsed": false,
    "pycharm": {
     "name": "#%%\n"
    }
   }
  },
  {
   "cell_type": "code",
   "execution_count": 50,
   "outputs": [],
   "source": [
    "df['card_number'] = pd.Series(list(range(40)) + [np.nan]*10).sample(len(df), replace=True).values"
   ],
   "metadata": {
    "collapsed": false,
    "pycharm": {
     "name": "#%%\n"
    }
   }
  },
  {
   "cell_type": "code",
   "execution_count": 26,
   "outputs": [],
   "source": [
    "df['coffee_type'] = pd.Series(['espesso', 'americano', 'capuccino','capuccino','capuccino','latte']).sample(len(df), replace=True).values"
   ],
   "metadata": {
    "collapsed": false,
    "pycharm": {
     "name": "#%%\n"
    }
   }
  },
  {
   "cell_type": "code",
   "execution_count": 31,
   "outputs": [],
   "source": [
    "coffee_price =  pd.DataFrame({'espesso': [100], 'americano': [120], 'capuccino': [130],'latte': [150]}).T.reset_index()"
   ],
   "metadata": {
    "collapsed": false,
    "pycharm": {
     "name": "#%%\n"
    }
   }
  },
  {
   "cell_type": "code",
   "execution_count": 32,
   "outputs": [],
   "source": [
    "coffee_price.columns = ['coffee_type', 'coffee_price']"
   ],
   "metadata": {
    "collapsed": false,
    "pycharm": {
     "name": "#%%\n"
    }
   }
  },
  {
   "cell_type": "code",
   "execution_count": 34,
   "outputs": [],
   "source": [
    "df = df.merge(coffee_price,how='left', on='coffee_type')"
   ],
   "metadata": {
    "collapsed": false,
    "pycharm": {
     "name": "#%%\n"
    }
   }
  },
  {
   "cell_type": "code",
   "execution_count": 37,
   "outputs": [],
   "source": [
    "df['discount'] = pd.Series([0, 0, 0, 0, 0, 0.05, 0.05,0.05,0.05,0.1,0.15]).sample(len(df), replace=True).values"
   ],
   "metadata": {
    "collapsed": false,
    "pycharm": {
     "name": "#%%\n"
    }
   }
  },
  {
   "cell_type": "code",
   "execution_count": 38,
   "outputs": [],
   "source": [
    "df['grocery_flg'] = pd.Series([0,0,0,1]).sample(len(df), replace=True).values"
   ],
   "metadata": {
    "collapsed": false,
    "pycharm": {
     "name": "#%%\n"
    }
   }
  },
  {
   "cell_type": "code",
   "execution_count": 64,
   "outputs": [],
   "source": [
    "df['price'] = (df['coffee_price'] + df['grocery_flg']*100)*(1-df['discount'])"
   ],
   "metadata": {
    "collapsed": false,
    "pycharm": {
     "name": "#%%\n"
    }
   }
  },
  {
   "cell_type": "code",
   "execution_count": null,
   "outputs": [],
   "source": [],
   "metadata": {
    "collapsed": false,
    "pycharm": {
     "name": "#%%\n"
    }
   }
  },
  {
   "cell_type": "code",
   "execution_count": 40,
   "outputs": [],
   "source": [
    "con = sqlite3.connect('data/db1')"
   ],
   "metadata": {
    "collapsed": false,
    "pycharm": {
     "name": "#%%\n"
    }
   }
  },
  {
   "cell_type": "code",
   "execution_count": 87,
   "outputs": [],
   "source": [
    "cur = con.cursor()"
   ],
   "metadata": {
    "collapsed": false,
    "pycharm": {
     "name": "#%%\n"
    }
   }
  },
  {
   "cell_type": "code",
   "execution_count": 65,
   "outputs": [],
   "source": [
    "df.to_sql('coffee_sales', con, index=False, if_exists='replace')"
   ],
   "metadata": {
    "collapsed": false,
    "pycharm": {
     "name": "#%%\n"
    }
   }
  },
  {
   "cell_type": "code",
   "execution_count": 52,
   "outputs": [],
   "source": [
    "sql = '''select * from coffee_sales t limit 10'''"
   ],
   "metadata": {
    "collapsed": false,
    "pycharm": {
     "name": "#%%\n"
    }
   }
  },
  {
   "cell_type": "code",
   "execution_count": 47,
   "outputs": [],
   "source": [
    "def select(sql):\n",
    "    return pd.read_sql(sql, con)"
   ],
   "metadata": {
    "collapsed": false,
    "pycharm": {
     "name": "#%%\n"
    }
   }
  },
  {
   "cell_type": "code",
   "execution_count": 53,
   "outputs": [
    {
     "data": {
      "text/plain": "             sale_dttm  card_number coffee_type  coffee_price  discount  \\\n0  2020-04-01 00:00:00         23.0   capuccino           130      0.15   \n1  2020-04-01 00:00:00         28.0     espesso           100      0.00   \n2  2020-04-01 00:00:00          NaN   capuccino           130      0.00   \n3  2020-04-01 00:00:00          NaN     espesso           100      0.05   \n4  2020-04-01 00:00:00         30.0   capuccino           130      0.05   \n5  2020-04-01 00:00:00         25.0   capuccino           130      0.00   \n6  2020-04-01 00:00:00          4.0     espesso           100      0.00   \n7  2020-04-01 00:00:00         22.0     espesso           100      0.05   \n8  2020-04-01 00:00:00         16.0     espesso           100      0.00   \n9  2020-04-01 00:00:00         37.0   capuccino           130      0.05   \n\n   grocery_flg  \n0            0  \n1            0  \n2            0  \n3            0  \n4            0  \n5            1  \n6            0  \n7            0  \n8            1  \n9            0  ",
      "text/html": "<div>\n<style scoped>\n    .dataframe tbody tr th:only-of-type {\n        vertical-align: middle;\n    }\n\n    .dataframe tbody tr th {\n        vertical-align: top;\n    }\n\n    .dataframe thead th {\n        text-align: right;\n    }\n</style>\n<table border=\"1\" class=\"dataframe\">\n  <thead>\n    <tr style=\"text-align: right;\">\n      <th></th>\n      <th>sale_dttm</th>\n      <th>card_number</th>\n      <th>coffee_type</th>\n      <th>coffee_price</th>\n      <th>discount</th>\n      <th>grocery_flg</th>\n    </tr>\n  </thead>\n  <tbody>\n    <tr>\n      <th>0</th>\n      <td>2020-04-01 00:00:00</td>\n      <td>23.0</td>\n      <td>capuccino</td>\n      <td>130</td>\n      <td>0.15</td>\n      <td>0</td>\n    </tr>\n    <tr>\n      <th>1</th>\n      <td>2020-04-01 00:00:00</td>\n      <td>28.0</td>\n      <td>espesso</td>\n      <td>100</td>\n      <td>0.00</td>\n      <td>0</td>\n    </tr>\n    <tr>\n      <th>2</th>\n      <td>2020-04-01 00:00:00</td>\n      <td>NaN</td>\n      <td>capuccino</td>\n      <td>130</td>\n      <td>0.00</td>\n      <td>0</td>\n    </tr>\n    <tr>\n      <th>3</th>\n      <td>2020-04-01 00:00:00</td>\n      <td>NaN</td>\n      <td>espesso</td>\n      <td>100</td>\n      <td>0.05</td>\n      <td>0</td>\n    </tr>\n    <tr>\n      <th>4</th>\n      <td>2020-04-01 00:00:00</td>\n      <td>30.0</td>\n      <td>capuccino</td>\n      <td>130</td>\n      <td>0.05</td>\n      <td>0</td>\n    </tr>\n    <tr>\n      <th>5</th>\n      <td>2020-04-01 00:00:00</td>\n      <td>25.0</td>\n      <td>capuccino</td>\n      <td>130</td>\n      <td>0.00</td>\n      <td>1</td>\n    </tr>\n    <tr>\n      <th>6</th>\n      <td>2020-04-01 00:00:00</td>\n      <td>4.0</td>\n      <td>espesso</td>\n      <td>100</td>\n      <td>0.00</td>\n      <td>0</td>\n    </tr>\n    <tr>\n      <th>7</th>\n      <td>2020-04-01 00:00:00</td>\n      <td>22.0</td>\n      <td>espesso</td>\n      <td>100</td>\n      <td>0.05</td>\n      <td>0</td>\n    </tr>\n    <tr>\n      <th>8</th>\n      <td>2020-04-01 00:00:00</td>\n      <td>16.0</td>\n      <td>espesso</td>\n      <td>100</td>\n      <td>0.00</td>\n      <td>1</td>\n    </tr>\n    <tr>\n      <th>9</th>\n      <td>2020-04-01 00:00:00</td>\n      <td>37.0</td>\n      <td>capuccino</td>\n      <td>130</td>\n      <td>0.05</td>\n      <td>0</td>\n    </tr>\n  </tbody>\n</table>\n</div>"
     },
     "execution_count": 53,
     "metadata": {},
     "output_type": "execute_result"
    }
   ],
   "source": [
    "select(sql)"
   ],
   "metadata": {
    "collapsed": false,
    "pycharm": {
     "name": "#%%\n"
    }
   }
  },
  {
   "cell_type": "code",
   "execution_count": 66,
   "outputs": [
    {
     "data": {
      "text/plain": "         month  card_number  price_sum\n0   2020-04-01          NaN    24965.5\n1   2020-04-01          0.0     2196.5\n2   2020-04-01          1.0     2833.5\n3   2020-04-01          2.0     1633.0\n4   2020-04-01          3.0     2111.5\n..         ...          ...        ...\n77  2020-05-01         35.0     2538.0\n78  2020-05-01         36.0     1454.0\n79  2020-05-01         37.0     1299.5\n80  2020-05-01         38.0     2271.5\n81  2020-05-01         39.0     2698.5\n\n[82 rows x 3 columns]",
      "text/html": "<div>\n<style scoped>\n    .dataframe tbody tr th:only-of-type {\n        vertical-align: middle;\n    }\n\n    .dataframe tbody tr th {\n        vertical-align: top;\n    }\n\n    .dataframe thead th {\n        text-align: right;\n    }\n</style>\n<table border=\"1\" class=\"dataframe\">\n  <thead>\n    <tr style=\"text-align: right;\">\n      <th></th>\n      <th>month</th>\n      <th>card_number</th>\n      <th>price_sum</th>\n    </tr>\n  </thead>\n  <tbody>\n    <tr>\n      <th>0</th>\n      <td>2020-04-01</td>\n      <td>NaN</td>\n      <td>24965.5</td>\n    </tr>\n    <tr>\n      <th>1</th>\n      <td>2020-04-01</td>\n      <td>0.0</td>\n      <td>2196.5</td>\n    </tr>\n    <tr>\n      <th>2</th>\n      <td>2020-04-01</td>\n      <td>1.0</td>\n      <td>2833.5</td>\n    </tr>\n    <tr>\n      <th>3</th>\n      <td>2020-04-01</td>\n      <td>2.0</td>\n      <td>1633.0</td>\n    </tr>\n    <tr>\n      <th>4</th>\n      <td>2020-04-01</td>\n      <td>3.0</td>\n      <td>2111.5</td>\n    </tr>\n    <tr>\n      <th>...</th>\n      <td>...</td>\n      <td>...</td>\n      <td>...</td>\n    </tr>\n    <tr>\n      <th>77</th>\n      <td>2020-05-01</td>\n      <td>35.0</td>\n      <td>2538.0</td>\n    </tr>\n    <tr>\n      <th>78</th>\n      <td>2020-05-01</td>\n      <td>36.0</td>\n      <td>1454.0</td>\n    </tr>\n    <tr>\n      <th>79</th>\n      <td>2020-05-01</td>\n      <td>37.0</td>\n      <td>1299.5</td>\n    </tr>\n    <tr>\n      <th>80</th>\n      <td>2020-05-01</td>\n      <td>38.0</td>\n      <td>2271.5</td>\n    </tr>\n    <tr>\n      <th>81</th>\n      <td>2020-05-01</td>\n      <td>39.0</td>\n      <td>2698.5</td>\n    </tr>\n  </tbody>\n</table>\n<p>82 rows × 3 columns</p>\n</div>"
     },
     "execution_count": 66,
     "metadata": {},
     "output_type": "execute_result"
    }
   ],
   "source": [
    "sql = '''\n",
    "select date(t.sale_dttm, 'start of month') as month , t.card_number, sum(t.price) as price_sum\n",
    "from coffee_sales t\n",
    "group by  date(t.sale_dttm, 'start of month'), t.card_number\n",
    "'''\n",
    "\n",
    "select(sql)"
   ],
   "metadata": {
    "collapsed": false,
    "pycharm": {
     "name": "#%%\n"
    }
   }
  },
  {
   "cell_type": "code",
   "execution_count": 75,
   "outputs": [
    {
     "data": {
      "text/plain": "array(['2020-04', '2020-04', '2020-04', ..., '2020-05', '2020-05',\n       '2020-05'], dtype='datetime64[M]')"
     },
     "execution_count": 75,
     "metadata": {},
     "output_type": "execute_result"
    }
   ],
   "source": [
    "df['sale_dttm'].values.astype('datetime64[M]')"
   ],
   "metadata": {
    "collapsed": false,
    "pycharm": {
     "name": "#%%\n"
    }
   }
  },
  {
   "cell_type": "code",
   "execution_count": null,
   "outputs": [],
   "source": [
    "df['month'] = df['sale_dttm'].values.astype('datetime64[M]')"
   ],
   "metadata": {
    "collapsed": false,
    "pycharm": {
     "name": "#%%\n"
    }
   }
  },
  {
   "cell_type": "code",
   "execution_count": 81,
   "outputs": [
    {
     "data": {
      "text/plain": "   sale_dttm  card_number coffee_type  coffee_price  discount  grocery_flg  \\\n0 2020-04-01         23.0   capuccino           130      0.15            0   \n1 2020-04-01         28.0     espesso           100      0.00            0   \n2 2020-04-01          NaN   capuccino           130      0.00            0   \n\n   price      month  \n0  110.5 2020-04-01  \n1  100.0 2020-04-01  \n2  130.0 2020-04-01  ",
      "text/html": "<div>\n<style scoped>\n    .dataframe tbody tr th:only-of-type {\n        vertical-align: middle;\n    }\n\n    .dataframe tbody tr th {\n        vertical-align: top;\n    }\n\n    .dataframe thead th {\n        text-align: right;\n    }\n</style>\n<table border=\"1\" class=\"dataframe\">\n  <thead>\n    <tr style=\"text-align: right;\">\n      <th></th>\n      <th>sale_dttm</th>\n      <th>card_number</th>\n      <th>coffee_type</th>\n      <th>coffee_price</th>\n      <th>discount</th>\n      <th>grocery_flg</th>\n      <th>price</th>\n      <th>month</th>\n    </tr>\n  </thead>\n  <tbody>\n    <tr>\n      <th>0</th>\n      <td>2020-04-01</td>\n      <td>23.0</td>\n      <td>capuccino</td>\n      <td>130</td>\n      <td>0.15</td>\n      <td>0</td>\n      <td>110.5</td>\n      <td>2020-04-01</td>\n    </tr>\n    <tr>\n      <th>1</th>\n      <td>2020-04-01</td>\n      <td>28.0</td>\n      <td>espesso</td>\n      <td>100</td>\n      <td>0.00</td>\n      <td>0</td>\n      <td>100.0</td>\n      <td>2020-04-01</td>\n    </tr>\n    <tr>\n      <th>2</th>\n      <td>2020-04-01</td>\n      <td>NaN</td>\n      <td>capuccino</td>\n      <td>130</td>\n      <td>0.00</td>\n      <td>0</td>\n      <td>130.0</td>\n      <td>2020-04-01</td>\n    </tr>\n  </tbody>\n</table>\n</div>"
     },
     "execution_count": 81,
     "metadata": {},
     "output_type": "execute_result"
    }
   ],
   "source": [
    "df[:3]"
   ],
   "metadata": {
    "collapsed": false,
    "pycharm": {
     "name": "#%%\n"
    }
   }
  },
  {
   "cell_type": "code",
   "source": [
    "m = df.groupby(['month', 'card_number'])['price'].sum().reset_index()\n",
    "m"
   ],
   "metadata": {
    "collapsed": false,
    "pycharm": {
     "name": "#%%\n"
    }
   },
   "execution_count": 78,
   "outputs": [
    {
     "data": {
      "text/plain": "        month  card_number   price\n0  2020-04-01          0.0  2196.5\n1  2020-04-01          1.0  2833.5\n2  2020-04-01          2.0  1633.0\n3  2020-04-01          3.0  2111.5\n4  2020-04-01          4.0  2754.5\n..        ...          ...     ...\n75 2020-05-01         35.0  2538.0\n76 2020-05-01         36.0  1454.0\n77 2020-05-01         37.0  1299.5\n78 2020-05-01         38.0  2271.5\n79 2020-05-01         39.0  2698.5\n\n[80 rows x 3 columns]",
      "text/html": "<div>\n<style scoped>\n    .dataframe tbody tr th:only-of-type {\n        vertical-align: middle;\n    }\n\n    .dataframe tbody tr th {\n        vertical-align: top;\n    }\n\n    .dataframe thead th {\n        text-align: right;\n    }\n</style>\n<table border=\"1\" class=\"dataframe\">\n  <thead>\n    <tr style=\"text-align: right;\">\n      <th></th>\n      <th>month</th>\n      <th>card_number</th>\n      <th>price</th>\n    </tr>\n  </thead>\n  <tbody>\n    <tr>\n      <th>0</th>\n      <td>2020-04-01</td>\n      <td>0.0</td>\n      <td>2196.5</td>\n    </tr>\n    <tr>\n      <th>1</th>\n      <td>2020-04-01</td>\n      <td>1.0</td>\n      <td>2833.5</td>\n    </tr>\n    <tr>\n      <th>2</th>\n      <td>2020-04-01</td>\n      <td>2.0</td>\n      <td>1633.0</td>\n    </tr>\n    <tr>\n      <th>3</th>\n      <td>2020-04-01</td>\n      <td>3.0</td>\n      <td>2111.5</td>\n    </tr>\n    <tr>\n      <th>4</th>\n      <td>2020-04-01</td>\n      <td>4.0</td>\n      <td>2754.5</td>\n    </tr>\n    <tr>\n      <th>...</th>\n      <td>...</td>\n      <td>...</td>\n      <td>...</td>\n    </tr>\n    <tr>\n      <th>75</th>\n      <td>2020-05-01</td>\n      <td>35.0</td>\n      <td>2538.0</td>\n    </tr>\n    <tr>\n      <th>76</th>\n      <td>2020-05-01</td>\n      <td>36.0</td>\n      <td>1454.0</td>\n    </tr>\n    <tr>\n      <th>77</th>\n      <td>2020-05-01</td>\n      <td>37.0</td>\n      <td>1299.5</td>\n    </tr>\n    <tr>\n      <th>78</th>\n      <td>2020-05-01</td>\n      <td>38.0</td>\n      <td>2271.5</td>\n    </tr>\n    <tr>\n      <th>79</th>\n      <td>2020-05-01</td>\n      <td>39.0</td>\n      <td>2698.5</td>\n    </tr>\n  </tbody>\n</table>\n<p>80 rows × 3 columns</p>\n</div>"
     },
     "execution_count": 78,
     "metadata": {},
     "output_type": "execute_result"
    }
   ]
  },
  {
   "cell_type": "code",
   "execution_count": 80,
   "outputs": [
    {
     "data": {
      "text/plain": "            count   median\nmonth                     \n2020-04-01     40  2489.75\n2020-05-01     40  2572.50",
      "text/html": "<div>\n<style scoped>\n    .dataframe tbody tr th:only-of-type {\n        vertical-align: middle;\n    }\n\n    .dataframe tbody tr th {\n        vertical-align: top;\n    }\n\n    .dataframe thead th {\n        text-align: right;\n    }\n</style>\n<table border=\"1\" class=\"dataframe\">\n  <thead>\n    <tr style=\"text-align: right;\">\n      <th></th>\n      <th>count</th>\n      <th>median</th>\n    </tr>\n    <tr>\n      <th>month</th>\n      <th></th>\n      <th></th>\n    </tr>\n  </thead>\n  <tbody>\n    <tr>\n      <th>2020-04-01</th>\n      <td>40</td>\n      <td>2489.75</td>\n    </tr>\n    <tr>\n      <th>2020-05-01</th>\n      <td>40</td>\n      <td>2572.50</td>\n    </tr>\n  </tbody>\n</table>\n</div>"
     },
     "execution_count": 80,
     "metadata": {},
     "output_type": "execute_result"
    }
   ],
   "source": [
    "m.groupby('month')['price'].agg(['count', 'median'])"
   ],
   "metadata": {
    "collapsed": false,
    "pycharm": {
     "name": "#%%\n"
    }
   }
  },
  {
   "cell_type": "code",
   "execution_count": 86,
   "outputs": [
    {
     "data": {
      "text/plain": "        month  Median\n0  2020-04-01  2562.5\n1  2020-05-01  2589.0",
      "text/html": "<div>\n<style scoped>\n    .dataframe tbody tr th:only-of-type {\n        vertical-align: middle;\n    }\n\n    .dataframe tbody tr th {\n        vertical-align: top;\n    }\n\n    .dataframe thead th {\n        text-align: right;\n    }\n</style>\n<table border=\"1\" class=\"dataframe\">\n  <thead>\n    <tr style=\"text-align: right;\">\n      <th></th>\n      <th>month</th>\n      <th>Median</th>\n    </tr>\n  </thead>\n  <tbody>\n    <tr>\n      <th>0</th>\n      <td>2020-04-01</td>\n      <td>2562.5</td>\n    </tr>\n    <tr>\n      <th>1</th>\n      <td>2020-05-01</td>\n      <td>2589.0</td>\n    </tr>\n  </tbody>\n</table>\n</div>"
     },
     "execution_count": 86,
     "metadata": {},
     "output_type": "execute_result"
    }
   ],
   "source": [
    "sql = '''\n",
    "select x.month,\n",
    "       avg(x.price_sum) as Median\n",
    "\n",
    "from (select t.*,\n",
    "             row_number() over (partition by t.month order by t.price_sum) as RowNum,\n",
    "             count(*) over (partition by t.month)                          as RowCnt\n",
    "\n",
    "      from (select date(t.sale_dttm, 'start of month') as month, t.card_number, sum(t.price) as price_sum\n",
    "            from coffee_sales t\n",
    "            group by date(t.sale_dttm, 'start of month'), t.card_number) t) x\n",
    "\n",
    "where x.RowNum in ((x.RowCnt + 1) / 2, (x.RowCnt + 2) / 2)\n",
    "\n",
    "group by x.month\n",
    "'''\n",
    "\n",
    "select(sql)"
   ],
   "metadata": {
    "collapsed": false,
    "pycharm": {
     "name": "#%%\n"
    }
   }
  },
  {
   "cell_type": "code",
   "execution_count": 88,
   "outputs": [],
   "source": [
    "sql ='''\n",
    "drop table IF EXISTS sales_day_1;\n",
    "create table sales_day_1 as\n",
    "\n",
    "select date(t.sale_dttm)                                           as dt,\n",
    "       t.card_number,\n",
    "       max(t.grocery_flg)                                             asgrocery_flg,\n",
    "       count(1)                                                    as num_purchases,\n",
    "       max(case when t.grocery_flg = 1 then t.discount else 0 end) as discount\n",
    "from coffee_sales t\n",
    "group by date(t.sale_dttm), t.card_number\n",
    ";\n",
    "'''"
   ],
   "metadata": {
    "collapsed": false,
    "pycharm": {
     "name": "#%%\n"
    }
   }
  },
  {
   "cell_type": "code",
   "execution_count": 89,
   "outputs": [
    {
     "data": {
      "text/plain": "<sqlite3.Cursor at 0x2372bbd1880>"
     },
     "execution_count": 89,
     "metadata": {},
     "output_type": "execute_result"
    }
   ],
   "source": [
    "cur.executescript(sql)"
   ],
   "metadata": {
    "collapsed": false,
    "pycharm": {
     "name": "#%%\n"
    }
   }
  },
  {
   "cell_type": "code",
   "execution_count": null,
   "outputs": [],
   "source": [],
   "metadata": {
    "collapsed": false,
    "pycharm": {
     "name": "#%%\n"
    }
   }
  },
  {
   "cell_type": "code",
   "execution_count": null,
   "outputs": [],
   "source": [],
   "metadata": {
    "collapsed": false,
    "pycharm": {
     "name": "#%%\n"
    }
   }
  }
 ],
 "metadata": {
  "kernelspec": {
   "display_name": "Python 3",
   "language": "python",
   "name": "python3"
  },
  "language_info": {
   "codemirror_mode": {
    "name": "ipython",
    "version": 2
   },
   "file_extension": ".py",
   "mimetype": "text/x-python",
   "name": "python",
   "nbconvert_exporter": "python",
   "pygments_lexer": "ipython2",
   "version": "2.7.6"
  }
 },
 "nbformat": 4,
 "nbformat_minor": 0
}